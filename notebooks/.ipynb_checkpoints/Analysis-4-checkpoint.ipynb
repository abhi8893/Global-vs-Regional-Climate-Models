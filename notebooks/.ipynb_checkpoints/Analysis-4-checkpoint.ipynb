{
 "cells": [
  {
   "cell_type": "code",
   "execution_count": 1,
   "metadata": {},
   "outputs": [],
   "source": [
    "import xarray as xr\n",
    "import matplotlib.pyplot as plt\n",
    "import seaborn as sns\n",
    "import pandas as pd\n",
    "import numpy as np\n",
    "from cdo import *\n",
    "from pathlib import Path\n",
    "from os import path, remove\n",
    "import sys\n",
    "from cftime import Datetime360Day\n",
    "cdo = Cdo()"
   ]
  },
  {
   "cell_type": "code",
   "execution_count": 2,
   "metadata": {},
   "outputs": [],
   "source": [
    "sys.path.append(\"/home/abhi/Documents/mygit/postBC_diagnostic/src/scripts\")\n",
    "from recipes import *"
   ]
  },
  {
   "cell_type": "code",
   "execution_count": 24,
   "metadata": {},
   "outputs": [],
   "source": [
    "data_dir = Path(\"/home/abhi/Documents/data\")\n",
    "fpaths = {}\n",
    "fpaths['obs'] = data_dir.joinpath(\"OBSERVATION/IMD/precip/1971-2000_rm_ll25_360day.nc\")\n",
    "fpaths['rcm'] = data_dir.joinpath(\"PRECIS/base/precip/1971-2000_rm_ll25.nc\")\n",
    "fpaths['gcm'] = Path(\"/home/abhi/Documents/mygit/GCM_RCM/data/HADGEM2-ES/precip/daymean/pr_day_HadGEM2-ES_historical_r1i1p1_19710101-20001230.nc\")"
   ]
  },
  {
   "cell_type": "markdown",
   "metadata": {},
   "source": [
    "### NPPI Onset and Retreat "
   ]
  },
  {
   "cell_type": "code",
   "execution_count": 15,
   "metadata": {},
   "outputs": [],
   "source": [
    "def calc_nppi(f):\n",
    "    P = cdo.ydaymean(input=f\"-timselmean,5 {f}\",\n",
    "                    returnCDF=True)\n",
    "    res = cdo.setvar('nppi',\n",
    "                     input=f\"-div -sub {P} -timmin {P} -sub -timmax {P} -timmin {P}\",\n",
    "                  returnCDF=True)\n",
    "    os.system(f\"rm {P}\")\n",
    "    \n",
    "    return res"
   ]
  },
  {
   "cell_type": "code",
   "execution_count": 16,
   "metadata": {},
   "outputs": [],
   "source": [
    "def getMOdate(cell, ti):\n",
    "    '''\n",
    "    Returns the pentad of the monsoon onset\n",
    "    when the NPPI exceeds 0.618 for the first\n",
    "    time.\n",
    "    @params:\n",
    "        cell: time series for a grid point\n",
    "        ti: pentad time index\n",
    "    '''\n",
    "    try:\n",
    "        index = np.array(np.where(cell > 0.618)[0][0])\n",
    "        return ti[index]\n",
    "    except Exception:\n",
    "        return np.nan\n",
    "\n",
    "def getMRdate(cell, ti):\n",
    "    '''\n",
    "    Returns the pentad of the monsoon retreat\n",
    "    when the NPPI falls below 0.618 for the last\n",
    "    time.\n",
    "    @params:\n",
    "        cell: time series for a grid point    \n",
    "        ti: pentad time index\n",
    "    '''\n",
    "    try:\n",
    "        index = np.array(np.where(cell > 0.618)[0][-1])\n",
    "        return ti[index]\n",
    "    except Exception:\n",
    "        return np.nan"
   ]
  },
  {
   "cell_type": "code",
   "execution_count": 25,
   "metadata": {},
   "outputs": [
    {
     "name": "stdout",
     "output_type": "stream",
     "text": [
      "CPU times: user 108 ms, sys: 40 ms, total: 148 ms\n",
      "Wall time: 11 s\n"
     ]
    }
   ],
   "source": [
    "%%time\n",
    "nppi_dsets = []\n",
    "for f in ['obs', 'rcm', 'gcm']:\n",
    "    nppi_dsets.append(xr.open_dataset(calc_nppi(fpaths[f])))"
   ]
  },
  {
   "cell_type": "code",
   "execution_count": 30,
   "metadata": {},
   "outputs": [],
   "source": [
    "nppi_dsets[1] = nppi_dsets[1].rename({'t': 'time'})"
   ]
  },
  {
   "cell_type": "code",
   "execution_count": 37,
   "metadata": {},
   "outputs": [],
   "source": [
    "nppi_dsets[0]['time'] = nppi_dsets[1]['time']"
   ]
  },
  {
   "cell_type": "code",
   "execution_count": 91,
   "metadata": {},
   "outputs": [],
   "source": [
    "modelIndex = pd.Index(['IMD', 'PRECIS', 'HADGEM2-ES'], name='model')"
   ]
  },
  {
   "cell_type": "code",
   "execution_count": 92,
   "metadata": {},
   "outputs": [],
   "source": [
    "nppi_ds = xr.concat(nppi_dsets, dim=modelIndex)"
   ]
  },
  {
   "cell_type": "code",
   "execution_count": 93,
   "metadata": {},
   "outputs": [
    {
     "data": {
      "text/plain": [
       "Coordinates:\n",
       "  * time     (time) object 2000-01-03 12:00:00 ... 2000-12-28 12:00:00\n",
       "  * lon      (lon) float64 66.5 66.75 67.0 67.25 67.5 ... 99.25 99.5 99.75 100.0\n",
       "  * lat      (lat) float64 6.5 6.75 7.0 7.25 7.5 ... 37.5 37.75 38.0 38.25 38.5\n",
       "  * model    (model) object 'IMD' 'PRECIS' 'HADGEM2-ES'"
      ]
     },
     "execution_count": 93,
     "metadata": {},
     "output_type": "execute_result"
    }
   ],
   "source": [
    "nppi_ds.coords"
   ]
  },
  {
   "cell_type": "code",
   "execution_count": 85,
   "metadata": {},
   "outputs": [
    {
     "data": {
      "text/plain": [
       "array(['IMD', 'HADGEM2-ES', 'PRECIS'], dtype=object)"
      ]
     },
     "execution_count": 85,
     "metadata": {},
     "output_type": "execute_result"
    }
   ],
   "source": [
    "modelIndex.values"
   ]
  },
  {
   "cell_type": "code",
   "execution_count": 94,
   "metadata": {},
   "outputs": [],
   "source": [
    "# Extract required lat, lon, ti, and dims to create a DataArray\n",
    "lat = nppi_ds.coords['lat'].copy()\n",
    "lon = nppi_ds.coords['lon'].copy()\n",
    "ti = nppi_ds.indexes['time']\n",
    "dims = {'model': np.array(['IMD', 'PRECIS', 'HADGEM2-ES'], dtype=str),\n",
    "        'lat': lat,\n",
    "        'lon': lon}"
   ]
  },
  {
   "cell_type": "code",
   "execution_count": 45,
   "metadata": {
    "collapsed": true
   },
   "outputs": [
    {
     "data": {
      "text/plain": [
       "array([[[nan, nan, nan, ..., nan, nan, nan],\n",
       "        [nan, nan, nan, ..., nan, nan, nan],\n",
       "        [nan, nan, nan, ..., nan, nan, nan],\n",
       "        ...,\n",
       "        [nan, nan, nan, ..., nan, nan, nan],\n",
       "        [nan, nan, nan, ..., nan, nan, nan],\n",
       "        [nan, nan, nan, ..., nan, nan, nan]],\n",
       "\n",
       "       [[nan, nan, nan, ..., nan, nan, nan],\n",
       "        [nan, nan, nan, ..., nan, nan, nan],\n",
       "        [nan, nan, nan, ..., nan, nan, nan],\n",
       "        ...,\n",
       "        [nan, nan, nan, ..., nan, nan, nan],\n",
       "        [nan, nan, nan, ..., nan, nan, nan],\n",
       "        [nan, nan, nan, ..., nan, nan, nan]],\n",
       "\n",
       "       [[nan, nan, nan, ..., nan, nan, nan],\n",
       "        [nan, nan, nan, ..., nan, nan, nan],\n",
       "        [nan, nan, nan, ..., nan, nan, nan],\n",
       "        ...,\n",
       "        [nan, nan, nan, ..., nan, nan, nan],\n",
       "        [nan, nan, nan, ..., nan, nan, nan],\n",
       "        [nan, nan, nan, ..., nan, nan, nan]],\n",
       "\n",
       "       ...,\n",
       "\n",
       "       [[nan, nan, nan, ..., nan, nan, nan],\n",
       "        [nan, nan, nan, ..., nan, nan, nan],\n",
       "        [nan, nan, nan, ..., nan, nan, nan],\n",
       "        ...,\n",
       "        [nan, nan, nan, ..., nan, nan, nan],\n",
       "        [nan, nan, nan, ..., nan, nan, nan],\n",
       "        [nan, nan, nan, ..., nan, nan, nan]],\n",
       "\n",
       "       [[nan, nan, nan, ..., nan, nan, nan],\n",
       "        [nan, nan, nan, ..., nan, nan, nan],\n",
       "        [nan, nan, nan, ..., nan, nan, nan],\n",
       "        ...,\n",
       "        [nan, nan, nan, ..., nan, nan, nan],\n",
       "        [nan, nan, nan, ..., nan, nan, nan],\n",
       "        [nan, nan, nan, ..., nan, nan, nan]],\n",
       "\n",
       "       [[nan, nan, nan, ..., nan, nan, nan],\n",
       "        [nan, nan, nan, ..., nan, nan, nan],\n",
       "        [nan, nan, nan, ..., nan, nan, nan],\n",
       "        ...,\n",
       "        [nan, nan, nan, ..., nan, nan, nan],\n",
       "        [nan, nan, nan, ..., nan, nan, nan],\n",
       "        [nan, nan, nan, ..., nan, nan, nan]]])"
      ]
     },
     "execution_count": 45,
     "metadata": {},
     "output_type": "execute_result"
    }
   ],
   "source": [
    "np.apply_along_axis(getMOdate, ti=ti, axis=0, arr=nppi_ds.nppi.values)"
   ]
  },
  {
   "cell_type": "code",
   "execution_count": 75,
   "metadata": {},
   "outputs": [],
   "source": [
    "ti_dayofyr = pd.Series(ti).apply(lambda x: x.dayofyr)"
   ]
  },
  {
   "cell_type": "code",
   "execution_count": 95,
   "metadata": {},
   "outputs": [
    {
     "name": "stdout",
     "output_type": "stream",
     "text": [
      "CPU times: user 1.45 s, sys: 0 ns, total: 1.45 s\n",
      "Wall time: 1.45 s\n"
     ]
    }
   ],
   "source": [
    "%%time\n",
    "# Onset DataArray\n",
    "O_da = xr.DataArray(np.apply_along_axis(getMOdate, ti=ti_pentad, axis=1, arr=nppi_ds.nppi.values),\n",
    "                      dims=dims,\n",
    "                      name='Onset')\n",
    "\n",
    "# Retreat DataArray\n",
    "R_da = xr.DataArray(np.apply_along_axis(getMRdate, ti=ti_pentad, axis=1, arr=nppi_ds.nppi.values),\n",
    "                      dims=dims,\n",
    "                      name='Retreat')"
   ]
  },
  {
   "cell_type": "code",
   "execution_count": 96,
   "metadata": {},
   "outputs": [],
   "source": [
    "Mdates = O_da.to_dataset().assign(Retreat=R_da)"
   ]
  },
  {
   "cell_type": "code",
   "execution_count": 101,
   "metadata": {},
   "outputs": [
    {
     "data": {
      "text/plain": [
       "<xarray.DataArray 'model' (model: 3)>\n",
       "array([0, 1, 2])\n",
       "Dimensions without coordinates: model"
      ]
     },
     "execution_count": 101,
     "metadata": {},
     "output_type": "execute_result"
    }
   ],
   "source": [
    "Mdates.coords['model']"
   ]
  },
  {
   "cell_type": "code",
   "execution_count": 106,
   "metadata": {},
   "outputs": [
    {
     "data": {
      "text/plain": [
       "<xarray.plot.facetgrid.FacetGrid at 0x7f965c12e048>"
      ]
     },
     "execution_count": 106,
     "metadata": {},
     "output_type": "execute_result"
    },
    {
     "data": {
      "image/png": "[encoded data removed]",
      "text/plain": [
       "<Figure size 720x216 with 4 Axes>"
      ]
     },
     "metadata": {
      "needs_background": "light"
     },
     "output_type": "display_data"
    }
   ],
   "source": [
    "Mdates.Retreat.plot(x='lon', y='lat', col='model')"
   ]
  },
  {
   "cell_type": "code",
   "execution_count": 64,
   "metadata": {},
   "outputs": [
    {
     "data": {
      "text/plain": [
       "<matplotlib.collections.QuadMesh at 0x7f965d3595f8>"
      ]
     },
     "execution_count": 64,
     "metadata": {},
     "output_type": "execute_result"
    },
    {
     "data": {
      "image/png": "[encoded data removed]",
      "text/plain": [
       "<Figure size 432x288 with 2 Axes>"
      ]
     },
     "metadata": {
      "needs_background": "light"
     },
     "output_type": "display_data"
    }
   ],
   "source": [
    "nppi_ds.isel(time=0, model=0).nppi.plot()"
   ]
  },
  {
   "cell_type": "code",
   "execution_count": 107,
   "metadata": {},
   "outputs": [
    {
     "data": {
      "text/plain": [
       "{'obs': PosixPath('/home/abhi/Documents/data/OBSERVATION/IMD/precip/1971-2000_rm_ll25_360day.nc'),\n",
       " 'rcm': PosixPath('/home/abhi/Documents/data/PRECIS/base/precip/1971-2000_rm_ll25.nc'),\n",
       " 'gcm': PosixPath('/home/abhi/Documents/mygit/GCM_RCM/data/HADGEM2-ES/precip/daymean/pr_day_HadGEM2-ES_historical_r1i1p1_19710101-20001230.nc')}"
      ]
     },
     "execution_count": 107,
     "metadata": {},
     "output_type": "execute_result"
    }
   ],
   "source": [
    "fpaths"
   ]
  },
  {
   "cell_type": "code",
   "execution_count": 110,
   "metadata": {},
   "outputs": [],
   "source": [
    "obs_f = '/home/abhi/Documents/data/OBSERVATION/IMD/precip/1971-2000_rm_ll25_360day.nc'"
   ]
  },
  {
   "cell_type": "code",
   "execution_count": 109,
   "metadata": {},
   "outputs": [
    {
     "data": {
      "text/plain": [
       "['10800']"
      ]
     },
     "execution_count": 109,
     "metadata": {},
     "output_type": "execute_result"
    }
   ],
   "source": [
    "drizzle = cdo.mulc('100',\n",
    "                  input=f\"-lec,0.1 {obs_f}\")"
   ]
  },
  {
   "cell_type": "code",
   "execution_count": null,
   "metadata": {},
   "outputs": [],
   "source": []
  }
 ],
 "metadata": {
  "kernelspec": {
   "display_name": "Python 3",
   "language": "python",
   "name": "python3"
  },
  "language_info": {
   "codemirror_mode": {
    "name": "ipython",
    "version": 3
   },
   "file_extension": ".py",
   "mimetype": "text/x-python",
   "name": "python",
   "nbconvert_exporter": "python",
   "pygments_lexer": "ipython3",
   "version": "3.6.7"
  },
  "toc": {
   "base_numbering": 1,
   "nav_menu": {},
   "number_sections": true,
   "sideBar": true,
   "skip_h1_title": false,
   "title_cell": "Table of Contents",
   "title_sidebar": "Contents",
   "toc_cell": false,
   "toc_position": {},
   "toc_section_display": true,
   "toc_window_display": false
  },
  "varInspector": {
   "cols": {
    "lenName": 16,
    "lenType": 16,
    "lenVar": 40
   },
   "kernels_config": {
    "python": {
     "delete_cmd_postfix": "",
     "delete_cmd_prefix": "del ",
     "library": "var_list.py",
     "varRefreshCmd": "print(var_dic_list())"
    },
    "r": {
     "delete_cmd_postfix": ") ",
     "delete_cmd_prefix": "rm(",
     "library": "var_list.r",
     "varRefreshCmd": "cat(var_dic_list()) "
    }
   },
   "types_to_exclude": [
    "module",
    "function",
    "builtin_function_or_method",
    "instance",
    "_Feature"
   ],
   "window_display": false
  }
 },
 "nbformat": 4,
 "nbformat_minor": 2
}
