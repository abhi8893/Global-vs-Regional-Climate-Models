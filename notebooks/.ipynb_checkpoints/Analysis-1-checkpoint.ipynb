{
 "cells": [
  {
   "cell_type": "code",
   "execution_count": 1,
   "metadata": {},
   "outputs": [],
   "source": [
    "import xarray as xr\n",
    "import matplotlib.pyplot as plt\n",
    "import pandas as pd\n",
    "import salem\n",
    "import numpy as np\n",
    "from cdo import Cdo\n",
    "cdo = Cdo()\n",
    "\n",
    "import sys\n",
    "sys.path.append(\"/home/abhi/Documents/mygit/postBC_diagnostic/src/scripts\")\n",
    "from recipes import *\n",
    "from pathlib import Path\n",
    "import os"
   ]
  },
  {
   "cell_type": "code",
   "execution_count": 45,
   "metadata": {},
   "outputs": [],
   "source": [
    "PRECIS_BOX = np.array([60.06, 99.88, -9.880000000000003, 37.86])"
   ]
  },
  {
   "cell_type": "code",
   "execution_count": 47,
   "metadata": {},
   "outputs": [
    {
     "data": {
      "text/plain": [
       "array([ 60., 100., -10.,  38.])"
      ]
     },
     "execution_count": 47,
     "metadata": {},
     "output_type": "execute_result"
    }
   ],
   "source": [
    "PRECIS_BOX.round()"
   ]
  },
  {
   "cell_type": "markdown",
   "metadata": {},
   "source": [
    "### An example analyses with precipitation"
   ]
  },
  {
   "cell_type": "code",
   "execution_count": 44,
   "metadata": {},
   "outputs": [],
   "source": [
    "data_dir = Path(\"/home/abhi/Documents/data\")\n",
    "fpaths = {}\n",
    "fpaths['obs'] = data_dir.joinpath(\"OBSERVATION/IMD/precip/1971-2000_rm_ll25_360day.nc\")\n",
    "fpaths['rcm'] = data_dir.joinpath(\"PRECIS/base/precip/1971-2000_rm_ll25.nc\")\n",
    "fpaths['gcm'] = data_dir.joinpath(\"HADGEM2S/base/precip/HadGEM2-ES-Hist-PR_1971-2000.nc\")"
   ]
  },
  {
   "cell_type": "code",
   "execution_count": 11,
   "metadata": {},
   "outputs": [],
   "source": [
    "data = {}\n",
    "for dset, fpath in fpaths.items():\n",
    "    data[dset] = xr.open_dataset(fpath) "
   ]
  },
  {
   "cell_type": "code",
   "execution_count": 23,
   "metadata": {},
   "outputs": [
    {
     "data": {
      "text/plain": [
       "<xarray.Dataset>\n",
       "Dimensions:    (bnds: 2, lat: 33, lon: 22, time: 10800)\n",
       "Coordinates:\n",
       "  * time       (time) object 1971-01-01 12:00:00 ... 2000-12-30 12:00:00\n",
       "  * lon        (lon) float64 60.0 61.88 63.75 65.62 ... 93.75 95.62 97.5 99.38\n",
       "  * lat        (lat) float64 0.0 1.25 2.5 3.75 5.0 ... 36.25 37.5 38.75 40.0\n",
       "Dimensions without coordinates: bnds\n",
       "Data variables:\n",
       "    time_bnds  (time, bnds) float64 ...\n",
       "    lon_bnds   (lon, bnds) float64 ...\n",
       "    lat_bnds   (lat, bnds) float64 ...\n",
       "    pr         (time, lat, lon) float32 ...\n",
       "Attributes:\n",
       "    CDI:                    Climate Data Interface version 1.9.4 (http://mpim...\n",
       "    Conventions:            CF-1.4\n",
       "    history:                Wed Oct 31 10:31:43 2018: cdo -f nc mergetime 1.n...\n",
       "    source:                 HadGEM2-ES (2009) atmosphere: HadGAM2 (N96L38); o...\n",
       "    institution:            Met Office Hadley Centre, Fitzroy Road, Exeter, D...\n",
       "    institute_id:           MOHC\n",
       "    experiment_id:          historical\n",
       "    model_id:               HadGEM2-ES\n",
       "    forcing:                GHG, SA, Oz, LU, Sl, Vl, BC, OC, (GHG = CO2, N2O,...\n",
       "    parent_experiment_id:   piControl\n",
       "    parent_experiment_rip:  r1i1p1\n",
       "    branch_time:            0.0\n",
       "    contact:                chris.d.jones@metoffice.gov.uk, michael.sanderson...\n",
       "    references:             Bellouin N. et al, (2007) Improved representation...\n",
       "    initialization_method:  1\n",
       "    physics_version:        1\n",
       "    tracking_id:            a9743507-d276-4390-8813-850619e8bafd\n",
       "    mo_runid:               ajhoh\n",
       "    product:                output\n",
       "    experiment:             historical\n",
       "    frequency:              day\n",
       "    creation_date:          2010-12-30T13:48:32Z\n",
       "    project_id:             CMIP5\n",
       "    table_id:               Table day (12 November 2010) 53fa6f63b86081d1c644...\n",
       "    title:                  HadGEM2-ES model output prepared for CMIP5 histor...\n",
       "    parent_experiment:      pre-industrial control\n",
       "    modeling_realm:         atmos\n",
       "    realization:            1\n",
       "    cmor_version:           2.5.0\n",
       "    CDO:                    Climate Data Operators version 1.9.4 (http://mpim..."
      ]
     },
     "execution_count": 23,
     "metadata": {},
     "output_type": "execute_result"
    }
   ],
   "source": [
    "data['gcm']"
   ]
  },
  {
   "cell_type": "code",
   "execution_count": 24,
   "metadata": {},
   "outputs": [
    {
     "name": "stdout",
     "output_type": "stream",
     "text": [
      "CPU times: user 2.04 s, sys: 980 ms, total: 3.02 s\n",
      "Wall time: 7.27 s\n"
     ]
    }
   ],
   "source": [
    "%%time\n",
    "stats = {'mean': {}}\n",
    "\n",
    "stats['mean']['obs'] = data['obs'].mean(dim='time')\n",
    "stats['mean']['rcm'] = data['rcm'].mean(dim='t')\n",
    "stats['mean']['gcm'] = data['gcm'].mean(['time', 'bnds'])\n"
   ]
  },
  {
   "cell_type": "code",
   "execution_count": 26,
   "metadata": {},
   "outputs": [
    {
     "data": {
      "text/plain": [
       "<matplotlib.contour.QuadContourSet at 0x7f2222280240>"
      ]
     },
     "execution_count": 26,
     "metadata": {},
     "output_type": "execute_result"
    },
    {
     "data": {
      "image/png": "[encoded data removed]",
      "text/plain": [
       "<Figure size 432x288 with 2 Axes>"
      ]
     },
     "metadata": {
      "needs_background": "light"
     },
     "output_type": "display_data"
    }
   ],
   "source": [
    "stats['mean']['obs'].precip.plot.contourf()"
   ]
  },
  {
   "cell_type": "code",
   "execution_count": 38,
   "metadata": {},
   "outputs": [
    {
     "data": {
      "text/plain": [
       "<xarray.Dataset>\n",
       "Dimensions:    (lat: 33, lon: 22)\n",
       "Coordinates:\n",
       "  * lon        (lon) float64 60.0 61.88 63.75 65.62 ... 93.75 95.62 97.5 99.38\n",
       "  * lat        (lat) float64 0.0 1.25 2.5 3.75 5.0 ... 36.25 37.5 38.75 40.0\n",
       "Data variables:\n",
       "    time_bnds  float64 4.539e+04\n",
       "    lon_bnds   (lon) float64 60.0 61.88 63.75 65.62 ... 93.75 95.62 97.5 99.38\n",
       "    lat_bnds   (lat) float64 0.0 1.25 2.5 3.75 5.0 ... 36.25 37.5 38.75 40.0\n",
       "    pr         (lat, lon) float32 7.9111147 7.9267254 ... 0.6539282 0.5971851"
      ]
     },
     "execution_count": 38,
     "metadata": {},
     "output_type": "execute_result"
    }
   ],
   "source": [
    "stats['mean']['gcm']"
   ]
  },
  {
   "cell_type": "code",
   "execution_count": 45,
   "metadata": {},
   "outputs": [
    {
     "data": {
      "image/png": "[encoded data removed]",
      "text/plain": [
       "<Figure size 432x288 with 3 Axes>"
      ]
     },
     "metadata": {
      "needs_background": "light"
     },
     "output_type": "display_data"
    }
   ],
   "source": [
    "fig, [ax1, ax2, ax3] = plt.subplots(nrows=1, ncols=3, sharex=True, sharey=True)\n",
    "\n",
    "axn = [ax1, ax2, ax3]\n",
    "\n",
    "for ax,dset,var in zip(axn, data.keys(), ['precip', 'precip', 'pr']):\n",
    "    plot = stats['mean'][dset][var].plot.contourf(ax=ax)\n",
    "    plot.colorbar.remove()\n",
    "\n",
    "# for ax in [ax1, ax2, ax3]:\n",
    "    "
   ]
  },
  {
   "cell_type": "markdown",
   "metadata": {},
   "source": [
    "### Prepare HADGEM2-ES data\n",
    "\n"
   ]
  },
  {
   "cell_type": "code",
   "execution_count": 48,
   "metadata": {},
   "outputs": [
    {
     "data": {
      "text/plain": [
       "[('/home/abhi/Documents/data/HADGEM2S',\n",
       "  ['rcp45', 'rcp85', 'base'],\n",
       "  ['.Rhistory']),\n",
       " ('/home/abhi/Documents/data/HADGEM2S/rcp45',\n",
       "  ['tmean', 'tmax', 'precip', 'tmin'],\n",
       "  []),\n",
       " ('/home/abhi/Documents/data/HADGEM2S/rcp45/tmean',\n",
       "  [],\n",
       "  ['tas_day_HadGEM2-ES_rcp45_r1i1p1_20351201-20451130.nc',\n",
       "   'tas_day_HadGEM2-ES_rcp45_r1i1p1_20851201-20951130.nc',\n",
       "   'tas_day_HadGEM2-ES_rcp45_r1i1p1_20051201-20151130.nc',\n",
       "   'tas_day_HadGEM2-ES_rcp45_r1i1p1_20991101-20991230.nc',\n",
       "   'tas_day_HadGEM2-ES_rcp45_r1i1p1_20151201-20251130.nc',\n",
       "   'tas_day_HadGEM2-ES_rcp45_r1i1p1_20751201-20851130.nc',\n",
       "   'tas_day_HadGEM2-ES_rcp45_r1i1p1_20951201-20991030.nc',\n",
       "   'tas_day_HadGEM2-ES_rcp45_r1i1p1_20451201-20551130.nc',\n",
       "   'tas_day_HadGEM2-ES_rcp45_r1i1p1_20251201-20351130.nc',\n",
       "   'tas_day_HadGEM2-ES_rcp45_r1i1p1_20651201-20751130.nc',\n",
       "   'tas_day_HadGEM2-ES_rcp45_r1i1p1_20991201-21091130.nc',\n",
       "   'tas_day_HadGEM2-ES_rcp45_r1i1p1_20551201-20651130.nc']),\n",
       " ('/home/abhi/Documents/data/HADGEM2S/rcp45/tmax',\n",
       "  [],\n",
       "  ['tasmax_day_HadGEM2-ES_rcp45_r1i1p1_20451201-20551130.nc',\n",
       "   'tasmax_day_HadGEM2-ES_rcp45_r1i1p1_20351201-20451130.nc',\n",
       "   'tasmax_day_HadGEM2-ES_rcp45_r1i1p1_20251201-20351130.nc',\n",
       "   'tasmax_day_HadGEM2-ES_rcp45_r1i1p1_20991201-21091130.nc',\n",
       "   'tasmax_day_HadGEM2-ES_rcp45_r1i1p1_20851201-20951130.nc',\n",
       "   'tasmax_day_HadGEM2-ES_rcp45_r1i1p1_20651201-20751130.nc',\n",
       "   'tasmax_day_HadGEM2-ES_rcp45_r1i1p1_20951201-20991030.nc',\n",
       "   'tasmax_day_HadGEM2-ES_rcp45_r1i1p1_20751201-20851130.nc',\n",
       "   'tasmax_day_HadGEM2-ES_rcp45_r1i1p1_20151201-20251130.nc',\n",
       "   'tasmax_day_HadGEM2-ES_rcp45_r1i1p1_20991101-20991230.nc',\n",
       "   'tasmax_day_HadGEM2-ES_rcp45_r1i1p1_20551201-20651130.nc',\n",
       "   'tasmax_day_HadGEM2-ES_rcp45_r1i1p1_20051201-20151130.nc']),\n",
       " ('/home/abhi/Documents/data/HADGEM2S/rcp45/precip',\n",
       "  [],\n",
       "  ['pr_day_HadGEM2-ES_rcp45_r1i1p1_20051201-20151130.nc',\n",
       "   'pr_day_HadGEM2-ES_rcp45_r1i1p1_20551201-20651130.nc',\n",
       "   'pr_day_HadGEM2-ES_rcp45_r1i1p1_20651201-20751130.nc',\n",
       "   'pr_day_HadGEM2-ES_rcp45_r1i1p1_20751201-20851130.nc',\n",
       "   'pr_day_HadGEM2-ES_rcp45_r1i1p1_20991201-20991230.nc',\n",
       "   'pr_day_HadGEM2-ES_rcp45_r1i1p1_20251201-20351130.nc',\n",
       "   'pr_day_HadGEM2-ES_rcp45_r1i1p1_20951201-20991130.nc',\n",
       "   'pr_day_HadGEM2-ES_rcp45_r1i1p1_20151201-20251130.nc',\n",
       "   'pr_day_HadGEM2-ES_rcp45_r1i1p1_20451201-20551130.nc',\n",
       "   'pr_day_HadGEM2-ES_rcp45_r1i1p1_20851201-20951130.nc',\n",
       "   'pr_day_HadGEM2-ES_rcp45_r1i1p1_20351201-20451130.nc',\n",
       "   'pr_day_HadGEM2-ES_rcp45_r1i1p1_20991201-21091130.nc']),\n",
       " ('/home/abhi/Documents/data/HADGEM2S/rcp45/tmin',\n",
       "  [],\n",
       "  ['tasmin_day_HadGEM2-ES_rcp45_r1i1p1_20351201-20451130.nc',\n",
       "   'tasmin_day_HadGEM2-ES_rcp45_r1i1p1_20751201-20851130.nc',\n",
       "   'tasmin_day_HadGEM2-ES_rcp45_r1i1p1_20251201-20351130.nc',\n",
       "   'tasmin_day_HadGEM2-ES_rcp45_r1i1p1_20951201-20991030.nc',\n",
       "   'tasmin_day_HadGEM2-ES_rcp45_r1i1p1_20051201-20151130.nc',\n",
       "   'tasmin_day_HadGEM2-ES_rcp45_r1i1p1_20991101-20991230.nc',\n",
       "   'tasmin_day_HadGEM2-ES_rcp45_r1i1p1_20651201-20751130.nc',\n",
       "   'tasmin_day_HadGEM2-ES_rcp45_r1i1p1_20551201-20651130.nc',\n",
       "   'tasmin_day_HadGEM2-ES_rcp45_r1i1p1_20151201-20251130.nc',\n",
       "   'tasmin_day_HadGEM2-ES_rcp45_r1i1p1_20851201-20951130.nc',\n",
       "   'tasmin_day_HadGEM2-ES_rcp45_r1i1p1_20451201-20551130.nc',\n",
       "   'tasmin_day_HadGEM2-ES_rcp45_r1i1p1_20991201-21091130.nc']),\n",
       " ('/home/abhi/Documents/data/HADGEM2S/rcp85',\n",
       "  ['tmean', 'tmax', 'precip', 'tmin'],\n",
       "  []),\n",
       " ('/home/abhi/Documents/data/HADGEM2S/rcp85/tmean',\n",
       "  [],\n",
       "  ['tas_day_HadGEM2-ES_rcp85_r1i1p1_20991201-21091130.nc',\n",
       "   'tas_day_HadGEM2-ES_rcp85_r1i1p1_20051201-20101130.nc',\n",
       "   'tas_day_HadGEM2-ES_rcp85_r1i1p1_20201201-20251130.nc',\n",
       "   'tas_day_HadGEM2-ES_rcp85_r1i1p1_20401201-20451130.nc',\n",
       "   'tas_day_HadGEM2-ES_rcp85_r1i1p1_20951201-20991130.nc',\n",
       "   'tas_day_HadGEM2-ES_rcp85_r1i1p1_20151201-20201130.nc',\n",
       "   'tas_day_HadGEM2-ES_rcp85_r1i1p1_20501201-20551130.nc',\n",
       "   'tas_day_HadGEM2-ES_rcp85_r1i1p1_20551201-20601130.nc',\n",
       "   'tas_day_HadGEM2-ES_rcp85_r1i1p1_20601201-20651130.nc',\n",
       "   'tas_day_HadGEM2-ES_rcp85_r1i1p1_20351201-20401130.nc',\n",
       "   'tas_day_HadGEM2-ES_rcp85_r1i1p1_20301201-20351130.nc',\n",
       "   'tas_day_HadGEM2-ES_rcp85_r1i1p1_20251201-20301130.nc',\n",
       "   'tas_day_HadGEM2-ES_rcp85_r1i1p1_20991201-20991230.nc',\n",
       "   'tas_day_HadGEM2-ES_rcp85_r1i1p1_20701201-20751130.nc',\n",
       "   'tas_day_HadGEM2-ES_rcp85_r1i1p1_20651201-20701130.nc',\n",
       "   'tas_day_HadGEM2-ES_rcp85_r1i1p1_20851201-20951130.nc',\n",
       "   'tas_day_HadGEM2-ES_rcp85_r1i1p1_20751201-20851130.nc',\n",
       "   'tas_day_HadGEM2-ES_rcp85_r1i1p1_20101201-20151130.nc',\n",
       "   'tas_day_HadGEM2-ES_rcp85_r1i1p1_20451201-20501130.nc']),\n",
       " ('/home/abhi/Documents/data/HADGEM2S/rcp85/tmax',\n",
       "  [],\n",
       "  ['tasmax_day_HadGEM2-ES_rcp85_r1i1p1_20991201-21091130.nc',\n",
       "   'tasmax_day_HadGEM2-ES_rcp85_r1i1p1_20251201-20301130.nc',\n",
       "   'tasmax_day_HadGEM2-ES_rcp85_r1i1p1_20351201-20401130.nc',\n",
       "   'tasmax_day_HadGEM2-ES_rcp85_r1i1p1_20051201-20101130.nc',\n",
       "   'tasmax_day_HadGEM2-ES_rcp85_r1i1p1_20101201-20151130.nc',\n",
       "   'tasmax_day_HadGEM2-ES_rcp85_r1i1p1_20551201-20601130.nc',\n",
       "   'tasmax_day_HadGEM2-ES_rcp85_r1i1p1_20151201-20201130.nc',\n",
       "   'tasmax_day_HadGEM2-ES_rcp85_r1i1p1_20401201-20451130.nc',\n",
       "   'tasmax_day_HadGEM2-ES_rcp85_r1i1p1_20301201-20351130.nc',\n",
       "   'tasmax_day_HadGEM2-ES_rcp85_r1i1p1_20601201-20651130.nc',\n",
       "   'tasmax_day_HadGEM2-ES_rcp85_r1i1p1_20701201-20751130.nc',\n",
       "   'tasmax_day_HadGEM2-ES_rcp85_r1i1p1_20451201-20501130.nc',\n",
       "   'tasmax_day_HadGEM2-ES_rcp85_r1i1p1_20851201-20951130.nc',\n",
       "   'tasmax_day_HadGEM2-ES_rcp85_r1i1p1_20951201-20991130.nc',\n",
       "   'tasmax_day_HadGEM2-ES_rcp85_r1i1p1_20201201-20251130.nc',\n",
       "   'tasmax_day_HadGEM2-ES_rcp85_r1i1p1_20651201-20701130.nc',\n",
       "   'tasmax_day_HadGEM2-ES_rcp85_r1i1p1_20751201-20851130.nc',\n",
       "   'tasmax_day_HadGEM2-ES_rcp85_r1i1p1_20991201-20991230.nc',\n",
       "   'tasmax_day_HadGEM2-ES_rcp85_r1i1p1_20501201-20551130.nc']),\n",
       " ('/home/abhi/Documents/data/HADGEM2S/rcp85/precip',\n",
       "  [],\n",
       "  ['pr_day_HadGEM2-ES_rcp85_r1i1p1_20851201-20951130.nc',\n",
       "   'pr_day_HadGEM2-ES_rcp85_r1i1p1_20951201-20991130.nc',\n",
       "   'pr_day_HadGEM2-ES_rcp85_r1i1p1_20991201-20991230.nc',\n",
       "   'pr_day_HadGEM2-ES_rcp85_r1i1p1_20051201-20101130.nc',\n",
       "   'pr_day_HadGEM2-ES_rcp85_r1i1p1_20251201-20301130.nc',\n",
       "   'pr_day_HadGEM2-ES_rcp85_r1i1p1_20551201-20601130.nc',\n",
       "   'pr_day_HadGEM2-ES_rcp85_r1i1p1_20701201-20751130.nc',\n",
       "   'pr_day_HadGEM2-ES_rcp85_r1i1p1_20151201-20201130.nc',\n",
       "   'pr_day_HadGEM2-ES_rcp85_r1i1p1_20601201-20651130.nc',\n",
       "   'pr_day_HadGEM2-ES_rcp85_r1i1p1_20351201-20401130.nc',\n",
       "   'pr_day_HadGEM2-ES_rcp85_r1i1p1_20101201-20151130.nc',\n",
       "   'pr_day_HadGEM2-ES_rcp85_r1i1p1_20201201-20251130.nc',\n",
       "   'pr_day_HadGEM2-ES_rcp85_r1i1p1_20501201-20551130.nc',\n",
       "   'pr_day_HadGEM2-ES_rcp85_r1i1p1_21091201-21191130.nc',\n",
       "   'pr_day_HadGEM2-ES_rcp85_r1i1p1_20651201-20701130.nc',\n",
       "   'pr_day_HadGEM2-ES_rcp85_r1i1p1_20451201-20501130.nc',\n",
       "   'pr_day_HadGEM2-ES_rcp85_r1i1p1_20401201-20451130.nc',\n",
       "   'pr_day_HadGEM2-ES_rcp85_r1i1p1_20301201-20351130.nc',\n",
       "   'pr_day_HadGEM2-ES_rcp85_r1i1p1_20751201-20851130.nc']),\n",
       " ('/home/abhi/Documents/data/HADGEM2S/rcp85/tmin',\n",
       "  [],\n",
       "  ['tasmin_day_HadGEM2-ES_rcp85_r1i1p1_20651201-20701130.nc',\n",
       "   'tasmin_day_HadGEM2-ES_rcp85_r1i1p1_20101201-20151130.nc',\n",
       "   'tasmin_day_HadGEM2-ES_rcp85_r1i1p1_20991201-21091130.nc',\n",
       "   'tasmin_day_HadGEM2-ES_rcp85_r1i1p1_20051201-20101130.nc',\n",
       "   'tasmin_day_HadGEM2-ES_rcp85_r1i1p1_20351201-20401130.nc',\n",
       "   'tasmin_day_HadGEM2-ES_rcp85_r1i1p1_20151201-20201130.nc',\n",
       "   'tasmin_day_HadGEM2-ES_rcp85_r1i1p1_20951201-20991130.nc',\n",
       "   'tasmin_day_HadGEM2-ES_rcp85_r1i1p1_20751201-20851130.nc',\n",
       "   'tasmin_day_HadGEM2-ES_rcp85_r1i1p1_20601201-20651130.nc',\n",
       "   'tasmin_day_HadGEM2-ES_rcp85_r1i1p1_20701201-20751130.nc',\n",
       "   'tasmin_day_HadGEM2-ES_rcp85_r1i1p1_20501201-20551130.nc',\n",
       "   'tasmin_day_HadGEM2-ES_rcp85_r1i1p1_20551201-20601130.nc',\n",
       "   'tasmin_day_HadGEM2-ES_rcp85_r1i1p1_20851201-20951130.nc',\n",
       "   'tasmin_day_HadGEM2-ES_rcp85_r1i1p1_20201201-20251130.nc',\n",
       "   'tasmin_day_HadGEM2-ES_rcp85_r1i1p1_20991201-20991230.nc',\n",
       "   'tasmin_day_HadGEM2-ES_rcp85_r1i1p1_20451201-20501130.nc',\n",
       "   'tasmin_day_HadGEM2-ES_rcp85_r1i1p1_20401201-20451130.nc',\n",
       "   'tasmin_day_HadGEM2-ES_rcp85_r1i1p1_20251201-20301130.nc',\n",
       "   'tasmin_day_HadGEM2-ES_rcp85_r1i1p1_20301201-20351130.nc']),\n",
       " ('/home/abhi/Documents/data/HADGEM2S/base',\n",
       "  ['tmean', 'tmax', 'precip', 'tmin'],\n",
       "  []),\n",
       " ('/home/abhi/Documents/data/HADGEM2S/base/tmean',\n",
       "  [],\n",
       "  ['tas_day_HadGEM2-ES_historical_r1i1p1_19891201-19991130.nc',\n",
       "   'tas_day_HadGEM2-ES_historical_r1i1p1_19691201-19791130.nc',\n",
       "   'tas_day_HadGEM2-ES_historical_r1i1p1_19791201-19891130.nc',\n",
       "   'tas_day_HadGEM2-ES_historical_r1i1p1_19991201-20051130.nc']),\n",
       " ('/home/abhi/Documents/data/HADGEM2S/base/tmax',\n",
       "  [],\n",
       "  ['tasmax_day_HadGEM2-ES_historical_r1i1p1_19691201-19791130.nc',\n",
       "   'tasmax_day_HadGEM2-ES_historical_r1i1p1_19891201-19991130.nc',\n",
       "   'tasmax_day_HadGEM2-ES_historical_r1i1p1_19791201-19891130.nc',\n",
       "   'tasmax_day_HadGEM2-ES_historical_r1i1p1_19991201-20051130.nc']),\n",
       " ('/home/abhi/Documents/data/HADGEM2S/base/precip',\n",
       "  [],\n",
       "  ['pr_day_HadGEM2-ES_historical_r1i1p1_19791201-19891130.nc',\n",
       "   'pr_day_HadGEM2-ES_historical_r1i1p1_19991201-20051130.nc',\n",
       "   'pr_day_HadGEM2-ES_historical_r1i1p1_19691201-19791130.nc',\n",
       "   'pr_day_HadGEM2-ES_historical_r1i1p1_19891201-19991130.nc',\n",
       "   'HadGEM2-ES-Hist-PR_1971-2000.nc']),\n",
       " ('/home/abhi/Documents/data/HADGEM2S/base/tmin',\n",
       "  [],\n",
       "  ['tasmin_day_HadGEM2-ES_historical_r1i1p1_19991201-20051130.nc',\n",
       "   'tasmin_day_HadGEM2-ES_historical_r1i1p1_19891201-19991130.nc',\n",
       "   'tasmin_day_HadGEM2-ES_historical_r1i1p1_19691201-19791130.nc',\n",
       "   'tasmin_day_HadGEM2-ES_historical_r1i1p1_19791201-19891130.nc'])]"
      ]
     },
     "execution_count": 48,
     "metadata": {},
     "output_type": "execute_result"
    }
   ],
   "source": [
    "fpath = '/home/abhi/Documents/data/HADGEM2S'\n",
    "list(os.walk(fpath))"
   ]
  },
  {
   "cell_type": "code",
   "execution_count": 58,
   "metadata": {},
   "outputs": [],
   "source": [
    "fdir = '/home/abhi/Documents/data/HADGEM2-ES/base/precip'"
   ]
  },
  {
   "cell_type": "code",
   "execution_count": 4,
   "metadata": {},
   "outputs": [],
   "source": []
  },
  {
   "cell_type": "code",
   "execution_count": 56,
   "metadata": {},
   "outputs": [
    {
     "name": "stdout",
     "output_type": "stream",
     "text": [
      "CPU times: user 0 ns, sys: 264 ms, total: 264 ms\n",
      "Wall time: 9.14 s\n"
     ]
    }
   ],
   "source": [
    "%%time\n",
    "agg = 'monmean'\n",
    "outdir = f'../data/precip/{agg}'\n",
    "os.system(f'mkdir -p {outdir}')\n",
    "merged = cdo.mergetime(input=f\"{fdir}/*\", returnCDF=True)\n",
    "cmd = f'-add -remapbil,{maskfile} -monmean -selyear,1971/2000 {merged} {maskfile}'\n",
    "cdo.mulc('86400',\n",
    "        input=cmd,\n",
    "        output=f\"{outdir}/pr_day_HadGEM2-ES_historical_r1i1p1_19710101-20001230.nc\")\n",
    "os.remove(merged)"
   ]
  },
  {
   "cell_type": "code",
   "execution_count": 11,
   "metadata": {},
   "outputs": [],
   "source": [
    "def remapPlusMask(var, agg=None, model='HADGEM2-ES'):\n",
    "    maskfile = '/home/abhi/Documents/data/maskfiles/IND_RBC_mask25.nc'\n",
    "    \n",
    "    fdir = f'/home/abhi/Documents/data/{model}/base/{var}'\n",
    "    fname = os.listdir(fdir)[0]\n",
    "    fname = fname.split('_')\n",
    "    fname[-1] = '19710101-20001230.nc'\n",
    "    fname = '_'.join(fname)\n",
    "    \n",
    "    outname = os.listdir(fdir)[0].replace\n",
    "    if agg is None:\n",
    "        outdir = f\"../data/{model}/{var}/daymean\"\n",
    "    else:  \n",
    "        outdir = f\"../data/{model}/{var}/{agg}\"\n",
    "        \n",
    "    os.system(f\"mkdir -p {outdir}\")\n",
    "    \n",
    "    merged = cdo.mergetime(input=f\"{fdir}/*\", returnCDF=True)\n",
    "    cmd = f'-add -remapbil,{maskfile} -{agg} -selyear,1971/2000 {merged} {maskfile}'\n",
    "    if agg is None:\n",
    "        cmd = cmd.replace(f'-{agg} ', '')\n",
    "    \n",
    "    if var == 'precip':\n",
    "        op = cdo.mulc\n",
    "        arg = '86400'\n",
    "    else:\n",
    "        op = cdo.subc\n",
    "        arg = '273.15'\n",
    "        \n",
    "    op(arg,\n",
    "        input=cmd,\n",
    "        output=f\"{outdir}/{fname}\")\n",
    "    \n",
    "    os.remove(merged)"
   ]
  },
  {
   "cell_type": "code",
   "execution_count": 69,
   "metadata": {},
   "outputs": [],
   "source": [
    "def merge_model(var, model='HADGEM2-ES', selbox=list(PRECIS_BOX.round())):\n",
    "    \n",
    "    fdir = f'/home/abhi/Documents/data/{model}/base/{var}'\n",
    "    fname = os.listdir(fdir)[0]\n",
    "    fname = fname.split('_')\n",
    "    fname[-1] = '19710101-20001230.nc'\n",
    "    fname = '_'.join(fname)\n",
    "    \n",
    "    outdir = f\"../data/{model}_O/{var}/daymean\"\n",
    "        \n",
    "    os.system(f\"mkdir -p {outdir}\")\n",
    "    \n",
    "\n",
    "        \n",
    "    merged = cdo.mergetime(input=f\"{fdir}/*\", returnCDF=True)\n",
    "    \n",
    "    if selbox is None:\n",
    "        cmd = f'-selyear,1971/2000 {merged}'\n",
    "    else:\n",
    "        pattern = re.compile(r'[\\[\\]\\s]')\n",
    "        box = pattern.sub('', str(list(selbox)))\n",
    "        cmd = f'-sellonlatbox,{box} -selyear,1971/2000 {merged}'\n",
    "        \n",
    "    if var == 'precip':\n",
    "        op = cdo.mulc\n",
    "        arg = '86400'\n",
    "    else:\n",
    "        op = cdo.subc\n",
    "        arg = '273.15'\n",
    "        \n",
    "        \n",
    "    op(arg,\n",
    "    input=cmd,\n",
    "    output=f\"{outdir}/{fname}\")\n",
    "    \n",
    "    os.remove(merged)\n",
    "    "
   ]
  },
  {
   "cell_type": "code",
   "execution_count": 77,
   "metadata": {},
   "outputs": [],
   "source": [
    "ll22_grid = cdo.griddes(input=\"../data/PRECIS_ll22/precip/daymean/1971-2000_r_ll22.nc\")\n",
    "with open(\"/tmp/ll22.txt\", \"w\") as f:\n",
    "    f.write('\\n'.join(ll22_grid))"
   ]
  },
  {
   "cell_type": "code",
   "execution_count": 83,
   "metadata": {},
   "outputs": [],
   "source": [
    "def prepare_PRECIS(var, gridfile):\n",
    "    outdir = f\"../data/PRECIS_ll22/{var}/daymean\"\n",
    "    os.system(f\"mkdir -p {outdir}\")\n",
    "    \n",
    "    f = f\"/home/abhi/Documents/data/PRECIS/base/{var}/{var}_base.nc\"\n",
    "    \n",
    "    cdo.remapbil(gridfile,\n",
    "                 input=f\"-selyear,1971/2000 {f}\",\n",
    "                output=f\"{outdir}/1971-2000_r_ll22.nc\")"
   ]
  },
  {
   "cell_type": "code",
   "execution_count": 85,
   "metadata": {},
   "outputs": [
    {
     "name": "stdout",
     "output_type": "stream",
     "text": [
      "CPU times: user 8 ms, sys: 28 ms, total: 36 ms\n",
      "Wall time: 1min 22s\n"
     ]
    }
   ],
   "source": [
    "%%time\n",
    "for var in [\"tmin\", \"tmax\"]:\n",
    "    prepare_PRECIS(var, \"/tmp/ll22.txt\")"
   ]
  },
  {
   "cell_type": "code",
   "execution_count": 51,
   "metadata": {},
   "outputs": [],
   "source": [
    "box = list(PRECIS_BOX.round())"
   ]
  },
  {
   "cell_type": "code",
   "execution_count": 62,
   "metadata": {},
   "outputs": [
    {
     "data": {
      "text/plain": [
       "<function SRE_Pattern.sub(repl, string, count=0)>"
      ]
     },
     "execution_count": 62,
     "metadata": {},
     "output_type": "execute_result"
    }
   ],
   "source": [
    "pattern = re.compile(r'[\\[\\]\\s]')\n",
    "pattern.sub"
   ]
  },
  {
   "cell_type": "code",
   "execution_count": 68,
   "metadata": {},
   "outputs": [
    {
     "data": {
      "text/plain": [
       "'60.0,100.0,-10.0,38.0'"
      ]
     },
     "execution_count": 68,
     "metadata": {},
     "output_type": "execute_result"
    }
   ],
   "source": [
    "pattern.sub('', str(box))"
   ]
  },
  {
   "cell_type": "code",
   "execution_count": 71,
   "metadata": {},
   "outputs": [
    {
     "name": "stdout",
     "output_type": "stream",
     "text": [
      "CPU times: user 8 ms, sys: 868 ms, total: 876 ms\n",
      "Wall time: 58.5 s\n"
     ]
    }
   ],
   "source": [
    "%%time\n",
    "\n",
    "for var in ['precip', 'tmean', 'tmax', 'tmin']:\n",
    "    merge_model(var)"
   ]
  },
  {
   "cell_type": "code",
   "execution_count": 2,
   "metadata": {},
   "outputs": [],
   "source": [
    "def wetday_precipindex(nc_file, wetperc_file, index, years, outpath):\n",
    "    op = eval(f'cdo.{index}')\n",
    "    files = []\n",
    "    for year in years:\n",
    "        files.append(op(input=f'-selyear,{year} {nc_file} {wetperc_file}',\n",
    "                        returnCDF=True))\n",
    "        \n",
    "    merged = cdo.mergetime(input=' '.join(files),\n",
    "                         returnCDF=True)\n",
    "    \n",
    "    cdo.timmean(input=merged,\n",
    "               output=outpath)\n",
    "    \n",
    "    os.system(f\"rm {' '.join(files)} {merged}\")\n",
    "    "
   ]
  },
  {
   "cell_type": "code",
   "execution_count": 170,
   "metadata": {},
   "outputs": [
    {
     "name": "stdout",
     "output_type": "stream",
     "text": [
      "CPU times: user 44 ms, sys: 164 ms, total: 208 ms\n",
      "Wall time: 11.4 s\n"
     ]
    }
   ],
   "source": [
    "%%time \n",
    "wetday_precipindex('/home/abhi/Documents/data/OBSERVATION/IMD/precip/imdCAL.nc',\n",
    "                  '../data/IMD/precip/90pwetyday/1971-2000_rm_ll25_Annual_90pwetyday.nc',\n",
    "                   'eca_r90ptot',\n",
    "                  range(1971, 2001, 1),\n",
    "                  '/tmp/testwetdayTOT.nc')"
   ]
  },
  {
   "cell_type": "code",
   "execution_count": 172,
   "metadata": {},
   "outputs": [
    {
     "name": "stdout",
     "output_type": "stream",
     "text": [
      "Ncview 2.1.6 David W. Pierce  29 Oct 2015\n",
      "http://meteora.ucsd.edu:80/~pierce/ncview_home_page.html\n",
      "Copyright (C) 1993 through 2015, David W. Pierce\n",
      "Ncview comes with ABSOLUTELY NO WARRANTY; for details type `ncview -w'.\n",
      "This is free software licensed under the Gnu General Public License version 3; type `ncview -c' for redistribution details.\n",
      "\n",
      "Warning: Cannot convert string \"-*-helvetica-*-r-*-*-14-*-*-*-*-*-*-*\" to type FontStruct\n",
      "calculating min and maxes for precipitation_percent_due_to_R90p_days.\n",
      "XIO:  fatal IO error 11 (Resource temporarily unavailable) on X server \":0\"\n",
      "      after 1152 requests (1152 known processed) with 0 events remaining.\n"
     ]
    }
   ],
   "source": [
    "!ncview /tmp/testwetdayTOT.nc"
   ]
  },
  {
   "cell_type": "code",
   "execution_count": 48,
   "metadata": {},
   "outputs": [],
   "source": [
    "def aggregate(var, agg, model='HADGEM2-ES', seas=None, wetdaythresh=None, delete=False):\n",
    "    PROJ_DIR = '/home/abhi/Documents/mygit/GCM_RCM'\n",
    "        \n",
    "    if model in ['HADGEM2-ES', 'HADGEM2-ES_O', 'PRECIS_ll22']:\n",
    "        fdir = f\"../data/{model}/{var}/daymean\"\n",
    "        fname = os.listdir(fdir)[0]\n",
    "        \n",
    "    elif model is 'PRECIS':\n",
    "        fdir = f\"/home/abhi/Documents/data/PRECIS/base/{var}\"\n",
    "        fname = '1971-2000_rm_ll25.nc'\n",
    "       \n",
    "        \n",
    "    elif model is 'IMD':\n",
    "        fdir = f\"/home/abhi/Documents/data/OBSERVATION/IMD/{var}\"\n",
    "        fname = '1971-2000_rm_ll25_360day.nc'\n",
    "        \n",
    "    outname = f'1971-2000_rm_ll25_{agg}.nc'\n",
    "    \n",
    "    outdir = f\"../data/{model}/{var}/{agg}\"\n",
    "    if delete:\n",
    "        os.system(f\"rm -rf {outdir}\")\n",
    "        \n",
    "    os.system(f\"mkdir -p {outdir}\")\n",
    "    \n",
    "    if agg in ['monmean', 'ymonmean', 'ydaymean']:\n",
    "        op = eval(f\"cdo.{agg}\")\n",
    "        op(input=f\"{fdir}/{fname}\",\n",
    "          output=f\"{outdir}/{outname}\")\n",
    "        \n",
    "    elif agg in ['yearmean']:\n",
    "        op = eval(f'cdo.{agg}')\n",
    "        \n",
    "        if seas is None:\n",
    "            f = f\"../data/{model}/{var}/monmean/1971-2000_rm_ll25_monmean.nc\"\n",
    "            outname = f'1971-2000_rm_ll25_Annual_{agg}.nc'\n",
    "        else:\n",
    "            f = f\"-selseas,{seas} ../data/{model}/{var}/monmean/1971-2000_rm_ll25_monmean.nc\"\n",
    "            outname = f'1971-2000_rm_ll25_{seas}_{agg}.nc'\n",
    "            \n",
    "        op(input=f, \n",
    "          output=f\"{outdir}/{outname}\")\n",
    "            \n",
    "        \n",
    "    elif agg in ['timstd', 'timmean']:\n",
    "        if seas is None:\n",
    "            f = f\"../data/{model}/{var}/monmean/1971-2000_rm_ll25_monmean.nc\"\n",
    "            outname = f'1971-2000_rm_ll25_Annual_{agg}.nc'\n",
    "        else:\n",
    "            f = f\"-selseas,{seas} ../data/{model}/{var}/monmean/1971-2000_rm_ll25_monmean.nc\"\n",
    "            outname = f'1971-2000_rm_ll25_{seas}_{agg}.nc'\n",
    "            \n",
    "        op = eval(f'cdo.{agg}')\n",
    "            \n",
    "        op(input=f\"-yearmean {f}\",\n",
    "                  output=f\"{outdir}/{outname}\")\n",
    "        \n",
    "    elif ((agg == 'wetdayfreq' or agg == 'wetdayprecip')\n",
    "          and (var == 'precip')):            \n",
    "    \n",
    "        if wetdaythresh is None:\n",
    "            thresh = 1\n",
    "        else:\n",
    "            thresh = wetdaythresh\n",
    "            \n",
    "            \n",
    "        if seas is None:\n",
    "            f = f'{fdir}/{fname}'\n",
    "            outname  = f'1971-2000_rm_ll25_Annual_{agg}_{thresh}mm.nc'\n",
    "        else:\n",
    "            f = f\"-selseas,{seas} {fdir}/{fname}\"\n",
    "            outname  = f'1971-2000_rm_ll25_{seas}_{agg}_{thresh}mm.nc'\n",
    "            \n",
    "            \n",
    "        if agg == 'wetdayfreq':\n",
    "            \n",
    "            cdo.mulc('100',\n",
    "                    input=f'-timmean -gec,{thresh} {f}',\n",
    "                    output=f\"{outdir}/{outname}\")\n",
    "            \n",
    "        else:\n",
    "            cdo.timmean(input=f'-setrtomiss,0,{thresh} {f}',\n",
    "                       output=f\"{outdir}/{outname}\")\n",
    "            \n",
    "        \n",
    "        \n",
    "        \n",
    "    elif re.match(re.compile(r'[0-9]+p'), agg):\n",
    "        perc = agg.replace('p', '')\n",
    "        \n",
    "        if seas is None:\n",
    "            f = f\"{fdir}/{fname}\"\n",
    "            outname = f'1971-2000_rm_ll25_Annual_{agg}.nc'\n",
    "        else:\n",
    "            f = f\"-selseas,{seas} {fdir}/{fname}\"\n",
    "            outname = f'1971-2000_rm_ll25_{seas}_{agg}.nc'\n",
    "            \n",
    "        if 'wet' in agg:\n",
    "            perc = perc.replace('wet', '')\n",
    "            f = f'-setrtomiss,0,1 {f}'\n",
    "            \n",
    "        \n",
    "        if 'yday' in agg:\n",
    "            perc = perc.replace('yday', '')\n",
    "            cmd = f'{f} -ydaymin {f} -ydaymax {f}'\n",
    "            op = eval('cdo.ydaypctl')\n",
    "            \n",
    "        else:\n",
    "            cmd = f'{f} -timmin {f} -timmax {f}'\n",
    "            op = eval('cdo.timpctl')\n",
    "            \n",
    "\n",
    "        op(perc,\n",
    "           input=cmd,\n",
    "           output=f\"{outdir}/{outname}\")\n",
    "                \n",
    "    elif re.match(re.compile(r'r[0-9]+p[tot]*'), agg):\n",
    "        perc = re.findall(re.compile(r'[0-9]+'), agg)[0]\n",
    "        \n",
    "        if seas is None:\n",
    "            f = f\"{fdir}/{fname}\"\n",
    "            outname = f'1971-2000_rm_ll25_Annual_{agg}.nc'\n",
    "            wetperc_fname = f'1971-2000_rm_ll25_Annual_{perc}pwetyday.nc'\n",
    "        else:\n",
    "            f = f\"-selseas,{seas} {fdir}/{fname}\"\n",
    "            outname = f'1971-2000_rm_ll25_{seas}_{agg}.nc'\n",
    "            wetperc_fname = f'1971-2000_rm_ll25_{seas}_{perc}pwetyday.nc'\n",
    "            \n",
    "            \n",
    "            \n",
    "        nc_file = f\n",
    "        wetperc_file = f\"../data/{model}/precip/{perc}pwetyday/{wetperc_fname}\"\n",
    "        index = f'eca_{agg}'\n",
    "        years = range(1971, 2001, 1)\n",
    "        outpath = f\"{outdir}/{outname}\"\n",
    "        \n",
    "        wetday_precipindex(nc_file,\n",
    "                          wetperc_file,\n",
    "                          index,\n",
    "                          years,\n",
    "                          outpath)\n",
    "        \n",
    "    elif re.match(r'[[cdd]+|[cwd]+]', agg) and var == 'precip':\n",
    "        metric, thresh, ndays = agg.split(\"_\")\n",
    "        \n",
    "        if seas is None:\n",
    "            f = f\"{fdir}/{fname}\"\n",
    "            outname = f'1971-2000_rm_ll25_Annual_{agg}.nc'\n",
    "        else:\n",
    "            f = f\"-selseas,{seas} {fdir}/{fname}\"\n",
    "            outname = f'1971-2000_rm_ll25_{seas}_{agg}.nc'\n",
    "        \n",
    "        op = eval(f'cdo.eca_{metric}')\n",
    "        op(input=f\"{fdir}/{fname}\",\n",
    "           output=f\"{outdir}/{outname}\")\n",
    "        \n",
    "    elif re.match(r'pd_[0-9]+mm', agg):\n",
    "        thresh = agg.split('_')[1].replace('mm', '')\n",
    "        \n",
    "        if seas is None:\n",
    "            f = f\"{fdir}/{fname}\"\n",
    "            outname = f'1971-2000_rm_ll25_Annual_{agg}.nc'\n",
    "        else:\n",
    "            f = f\"-selseas,{seas} {fdir}/{fname}\"\n",
    "            outname = f'1971-2000_rm_ll25_{seas}_{agg}.nc'\n",
    "        \n",
    "        os.system(f'rm -rf {outdir}')\n",
    "        outdir = f\"../data/{model}/{var}/pd\"\n",
    "        os.system(f'mkdir -p {outdir}')\n",
    "        \n",
    "        ndays = cdo.ndate(input=f)[0]\n",
    "        \n",
    "        cdo.mulc(100,\n",
    "                   input=f\"-divc,{ndays} -eca_pd,{thresh} {f}\",\n",
    "                  output=f\"{outdir}/{outname}\")\n",
    "        \n",
    "        \n",
    "        "
   ]
  },
  {
   "cell_type": "code",
   "execution_count": 47,
   "metadata": {},
   "outputs": [
    {
     "data": {
      "text/plain": [
       "['10800']"
      ]
     },
     "execution_count": 47,
     "metadata": {},
     "output_type": "execute_result"
    }
   ],
   "source": [
    "cdo.ndate(input='/home/abhi/Documents/data/OBSERVATION/IMD/precip/imdCAL.nc')"
   ]
  },
  {
   "cell_type": "code",
   "execution_count": 49,
   "metadata": {},
   "outputs": [],
   "source": [
    "aggregate('precip', 'pd_10mm')"
   ]
  },
  {
   "cell_type": "code",
   "execution_count": 24,
   "metadata": {},
   "outputs": [
    {
     "name": "stdout",
     "output_type": "stream",
     "text": [
      "CPU times: user 80 ms, sys: 128 ms, total: 208 ms\n",
      "Wall time: 2min 22s\n"
     ]
    }
   ],
   "source": [
    "%%time\n",
    "for model in ['HADGEM2-ES', 'IMD', 'PRECIS']:\n",
    "    for agg in ['pd_{thresh}']:\n",
    "        for seas in [None, 'JJAS', 'ON', 'DJF', 'MAM']:\n",
    "            aggregate('precip', agg, model, seas=seas)"
   ]
  },
  {
   "cell_type": "code",
   "execution_count": null,
   "metadata": {},
   "outputs": [],
   "source": []
  },
  {
   "cell_type": "code",
   "execution_count": 38,
   "metadata": {},
   "outputs": [
    {
     "data": {
      "text/plain": [
       "<_sre.SRE_Match object; span=(0, 7), match='pd_70mm'>"
      ]
     },
     "execution_count": 38,
     "metadata": {},
     "output_type": "execute_result"
    }
   ],
   "source": [
    "agg = 'pd_70mm'\n",
    "re.match(r'pd_[0-9]+mm', agg)"
   ]
  },
  {
   "cell_type": "code",
   "execution_count": null,
   "metadata": {},
   "outputs": [],
   "source": [
    "agg.con"
   ]
  },
  {
   "cell_type": "code",
   "execution_count": 168,
   "metadata": {},
   "outputs": [
    {
     "data": {
      "text/plain": [
       "['90']"
      ]
     },
     "execution_count": 168,
     "metadata": {},
     "output_type": "execute_result"
    }
   ],
   "source": [
    "agg = 'r90p'\n",
    "re.findall(re.compile(r'[0-9]+'), agg)"
   ]
  },
  {
   "cell_type": "code",
   "execution_count": null,
   "metadata": {},
   "outputs": [],
   "source": [
    "agg = 'r90pTOT'"
   ]
  },
  {
   "cell_type": "code",
   "execution_count": 132,
   "metadata": {},
   "outputs": [
    {
     "data": {
      "text/plain": [
       "<_sre.SRE_Match object; span=(0, 3), match='90p'>"
      ]
     },
     "execution_count": 132,
     "metadata": {},
     "output_type": "execute_result"
    }
   ],
   "source": []
  },
  {
   "cell_type": "code",
   "execution_count": 135,
   "metadata": {},
   "outputs": [],
   "source": [
    "aggregate('precip', '90pwetyday', model='IMD', seas='JJAS')"
   ]
  },
  {
   "cell_type": "code",
   "execution_count": 137,
   "metadata": {},
   "outputs": [
    {
     "name": "stdout",
     "output_type": "stream",
     "text": [
      "Ncview 2.1.6 David W. Pierce  29 Oct 2015\n",
      "http://meteora.ucsd.edu:80/~pierce/ncview_home_page.html\n",
      "Copyright (C) 1993 through 2015, David W. Pierce\n",
      "Ncview comes with ABSOLUTELY NO WARRANTY; for details type `ncview -w'.\n",
      "This is free software licensed under the Gnu General Public License version 3; type `ncview -c' for redistribution details.\n",
      "\n",
      "Warning: Cannot convert string \"-*-helvetica-*-r-*-*-14-*-*-*-*-*-*-*\" to type FontStruct\n",
      "calculating min and maxes for precip...\n",
      "XIO:  fatal IO error 11 (Resource temporarily unavailable) on X server \":0\"\n",
      "      after 4564 requests (4564 known processed) with 0 events remaining.\n"
     ]
    }
   ],
   "source": [
    "!ncview ../data/IMD/precip/90pwetyday/1971-2000_rm_ll25_JJAS_90pwetyday.nc\n"
   ]
  },
  {
   "cell_type": "code",
   "execution_count": 68,
   "metadata": {},
   "outputs": [],
   "source": [
    "fdir = 1\n",
    "fname =2\n",
    "\n",
    "f = f\"{fdir}/{fname}\""
   ]
  },
  {
   "cell_type": "code",
   "execution_count": 71,
   "metadata": {},
   "outputs": [],
   "source": [
    "cmd = f'{f}'"
   ]
  },
  {
   "cell_type": "code",
   "execution_count": 72,
   "metadata": {},
   "outputs": [
    {
     "data": {
      "text/plain": [
       "'1/2'"
      ]
     },
     "execution_count": 72,
     "metadata": {},
     "output_type": "execute_result"
    }
   ],
   "source": [
    "cmd"
   ]
  },
  {
   "cell_type": "code",
   "execution_count": 44,
   "metadata": {},
   "outputs": [],
   "source": [
    "aggregate('tmean', 'monmean', model='PRECIS')"
   ]
  },
  {
   "cell_type": "code",
   "execution_count": 31,
   "metadata": {},
   "outputs": [
    {
     "ename": "FileNotFoundError",
     "evalue": "[Errno 2] No such file or directory: '../data/HADGEM2-ES/tmean/daymean/*.nc'",
     "output_type": "error",
     "traceback": [
      "\u001b[0;31m---------------------------------------------------------------------------\u001b[0m",
      "\u001b[0;31mFileNotFoundError\u001b[0m                         Traceback (most recent call last)",
      "\u001b[0;32m<ipython-input-31-818758de1d60>\u001b[0m in \u001b[0;36m<module>\u001b[0;34m\u001b[0m\n\u001b[0;32m----> 1\u001b[0;31m \u001b[0mos\u001b[0m\u001b[0;34m.\u001b[0m\u001b[0mlistdir\u001b[0m\u001b[0;34m(\u001b[0m\u001b[0;34m'../data/HADGEM2-ES/tmean/daymean/*.nc'\u001b[0m\u001b[0;34m)\u001b[0m\u001b[0;34m\u001b[0m\u001b[0;34m\u001b[0m\u001b[0m\n\u001b[0m",
      "\u001b[0;31mFileNotFoundError\u001b[0m: [Errno 2] No such file or directory: '../data/HADGEM2-ES/tmean/daymean/*.nc'"
     ]
    }
   ],
   "source": [
    "os.listdir('../data/HADGEM2-ES/tmean/daymean/*.nc')"
   ]
  },
  {
   "cell_type": "code",
   "execution_count": 22,
   "metadata": {},
   "outputs": [],
   "source": [
    "model = 'HADGEM2-ES'\n",
    "fdir = f\"../data/{model}/{var}/daymean\"\n"
   ]
  },
  {
   "cell_type": "code",
   "execution_count": 23,
   "metadata": {},
   "outputs": [
    {
     "data": {
      "text/plain": [
       "['tasmax_day_HadGEM2-ES_historical_r1i1p1_19710101-20001230.nc']"
      ]
     },
     "execution_count": 23,
     "metadata": {},
     "output_type": "execute_result"
    }
   ],
   "source": [
    "os.listdir(fdir)"
   ]
  },
  {
   "cell_type": "code",
   "execution_count": 13,
   "metadata": {},
   "outputs": [
    {
     "data": {
      "text/plain": [
       "<bound method Cdo.__getattr__.<locals>.get of <cdo.Cdo object at 0x7f89ee4af6d8>>"
      ]
     },
     "execution_count": 13,
     "metadata": {},
     "output_type": "execute_result"
    }
   ],
   "source": [
    "agg = 'monmean'\n",
    "eval(f'cdo.{agg}')"
   ]
  },
  {
   "cell_type": "code",
   "execution_count": 57,
   "metadata": {},
   "outputs": [
    {
     "name": "stdout",
     "output_type": "stream",
     "text": [
      "Ncview 2.1.6 David W. Pierce  29 Oct 2015\n",
      "http://meteora.ucsd.edu:80/~pierce/ncview_home_page.html\n",
      "Copyright (C) 1993 through 2015, David W. Pierce\n",
      "Ncview comes with ABSOLUTELY NO WARRANTY; for details type `ncview -w'.\n",
      "This is free software licensed under the Gnu General Public License version 3; type `ncview -c' for redistribution details.\n",
      "\n",
      "Warning: Cannot convert string \"-*-helvetica-*-r-*-*-14-*-*-*-*-*-*-*\" to type FontStruct\n",
      "calculating min and maxes for pr...\n",
      "XIO:  fatal IO error 11 (Resource temporarily unavailable) on X server \":0\"\n",
      "      after 4834 requests (4834 known processed) with 0 events remaining.\n"
     ]
    }
   ],
   "source": [
    "!ncview ../data/precip/monmean/pr_day_HadGEM2-ES_historical_r1i1p1_19710101-20001230.nc"
   ]
  },
  {
   "cell_type": "code",
   "execution_count": 9,
   "metadata": {},
   "outputs": [
    {
     "name": "stdout",
     "output_type": "stream",
     "text": [
      "CPU times: user 0 ns, sys: 296 ms, total: 296 ms\n",
      "Wall time: 16 s\n"
     ]
    }
   ],
   "source": [
    "%time remapPlusMask('tmean', agg=None)"
   ]
  },
  {
   "cell_type": "code",
   "execution_count": 10,
   "metadata": {},
   "outputs": [
    {
     "name": "stdout",
     "output_type": "stream",
     "text": [
      "Ncview 2.1.6 David W. Pierce  29 Oct 2015\n",
      "http://meteora.ucsd.edu:80/~pierce/ncview_home_page.html\n",
      "Copyright (C) 1993 through 2015, David W. Pierce\n",
      "Ncview comes with ABSOLUTELY NO WARRANTY; for details type `ncview -w'.\n",
      "This is free software licensed under the Gnu General Public License version 3; type `ncview -c' for redistribution details.\n",
      "\n",
      "Warning: Cannot convert string \"-*-helvetica-*-r-*-*-14-*-*-*-*-*-*-*\" to type FontStruct\n",
      "calculating min and maxes for tas...\n",
      "XIO:  fatal IO error 11 (Resource temporarily unavailable) on X server \":0\"\n",
      "      after 1121 requests (1121 known processed) with 0 events remaining.\n"
     ]
    }
   ],
   "source": [
    "!ncview ../data/tmean/daymean/tas_day_HadGEM2-ES_historical_r1i1p1_19710101-20001230.nc"
   ]
  },
  {
   "cell_type": "code",
   "execution_count": 12,
   "metadata": {},
   "outputs": [
    {
     "name": "stdout",
     "output_type": "stream",
     "text": [
      "CPU times: user 24 ms, sys: 1.12 s, total: 1.14 s\n",
      "Wall time: 1min 13s\n"
     ]
    }
   ],
   "source": [
    "%%time\n",
    "for var in ['precip', 'tmean', 'tmin', 'tmax']:\n",
    "    remapPlusMask(var)\n",
    "    "
   ]
  },
  {
   "cell_type": "code",
   "execution_count": 89,
   "metadata": {},
   "outputs": [
    {
     "name": "stdout",
     "output_type": "stream",
     "text": [
      "CPU times: user 128 ms, sys: 464 ms, total: 592 ms\n",
      "Wall time: 21.3 s\n"
     ]
    }
   ],
   "source": [
    "%%time\n",
    "for var in ['precip', 'tmean', 'tmin', 'tmax']:\n",
    "    for model in ['HADGEM2-ES_O']:\n",
    "        for agg in [f'{perc}p' for perc in [90, 95, 99]]:\n",
    "            for seas in [None, 'JJAS', 'ON', 'DJF', 'MAM']:\n",
    "                try:\n",
    "                    aggregate(var, agg=agg, model=model, seas=seas)\n",
    "                except Exception:\n",
    "                    print(var, model, agg)\n"
   ]
  },
  {
   "cell_type": "code",
   "execution_count": 88,
   "metadata": {},
   "outputs": [
    {
     "name": "stdout",
     "output_type": "stream",
     "text": [
      "CPU times: user 44 ms, sys: 92 ms, total: 136 ms\n",
      "Wall time: 7.43 s\n"
     ]
    }
   ],
   "source": [
    "%%time\n",
    "for var in ['precip']:\n",
    "    for model in ['HADGEM2-ES_O']:\n",
    "        for agg in [f'{perc}pwetyday' for perc in [90, 95, 99]]:\n",
    "            for seas in [None, 'JJAS', 'ON', 'DJF', 'MAM']:\n",
    "                aggregate(var, agg=agg, model=model, seas=seas)\n"
   ]
  },
  {
   "cell_type": "code",
   "execution_count": 32,
   "metadata": {},
   "outputs": [
    {
     "name": "stdout",
     "output_type": "stream",
     "text": [
      "CPU times: user 20 ms, sys: 88 ms, total: 108 ms\n",
      "Wall time: 49.5 s\n"
     ]
    }
   ],
   "source": [
    "%%time\n",
    "for var in ['precip', 'tmean', 'tmin', 'tmax']:\n",
    "    for model in ['HADGEM2-ES', 'PRECIS', 'IMD']:\n",
    "        for agg in ['ydaymean']:\n",
    "            for seas in [None]:\n",
    "                aggregate(var, agg=agg, model=model, seas=seas, delete=True)\n"
   ]
  },
  {
   "cell_type": "code",
   "execution_count": 90,
   "metadata": {},
   "outputs": [
    {
     "name": "stdout",
     "output_type": "stream",
     "text": [
      "CPU times: user 12 ms, sys: 28 ms, total: 40 ms\n",
      "Wall time: 1.06 s\n"
     ]
    }
   ],
   "source": [
    "%%time\n",
    "for var in ['precip']:\n",
    "    for model in ['HADGEM2-ES_O']:\n",
    "        for agg in ['wetdayfreq', 'wetdayprecip']:\n",
    "            for seas in [None, 'JJAS']:\n",
    "                aggregate(var, agg, model, seas)\n",
    "            "
   ]
  },
  {
   "cell_type": "code",
   "execution_count": 176,
   "metadata": {},
   "outputs": [
    {
     "name": "stdout",
     "output_type": "stream",
     "text": [
      "CPU times: user 936 ms, sys: 3.15 s, total: 4.08 s\n",
      "Wall time: 3min 41s\n"
     ]
    }
   ],
   "source": [
    "%%time\n",
    "for var in ['precip']:\n",
    "    for model in ['HADGEM2-ES', 'PRECIS', 'IMD']:\n",
    "        for agg in [f'r{perc}p{method}' for perc in [90, 95, 99]\n",
    "                   for method in ['', 'tot']]:\n",
    "            for seas in [None]:\n",
    "                aggregate(var, agg, model, seas)"
   ]
  },
  {
   "cell_type": "code",
   "execution_count": 39,
   "metadata": {},
   "outputs": [],
   "source": [
    "def compare(agg, var, m1='HADGEM2-ES', m2='IMD', seas='Annual'):\n",
    "    outdir = f\"../data/{m1}_{m2}/{var}/{agg}\"\n",
    "    os.system(f\"mkdir -p {outdir}\")\n",
    "    outname = f'1971-2000_rm_ll25_{seas}_{agg}.nc'\n",
    "    \n",
    "    if agg == 'BIAS':\n",
    "        f1 = f\"../data/{m1}/{var}/timmean/1971-2000_rm_ll25_{seas}_timmean.nc\"\n",
    "        f2 = f\"../data/{m2}/{var}/timmean/1971-2000_rm_ll25_{seas}_timmean.nc\"\n",
    "        \n",
    "        \n",
    "        cdo.sub(input=f\"{f1} {f2}\",\n",
    "               output=f\"{outdir}/{outname}\")\n",
    "        \n",
    "    elif agg == 'RMSE' or agg == 'timcor':\n",
    "        \n",
    "        f1 = f\"../data/{m1}/{var}/monmean/1971-2000_rm_ll25_monmean.nc\"\n",
    "        f2 = f\"../data/{m2}/{var}/monmean/1971-2000_rm_ll25_monmean.nc\"        \n",
    "        \n",
    "        if seas != 'Annual':\n",
    "            f1 = f\"-yearmean -selseas,{seas} {f1}\"\n",
    "            f2 = f\"-yearmean -selseas,{seas} {f2}\"\n",
    "            \n",
    "        else:\n",
    "            f1 = f\"-yearmean {f1}\"\n",
    "            f2 = f\"-yearmean {f2}\"\n",
    "        \n",
    "        if agg == 'RMSE':\n",
    "            cmd = f\"-timmean -sqr -sub {f1} {f2}\"\n",
    "            cdo.sqrt(input=cmd,\n",
    "                    output=f\"{outdir}/{outname}\")\n",
    "            \n",
    "        elif agg == 'timcor':\n",
    "            cdo.timcor(input=f\"{f1} {f2}\",\n",
    "                      output=f\"{outdir}/{outname}\")\n",
    "            \n",
    "        \n",
    "            \n",
    "        \n",
    "        "
   ]
  },
  {
   "cell_type": "code",
   "execution_count": 40,
   "metadata": {},
   "outputs": [
    {
     "name": "stdout",
     "output_type": "stream",
     "text": [
      "CPU times: user 164 ms, sys: 728 ms, total: 892 ms\n",
      "Wall time: 7.15 s\n"
     ]
    }
   ],
   "source": [
    "%%time\n",
    "for model in ['HADGEM2-ES', 'PRECIS']:\n",
    "    for agg in ['BIAS', 'RMSE', 'timcor']:\n",
    "        for seas in ['Annual', 'JJAS', 'ON', 'DJF', 'MAM']:\n",
    "            for var in ['precip', 'tmean', 'tmax', 'tmin']:\n",
    "                \n",
    "                compare(agg, var, model, 'IMD', seas)"
   ]
  },
  {
   "cell_type": "code",
   "execution_count": null,
   "metadata": {},
   "outputs": [],
   "source": [
    "cdo.timcor()"
   ]
  }
 ],
 "metadata": {
  "kernelspec": {
   "display_name": "Python 3",
   "language": "python",
   "name": "python3"
  },
  "language_info": {
   "codemirror_mode": {
    "name": "ipython",
    "version": 3
   },
   "file_extension": ".py",
   "mimetype": "text/x-python",
   "name": "python",
   "nbconvert_exporter": "python",
   "pygments_lexer": "ipython3",
   "version": "3.6.7"
  },
  "toc": {
   "base_numbering": 1,
   "nav_menu": {},
   "number_sections": true,
   "sideBar": true,
   "skip_h1_title": false,
   "title_cell": "Table of Contents",
   "title_sidebar": "Contents",
   "toc_cell": false,
   "toc_position": {},
   "toc_section_display": true,
   "toc_window_display": false
  },
  "varInspector": {
   "cols": {
    "lenName": 16,
    "lenType": 16,
    "lenVar": 40
   },
   "kernels_config": {
    "python": {
     "delete_cmd_postfix": "",
     "delete_cmd_prefix": "del ",
     "library": "var_list.py",
     "varRefreshCmd": "print(var_dic_list())"
    },
    "r": {
     "delete_cmd_postfix": ") ",
     "delete_cmd_prefix": "rm(",
     "library": "var_list.r",
     "varRefreshCmd": "cat(var_dic_list()) "
    }
   },
   "types_to_exclude": [
    "module",
    "function",
    "builtin_function_or_method",
    "instance",
    "_Feature"
   ],
   "window_display": false
  }
 },
 "nbformat": 4,
 "nbformat_minor": 2
}
