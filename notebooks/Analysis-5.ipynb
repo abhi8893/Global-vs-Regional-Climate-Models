{
 "cells": [
  {
   "cell_type": "code",
   "execution_count": 11,
   "metadata": {},
   "outputs": [],
   "source": [
    "import xarray as xr\n",
    "import matplotlib.pyplot as plt\n",
    "import seaborn as sns\n",
    "import pandas as pd\n",
    "import numpy as np\n",
    "import salem\n",
    "from cdo import *\n",
    "from pathlib import Path\n",
    "from os import path, remove\n",
    "import sys\n",
    "import geopandas as gpd\n",
    "from cftime import Datetime360Day\n",
    "cdo = Cdo()\n",
    "sys.path.append(\"/home/abhi/Documents/mygit/postBC_diagnostic/src/scripts\")\n",
    "from recipes import *\n",
    "import _pickle as cpickle"
   ]
  },
  {
   "cell_type": "code",
   "execution_count": 120,
   "metadata": {},
   "outputs": [],
   "source": [
    "seasIndex = pd.Index(['Annual', \"JJAS\", \"ON\", \"DJF\", \"MAM\"], name='seas')"
   ]
  },
  {
   "cell_type": "code",
   "execution_count": 9,
   "metadata": {},
   "outputs": [],
   "source": [
    "shp = (gpd\n",
    "       .read_file('/home/abhi/Documents/data/shapefiles/India_climatic_correct/India_climatic_correct.shp'))\n",
    "\n",
    "shp = shp.loc[~shp.Region.str.startswith('Him'), :]"
   ]
  },
  {
   "cell_type": "code",
   "execution_count": 145,
   "metadata": {},
   "outputs": [],
   "source": [
    "def subsetbygdf(ds, gdf, region_col, apply_fldmean=True):\n",
    "    \n",
    "    regionIndex = gdf[region_col]\n",
    "    regionIndex.name = 'region'\n",
    "    if apply_fldmean:\n",
    "        return xr.concat([fldmean(ds.salem.roi(shape=gdf.loc[gdf.index == index], \n",
    "                                              all_touched=False))\n",
    "                         for index in gdf.index],\n",
    "                        dim=regionIndex)\n",
    "    \n",
    "    else: \n",
    "        pass"
   ]
  },
  {
   "cell_type": "code",
   "execution_count": 261,
   "metadata": {},
   "outputs": [],
   "source": [
    "def subsetbygdf_new(ds, gdf, region_col, apply_fldmean=True):\n",
    "    \n",
    "    regionIndex = gdf[region_col]\n",
    "    if apply_fldmean:\n",
    "        objs = [fldmean(ds.salem.roi(shape=gdf.loc[gdf.index == index], \n",
    "                                              all_touched=True))\n",
    "                         for index in gdf.index]\n",
    "        \n",
    "        regionIndex = pd.concat(\n",
    "            [regionIndex, pd.Series(['Core Monsoon', 'India'])], ignore_index=True)\n",
    "        regionIndex.name = 'region'\n",
    "        \n",
    "        objs.append(fldmean(sellonlatbox(ds, [73, 82, 18, 28])))\n",
    "        objs.append(fldmean(ds))\n",
    "        \n",
    "        return xr.concat(objs,\n",
    "                        dim=regionIndex)\n",
    "    \n",
    "    else: \n",
    "        pass"
   ]
  },
  {
   "cell_type": "markdown",
   "metadata": {},
   "source": [
    "### Zone wise statistics"
   ]
  },
  {
   "cell_type": "code",
   "execution_count": 146,
   "metadata": {},
   "outputs": [],
   "source": [
    "with open(\"../pickles/Analysis-3/combined_metric.pkl\", \"rb\") as f:\n",
    "    metric_ds = cpickle.load(f)"
   ]
  },
  {
   "cell_type": "code",
   "execution_count": 147,
   "metadata": {},
   "outputs": [],
   "source": [
    "metric_df = subsetbygdf(metric_ds, shp, 'Region').to_dataframe().reset_index()"
   ]
  },
  {
   "cell_type": "code",
   "execution_count": 262,
   "metadata": {},
   "outputs": [],
   "source": [
    "metric_df2 = subsetbygdf_new(metric_ds, shp, 'Region').to_dataframe().reset_index()"
   ]
  },
  {
   "cell_type": "code",
   "execution_count": 263,
   "metadata": {},
   "outputs": [
    {
     "data": {
      "text/html": [
       "<div>\n",
       "<style scoped>\n",
       "    .dataframe tbody tr th:only-of-type {\n",
       "        vertical-align: middle;\n",
       "    }\n",
       "\n",
       "    .dataframe tbody tr th {\n",
       "        vertical-align: top;\n",
       "    }\n",
       "\n",
       "    .dataframe thead th {\n",
       "        text-align: right;\n",
       "    }\n",
       "</style>\n",
       "<table border=\"1\" class=\"dataframe\">\n",
       "  <thead>\n",
       "    <tr style=\"text-align: right;\">\n",
       "      <th></th>\n",
       "      <th>metric</th>\n",
       "      <th>model</th>\n",
       "      <th>region</th>\n",
       "      <th>seas</th>\n",
       "      <th>var_name</th>\n",
       "      <th>VAR</th>\n",
       "    </tr>\n",
       "  </thead>\n",
       "  <tbody>\n",
       "    <tr>\n",
       "      <th>0</th>\n",
       "      <td>BIAS</td>\n",
       "      <td>PRECIS</td>\n",
       "      <td>Northern</td>\n",
       "      <td>Annual</td>\n",
       "      <td>precip</td>\n",
       "      <td>-0.389641</td>\n",
       "    </tr>\n",
       "    <tr>\n",
       "      <th>1</th>\n",
       "      <td>BIAS</td>\n",
       "      <td>PRECIS</td>\n",
       "      <td>Northern</td>\n",
       "      <td>Annual</td>\n",
       "      <td>tmax</td>\n",
       "      <td>-19.123909</td>\n",
       "    </tr>\n",
       "    <tr>\n",
       "      <th>2</th>\n",
       "      <td>BIAS</td>\n",
       "      <td>PRECIS</td>\n",
       "      <td>Northern</td>\n",
       "      <td>Annual</td>\n",
       "      <td>tmean</td>\n",
       "      <td>-20.120182</td>\n",
       "    </tr>\n",
       "    <tr>\n",
       "      <th>3</th>\n",
       "      <td>BIAS</td>\n",
       "      <td>PRECIS</td>\n",
       "      <td>Northern</td>\n",
       "      <td>Annual</td>\n",
       "      <td>tmin</td>\n",
       "      <td>-21.399990</td>\n",
       "    </tr>\n",
       "    <tr>\n",
       "      <th>4</th>\n",
       "      <td>BIAS</td>\n",
       "      <td>PRECIS</td>\n",
       "      <td>Northern</td>\n",
       "      <td>JJAS</td>\n",
       "      <td>precip</td>\n",
       "      <td>-1.083013</td>\n",
       "    </tr>\n",
       "  </tbody>\n",
       "</table>\n",
       "</div>"
      ],
      "text/plain": [
       "  metric   model    region    seas var_name        VAR\n",
       "0   BIAS  PRECIS  Northern  Annual   precip  -0.389641\n",
       "1   BIAS  PRECIS  Northern  Annual     tmax -19.123909\n",
       "2   BIAS  PRECIS  Northern  Annual    tmean -20.120182\n",
       "3   BIAS  PRECIS  Northern  Annual     tmin -21.399990\n",
       "4   BIAS  PRECIS  Northern    JJAS   precip  -1.083013"
      ]
     },
     "execution_count": 263,
     "metadata": {},
     "output_type": "execute_result"
    }
   ],
   "source": [
    "metric_df2.head()"
   ]
  },
  {
   "cell_type": "code",
   "execution_count": 281,
   "metadata": {},
   "outputs": [],
   "source": [
    "def sel_df(metric, seas, var, omit_region=None):\n",
    "    df = metric_df2.loc[((metric_df2.metric == metric) & \n",
    "               (metric_df2.seas == seas) &\n",
    "               (metric_df2.var_name == var)), :]\n",
    "    \n",
    "    \n",
    "    return df.drop(df[np.isin(df.region, omit_region)].index)"
   ]
  },
  {
   "cell_type": "code",
   "execution_count": 210,
   "metadata": {},
   "outputs": [],
   "source": [
    "seas = 'Annual'\n",
    "var = 'precip'"
   ]
  },
  {
   "cell_type": "code",
   "execution_count": 219,
   "metadata": {},
   "outputs": [
    {
     "data": {
      "text/plain": [
       "([<BarContainer object of 6 artists>, <BarContainer object of 6 artists>],\n",
       " ['PRECIS', 'HADGEM2-ES'])"
      ]
     },
     "execution_count": 219,
     "metadata": {},
     "output_type": "execute_result"
    }
   ],
   "source": [
    "ax.get_legend_handles_labels()"
   ]
  },
  {
   "cell_type": "code",
   "execution_count": null,
   "metadata": {},
   "outputs": [],
   "source": [
    "fig.sub"
   ]
  },
  {
   "cell_type": "code",
   "execution_count": 288,
   "metadata": {},
   "outputs": [],
   "source": [
    "\n",
    "def BIAS_RMSE_plot(var, seas, savefig=False):\n",
    "    fig, axn = plt.subplots(2, 1, figsize=(12, 8))\n",
    "    if var == 'precip':\n",
    "        units = 'mm $d^{-1}$'\n",
    "    else:\n",
    "        units = \"$^\\circ$C\"\n",
    "    \n",
    "    for ax, metric in zip(axn, ['BIAS', 'RMSE']):\n",
    "        df = sel_df(metric, seas, var, omit_region=['Northern', 'India'])\n",
    "\n",
    "        sns.barplot(x='region', y='VAR', hue='model', data=df, ax=ax,\n",
    "                   palette=['steelblue', 'crimson'])\n",
    "        \n",
    "        ax.set_ylabel(f\"{metric} ({units})\", fontweight='bold')\n",
    "        handles, labels = ax.get_legend_handles_labels()\n",
    "    #     ax.legend_.remove()\n",
    "\n",
    "    # fig.legend(handles=handles, labels=labels, loc='center right',\n",
    "    #           bbox_to_anchor=[0.9, 0.5])\n",
    "\n",
    "    titles = {'precip': 'Precipitation',\n",
    "             'tmean': 'Mean Temperature',\n",
    "             'tmax': 'Max Temperature',\n",
    "             'tmin': 'Min Temperature'}\n",
    "\n",
    "    fig.suptitle(f\"{titles[var]} ({seas} mean)\", fontweight='bold', fontsize=15)\n",
    "    fig.subplots_adjust(top=0.92)\n",
    "    \n",
    "    if savefig:\n",
    "        outdir=f'../plots/compare/{var}/regionwise'\n",
    "        os.system(f'mkdir -p {outdir}')\n",
    "        fig.savefig(f'{outdir}/BIAS_RMSE_{seas}_PRECIS_HADGEM2-ES.png', dpi=400, \n",
    "                   bbox_inches='tight')\n",
    "        plt.close(fig)\n",
    "        "
   ]
  },
  {
   "cell_type": "code",
   "execution_count": 289,
   "metadata": {},
   "outputs": [
    {
     "data": {
      "image/png": "[encoded data removed]",
      "text/plain": [
       "<Figure size 864x576 with 2 Axes>"
      ]
     },
     "metadata": {
      "needs_background": "light"
     },
     "output_type": "display_data"
    }
   ],
   "source": [
    "check_df = BIAS_RMSE_plot('precip', 'Annual', False)"
   ]
  },
  {
   "cell_type": "code",
   "execution_count": 280,
   "metadata": {},
   "outputs": [
    {
     "data": {
      "text/html": [
       "<div>\n",
       "<style scoped>\n",
       "    .dataframe tbody tr th:only-of-type {\n",
       "        vertical-align: middle;\n",
       "    }\n",
       "\n",
       "    .dataframe tbody tr th {\n",
       "        vertical-align: top;\n",
       "    }\n",
       "\n",
       "    .dataframe thead th {\n",
       "        text-align: right;\n",
       "    }\n",
       "</style>\n",
       "<table border=\"1\" class=\"dataframe\">\n",
       "  <thead>\n",
       "    <tr style=\"text-align: right;\">\n",
       "      <th></th>\n",
       "      <th>metric</th>\n",
       "      <th>model</th>\n",
       "      <th>region</th>\n",
       "      <th>seas</th>\n",
       "      <th>var_name</th>\n",
       "      <th>VAR</th>\n",
       "    </tr>\n",
       "  </thead>\n",
       "  <tbody>\n",
       "    <tr>\n",
       "      <th>741</th>\n",
       "      <td>RMSE</td>\n",
       "      <td>PRECIS</td>\n",
       "      <td>North East</td>\n",
       "      <td>Annual</td>\n",
       "      <td>tmax</td>\n",
       "      <td>5.153548</td>\n",
       "    </tr>\n",
       "    <tr>\n",
       "      <th>761</th>\n",
       "      <td>RMSE</td>\n",
       "      <td>PRECIS</td>\n",
       "      <td>North West</td>\n",
       "      <td>Annual</td>\n",
       "      <td>tmax</td>\n",
       "      <td>2.297281</td>\n",
       "    </tr>\n",
       "    <tr>\n",
       "      <th>781</th>\n",
       "      <td>RMSE</td>\n",
       "      <td>PRECIS</td>\n",
       "      <td>Central</td>\n",
       "      <td>Annual</td>\n",
       "      <td>tmax</td>\n",
       "      <td>2.159356</td>\n",
       "    </tr>\n",
       "    <tr>\n",
       "      <th>801</th>\n",
       "      <td>RMSE</td>\n",
       "      <td>PRECIS</td>\n",
       "      <td>Inner Peninsular</td>\n",
       "      <td>Annual</td>\n",
       "      <td>tmax</td>\n",
       "      <td>1.435472</td>\n",
       "    </tr>\n",
       "    <tr>\n",
       "      <th>821</th>\n",
       "      <td>RMSE</td>\n",
       "      <td>PRECIS</td>\n",
       "      <td>West Coast</td>\n",
       "      <td>Annual</td>\n",
       "      <td>tmax</td>\n",
       "      <td>1.456707</td>\n",
       "    </tr>\n",
       "    <tr>\n",
       "      <th>841</th>\n",
       "      <td>RMSE</td>\n",
       "      <td>PRECIS</td>\n",
       "      <td>East Coast</td>\n",
       "      <td>Annual</td>\n",
       "      <td>tmax</td>\n",
       "      <td>2.124007</td>\n",
       "    </tr>\n",
       "    <tr>\n",
       "      <th>861</th>\n",
       "      <td>RMSE</td>\n",
       "      <td>PRECIS</td>\n",
       "      <td>Core Monsoon</td>\n",
       "      <td>Annual</td>\n",
       "      <td>tmax</td>\n",
       "      <td>1.206601</td>\n",
       "    </tr>\n",
       "    <tr>\n",
       "      <th>881</th>\n",
       "      <td>RMSE</td>\n",
       "      <td>PRECIS</td>\n",
       "      <td>India</td>\n",
       "      <td>Annual</td>\n",
       "      <td>tmax</td>\n",
       "      <td>3.806705</td>\n",
       "    </tr>\n",
       "    <tr>\n",
       "      <th>921</th>\n",
       "      <td>RMSE</td>\n",
       "      <td>HADGEM2-ES</td>\n",
       "      <td>North East</td>\n",
       "      <td>Annual</td>\n",
       "      <td>tmax</td>\n",
       "      <td>8.743814</td>\n",
       "    </tr>\n",
       "    <tr>\n",
       "      <th>941</th>\n",
       "      <td>RMSE</td>\n",
       "      <td>HADGEM2-ES</td>\n",
       "      <td>North West</td>\n",
       "      <td>Annual</td>\n",
       "      <td>tmax</td>\n",
       "      <td>4.842936</td>\n",
       "    </tr>\n",
       "    <tr>\n",
       "      <th>961</th>\n",
       "      <td>RMSE</td>\n",
       "      <td>HADGEM2-ES</td>\n",
       "      <td>Central</td>\n",
       "      <td>Annual</td>\n",
       "      <td>tmax</td>\n",
       "      <td>4.856572</td>\n",
       "    </tr>\n",
       "    <tr>\n",
       "      <th>981</th>\n",
       "      <td>RMSE</td>\n",
       "      <td>HADGEM2-ES</td>\n",
       "      <td>Inner Peninsular</td>\n",
       "      <td>Annual</td>\n",
       "      <td>tmax</td>\n",
       "      <td>2.452505</td>\n",
       "    </tr>\n",
       "    <tr>\n",
       "      <th>1001</th>\n",
       "      <td>RMSE</td>\n",
       "      <td>HADGEM2-ES</td>\n",
       "      <td>West Coast</td>\n",
       "      <td>Annual</td>\n",
       "      <td>tmax</td>\n",
       "      <td>2.801540</td>\n",
       "    </tr>\n",
       "    <tr>\n",
       "      <th>1021</th>\n",
       "      <td>RMSE</td>\n",
       "      <td>HADGEM2-ES</td>\n",
       "      <td>East Coast</td>\n",
       "      <td>Annual</td>\n",
       "      <td>tmax</td>\n",
       "      <td>3.334471</td>\n",
       "    </tr>\n",
       "    <tr>\n",
       "      <th>1041</th>\n",
       "      <td>RMSE</td>\n",
       "      <td>HADGEM2-ES</td>\n",
       "      <td>Core Monsoon</td>\n",
       "      <td>Annual</td>\n",
       "      <td>tmax</td>\n",
       "      <td>2.814381</td>\n",
       "    </tr>\n",
       "    <tr>\n",
       "      <th>1061</th>\n",
       "      <td>RMSE</td>\n",
       "      <td>HADGEM2-ES</td>\n",
       "      <td>India</td>\n",
       "      <td>Annual</td>\n",
       "      <td>tmax</td>\n",
       "      <td>inf</td>\n",
       "    </tr>\n",
       "  </tbody>\n",
       "</table>\n",
       "</div>"
      ],
      "text/plain": [
       "     metric       model            region    seas var_name       VAR\n",
       "741    RMSE      PRECIS        North East  Annual     tmax  5.153548\n",
       "761    RMSE      PRECIS        North West  Annual     tmax  2.297281\n",
       "781    RMSE      PRECIS           Central  Annual     tmax  2.159356\n",
       "801    RMSE      PRECIS  Inner Peninsular  Annual     tmax  1.435472\n",
       "821    RMSE      PRECIS        West Coast  Annual     tmax  1.456707\n",
       "841    RMSE      PRECIS        East Coast  Annual     tmax  2.124007\n",
       "861    RMSE      PRECIS      Core Monsoon  Annual     tmax  1.206601\n",
       "881    RMSE      PRECIS             India  Annual     tmax  3.806705\n",
       "921    RMSE  HADGEM2-ES        North East  Annual     tmax  8.743814\n",
       "941    RMSE  HADGEM2-ES        North West  Annual     tmax  4.842936\n",
       "961    RMSE  HADGEM2-ES           Central  Annual     tmax  4.856572\n",
       "981    RMSE  HADGEM2-ES  Inner Peninsular  Annual     tmax  2.452505\n",
       "1001   RMSE  HADGEM2-ES        West Coast  Annual     tmax  2.801540\n",
       "1021   RMSE  HADGEM2-ES        East Coast  Annual     tmax  3.334471\n",
       "1041   RMSE  HADGEM2-ES      Core Monsoon  Annual     tmax  2.814381\n",
       "1061   RMSE  HADGEM2-ES             India  Annual     tmax       inf"
      ]
     },
     "execution_count": 280,
     "metadata": {},
     "output_type": "execute_result"
    }
   ],
   "source": [
    "check_df"
   ]
  },
  {
   "cell_type": "code",
   "execution_count": 290,
   "metadata": {},
   "outputs": [],
   "source": [
    "for var in ['precip']:\n",
    "    for seas in ['Annual', 'JJAS', 'ON', 'DJF', 'MAM']:\n",
    "        BIAS_RMSE_plot(var, seas, savefig=True)"
   ]
  },
  {
   "cell_type": "code",
   "execution_count": 216,
   "metadata": {},
   "outputs": [],
   "source": [
    "ax.legend_.remove()"
   ]
  },
  {
   "cell_type": "code",
   "execution_count": 54,
   "metadata": {},
   "outputs": [],
   "source": [
    "with open(\"../pickles/Analysis-3/combined_ymean.pkl\", \"rb\") as f:\n",
    "    combined_ymean = cpickle.load(f)"
   ]
  },
  {
   "cell_type": "code",
   "execution_count": 56,
   "metadata": {},
   "outputs": [
    {
     "name": "stderr",
     "output_type": "stream",
     "text": [
      "/home/abhi/miniconda3/lib/python3.6/site-packages/xarray/core/nanops.py:161: RuntimeWarning: Mean of empty slice\n",
      "  return np.nanmean(a, axis=axis, dtype=dtype)\n",
      "/home/abhi/miniconda3/lib/python3.6/site-packages/xarray/core/nanops.py:161: RuntimeWarning: Mean of empty slice\n",
      "  return np.nanmean(a, axis=axis, dtype=dtype)\n",
      "/home/abhi/miniconda3/lib/python3.6/site-packages/xarray/core/nanops.py:161: RuntimeWarning: Mean of empty slice\n",
      "  return np.nanmean(a, axis=axis, dtype=dtype)\n",
      "/home/abhi/miniconda3/lib/python3.6/site-packages/xarray/core/nanops.py:161: RuntimeWarning: Mean of empty slice\n",
      "  return np.nanmean(a, axis=axis, dtype=dtype)\n",
      "/home/abhi/miniconda3/lib/python3.6/site-packages/xarray/core/nanops.py:161: RuntimeWarning: Mean of empty slice\n",
      "  return np.nanmean(a, axis=axis, dtype=dtype)\n",
      "/home/abhi/miniconda3/lib/python3.6/site-packages/xarray/core/nanops.py:161: RuntimeWarning: Mean of empty slice\n",
      "  return np.nanmean(a, axis=axis, dtype=dtype)\n"
     ]
    },
    {
     "name": "stdout",
     "output_type": "stream",
     "text": [
      "CPU times: user 1.84 s, sys: 444 ms, total: 2.28 s\n",
      "Wall time: 2.27 s\n"
     ]
    },
    {
     "name": "stderr",
     "output_type": "stream",
     "text": [
      "/home/abhi/miniconda3/lib/python3.6/site-packages/xarray/core/nanops.py:161: RuntimeWarning: Mean of empty slice\n",
      "  return np.nanmean(a, axis=axis, dtype=dtype)\n"
     ]
    }
   ],
   "source": [
    "%%time\n",
    "combined_region = subsetbygdf(combined_ymean, shp, \"Region\")"
   ]
  },
  {
   "cell_type": "code",
   "execution_count": 58,
   "metadata": {},
   "outputs": [],
   "source": [
    "DIFF = combined_region.sel(model=['PRECIS', 'HADGEM2-ES']).precip - combined_region.sel(model='IMD')"
   ]
  },
  {
   "cell_type": "code",
   "execution_count": 80,
   "metadata": {},
   "outputs": [],
   "source": [
    "STD = combined_region.std(dim=\"year\")"
   ]
  },
  {
   "cell_type": "code",
   "execution_count": 84,
   "metadata": {},
   "outputs": [
    {
     "data": {
      "text/plain": [
       "<xarray.Dataset>\n",
       "Dimensions:   (model: 3, region: 7, seas: 5)\n",
       "Coordinates:\n",
       "  * model     (model) object 'IMD' 'PRECIS' 'HADGEM2-ES'\n",
       "    var_name  <U6 'precip'\n",
       "  * seas      (seas) object 'Annual' 'JJAS' 'ON' 'DJF' 'MAM'\n",
       "  * region    (region) object 'Northern' 'North East' ... 'East Coast'\n",
       "Data variables:\n",
       "    precip    (region, seas, model) float32 0.7070233 0.27101824 ... 0.22083855"
      ]
     },
     "execution_count": 84,
     "metadata": {},
     "output_type": "execute_result"
    }
   ],
   "source": [
    "STD.sel(var_name='precip')"
   ]
  },
  {
   "cell_type": "code",
   "execution_count": 60,
   "metadata": {},
   "outputs": [],
   "source": [
    "RMSE = (DIFF**2).mean(dim=\"year\")**(1/2)"
   ]
  },
  {
   "cell_type": "code",
   "execution_count": 62,
   "metadata": {},
   "outputs": [],
   "source": [
    "RMSE_df = RMSE.rename({'precip': 'VAR'}).to_dataframe().reset_index()"
   ]
  },
  {
   "cell_type": "code",
   "execution_count": 66,
   "metadata": {},
   "outputs": [
    {
     "data": {
      "text/html": [
       "<div>\n",
       "<style scoped>\n",
       "    .dataframe tbody tr th:only-of-type {\n",
       "        vertical-align: middle;\n",
       "    }\n",
       "\n",
       "    .dataframe tbody tr th {\n",
       "        vertical-align: top;\n",
       "    }\n",
       "\n",
       "    .dataframe thead th {\n",
       "        text-align: right;\n",
       "    }\n",
       "</style>\n",
       "<table border=\"1\" class=\"dataframe\">\n",
       "  <thead>\n",
       "    <tr style=\"text-align: right;\">\n",
       "      <th></th>\n",
       "      <th>model</th>\n",
       "      <th>region</th>\n",
       "      <th>seas</th>\n",
       "      <th>var_name</th>\n",
       "      <th>VAR</th>\n",
       "    </tr>\n",
       "  </thead>\n",
       "  <tbody>\n",
       "    <tr>\n",
       "      <th>0</th>\n",
       "      <td>PRECIS</td>\n",
       "      <td>Northern</td>\n",
       "      <td>Annual</td>\n",
       "      <td>precip</td>\n",
       "      <td>0.883274</td>\n",
       "    </tr>\n",
       "    <tr>\n",
       "      <th>1</th>\n",
       "      <td>PRECIS</td>\n",
       "      <td>Northern</td>\n",
       "      <td>Annual</td>\n",
       "      <td>tmax</td>\n",
       "      <td>19.440651</td>\n",
       "    </tr>\n",
       "    <tr>\n",
       "      <th>2</th>\n",
       "      <td>PRECIS</td>\n",
       "      <td>Northern</td>\n",
       "      <td>Annual</td>\n",
       "      <td>tmean</td>\n",
       "      <td>20.494207</td>\n",
       "    </tr>\n",
       "    <tr>\n",
       "      <th>3</th>\n",
       "      <td>PRECIS</td>\n",
       "      <td>Northern</td>\n",
       "      <td>Annual</td>\n",
       "      <td>tmin</td>\n",
       "      <td>21.860113</td>\n",
       "    </tr>\n",
       "    <tr>\n",
       "      <th>4</th>\n",
       "      <td>PRECIS</td>\n",
       "      <td>Northern</td>\n",
       "      <td>JJAS</td>\n",
       "      <td>precip</td>\n",
       "      <td>1.526380</td>\n",
       "    </tr>\n",
       "  </tbody>\n",
       "</table>\n",
       "</div>"
      ],
      "text/plain": [
       "    model    region    seas var_name        VAR\n",
       "0  PRECIS  Northern  Annual   precip   0.883274\n",
       "1  PRECIS  Northern  Annual     tmax  19.440651\n",
       "2  PRECIS  Northern  Annual    tmean  20.494207\n",
       "3  PRECIS  Northern  Annual     tmin  21.860113\n",
       "4  PRECIS  Northern    JJAS   precip   1.526380"
      ]
     },
     "execution_count": 66,
     "metadata": {},
     "output_type": "execute_result"
    }
   ],
   "source": [
    "RMSE_df.head()"
   ]
  },
  {
   "cell_type": "code",
   "execution_count": 161,
   "metadata": {},
   "outputs": [],
   "source": [
    "df = RMSE_df.loc[(\n",
    "               (RMSE_df.seas == 'JJAS') &\n",
    "               (RMSE_df.var_name == 'precip')), :]"
   ]
  },
  {
   "cell_type": "code",
   "execution_count": 177,
   "metadata": {},
   "outputs": [
    {
     "data": {
      "text/html": [
       "<div>\n",
       "<style scoped>\n",
       "    .dataframe tbody tr th:only-of-type {\n",
       "        vertical-align: middle;\n",
       "    }\n",
       "\n",
       "    .dataframe tbody tr th {\n",
       "        vertical-align: top;\n",
       "    }\n",
       "\n",
       "    .dataframe thead th {\n",
       "        text-align: right;\n",
       "    }\n",
       "</style>\n",
       "<table border=\"1\" class=\"dataframe\">\n",
       "  <thead>\n",
       "    <tr style=\"text-align: right;\">\n",
       "      <th></th>\n",
       "      <th>metric</th>\n",
       "      <th>model</th>\n",
       "      <th>region</th>\n",
       "      <th>seas</th>\n",
       "      <th>var_name</th>\n",
       "      <th>VAR</th>\n",
       "    </tr>\n",
       "  </thead>\n",
       "  <tbody>\n",
       "    <tr>\n",
       "      <th>4</th>\n",
       "      <td>BIAS</td>\n",
       "      <td>PRECIS</td>\n",
       "      <td>Northern</td>\n",
       "      <td>JJAS</td>\n",
       "      <td>precip</td>\n",
       "      <td>-1.037665</td>\n",
       "    </tr>\n",
       "    <tr>\n",
       "      <th>24</th>\n",
       "      <td>BIAS</td>\n",
       "      <td>PRECIS</td>\n",
       "      <td>North East</td>\n",
       "      <td>JJAS</td>\n",
       "      <td>precip</td>\n",
       "      <td>-3.214499</td>\n",
       "    </tr>\n",
       "    <tr>\n",
       "      <th>44</th>\n",
       "      <td>BIAS</td>\n",
       "      <td>PRECIS</td>\n",
       "      <td>North West</td>\n",
       "      <td>JJAS</td>\n",
       "      <td>precip</td>\n",
       "      <td>-2.683694</td>\n",
       "    </tr>\n",
       "    <tr>\n",
       "      <th>64</th>\n",
       "      <td>BIAS</td>\n",
       "      <td>PRECIS</td>\n",
       "      <td>Central</td>\n",
       "      <td>JJAS</td>\n",
       "      <td>precip</td>\n",
       "      <td>-3.526839</td>\n",
       "    </tr>\n",
       "    <tr>\n",
       "      <th>84</th>\n",
       "      <td>BIAS</td>\n",
       "      <td>PRECIS</td>\n",
       "      <td>Inner Peninsular</td>\n",
       "      <td>JJAS</td>\n",
       "      <td>precip</td>\n",
       "      <td>-2.612891</td>\n",
       "    </tr>\n",
       "    <tr>\n",
       "      <th>104</th>\n",
       "      <td>BIAS</td>\n",
       "      <td>PRECIS</td>\n",
       "      <td>West Coast</td>\n",
       "      <td>JJAS</td>\n",
       "      <td>precip</td>\n",
       "      <td>-5.076844</td>\n",
       "    </tr>\n",
       "    <tr>\n",
       "      <th>124</th>\n",
       "      <td>BIAS</td>\n",
       "      <td>PRECIS</td>\n",
       "      <td>East Coast</td>\n",
       "      <td>JJAS</td>\n",
       "      <td>precip</td>\n",
       "      <td>-1.676706</td>\n",
       "    </tr>\n",
       "    <tr>\n",
       "      <th>144</th>\n",
       "      <td>BIAS</td>\n",
       "      <td>HADGEM2-ES</td>\n",
       "      <td>Northern</td>\n",
       "      <td>JJAS</td>\n",
       "      <td>precip</td>\n",
       "      <td>0.312124</td>\n",
       "    </tr>\n",
       "    <tr>\n",
       "      <th>164</th>\n",
       "      <td>BIAS</td>\n",
       "      <td>HADGEM2-ES</td>\n",
       "      <td>North East</td>\n",
       "      <td>JJAS</td>\n",
       "      <td>precip</td>\n",
       "      <td>-0.322936</td>\n",
       "    </tr>\n",
       "    <tr>\n",
       "      <th>184</th>\n",
       "      <td>BIAS</td>\n",
       "      <td>HADGEM2-ES</td>\n",
       "      <td>North West</td>\n",
       "      <td>JJAS</td>\n",
       "      <td>precip</td>\n",
       "      <td>-2.319284</td>\n",
       "    </tr>\n",
       "    <tr>\n",
       "      <th>204</th>\n",
       "      <td>BIAS</td>\n",
       "      <td>HADGEM2-ES</td>\n",
       "      <td>Central</td>\n",
       "      <td>JJAS</td>\n",
       "      <td>precip</td>\n",
       "      <td>-2.916901</td>\n",
       "    </tr>\n",
       "    <tr>\n",
       "      <th>224</th>\n",
       "      <td>BIAS</td>\n",
       "      <td>HADGEM2-ES</td>\n",
       "      <td>Inner Peninsular</td>\n",
       "      <td>JJAS</td>\n",
       "      <td>precip</td>\n",
       "      <td>-4.278799</td>\n",
       "    </tr>\n",
       "    <tr>\n",
       "      <th>244</th>\n",
       "      <td>BIAS</td>\n",
       "      <td>HADGEM2-ES</td>\n",
       "      <td>West Coast</td>\n",
       "      <td>JJAS</td>\n",
       "      <td>precip</td>\n",
       "      <td>-7.752339</td>\n",
       "    </tr>\n",
       "    <tr>\n",
       "      <th>264</th>\n",
       "      <td>BIAS</td>\n",
       "      <td>HADGEM2-ES</td>\n",
       "      <td>East Coast</td>\n",
       "      <td>JJAS</td>\n",
       "      <td>precip</td>\n",
       "      <td>-3.403636</td>\n",
       "    </tr>\n",
       "  </tbody>\n",
       "</table>\n",
       "</div>"
      ],
      "text/plain": [
       "    metric       model            region  seas var_name       VAR\n",
       "4     BIAS      PRECIS          Northern  JJAS   precip -1.037665\n",
       "24    BIAS      PRECIS        North East  JJAS   precip -3.214499\n",
       "44    BIAS      PRECIS        North West  JJAS   precip -2.683694\n",
       "64    BIAS      PRECIS           Central  JJAS   precip -3.526839\n",
       "84    BIAS      PRECIS  Inner Peninsular  JJAS   precip -2.612891\n",
       "104   BIAS      PRECIS        West Coast  JJAS   precip -5.076844\n",
       "124   BIAS      PRECIS        East Coast  JJAS   precip -1.676706\n",
       "144   BIAS  HADGEM2-ES          Northern  JJAS   precip  0.312124\n",
       "164   BIAS  HADGEM2-ES        North East  JJAS   precip -0.322936\n",
       "184   BIAS  HADGEM2-ES        North West  JJAS   precip -2.319284\n",
       "204   BIAS  HADGEM2-ES           Central  JJAS   precip -2.916901\n",
       "224   BIAS  HADGEM2-ES  Inner Peninsular  JJAS   precip -4.278799\n",
       "244   BIAS  HADGEM2-ES        West Coast  JJAS   precip -7.752339\n",
       "264   BIAS  HADGEM2-ES        East Coast  JJAS   precip -3.403636"
      ]
     },
     "execution_count": 177,
     "metadata": {},
     "output_type": "execute_result"
    }
   ],
   "source": [
    "df"
   ]
  },
  {
   "cell_type": "code",
   "execution_count": 258,
   "metadata": {},
   "outputs": [
    {
     "data": {
      "text/plain": [
       "<matplotlib.axes._subplots.AxesSubplot at 0x7ff87ba779b0>"
      ]
     },
     "execution_count": 258,
     "metadata": {},
     "output_type": "execute_result"
    },
    {
     "data": {
      "image/png": "[encoded data removed]",
      "text/plain": [
       "<Figure size 864x576 with 2 Axes>"
      ]
     },
     "metadata": {
      "needs_background": "light"
     },
     "output_type": "display_data"
    }
   ],
   "source": [
    "fig, axn = plt.subplots(2, 1, figsize=(12, 8))\n",
    "sns.barplot(x='region', y='VAR', hue='model', data=df, ax=axn[0], palette=['steelblue',\n",
    "                                                                         'crimson'])"
   ]
  },
  {
   "cell_type": "code",
   "execution_count": 251,
   "metadata": {},
   "outputs": [],
   "source": [
    "ax= axn[0]"
   ]
  },
  {
   "cell_type": "code",
   "execution_count": 254,
   "metadata": {},
   "outputs": [
    {
     "data": {
      "text/plain": [
       "[<BarContainer object of 6 artists>, <BarContainer object of 6 artists>]"
      ]
     },
     "execution_count": 254,
     "metadata": {},
     "output_type": "execute_result"
    }
   ],
   "source": [
    "ax.get_legend_handles_labels()[0]"
   ]
  },
  {
   "cell_type": "code",
   "execution_count": 114,
   "metadata": {},
   "outputs": [],
   "source": [
    "gcm_o = xr.open_dataset('/home/abhi/Documents/mygit/GCM_RCM/data/HADGEM2-ES_O/precip/monmean/1971-2000_rm_ll25_monmean.nc')\n",
    "gcm_o_fldmean = subsetbygdf(gcm_o, shp, 'Region')"
   ]
  },
  {
   "cell_type": "code",
   "execution_count": 115,
   "metadata": {},
   "outputs": [],
   "source": [
    "gcm = xr.open_dataset('/home/abhi/Documents/mygit/GCM_RCM/data/HADGEM2-ES/precip/monmean/1971-2000_rm_ll25_monmean.nc')\n",
    "gcm_fldmean = subsetbygdf(gcm, shp, 'Region')"
   ]
  },
  {
   "cell_type": "code",
   "execution_count": 125,
   "metadata": {},
   "outputs": [],
   "source": [
    "diff_int = (gcm_fldmean - gcm_o_fldmean/(gcm_o_fldmean))*100"
   ]
  },
  {
   "cell_type": "code",
   "execution_count": 126,
   "metadata": {},
   "outputs": [],
   "source": [
    "meandiff_int = xr.concat([timmean(diff_int)]+[timmean(selseas(diff_int, seas)) \n",
    "                               for seas in seasIndex[1:]],\n",
    "                         dim=seasIndex)"
   ]
  },
  {
   "cell_type": "code",
   "execution_count": 127,
   "metadata": {},
   "outputs": [],
   "source": [
    "df = meandiff_int.pr.to_dataframe()"
   ]
  },
  {
   "cell_type": "code",
   "execution_count": 128,
   "metadata": {},
   "outputs": [
    {
     "data": {
      "text/html": [
       "<div>\n",
       "<style scoped>\n",
       "    .dataframe tbody tr th:only-of-type {\n",
       "        vertical-align: middle;\n",
       "    }\n",
       "\n",
       "    .dataframe tbody tr th {\n",
       "        vertical-align: top;\n",
       "    }\n",
       "\n",
       "    .dataframe thead th {\n",
       "        text-align: right;\n",
       "    }\n",
       "</style>\n",
       "<table border=\"1\" class=\"dataframe\">\n",
       "  <thead>\n",
       "    <tr style=\"text-align: right;\">\n",
       "      <th></th>\n",
       "      <th></th>\n",
       "      <th>pr</th>\n",
       "    </tr>\n",
       "    <tr>\n",
       "      <th>seas</th>\n",
       "      <th>region</th>\n",
       "      <th></th>\n",
       "    </tr>\n",
       "  </thead>\n",
       "  <tbody>\n",
       "    <tr>\n",
       "      <th rowspan=\"7\" valign=\"top\">Annual</th>\n",
       "      <th>Northern</th>\n",
       "      <td>188.758530</td>\n",
       "    </tr>\n",
       "    <tr>\n",
       "      <th>North East</th>\n",
       "      <td>480.653748</td>\n",
       "    </tr>\n",
       "    <tr>\n",
       "      <th>North West</th>\n",
       "      <td>4.550075</td>\n",
       "    </tr>\n",
       "    <tr>\n",
       "      <th>Central</th>\n",
       "      <td>124.560501</td>\n",
       "    </tr>\n",
       "    <tr>\n",
       "      <th>Inner Peninsular</th>\n",
       "      <td>-13.961176</td>\n",
       "    </tr>\n",
       "    <tr>\n",
       "      <th>West Coast</th>\n",
       "      <td>-0.040242</td>\n",
       "    </tr>\n",
       "    <tr>\n",
       "      <th>East Coast</th>\n",
       "      <td>34.280876</td>\n",
       "    </tr>\n",
       "    <tr>\n",
       "      <th rowspan=\"7\" valign=\"top\">JJAS</th>\n",
       "      <th>Northern</th>\n",
       "      <td>239.121674</td>\n",
       "    </tr>\n",
       "    <tr>\n",
       "      <th>North East</th>\n",
       "      <td>1057.631470</td>\n",
       "    </tr>\n",
       "    <tr>\n",
       "      <th>North West</th>\n",
       "      <td>44.389236</td>\n",
       "    </tr>\n",
       "    <tr>\n",
       "      <th>Central</th>\n",
       "      <td>381.338776</td>\n",
       "    </tr>\n",
       "    <tr>\n",
       "      <th>Inner Peninsular</th>\n",
       "      <td>83.627525</td>\n",
       "    </tr>\n",
       "    <tr>\n",
       "      <th>West Coast</th>\n",
       "      <td>136.203400</td>\n",
       "    </tr>\n",
       "    <tr>\n",
       "      <th>East Coast</th>\n",
       "      <td>165.504379</td>\n",
       "    </tr>\n",
       "    <tr>\n",
       "      <th rowspan=\"7\" valign=\"top\">ON</th>\n",
       "      <th>Northern</th>\n",
       "      <td>88.284157</td>\n",
       "    </tr>\n",
       "    <tr>\n",
       "      <th>North East</th>\n",
       "      <td>33.137287</td>\n",
       "    </tr>\n",
       "    <tr>\n",
       "      <th>North West</th>\n",
       "      <td>-47.771282</td>\n",
       "    </tr>\n",
       "    <tr>\n",
       "      <th>Central</th>\n",
       "      <td>-39.533859</td>\n",
       "    </tr>\n",
       "    <tr>\n",
       "      <th>Inner Peninsular</th>\n",
       "      <td>-40.534012</td>\n",
       "    </tr>\n",
       "    <tr>\n",
       "      <th>West Coast</th>\n",
       "      <td>-25.645426</td>\n",
       "    </tr>\n",
       "    <tr>\n",
       "      <th>East Coast</th>\n",
       "      <td>13.170392</td>\n",
       "    </tr>\n",
       "    <tr>\n",
       "      <th rowspan=\"7\" valign=\"top\">DJF</th>\n",
       "      <th>Northern</th>\n",
       "      <td>75.395592</td>\n",
       "    </tr>\n",
       "    <tr>\n",
       "      <th>North East</th>\n",
       "      <td>46.780849</td>\n",
       "    </tr>\n",
       "    <tr>\n",
       "      <th>North West</th>\n",
       "      <td>-14.421765</td>\n",
       "    </tr>\n",
       "    <tr>\n",
       "      <th>Central</th>\n",
       "      <td>9.693046</td>\n",
       "    </tr>\n",
       "    <tr>\n",
       "      <th>Inner Peninsular</th>\n",
       "      <td>-63.259159</td>\n",
       "    </tr>\n",
       "    <tr>\n",
       "      <th>West Coast</th>\n",
       "      <td>-77.970352</td>\n",
       "    </tr>\n",
       "    <tr>\n",
       "      <th>East Coast</th>\n",
       "      <td>-42.687241</td>\n",
       "    </tr>\n",
       "    <tr>\n",
       "      <th rowspan=\"7\" valign=\"top\">MAM</th>\n",
       "      <th>Northern</th>\n",
       "      <td>301.953430</td>\n",
       "    </tr>\n",
       "    <tr>\n",
       "      <th>North East</th>\n",
       "      <td>443.567200</td>\n",
       "    </tr>\n",
       "    <tr>\n",
       "      <th>North West</th>\n",
       "      <td>5.283924</td>\n",
       "    </tr>\n",
       "    <tr>\n",
       "      <th>Central</th>\n",
       "      <td>6.453149</td>\n",
       "    </tr>\n",
       "    <tr>\n",
       "      <th>Inner Peninsular</th>\n",
       "      <td>-77.066254</td>\n",
       "    </tr>\n",
       "    <tr>\n",
       "      <th>West Coast</th>\n",
       "      <td>-86.698196</td>\n",
       "    </tr>\n",
       "    <tr>\n",
       "      <th>East Coast</th>\n",
       "      <td>-49.641888</td>\n",
       "    </tr>\n",
       "  </tbody>\n",
       "</table>\n",
       "</div>"
      ],
      "text/plain": [
       "                                  pr\n",
       "seas   region                       \n",
       "Annual Northern           188.758530\n",
       "       North East         480.653748\n",
       "       North West           4.550075\n",
       "       Central            124.560501\n",
       "       Inner Peninsular   -13.961176\n",
       "       West Coast          -0.040242\n",
       "       East Coast          34.280876\n",
       "JJAS   Northern           239.121674\n",
       "       North East        1057.631470\n",
       "       North West          44.389236\n",
       "       Central            381.338776\n",
       "       Inner Peninsular    83.627525\n",
       "       West Coast         136.203400\n",
       "       East Coast         165.504379\n",
       "ON     Northern            88.284157\n",
       "       North East          33.137287\n",
       "       North West         -47.771282\n",
       "       Central            -39.533859\n",
       "       Inner Peninsular   -40.534012\n",
       "       West Coast         -25.645426\n",
       "       East Coast          13.170392\n",
       "DJF    Northern            75.395592\n",
       "       North East          46.780849\n",
       "       North West         -14.421765\n",
       "       Central              9.693046\n",
       "       Inner Peninsular   -63.259159\n",
       "       West Coast         -77.970352\n",
       "       East Coast         -42.687241\n",
       "MAM    Northern           301.953430\n",
       "       North East         443.567200\n",
       "       North West           5.283924\n",
       "       Central              6.453149\n",
       "       Inner Peninsular   -77.066254\n",
       "       West Coast         -86.698196\n",
       "       East Coast         -49.641888"
      ]
     },
     "execution_count": 128,
     "metadata": {},
     "output_type": "execute_result"
    }
   ],
   "source": [
    "df"
   ]
  },
  {
   "cell_type": "code",
   "execution_count": 173,
   "metadata": {},
   "outputs": [
    {
     "data": {
      "text/plain": [
       "(7, 5, 4, 30)"
      ]
     },
     "execution_count": 173,
     "metadata": {},
     "output_type": "execute_result"
    }
   ],
   "source": [
    "combined_region.precip.sel(model='IMD').values.shape"
   ]
  },
  {
   "cell_type": "code",
   "execution_count": null,
   "metadata": {},
   "outputs": [],
   "source": [
    "np.correlate()"
   ]
  },
  {
   "cell_type": "code",
   "execution_count": 171,
   "metadata": {},
   "outputs": [
    {
     "name": "stdout",
     "output_type": "stream",
     "text": [
      "CPU times: user 40 ms, sys: 4 ms, total: 44 ms\n",
      "Wall time: 39.6 ms\n"
     ]
    }
   ],
   "source": [
    "%%time\n",
    "res = np.apply_along_axis(np.corrcoef, y=axis=-1, arr=combined_region.precip.values)"
   ]
  },
  {
   "cell_type": "code",
   "execution_count": 172,
   "metadata": {},
   "outputs": [
    {
     "data": {
      "text/plain": [
       "array([[[[ 1.,  1.,  1.],\n",
       "         [ 1.,  1.,  1.],\n",
       "         [ 1.,  1.,  1.],\n",
       "         [ 1.,  1.,  1.]],\n",
       "\n",
       "        [[ 1.,  1.,  1.],\n",
       "         [ 1.,  1., nan],\n",
       "         [ 1.,  1.,  1.],\n",
       "         [ 1.,  1.,  1.]],\n",
       "\n",
       "        [[ 1.,  1.,  1.],\n",
       "         [ 1.,  1., nan],\n",
       "         [ 1.,  1.,  1.],\n",
       "         [ 1.,  1.,  1.]],\n",
       "\n",
       "        [[ 1.,  1.,  1.],\n",
       "         [ 1.,  1.,  1.],\n",
       "         [ 1.,  1.,  1.],\n",
       "         [ 1.,  1.,  1.]],\n",
       "\n",
       "        [[ 1.,  1.,  1.],\n",
       "         [ 1.,  1.,  1.],\n",
       "         [ 1.,  1.,  1.],\n",
       "         [ 1.,  1.,  1.]]],\n",
       "\n",
       "\n",
       "       [[[ 1.,  1.,  1.],\n",
       "         [ 1.,  1.,  1.],\n",
       "         [ 1.,  1.,  1.],\n",
       "         [ 1.,  1.,  1.]],\n",
       "\n",
       "        [[ 1.,  1.,  1.],\n",
       "         [ 1.,  1., nan],\n",
       "         [ 1.,  1.,  1.],\n",
       "         [ 1.,  1.,  1.]],\n",
       "\n",
       "        [[ 1.,  1.,  1.],\n",
       "         [ 1.,  1., nan],\n",
       "         [ 1.,  1.,  1.],\n",
       "         [ 1.,  1.,  1.]],\n",
       "\n",
       "        [[ 1.,  1.,  1.],\n",
       "         [ 1.,  1.,  1.],\n",
       "         [ 1.,  1.,  1.],\n",
       "         [ 1.,  1.,  1.]],\n",
       "\n",
       "        [[ 1.,  1.,  1.],\n",
       "         [ 1.,  1.,  1.],\n",
       "         [ 1.,  1.,  1.],\n",
       "         [ 1.,  1.,  1.]]],\n",
       "\n",
       "\n",
       "       [[[ 1.,  1.,  1.],\n",
       "         [ 1.,  1.,  1.],\n",
       "         [ 1.,  1.,  1.],\n",
       "         [ 1.,  1.,  1.]],\n",
       "\n",
       "        [[ 1.,  1.,  1.],\n",
       "         [ 1.,  1., nan],\n",
       "         [ 1.,  1.,  1.],\n",
       "         [ 1.,  1.,  1.]],\n",
       "\n",
       "        [[ 1.,  1.,  1.],\n",
       "         [ 1.,  1., nan],\n",
       "         [ 1.,  1.,  1.],\n",
       "         [ 1.,  1.,  1.]],\n",
       "\n",
       "        [[ 1.,  1.,  1.],\n",
       "         [ 1.,  1.,  1.],\n",
       "         [ 1.,  1.,  1.],\n",
       "         [ 1.,  1.,  1.]],\n",
       "\n",
       "        [[ 1.,  1.,  1.],\n",
       "         [ 1.,  1.,  1.],\n",
       "         [ 1.,  1.,  1.],\n",
       "         [ 1.,  1.,  1.]]],\n",
       "\n",
       "\n",
       "       [[[ 1.,  1.,  1.],\n",
       "         [ 1.,  1.,  1.],\n",
       "         [ 1.,  1.,  1.],\n",
       "         [ 1.,  1.,  1.]],\n",
       "\n",
       "        [[ 1.,  1.,  1.],\n",
       "         [ 1.,  1., nan],\n",
       "         [ 1.,  1.,  1.],\n",
       "         [ 1.,  1.,  1.]],\n",
       "\n",
       "        [[ 1.,  1.,  1.],\n",
       "         [ 1.,  1., nan],\n",
       "         [ 1.,  1.,  1.],\n",
       "         [ 1.,  1.,  1.]],\n",
       "\n",
       "        [[ 1.,  1.,  1.],\n",
       "         [ 1.,  1.,  1.],\n",
       "         [ 1.,  1.,  1.],\n",
       "         [ 1.,  1.,  1.]],\n",
       "\n",
       "        [[ 1.,  1.,  1.],\n",
       "         [ 1.,  1.,  1.],\n",
       "         [ 1.,  1.,  1.],\n",
       "         [ 1.,  1.,  1.]]],\n",
       "\n",
       "\n",
       "       [[[ 1.,  1.,  1.],\n",
       "         [ 1.,  1.,  1.],\n",
       "         [ 1.,  1.,  1.],\n",
       "         [ 1.,  1.,  1.]],\n",
       "\n",
       "        [[ 1.,  1.,  1.],\n",
       "         [ 1.,  1., nan],\n",
       "         [ 1.,  1.,  1.],\n",
       "         [ 1.,  1.,  1.]],\n",
       "\n",
       "        [[ 1.,  1.,  1.],\n",
       "         [ 1.,  1., nan],\n",
       "         [ 1.,  1.,  1.],\n",
       "         [ 1.,  1.,  1.]],\n",
       "\n",
       "        [[ 1.,  1.,  1.],\n",
       "         [ 1.,  1.,  1.],\n",
       "         [ 1.,  1.,  1.],\n",
       "         [ 1.,  1.,  1.]],\n",
       "\n",
       "        [[ 1.,  1.,  1.],\n",
       "         [ 1.,  1.,  1.],\n",
       "         [ 1.,  1.,  1.],\n",
       "         [ 1.,  1.,  1.]]],\n",
       "\n",
       "\n",
       "       [[[ 1.,  1.,  1.],\n",
       "         [ 1.,  1.,  1.],\n",
       "         [ 1.,  1.,  1.],\n",
       "         [ 1.,  1.,  1.]],\n",
       "\n",
       "        [[ 1.,  1.,  1.],\n",
       "         [ 1.,  1., nan],\n",
       "         [ 1.,  1.,  1.],\n",
       "         [ 1.,  1.,  1.]],\n",
       "\n",
       "        [[ 1.,  1.,  1.],\n",
       "         [ 1.,  1., nan],\n",
       "         [ 1.,  1.,  1.],\n",
       "         [ 1.,  1.,  1.]],\n",
       "\n",
       "        [[ 1.,  1.,  1.],\n",
       "         [ 1.,  1.,  1.],\n",
       "         [ 1.,  1.,  1.],\n",
       "         [ 1.,  1.,  1.]],\n",
       "\n",
       "        [[ 1.,  1.,  1.],\n",
       "         [ 1.,  1.,  1.],\n",
       "         [ 1.,  1.,  1.],\n",
       "         [ 1.,  1.,  1.]]],\n",
       "\n",
       "\n",
       "       [[[ 1.,  1.,  1.],\n",
       "         [ 1.,  1.,  1.],\n",
       "         [ 1.,  1.,  1.],\n",
       "         [ 1.,  1.,  1.]],\n",
       "\n",
       "        [[ 1.,  1.,  1.],\n",
       "         [ 1.,  1., nan],\n",
       "         [ 1.,  1.,  1.],\n",
       "         [ 1.,  1.,  1.]],\n",
       "\n",
       "        [[ 1.,  1.,  1.],\n",
       "         [ 1.,  1., nan],\n",
       "         [ 1.,  1.,  1.],\n",
       "         [ 1.,  1.,  1.]],\n",
       "\n",
       "        [[ 1.,  1.,  1.],\n",
       "         [ 1.,  1.,  1.],\n",
       "         [ 1.,  1.,  1.],\n",
       "         [ 1.,  1.,  1.]],\n",
       "\n",
       "        [[ 1.,  1.,  1.],\n",
       "         [ 1.,  1.,  1.],\n",
       "         [ 1.,  1.,  1.],\n",
       "         [ 1.,  1.,  1.]]]])"
      ]
     },
     "execution_count": 172,
     "metadata": {},
     "output_type": "execute_result"
    }
   ],
   "source": [
    "res"
   ]
  },
  {
   "cell_type": "code",
   "execution_count": null,
   "metadata": {},
   "outputs": [],
   "source": []
  }
 ],
 "metadata": {
  "kernelspec": {
   "display_name": "Python 3",
   "language": "python",
   "name": "python3"
  },
  "language_info": {
   "codemirror_mode": {
    "name": "ipython",
    "version": 3
   },
   "file_extension": ".py",
   "mimetype": "text/x-python",
   "name": "python",
   "nbconvert_exporter": "python",
   "pygments_lexer": "ipython3",
   "version": "3.6.7"
  },
  "toc": {
   "base_numbering": 1,
   "nav_menu": {},
   "number_sections": true,
   "sideBar": true,
   "skip_h1_title": false,
   "title_cell": "Table of Contents",
   "title_sidebar": "Contents",
   "toc_cell": false,
   "toc_position": {},
   "toc_section_display": true,
   "toc_window_display": false
  },
  "varInspector": {
   "cols": {
    "lenName": 16,
    "lenType": 16,
    "lenVar": 40
   },
   "kernels_config": {
    "python": {
     "delete_cmd_postfix": "",
     "delete_cmd_prefix": "del ",
     "library": "var_list.py",
     "varRefreshCmd": "print(var_dic_list())"
    },
    "r": {
     "delete_cmd_postfix": ") ",
     "delete_cmd_prefix": "rm(",
     "library": "var_list.r",
     "varRefreshCmd": "cat(var_dic_list()) "
    }
   },
   "types_to_exclude": [
    "module",
    "function",
    "builtin_function_or_method",
    "instance",
    "_Feature"
   ],
   "window_display": false
  }
 },
 "nbformat": 4,
 "nbformat_minor": 2
}
