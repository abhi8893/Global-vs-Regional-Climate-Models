{
 "cells": [
  {
   "cell_type": "code",
   "execution_count": 1249,
   "metadata": {},
   "outputs": [],
   "source": [
    "import geopandas as gpd\n",
    "from shapely.ops import cascaded_union\n",
    "import xarray as xr\n",
    "import salem\n",
    "import sys\n",
    "sys.path.append(\"/home/abhi/Documents/mygit/postBC_diagnostic/src/scripts\")\n",
    "from recipes import *\n",
    "%matplotlib inline\n",
    "from cftime import Datetime360Day\n",
    "import seaborn as sns\n",
    "import matplotlib.pyplot as plt\n",
    "import matplotlib as mpl\n",
    "from calendar import month_abbr\n",
    "from cdo import Cdo\n",
    "cdo = Cdo()\n",
    "import _pickle as cpickle\n",
    "import os\n",
    "import re\n"
   ]
  },
  {
   "cell_type": "code",
   "execution_count": 1670,
   "metadata": {},
   "outputs": [],
   "source": [
    "import cmocean"
   ]
  },
  {
   "cell_type": "code",
   "execution_count": 1469,
   "metadata": {},
   "outputs": [],
   "source": [
    "def getFile(model, var, metric, seas=None):\n",
    "    if metric in ['wetdayprecip_1mm', 'wetdayfreq_1mm'] or re.match(r'pd_[0-9]+mm', metric):\n",
    "        metric_name, thresh = metric.split('_')\n",
    "        return f\"../data/{model}/{var}/{metric_name}/1971-2000_rm_ll25_{seas}_{metric_name}_{thresh}.nc\"\n",
    "    \n",
    "    elif re.match(re.compile(r\"[A|B|N]_[abs|anam]+\"), metric) and var == 'precip':\n",
    "        return f\"../data/{model}/precip/ABN/1971-2000_rm_ll25_{metric}.nc\"\n",
    "    \n",
    "    elif metric in ['monmean', 'ymonmean']:\n",
    "        return f\"../data/{model}/{var}/{metric}/1971-2000_rm_ll25_{metric}.nc\"\n",
    "    \n",
    "    else:\n",
    "        return f\"../data/{model}/{var}/{metric}/1971-2000_rm_ll25_{seas}_{metric}.nc\"\n"
   ]
  },
  {
   "cell_type": "code",
   "execution_count": 728,
   "metadata": {},
   "outputs": [],
   "source": [
    "def getvarname(model, var):\n",
    "    if model in ['IMD', 'PRECIS']:\n",
    "        return {'precip': 'precip',\n",
    "               'tmean': 'tmean',\n",
    "               'tmax': 'tmax',\n",
    "               'tmin': 'tmin'}[var]\n",
    "    \n",
    "    elif model == 'HADGEM2-ES':\n",
    "        return {'precip': 'pr',\n",
    "               'tmean': 'tas',\n",
    "               'tmax': 'tasmax',\n",
    "               'tmin': 'tasmin'}[var]\n",
    "\n",
    "def gettimename(model, var):\n",
    "    if ((model in ['IMD', 'HADGEM2-ES'])\n",
    "        or\n",
    "        (model == 'PRECIS') and (var == 'tmean')):\n",
    "        \n",
    "        return 'time'\n",
    "    \n",
    "    elif model == 'PRECIS':\n",
    "        return 't'"
   ]
  },
  {
   "cell_type": "code",
   "execution_count": 129,
   "metadata": {},
   "outputs": [],
   "source": [
    "mpl.style.use(\"seaborn\")"
   ]
  },
  {
   "cell_type": "code",
   "execution_count": 2,
   "metadata": {},
   "outputs": [],
   "source": [
    "shp = (gpd\n",
    "       .read_file('/home/abhi/Documents/data/shapefiles/India_climatic_correct/India_climatic_correct.shp'))\n",
    "\n",
    "shp = shp.loc[~shp.Region.str.startswith('Him'), :]"
   ]
  },
  {
   "cell_type": "code",
   "execution_count": 224,
   "metadata": {},
   "outputs": [
    {
     "data": {
      "text/html": [
       "<div>\n",
       "<style scoped>\n",
       "    .dataframe tbody tr th:only-of-type {\n",
       "        vertical-align: middle;\n",
       "    }\n",
       "\n",
       "    .dataframe tbody tr th {\n",
       "        vertical-align: top;\n",
       "    }\n",
       "\n",
       "    .dataframe thead th {\n",
       "        text-align: right;\n",
       "    }\n",
       "</style>\n",
       "<table border=\"1\" class=\"dataframe\">\n",
       "  <thead>\n",
       "    <tr style=\"text-align: right;\">\n",
       "      <th></th>\n",
       "      <th>Region</th>\n",
       "      <th>geometry</th>\n",
       "    </tr>\n",
       "  </thead>\n",
       "  <tbody>\n",
       "    <tr>\n",
       "      <th>0</th>\n",
       "      <td>Northern</td>\n",
       "      <td>POLYGON ((74.69647216796902 37.09747314453151,...</td>\n",
       "    </tr>\n",
       "    <tr>\n",
       "      <th>1</th>\n",
       "      <td>North East</td>\n",
       "      <td>POLYGON ((96.07592773437526 29.45227050781277,...</td>\n",
       "    </tr>\n",
       "    <tr>\n",
       "      <th>2</th>\n",
       "      <td>North West</td>\n",
       "      <td>POLYGON ((78.66308593750018 32.09088134765651,...</td>\n",
       "    </tr>\n",
       "    <tr>\n",
       "      <th>3</th>\n",
       "      <td>Central</td>\n",
       "      <td>POLYGON ((79.07147216796913 31.44647216796909,...</td>\n",
       "    </tr>\n",
       "    <tr>\n",
       "      <th>4</th>\n",
       "      <td>Inner Peninsular</td>\n",
       "      <td>POLYGON ((77.9238064266911 22.36504369950693, ...</td>\n",
       "    </tr>\n",
       "    <tr>\n",
       "      <th>5</th>\n",
       "      <td>West Coast</td>\n",
       "      <td>POLYGON ((72.81860684424524 23.08328317338179,...</td>\n",
       "    </tr>\n",
       "    <tr>\n",
       "      <th>6</th>\n",
       "      <td>East Coast</td>\n",
       "      <td>POLYGON ((88.23954612524412 22.62552936501093,...</td>\n",
       "    </tr>\n",
       "  </tbody>\n",
       "</table>\n",
       "</div>"
      ],
      "text/plain": [
       "             Region                                           geometry\n",
       "0          Northern  POLYGON ((74.69647216796902 37.09747314453151,...\n",
       "1        North East  POLYGON ((96.07592773437526 29.45227050781277,...\n",
       "2        North West  POLYGON ((78.66308593750018 32.09088134765651,...\n",
       "3           Central  POLYGON ((79.07147216796913 31.44647216796909,...\n",
       "4  Inner Peninsular  POLYGON ((77.9238064266911 22.36504369950693, ...\n",
       "5        West Coast  POLYGON ((72.81860684424524 23.08328317338179,...\n",
       "6        East Coast  POLYGON ((88.23954612524412 22.62552936501093,..."
      ]
     },
     "execution_count": 224,
     "metadata": {},
     "output_type": "execute_result"
    }
   ],
   "source": [
    "shp"
   ]
  },
  {
   "cell_type": "code",
   "execution_count": 227,
   "metadata": {},
   "outputs": [],
   "source": [
    "shp_ind = gpd.read_file(\"/home/abhi/Documents/data/shapefiles/india_shp/India.shp\")\n",
    "\n",
    "shp_ind = gpd.GeoDataFrame(shp_ind['geometry'])\n",
    "\n",
    "shp_ind['Region'] = pd.Series(['India'])\n",
    "shp_ind = gpd.GeoDataFrame(shp_ind, geometry='geometry')"
   ]
  },
  {
   "cell_type": "code",
   "execution_count": 229,
   "metadata": {},
   "outputs": [
    {
     "name": "stderr",
     "output_type": "stream",
     "text": [
      "/home/abhi/miniconda3/lib/python3.6/site-packages/ipykernel_launcher.py:1: FutureWarning: Sorting because non-concatenation axis is not aligned. A future version\n",
      "of pandas will change to not sort by default.\n",
      "\n",
      "To accept the future behavior, pass 'sort=False'.\n",
      "\n",
      "To retain the current behavior and silence the warning, pass 'sort=True'.\n",
      "\n",
      "  \"\"\"Entry point for launching an IPython kernel.\n"
     ]
    },
    {
     "data": {
      "text/html": [
       "<div>\n",
       "<style scoped>\n",
       "    .dataframe tbody tr th:only-of-type {\n",
       "        vertical-align: middle;\n",
       "    }\n",
       "\n",
       "    .dataframe tbody tr th {\n",
       "        vertical-align: top;\n",
       "    }\n",
       "\n",
       "    .dataframe thead th {\n",
       "        text-align: right;\n",
       "    }\n",
       "</style>\n",
       "<table border=\"1\" class=\"dataframe\">\n",
       "  <thead>\n",
       "    <tr style=\"text-align: right;\">\n",
       "      <th></th>\n",
       "      <th>Region</th>\n",
       "      <th>geometry</th>\n",
       "    </tr>\n",
       "  </thead>\n",
       "  <tbody>\n",
       "    <tr>\n",
       "      <th>0</th>\n",
       "      <td>Northern</td>\n",
       "      <td>POLYGON ((74.69647216796902 37.09747314453151,...</td>\n",
       "    </tr>\n",
       "    <tr>\n",
       "      <th>1</th>\n",
       "      <td>North East</td>\n",
       "      <td>POLYGON ((96.07592773437526 29.45227050781277,...</td>\n",
       "    </tr>\n",
       "    <tr>\n",
       "      <th>2</th>\n",
       "      <td>North West</td>\n",
       "      <td>POLYGON ((78.66308593750018 32.09088134765651,...</td>\n",
       "    </tr>\n",
       "    <tr>\n",
       "      <th>3</th>\n",
       "      <td>Central</td>\n",
       "      <td>POLYGON ((79.07147216796913 31.44647216796909,...</td>\n",
       "    </tr>\n",
       "    <tr>\n",
       "      <th>4</th>\n",
       "      <td>Inner Peninsular</td>\n",
       "      <td>POLYGON ((77.9238064266911 22.36504369950693, ...</td>\n",
       "    </tr>\n",
       "    <tr>\n",
       "      <th>5</th>\n",
       "      <td>West Coast</td>\n",
       "      <td>POLYGON ((72.81860684424524 23.08328317338179,...</td>\n",
       "    </tr>\n",
       "    <tr>\n",
       "      <th>6</th>\n",
       "      <td>East Coast</td>\n",
       "      <td>POLYGON ((88.23954612524412 22.62552936501093,...</td>\n",
       "    </tr>\n",
       "    <tr>\n",
       "      <th>7</th>\n",
       "      <td>India</td>\n",
       "      <td>(POLYGON ((93.78772700120021 6.852639999336532...</td>\n",
       "    </tr>\n",
       "  </tbody>\n",
       "</table>\n",
       "</div>"
      ],
      "text/plain": [
       "             Region                                           geometry\n",
       "0          Northern  POLYGON ((74.69647216796902 37.09747314453151,...\n",
       "1        North East  POLYGON ((96.07592773437526 29.45227050781277,...\n",
       "2        North West  POLYGON ((78.66308593750018 32.09088134765651,...\n",
       "3           Central  POLYGON ((79.07147216796913 31.44647216796909,...\n",
       "4  Inner Peninsular  POLYGON ((77.9238064266911 22.36504369950693, ...\n",
       "5        West Coast  POLYGON ((72.81860684424524 23.08328317338179,...\n",
       "6        East Coast  POLYGON ((88.23954612524412 22.62552936501093,...\n",
       "7             India  (POLYGON ((93.78772700120021 6.852639999336532..."
      ]
     },
     "execution_count": 229,
     "metadata": {},
     "output_type": "execute_result"
    }
   ],
   "source": [
    "pd.concat([shp, shp_ind], axis=0, ignore_index=True)"
   ]
  },
  {
   "cell_type": "code",
   "execution_count": 208,
   "metadata": {},
   "outputs": [
    {
     "ename": "TypeError",
     "evalue": "from_dict() got an unexpected keyword argument 'index'",
     "output_type": "error",
     "traceback": [
      "\u001b[0;31m---------------------------------------------------------------------------\u001b[0m",
      "\u001b[0;31mTypeError\u001b[0m                                 Traceback (most recent call last)",
      "\u001b[0;32m<ipython-input-208-142e81fff4a8>\u001b[0m in \u001b[0;36m<module>\u001b[0;34m\u001b[0m\n\u001b[1;32m      1\u001b[0m gpd.GeoDataFrame.from_dict({'Region': 'Core Monsoon',\n\u001b[0;32m----> 2\u001b[0;31m                    'geometry': mzi_points}, index=[0])\n\u001b[0m",
      "\u001b[0;31mTypeError\u001b[0m: from_dict() got an unexpected keyword argument 'index'"
     ]
    }
   ],
   "source": [
    "gpd.GeoDataFrame.from_dict({'Region': 'Core Monsoon',\n",
    "                   'geometry': mzi_points}, )"
   ]
  },
  {
   "cell_type": "code",
   "execution_count": 210,
   "metadata": {},
   "outputs": [],
   "source": [
    "from shapely.geometry import Polygon\n",
    "\n",
    "mzi_points = Polygon([(73, 18), (73, 28), (82, 28), (82, 18)])\n",
    "\n",
    "shp_cmr = pd.DataFrame({'Region': 'Core Monsoon',\n",
    "                   'geometry': mzi_points}, index = [0])"
   ]
  },
  {
   "cell_type": "code",
   "execution_count": 232,
   "metadata": {},
   "outputs": [],
   "source": [
    "shp_cmr = gpd.GeoDataFrame(shp_cmr, geometry='geometry')"
   ]
  },
  {
   "cell_type": "code",
   "execution_count": 256,
   "metadata": {},
   "outputs": [
    {
     "name": "stderr",
     "output_type": "stream",
     "text": [
      "/home/abhi/miniconda3/lib/python3.6/site-packages/ipykernel_launcher.py:1: FutureWarning: Sorting because non-concatenation axis is not aligned. A future version\n",
      "of pandas will change to not sort by default.\n",
      "\n",
      "To accept the future behavior, pass 'sort=False'.\n",
      "\n",
      "To retain the current behavior and silence the warning, pass 'sort=True'.\n",
      "\n",
      "  \"\"\"Entry point for launching an IPython kernel.\n"
     ]
    }
   ],
   "source": [
    "shp_all = pd.concat([shp, shp_cmr, shp_ind], ignore_index=True)"
   ]
  },
  {
   "cell_type": "code",
   "execution_count": 257,
   "metadata": {},
   "outputs": [],
   "source": [
    "shp_all = gpd.GeoDataFrame(shp_all, geometry='geometry')"
   ]
  },
  {
   "cell_type": "code",
   "execution_count": 258,
   "metadata": {},
   "outputs": [
    {
     "data": {
      "text/html": [
       "<div>\n",
       "<style scoped>\n",
       "    .dataframe tbody tr th:only-of-type {\n",
       "        vertical-align: middle;\n",
       "    }\n",
       "\n",
       "    .dataframe tbody tr th {\n",
       "        vertical-align: top;\n",
       "    }\n",
       "\n",
       "    .dataframe thead th {\n",
       "        text-align: right;\n",
       "    }\n",
       "</style>\n",
       "<table border=\"1\" class=\"dataframe\">\n",
       "  <thead>\n",
       "    <tr style=\"text-align: right;\">\n",
       "      <th></th>\n",
       "      <th>Region</th>\n",
       "      <th>geometry</th>\n",
       "    </tr>\n",
       "  </thead>\n",
       "  <tbody>\n",
       "    <tr>\n",
       "      <th>0</th>\n",
       "      <td>Northern</td>\n",
       "      <td>POLYGON ((74.69647216796902 37.09747314453151,...</td>\n",
       "    </tr>\n",
       "    <tr>\n",
       "      <th>1</th>\n",
       "      <td>North East</td>\n",
       "      <td>POLYGON ((96.07592773437526 29.45227050781277,...</td>\n",
       "    </tr>\n",
       "    <tr>\n",
       "      <th>2</th>\n",
       "      <td>North West</td>\n",
       "      <td>POLYGON ((78.66308593750018 32.09088134765651,...</td>\n",
       "    </tr>\n",
       "    <tr>\n",
       "      <th>3</th>\n",
       "      <td>Central</td>\n",
       "      <td>POLYGON ((79.07147216796913 31.44647216796909,...</td>\n",
       "    </tr>\n",
       "    <tr>\n",
       "      <th>4</th>\n",
       "      <td>Inner Peninsular</td>\n",
       "      <td>POLYGON ((77.9238064266911 22.36504369950693, ...</td>\n",
       "    </tr>\n",
       "    <tr>\n",
       "      <th>5</th>\n",
       "      <td>West Coast</td>\n",
       "      <td>POLYGON ((72.81860684424524 23.08328317338179,...</td>\n",
       "    </tr>\n",
       "    <tr>\n",
       "      <th>6</th>\n",
       "      <td>East Coast</td>\n",
       "      <td>POLYGON ((88.23954612524412 22.62552936501093,...</td>\n",
       "    </tr>\n",
       "    <tr>\n",
       "      <th>7</th>\n",
       "      <td>Core Monsoon</td>\n",
       "      <td>POLYGON ((73 18, 73 28, 82 28, 82 18, 73 18))</td>\n",
       "    </tr>\n",
       "    <tr>\n",
       "      <th>8</th>\n",
       "      <td>India</td>\n",
       "      <td>(POLYGON ((93.78772700120021 6.852639999336532...</td>\n",
       "    </tr>\n",
       "  </tbody>\n",
       "</table>\n",
       "</div>"
      ],
      "text/plain": [
       "             Region                                           geometry\n",
       "0          Northern  POLYGON ((74.69647216796902 37.09747314453151,...\n",
       "1        North East  POLYGON ((96.07592773437526 29.45227050781277,...\n",
       "2        North West  POLYGON ((78.66308593750018 32.09088134765651,...\n",
       "3           Central  POLYGON ((79.07147216796913 31.44647216796909,...\n",
       "4  Inner Peninsular  POLYGON ((77.9238064266911 22.36504369950693, ...\n",
       "5        West Coast  POLYGON ((72.81860684424524 23.08328317338179,...\n",
       "6        East Coast  POLYGON ((88.23954612524412 22.62552936501093,...\n",
       "7      Core Monsoon      POLYGON ((73 18, 73 28, 82 28, 82 18, 73 18))\n",
       "8             India  (POLYGON ((93.78772700120021 6.852639999336532..."
      ]
     },
     "execution_count": 258,
     "metadata": {},
     "output_type": "execute_result"
    }
   ],
   "source": [
    "shp_all"
   ]
  },
  {
   "cell_type": "code",
   "execution_count": 12,
   "metadata": {},
   "outputs": [],
   "source": [
    "data_dir = \"/home/abhi/Documents/data\"\n",
    "fpaths = {}\n",
    "fpaths['IMD'] = f\"{data_dir}/OBSERVATION/IMD/precip/1971-2000_rm_ll25_360day.nc\"\n",
    "fpaths['PRECIS'] = f\"{data_dir}/PRECIS/base/precip/1971-2000_rm_ll25.nc\"\n",
    "fpaths['HADGEM2-ES'] = f\"../data/HADGEM2-ES/precip/daymean/pr_day_HadGEM2-ES_historical_r1i1p1_19710101-20001230.nc\""
   ]
  },
  {
   "cell_type": "code",
   "execution_count": 174,
   "metadata": {},
   "outputs": [],
   "source": [
    "def subsetbygdf(ds, gdf, region_col, apply_fldmean=True):\n",
    "    \n",
    "    regionIndex = gdf[region_col]\n",
    "    regionIndex.name = 'region'\n",
    "    if apply_fldmean:\n",
    "        return xr.concat([fldmean(ds.salem.roi(shape=gdf.loc[gdf.index == index], \n",
    "                                              all_touched=True))\n",
    "                         for index in gdf.index],\n",
    "                        dim=regionIndex)\n",
    "    \n",
    "    else: \n",
    "        pass"
   ]
  },
  {
   "cell_type": "code",
   "execution_count": 280,
   "metadata": {},
   "outputs": [],
   "source": [
    "def subsetbygdf_new(ds, gdf, region_col, apply_fldmean=True):\n",
    "    \n",
    "    regionIndex = gdf[region_col]\n",
    "    if apply_fldmean:\n",
    "        objs = [fldmean(ds.salem.roi(shape=gdf.loc[gdf.index == index], \n",
    "                                              all_touched=True))\n",
    "                         for index in gdf.index]\n",
    "        \n",
    "        regionIndex = pd.concat(\n",
    "            [regionIndex, pd.Series(['Core Monsoon', 'India'])], ignore_index=True)\n",
    "        regionIndex.name = 'region'\n",
    "        \n",
    "        objs.append(fldmean(sellonlatbox(ds, [73, 82, 18, 28])))\n",
    "        objs.append(fldmean(ds))\n",
    "        \n",
    "        return xr.concat(objs,\n",
    "                        dim=regionIndex)\n",
    "    \n",
    "    else: \n",
    "        pass"
   ]
  },
  {
   "cell_type": "code",
   "execution_count": 286,
   "metadata": {},
   "outputs": [],
   "source": [
    "def getModelFile(model, var):\n",
    "    data_dir = \"/home/abhi/Documents/data\"\n",
    "\n",
    "    if model == 'IMD':\n",
    "        return f\"{data_dir}/OBSERVATION/IMD/{var}/1971-2000_rm_ll25_360day.nc\"\n",
    "    \n",
    "    elif model == 'PRECIS':\n",
    "        return f\"{data_dir}/PRECIS/base/{var}/1971-2000_rm_ll25.nc\"\n",
    "    \n",
    "    elif model == 'HADGEM2-ES':\n",
    "        return f\"../data/HADGEM2-ES/{var}/daymean/{getvarname(model, var)}\"+\\\n",
    "                \"_day_HadGEM2-ES_historical_r1i1p1_19710101-20001230.nc\""
   ]
  },
  {
   "cell_type": "code",
   "execution_count": 13,
   "metadata": {},
   "outputs": [],
   "source": [
    "def getvarname(model, var):\n",
    "    if model in ['IMD', 'PRECIS']:\n",
    "        return {'precip': 'precip',\n",
    "               'tmean': 'tmean',\n",
    "               'tmax': 'tmax',\n",
    "               'tmin': 'tmin'}[var]\n",
    "    \n",
    "    elif model == 'HADGEM2-ES':\n",
    "        return {'precip': 'pr',\n",
    "               'tmean': 'tas',\n",
    "               'tmax': 'tasmax',\n",
    "               'tmin': 'tasmin'}[var]\n",
    "\n",
    "def gettimename(model, var):\n",
    "    if ((model in ['IMD', 'HADGEM2-ES'])\n",
    "        or\n",
    "        (model == 'PRECIS') and (var == 'tmean')):\n",
    "        \n",
    "        return 'time'\n",
    "    \n",
    "    elif model == 'PRECIS':\n",
    "         return 't'"
   ]
  },
  {
   "cell_type": "code",
   "execution_count": 14,
   "metadata": {},
   "outputs": [],
   "source": [
    "modelIndex = pd.Index(['IMD', 'PRECIS', 'HADGEM2-ES'], name='model')"
   ]
  },
  {
   "cell_type": "code",
   "execution_count": 79,
   "metadata": {},
   "outputs": [],
   "source": [
    "### Extract time index\n",
    "ti = xr.open_dataset(fpaths['HADGEM2-ES'])['time']"
   ]
  },
  {
   "cell_type": "code",
   "execution_count": 80,
   "metadata": {},
   "outputs": [],
   "source": [
    "ti.name = 'time'"
   ]
  },
  {
   "cell_type": "code",
   "execution_count": 81,
   "metadata": {},
   "outputs": [
    {
     "data": {
      "text/plain": [
       "<xarray.DataArray 'time' (time: 10800)>\n",
       "array([cftime.Datetime360Day(1971, 1, 1, 12, 0, 0, 0, 5, 1),\n",
       "       cftime.Datetime360Day(1971, 1, 2, 12, 0, 0, 0, 6, 2),\n",
       "       cftime.Datetime360Day(1971, 1, 3, 12, 0, 0, 0, 0, 3), ...,\n",
       "       cftime.Datetime360Day(2000, 12, 28, 12, 0, 0, 0, 1, 358),\n",
       "       cftime.Datetime360Day(2000, 12, 29, 12, 0, 0, 0, 2, 359),\n",
       "       cftime.Datetime360Day(2000, 12, 30, 12, 0, 0, 0, 3, 360)], dtype=object)\n",
       "Coordinates:\n",
       "  * time     (time) object 1971-01-01 12:00:00 ... 2000-12-30 12:00:00\n",
       "Attributes:\n",
       "    standard_name:  time\n",
       "    long_name:      time\n",
       "    bounds:         time_bnds\n",
       "    axis:           T"
      ]
     },
     "execution_count": 81,
     "metadata": {},
     "output_type": "execute_result"
    }
   ],
   "source": [
    "ti"
   ]
  },
  {
   "cell_type": "markdown",
   "metadata": {},
   "source": [
    "### India fld-mean Annual cycle boxplots"
   ]
  },
  {
   "cell_type": "code",
   "execution_count": 15,
   "metadata": {},
   "outputs": [],
   "source": [
    "var = 'precip'"
   ]
  },
  {
   "cell_type": "code",
   "execution_count": 16,
   "metadata": {},
   "outputs": [
    {
     "name": "stdout",
     "output_type": "stream",
     "text": [
      "CPU times: user 10.1 s, sys: 3.56 s, total: 13.6 s\n",
      "Wall time: 28.4 s\n"
     ]
    }
   ],
   "source": [
    "%%time\n",
    "fmean_ind_ds = xr.concat([fldmean(xr\n",
    "                                  .open_dataset(fpaths[model])\n",
    "                                 .rename({gettimename(model, var): 'time'}))[getvarname(model, var)]\n",
    "                         for model in modelIndex],\n",
    "                        dim=modelIndex)"
   ]
  },
  {
   "cell_type": "code",
   "execution_count": 60,
   "metadata": {},
   "outputs": [
    {
     "name": "stderr",
     "output_type": "stream",
     "text": [
      "/home/abhi/miniconda3/lib/python3.6/site-packages/xarray/core/options.py:49: FutureWarning: The enable_cftimeindex option is now a no-op and will be removed in a future version of xarray.\n",
      "  FutureWarning)\n"
     ]
    },
    {
     "data": {
      "text/plain": [
       "<xarray.core.options.set_options at 0x7fad2cd1f160>"
      ]
     },
     "execution_count": 60,
     "metadata": {},
     "output_type": "execute_result"
    }
   ],
   "source": [
    "xr.set_options(enable_cftimeindex=True)"
   ]
  },
  {
   "cell_type": "code",
   "execution_count": 451,
   "metadata": {},
   "outputs": [],
   "source": [
    "objs = []\n",
    "var = 'precip'\n",
    "\n",
    "def getModelCombinedObjs(var, ):\n",
    "    objs = []\n",
    "    for model in modelIndex:\n",
    "        rename_dict = {gettimename(model, var): 'time',\n",
    "                      getvarname(model, var): var}\n",
    "        \n",
    "        ds = xr.open_dataset(getModelFile(model, var), \n",
    "                                             chunks={gettimename(model, var): 360})\n",
    "        \n",
    "        if var != 'precip':\n",
    "            too_less =  ds[getvarname(model, var)] > -60\n",
    "            too_much =  ds[getvarname(model, var)] < 60\n",
    "\n",
    "            ds[getvarname(model, var)] =  ds[getvarname(model, var)].where(too_less & too_much)\n",
    "        \n",
    "        if (model == 'HADGEM2-ES') and (var == 'tmax'):\n",
    "            ds = ds.reindex({gettimename(model, var): ti})\n",
    "            \n",
    "        ds = subsetbygdf_new(ds.rename(rename_dict)[var], \n",
    "                             shp, 'Region')\n",
    "                         \n",
    "        \n",
    "        ds['time'] = ti\n",
    "        \n",
    "        try:\n",
    "            ds = ds.drop('height')\n",
    "        except Exception:\n",
    "            pass\n",
    "        \n",
    "\n",
    "\n",
    "        objs.append(ds)\n",
    "        \n",
    "    return objs"
   ]
  },
  {
   "cell_type": "code",
   "execution_count": 452,
   "metadata": {},
   "outputs": [],
   "source": [
    "modvar_combined = {}"
   ]
  },
  {
   "cell_type": "code",
   "execution_count": 447,
   "metadata": {},
   "outputs": [],
   "source": [
    "varIndex = pd.Index(['precip', 'tmean', 'tmax', 'tmin'], name='var_name')"
   ]
  },
  {
   "cell_type": "code",
   "execution_count": 422,
   "metadata": {},
   "outputs": [
    {
     "name": "stdout",
     "output_type": "stream",
     "text": [
      "CPU times: user 7.96 s, sys: 64 ms, total: 8.02 s\n",
      "Wall time: 8.01 s\n"
     ]
    }
   ],
   "source": [
    "%%time\n",
    "tmax_objs = getModelCombinedObjs('tmax')"
   ]
  },
  {
   "cell_type": "code",
   "execution_count": 424,
   "metadata": {},
   "outputs": [
    {
     "data": {
      "text/plain": [
       "<xarray.DataArray 'tmax' ()>\n",
       "array(40.750416, dtype=float32)\n",
       "Coordinates:\n",
       "    region   <U5 'India'"
      ]
     },
     "execution_count": 424,
     "metadata": {},
     "output_type": "execute_result"
    }
   ],
   "source": [
    "tmax_objs[0].sel(region='India').max(dim='time').compute()"
   ]
  },
  {
   "cell_type": "code",
   "execution_count": 453,
   "metadata": {},
   "outputs": [
    {
     "name": "stdout",
     "output_type": "stream",
     "text": [
      "CPU times: user 32.8 s, sys: 260 ms, total: 33 s\n",
      "Wall time: 33 s\n"
     ]
    }
   ],
   "source": [
    "%%time\n",
    "for var in varIndex:\n",
    "    modvar_combined[var] = getModelCombinedObjs(var)"
   ]
  },
  {
   "cell_type": "code",
   "execution_count": 455,
   "metadata": {},
   "outputs": [
    {
     "data": {
      "text/plain": [
       "dict_keys(['precip', 'tmean', 'tmax', 'tmin'])"
      ]
     },
     "execution_count": 455,
     "metadata": {},
     "output_type": "execute_result"
    }
   ],
   "source": [
    "modvar_combined"
   ]
  },
  {
   "cell_type": "code",
   "execution_count": 458,
   "metadata": {},
   "outputs": [],
   "source": [
    "allvar_combined = {var: xr.concat(dsets, dim=modelIndex) \n",
    "                   for var, dsets in modvar_combined.items()}"
   ]
  },
  {
   "cell_type": "code",
   "execution_count": 461,
   "metadata": {},
   "outputs": [],
   "source": [
    "combined_ds = xr.concat(allvar_combined.values(), dim=varIndex)"
   ]
  },
  {
   "cell_type": "code",
   "execution_count": 476,
   "metadata": {},
   "outputs": [],
   "source": [
    "combined_ds.name = 'variable'"
   ]
  },
  {
   "cell_type": "code",
   "execution_count": 477,
   "metadata": {},
   "outputs": [],
   "source": [
    "!mkdir -p ../pickles/Analysis-Annual-cycle/"
   ]
  },
  {
   "cell_type": "code",
   "execution_count": 478,
   "metadata": {},
   "outputs": [],
   "source": [
    "with open(\"../pickles/Analysis-Annual-cycle/combined_fldmean_ds.pkl\", \"wb\") as f:\n",
    "    cpickle.dump(combined_ds, f)"
   ]
  },
  {
   "cell_type": "code",
   "execution_count": 152,
   "metadata": {},
   "outputs": [],
   "source": [
    "fldmean_ind_ds = xr.concat(objs, dim=modelIndex).to_dataset()"
   ]
  },
  {
   "cell_type": "code",
   "execution_count": 153,
   "metadata": {},
   "outputs": [
    {
     "data": {
      "text/plain": [
       "<xarray.Dataset>\n",
       "Dimensions:  (model: 3, time: 21600)\n",
       "Coordinates:\n",
       "  * time     (time) object 1971-01-01 00:00:00 ... 2000-12-30 12:00:00\n",
       "  * model    (model) object 'IMD' 'PRECIS' 'HADGEM2-ES'\n",
       "Data variables:\n",
       "    precip   (model, time) float32 0.021556903 nan 0.08958224 ... nan 1.4998912"
      ]
     },
     "execution_count": 153,
     "metadata": {},
     "output_type": "execute_result"
    }
   ],
   "source": [
    "fmean_ind_ds"
   ]
  },
  {
   "cell_type": "code",
   "execution_count": 154,
   "metadata": {},
   "outputs": [],
   "source": [
    "df = fmean_ind_ds.to_dataframe().reset_index().dropna()"
   ]
  },
  {
   "cell_type": "code",
   "execution_count": 110,
   "metadata": {},
   "outputs": [],
   "source": [
    "cft = df.time[0]"
   ]
  },
  {
   "cell_type": "code",
   "execution_count": 89,
   "metadata": {},
   "outputs": [
    {
     "data": {
      "text/plain": [
       "0"
      ]
     },
     "execution_count": 89,
     "metadata": {},
     "output_type": "execute_result"
    }
   ],
   "source": [
    "Datetime360Day(2000, 1, 1).hour"
   ]
  },
  {
   "cell_type": "code",
   "execution_count": 155,
   "metadata": {},
   "outputs": [],
   "source": [
    "def conv2pd_dt(cft_obj):\n",
    "    try:\n",
    "        return pd.datetime(year=cft_obj.year, month=cft_obj.month, day=cft_obj.day)\n",
    "    except Exception:\n",
    "        return np.nan"
   ]
  },
  {
   "cell_type": "code",
   "execution_count": 156,
   "metadata": {},
   "outputs": [
    {
     "data": {
      "text/plain": [
       "datetime.datetime(1971, 1, 1, 0, 0)"
      ]
     },
     "execution_count": 156,
     "metadata": {},
     "output_type": "execute_result"
    }
   ],
   "source": [
    "conv2pd_dt(cft)"
   ]
  },
  {
   "cell_type": "code",
   "execution_count": 157,
   "metadata": {},
   "outputs": [],
   "source": [
    "df.time = df.time.apply(lambda x: conv2pd_dt(x))\n"
   ]
  },
  {
   "cell_type": "code",
   "execution_count": 158,
   "metadata": {},
   "outputs": [],
   "source": [
    "df.dropna(inplace=True)"
   ]
  },
  {
   "cell_type": "code",
   "execution_count": 159,
   "metadata": {},
   "outputs": [],
   "source": [
    "df['month'] = df.time.dt.month"
   ]
  },
  {
   "cell_type": "code",
   "execution_count": 1596,
   "metadata": {},
   "outputs": [],
   "source": [
    "titles = {'precip': 'Precipitation (mm $d^{-1}$)',\n",
    "         'tmean': 'Mean Temperature ($^\\circ$C)',\n",
    "         'tmax': 'Max Temperature ($^\\circ$C)',\n",
    "         'tmin': 'Min Temperature ($^\\circ$C)'}"
   ]
  },
  {
   "cell_type": "code",
   "execution_count": 1025,
   "metadata": {},
   "outputs": [],
   "source": [
    "def_cols = ['gray', 'steelblue', 'crimson']"
   ]
  },
  {
   "cell_type": "code",
   "execution_count": 361,
   "metadata": {},
   "outputs": [
    {
     "data": {
      "image/png": "[encoded data removed]",
      "text/plain": [
       "<Figure size 1200x400 with 1 Axes>"
      ]
     },
     "metadata": {
      "needs_background": "light"
     },
     "output_type": "display_data"
    }
   ],
   "source": [
    "fig, ax = plt.subplots(dpi=100, figsize=(12, 4))\n",
    "sns.boxplot(data=df, x='month', y='precip', hue='model', showfliers=False, ax=ax, \n",
    "           palette=['gray', 'steelblue', 'crimson'])\n",
    "mon_labels = ax.set_xticklabels(month_abbr[1:])\n",
    "ax.set_xlabel('')\n",
    "ax.set_ylabel(titles['precip'], fontweight='bold')\n",
    "ax.legend().set_title('')"
   ]
  },
  {
   "cell_type": "code",
   "execution_count": 146,
   "metadata": {},
   "outputs": [],
   "source": [
    "df_clim = df.groupby(['month', 'model']).mean().reset_index()"
   ]
  },
  {
   "cell_type": "code",
   "execution_count": 149,
   "metadata": {},
   "outputs": [
    {
     "data": {
      "text/plain": [
       "<matplotlib.axes._subplots.AxesSubplot at 0x7fad10a4f438>"
      ]
     },
     "execution_count": 149,
     "metadata": {},
     "output_type": "execute_result"
    },
    {
     "data": {
      "image/png": "[encoded data removed]",
      "text/plain": [
       "<Figure size 432x288 with 1 Axes>"
      ]
     },
     "metadata": {
      "needs_background": "light"
     },
     "output_type": "display_data"
    }
   ],
   "source": [
    "sns.lineplot(data=df_clim, x='month', y='precip', hue='model')"
   ]
  },
  {
   "cell_type": "code",
   "execution_count": 1088,
   "metadata": {},
   "outputs": [],
   "source": [
    "df_clim = (combined_df\n",
    "           .groupby(['var_name', 'model', 'region', 'month'])\n",
    "           .variable\n",
    "           .agg(['mean', 'std'])).reset_index()"
   ]
  },
  {
   "cell_type": "code",
   "execution_count": 1604,
   "metadata": {},
   "outputs": [],
   "source": [
    "def sel_df2(var_name, model, region, stat):\n",
    "    cond_dict = {}\n",
    "    \n",
    "    for cond in ['var_name', 'model', 'region']:\n",
    "        cond_dict[cond] = (df_climday[cond] == eval(cond))\n",
    "        \n",
    "    all_cond = (cond_dict['var_name'] &\n",
    "               cond_dict['model'] &\n",
    "               cond_dict['region'])\n",
    "    \n",
    "    return df_climday.loc[all_cond, stat]"
   ]
  },
  {
   "cell_type": "code",
   "execution_count": 1590,
   "metadata": {},
   "outputs": [],
   "source": [
    "combined_df['doy'] = combined_df.time.dt.dayofyear"
   ]
  },
  {
   "cell_type": "code",
   "execution_count": 1592,
   "metadata": {},
   "outputs": [],
   "source": [
    "df_climday = (combined_df\n",
    "           .groupby(['var_name', 'model', 'region', 'doy'])\n",
    "           .variable\n",
    "           .agg(['mean', 'std'])).reset_index()"
   ]
  },
  {
   "cell_type": "code",
   "execution_count": 1593,
   "metadata": {},
   "outputs": [
    {
     "data": {
      "text/html": [
       "<div>\n",
       "<style scoped>\n",
       "    .dataframe tbody tr th:only-of-type {\n",
       "        vertical-align: middle;\n",
       "    }\n",
       "\n",
       "    .dataframe tbody tr th {\n",
       "        vertical-align: top;\n",
       "    }\n",
       "\n",
       "    .dataframe thead th {\n",
       "        text-align: right;\n",
       "    }\n",
       "</style>\n",
       "<table border=\"1\" class=\"dataframe\">\n",
       "  <thead>\n",
       "    <tr style=\"text-align: right;\">\n",
       "      <th></th>\n",
       "      <th>var_name</th>\n",
       "      <th>model</th>\n",
       "      <th>region</th>\n",
       "      <th>doy</th>\n",
       "      <th>mean</th>\n",
       "      <th>std</th>\n",
       "    </tr>\n",
       "  </thead>\n",
       "  <tbody>\n",
       "    <tr>\n",
       "      <th>0</th>\n",
       "      <td>precip</td>\n",
       "      <td>HADGEM2-ES</td>\n",
       "      <td>Central</td>\n",
       "      <td>1</td>\n",
       "      <td>0.615128</td>\n",
       "      <td>0.725544</td>\n",
       "    </tr>\n",
       "    <tr>\n",
       "      <th>1</th>\n",
       "      <td>precip</td>\n",
       "      <td>HADGEM2-ES</td>\n",
       "      <td>Central</td>\n",
       "      <td>2</td>\n",
       "      <td>0.633352</td>\n",
       "      <td>0.645691</td>\n",
       "    </tr>\n",
       "    <tr>\n",
       "      <th>2</th>\n",
       "      <td>precip</td>\n",
       "      <td>HADGEM2-ES</td>\n",
       "      <td>Central</td>\n",
       "      <td>3</td>\n",
       "      <td>1.019263</td>\n",
       "      <td>1.628780</td>\n",
       "    </tr>\n",
       "    <tr>\n",
       "      <th>3</th>\n",
       "      <td>precip</td>\n",
       "      <td>HADGEM2-ES</td>\n",
       "      <td>Central</td>\n",
       "      <td>4</td>\n",
       "      <td>1.255011</td>\n",
       "      <td>1.874208</td>\n",
       "    </tr>\n",
       "    <tr>\n",
       "      <th>4</th>\n",
       "      <td>precip</td>\n",
       "      <td>HADGEM2-ES</td>\n",
       "      <td>Central</td>\n",
       "      <td>5</td>\n",
       "      <td>1.058697</td>\n",
       "      <td>1.508095</td>\n",
       "    </tr>\n",
       "  </tbody>\n",
       "</table>\n",
       "</div>"
      ],
      "text/plain": [
       "  var_name       model   region  doy      mean       std\n",
       "0   precip  HADGEM2-ES  Central    1  0.615128  0.725544\n",
       "1   precip  HADGEM2-ES  Central    2  0.633352  0.645691\n",
       "2   precip  HADGEM2-ES  Central    3  1.019263  1.628780\n",
       "3   precip  HADGEM2-ES  Central    4  1.255011  1.874208\n",
       "4   precip  HADGEM2-ES  Central    5  1.058697  1.508095"
      ]
     },
     "execution_count": 1593,
     "metadata": {},
     "output_type": "execute_result"
    }
   ],
   "source": [
    "df_climday.head()"
   ]
  },
  {
   "cell_type": "code",
   "execution_count": 1612,
   "metadata": {},
   "outputs": [],
   "source": [
    "var, region = 'tmean', 'North West'\n",
    "\n",
    "\n",
    "def plot_annualcycle(var, region, savefig=False):\n",
    "    fig, ax = plt.subplots(figsize=(12, 4))\n",
    "\n",
    "\n",
    "    for model in modelIndex:\n",
    "        df_mean = sel_df2(var, model, region, 'mean')\n",
    "        df_std = sel_df2(var, model, region, 'std')\n",
    "        \n",
    "        X = range(1, df_mean.size+1)\n",
    "        ax.plot(X, df_mean, \n",
    "                color=def_cols_d[model], label=model)\n",
    "\n",
    "        ax.set_ylabel(titles[var])\n",
    "        ax.set_title(region, fontsize=16, fontweight='bold')\n",
    "    #     ax.fill_between(month_abbr[1:], \n",
    "    #                    df_mean - df_std,\n",
    "    #                    df_mean + df_std, \n",
    "    #                    color=def_cols_d[model], alpha=0.2)\n",
    "\n",
    "    #     ax.plot(month_abbr[1:], df_mean+ df_std, \n",
    "    #             color=def_cols_d[model], linestyle='--')\n",
    "\n",
    "\n",
    "    ax.legend()\n",
    "\n",
    "    if savefig:\n",
    "        outdir = f\"../plots/compare/{var}/Annual-cycle\"\n",
    "        os.system(f'mkdir -p {outdir}')\n",
    "        fig.savefig(f\"{outdir}/{region}.png\", dpi=400,\n",
    "                   bbox_inches='tight')\n",
    "        plt.close(fig)"
   ]
  },
  {
   "cell_type": "code",
   "execution_count": 1609,
   "metadata": {},
   "outputs": [
    {
     "data": {
      "text/plain": [
       "364"
      ]
     },
     "execution_count": 1609,
     "metadata": {},
     "output_type": "execute_result"
    }
   ],
   "source": [
    "sel_df2('precip', 'PRECIS', 'India', 'mean').size"
   ]
  },
  {
   "cell_type": "code",
   "execution_count": 1617,
   "metadata": {},
   "outputs": [
    {
     "data": {
      "image/png": "[encoded data removed]",
      "text/plain": [
       "<Figure size 864x288 with 1 Axes>"
      ]
     },
     "metadata": {
      "needs_background": "light"
     },
     "output_type": "display_data"
    }
   ],
   "source": [
    "plot_annualcycle('tmax', 'North West', )"
   ]
  },
  {
   "cell_type": "code",
   "execution_count": 1539,
   "metadata": {},
   "outputs": [
    {
     "name": "stdout",
     "output_type": "stream",
     "text": [
      "CPU times: user 21 s, sys: 3 s, total: 24 s\n",
      "Wall time: 21.4 s\n"
     ]
    }
   ],
   "source": [
    "%%time\n",
    "for var in ['precip']:\n",
    "    for region in regionIndex_new:\n",
    "        \n",
    "        plot_annualcycle(var, region, savefig=True)"
   ]
  },
  {
   "cell_type": "code",
   "execution_count": 1084,
   "metadata": {},
   "outputs": [
    {
     "data": {
      "text/html": [
       "<div>\n",
       "<style scoped>\n",
       "    .dataframe tbody tr th:only-of-type {\n",
       "        vertical-align: middle;\n",
       "    }\n",
       "\n",
       "    .dataframe tbody tr th {\n",
       "        vertical-align: top;\n",
       "    }\n",
       "\n",
       "    .dataframe thead th {\n",
       "        text-align: right;\n",
       "    }\n",
       "</style>\n",
       "<table border=\"1\" class=\"dataframe\">\n",
       "  <thead>\n",
       "    <tr style=\"text-align: right;\">\n",
       "      <th></th>\n",
       "      <th></th>\n",
       "      <th></th>\n",
       "      <th></th>\n",
       "      <th>mean</th>\n",
       "      <th>std</th>\n",
       "    </tr>\n",
       "    <tr>\n",
       "      <th>var_name</th>\n",
       "      <th>model</th>\n",
       "      <th>region</th>\n",
       "      <th>month</th>\n",
       "      <th></th>\n",
       "      <th></th>\n",
       "    </tr>\n",
       "  </thead>\n",
       "  <tbody>\n",
       "    <tr>\n",
       "      <th rowspan=\"30\" valign=\"top\">precip</th>\n",
       "      <th rowspan=\"30\" valign=\"top\">HADGEM2-ES</th>\n",
       "      <th rowspan=\"12\" valign=\"top\">Central</th>\n",
       "      <th>1.0</th>\n",
       "      <td>1.035037</td>\n",
       "      <td>2.040484</td>\n",
       "    </tr>\n",
       "    <tr>\n",
       "      <th>2.0</th>\n",
       "      <td>0.981077</td>\n",
       "      <td>1.893731</td>\n",
       "    </tr>\n",
       "    <tr>\n",
       "      <th>3.0</th>\n",
       "      <td>0.851131</td>\n",
       "      <td>1.260296</td>\n",
       "    </tr>\n",
       "    <tr>\n",
       "      <th>4.0</th>\n",
       "      <td>0.905241</td>\n",
       "      <td>0.991142</td>\n",
       "    </tr>\n",
       "    <tr>\n",
       "      <th>5.0</th>\n",
       "      <td>1.437223</td>\n",
       "      <td>1.550688</td>\n",
       "    </tr>\n",
       "    <tr>\n",
       "      <th>6.0</th>\n",
       "      <td>1.726755</td>\n",
       "      <td>2.061224</td>\n",
       "    </tr>\n",
       "    <tr>\n",
       "      <th>7.0</th>\n",
       "      <td>7.882404</td>\n",
       "      <td>5.160526</td>\n",
       "    </tr>\n",
       "    <tr>\n",
       "      <th>8.0</th>\n",
       "      <td>6.986609</td>\n",
       "      <td>4.392251</td>\n",
       "    </tr>\n",
       "    <tr>\n",
       "      <th>9.0</th>\n",
       "      <td>2.657784</td>\n",
       "      <td>3.384323</td>\n",
       "    </tr>\n",
       "    <tr>\n",
       "      <th>10.0</th>\n",
       "      <td>0.539975</td>\n",
       "      <td>0.798370</td>\n",
       "    </tr>\n",
       "    <tr>\n",
       "      <th>11.0</th>\n",
       "      <td>0.669348</td>\n",
       "      <td>1.356126</td>\n",
       "    </tr>\n",
       "    <tr>\n",
       "      <th>12.0</th>\n",
       "      <td>1.293838</td>\n",
       "      <td>2.279520</td>\n",
       "    </tr>\n",
       "    <tr>\n",
       "      <th rowspan=\"12\" valign=\"top\">Core Monsoon</th>\n",
       "      <th>1.0</th>\n",
       "      <td>0.509329</td>\n",
       "      <td>1.160029</td>\n",
       "    </tr>\n",
       "    <tr>\n",
       "      <th>2.0</th>\n",
       "      <td>0.379744</td>\n",
       "      <td>0.919826</td>\n",
       "    </tr>\n",
       "    <tr>\n",
       "      <th>3.0</th>\n",
       "      <td>0.226840</td>\n",
       "      <td>0.450570</td>\n",
       "    </tr>\n",
       "    <tr>\n",
       "      <th>4.0</th>\n",
       "      <td>0.275186</td>\n",
       "      <td>0.441171</td>\n",
       "    </tr>\n",
       "    <tr>\n",
       "      <th>5.0</th>\n",
       "      <td>0.483516</td>\n",
       "      <td>0.731092</td>\n",
       "    </tr>\n",
       "    <tr>\n",
       "      <th>6.0</th>\n",
       "      <td>0.366647</td>\n",
       "      <td>0.785098</td>\n",
       "    </tr>\n",
       "    <tr>\n",
       "      <th>7.0</th>\n",
       "      <td>3.501839</td>\n",
       "      <td>4.023460</td>\n",
       "    </tr>\n",
       "    <tr>\n",
       "      <th>8.0</th>\n",
       "      <td>3.490044</td>\n",
       "      <td>3.791182</td>\n",
       "    </tr>\n",
       "    <tr>\n",
       "      <th>9.0</th>\n",
       "      <td>1.203569</td>\n",
       "      <td>2.471117</td>\n",
       "    </tr>\n",
       "    <tr>\n",
       "      <th>10.0</th>\n",
       "      <td>0.424562</td>\n",
       "      <td>0.737758</td>\n",
       "    </tr>\n",
       "    <tr>\n",
       "      <th>11.0</th>\n",
       "      <td>0.366415</td>\n",
       "      <td>0.858876</td>\n",
       "    </tr>\n",
       "    <tr>\n",
       "      <th>12.0</th>\n",
       "      <td>0.708643</td>\n",
       "      <td>1.452829</td>\n",
       "    </tr>\n",
       "    <tr>\n",
       "      <th rowspan=\"6\" valign=\"top\">East Coast</th>\n",
       "      <th>1.0</th>\n",
       "      <td>0.646496</td>\n",
       "      <td>1.882699</td>\n",
       "    </tr>\n",
       "    <tr>\n",
       "      <th>2.0</th>\n",
       "      <td>0.424160</td>\n",
       "      <td>0.940849</td>\n",
       "    </tr>\n",
       "    <tr>\n",
       "      <th>3.0</th>\n",
       "      <td>0.341958</td>\n",
       "      <td>0.872358</td>\n",
       "    </tr>\n",
       "    <tr>\n",
       "      <th>4.0</th>\n",
       "      <td>0.560357</td>\n",
       "      <td>0.776521</td>\n",
       "    </tr>\n",
       "    <tr>\n",
       "      <th>5.0</th>\n",
       "      <td>0.608428</td>\n",
       "      <td>0.847529</td>\n",
       "    </tr>\n",
       "    <tr>\n",
       "      <th>6.0</th>\n",
       "      <td>0.642637</td>\n",
       "      <td>1.564368</td>\n",
       "    </tr>\n",
       "    <tr>\n",
       "      <th>...</th>\n",
       "      <th>...</th>\n",
       "      <th>...</th>\n",
       "      <th>...</th>\n",
       "      <td>...</td>\n",
       "      <td>...</td>\n",
       "    </tr>\n",
       "    <tr>\n",
       "      <th rowspan=\"30\" valign=\"top\">tmin</th>\n",
       "      <th rowspan=\"30\" valign=\"top\">PRECIS</th>\n",
       "      <th rowspan=\"6\" valign=\"top\">North West</th>\n",
       "      <th>7.0</th>\n",
       "      <td>25.588875</td>\n",
       "      <td>0.798854</td>\n",
       "    </tr>\n",
       "    <tr>\n",
       "      <th>8.0</th>\n",
       "      <td>24.781881</td>\n",
       "      <td>0.785286</td>\n",
       "    </tr>\n",
       "    <tr>\n",
       "      <th>9.0</th>\n",
       "      <td>21.593540</td>\n",
       "      <td>2.386755</td>\n",
       "    </tr>\n",
       "    <tr>\n",
       "      <th>10.0</th>\n",
       "      <td>15.328747</td>\n",
       "      <td>2.513612</td>\n",
       "    </tr>\n",
       "    <tr>\n",
       "      <th>11.0</th>\n",
       "      <td>9.785517</td>\n",
       "      <td>2.973377</td>\n",
       "    </tr>\n",
       "    <tr>\n",
       "      <th>12.0</th>\n",
       "      <td>3.827989</td>\n",
       "      <td>3.344334</td>\n",
       "    </tr>\n",
       "    <tr>\n",
       "      <th rowspan=\"12\" valign=\"top\">Northern</th>\n",
       "      <th>1.0</th>\n",
       "      <td>-26.049524</td>\n",
       "      <td>4.850324</td>\n",
       "    </tr>\n",
       "    <tr>\n",
       "      <th>2.0</th>\n",
       "      <td>-22.628502</td>\n",
       "      <td>4.573483</td>\n",
       "    </tr>\n",
       "    <tr>\n",
       "      <th>3.0</th>\n",
       "      <td>-17.607038</td>\n",
       "      <td>4.567586</td>\n",
       "    </tr>\n",
       "    <tr>\n",
       "      <th>4.0</th>\n",
       "      <td>-13.107714</td>\n",
       "      <td>3.783508</td>\n",
       "    </tr>\n",
       "    <tr>\n",
       "      <th>5.0</th>\n",
       "      <td>-7.544303</td>\n",
       "      <td>2.823427</td>\n",
       "    </tr>\n",
       "    <tr>\n",
       "      <th>6.0</th>\n",
       "      <td>-2.099827</td>\n",
       "      <td>2.383157</td>\n",
       "    </tr>\n",
       "    <tr>\n",
       "      <th>7.0</th>\n",
       "      <td>1.854699</td>\n",
       "      <td>1.725120</td>\n",
       "    </tr>\n",
       "    <tr>\n",
       "      <th>8.0</th>\n",
       "      <td>1.010670</td>\n",
       "      <td>1.959979</td>\n",
       "    </tr>\n",
       "    <tr>\n",
       "      <th>9.0</th>\n",
       "      <td>-5.026993</td>\n",
       "      <td>2.832867</td>\n",
       "    </tr>\n",
       "    <tr>\n",
       "      <th>10.0</th>\n",
       "      <td>-12.063732</td>\n",
       "      <td>2.949148</td>\n",
       "    </tr>\n",
       "    <tr>\n",
       "      <th>11.0</th>\n",
       "      <td>-18.299358</td>\n",
       "      <td>4.300660</td>\n",
       "    </tr>\n",
       "    <tr>\n",
       "      <th>12.0</th>\n",
       "      <td>-23.821497</td>\n",
       "      <td>5.100419</td>\n",
       "    </tr>\n",
       "    <tr>\n",
       "      <th rowspan=\"12\" valign=\"top\">West Coast</th>\n",
       "      <th>1.0</th>\n",
       "      <td>14.431381</td>\n",
       "      <td>1.631077</td>\n",
       "    </tr>\n",
       "    <tr>\n",
       "      <th>2.0</th>\n",
       "      <td>15.001630</td>\n",
       "      <td>1.459236</td>\n",
       "    </tr>\n",
       "    <tr>\n",
       "      <th>3.0</th>\n",
       "      <td>17.453915</td>\n",
       "      <td>1.496856</td>\n",
       "    </tr>\n",
       "    <tr>\n",
       "      <th>4.0</th>\n",
       "      <td>20.270910</td>\n",
       "      <td>1.286537</td>\n",
       "    </tr>\n",
       "    <tr>\n",
       "      <th>5.0</th>\n",
       "      <td>21.524818</td>\n",
       "      <td>0.774294</td>\n",
       "    </tr>\n",
       "    <tr>\n",
       "      <th>6.0</th>\n",
       "      <td>22.521532</td>\n",
       "      <td>0.725633</td>\n",
       "    </tr>\n",
       "    <tr>\n",
       "      <th>7.0</th>\n",
       "      <td>23.086468</td>\n",
       "      <td>0.404941</td>\n",
       "    </tr>\n",
       "    <tr>\n",
       "      <th>8.0</th>\n",
       "      <td>22.590179</td>\n",
       "      <td>0.468628</td>\n",
       "    </tr>\n",
       "    <tr>\n",
       "      <th>9.0</th>\n",
       "      <td>20.910074</td>\n",
       "      <td>1.092174</td>\n",
       "    </tr>\n",
       "    <tr>\n",
       "      <th>10.0</th>\n",
       "      <td>20.599785</td>\n",
       "      <td>1.057480</td>\n",
       "    </tr>\n",
       "    <tr>\n",
       "      <th>11.0</th>\n",
       "      <td>18.640553</td>\n",
       "      <td>1.717993</td>\n",
       "    </tr>\n",
       "    <tr>\n",
       "      <th>12.0</th>\n",
       "      <td>15.935536</td>\n",
       "      <td>2.163036</td>\n",
       "    </tr>\n",
       "  </tbody>\n",
       "</table>\n",
       "<p>1296 rows × 2 columns</p>\n",
       "</div>"
      ],
      "text/plain": [
       "                                             mean       std\n",
       "var_name model      region       month                     \n",
       "precip   HADGEM2-ES Central      1.0     1.035037  2.040484\n",
       "                                 2.0     0.981077  1.893731\n",
       "                                 3.0     0.851131  1.260296\n",
       "                                 4.0     0.905241  0.991142\n",
       "                                 5.0     1.437223  1.550688\n",
       "                                 6.0     1.726755  2.061224\n",
       "                                 7.0     7.882404  5.160526\n",
       "                                 8.0     6.986609  4.392251\n",
       "                                 9.0     2.657784  3.384323\n",
       "                                 10.0    0.539975  0.798370\n",
       "                                 11.0    0.669348  1.356126\n",
       "                                 12.0    1.293838  2.279520\n",
       "                    Core Monsoon 1.0     0.509329  1.160029\n",
       "                                 2.0     0.379744  0.919826\n",
       "                                 3.0     0.226840  0.450570\n",
       "                                 4.0     0.275186  0.441171\n",
       "                                 5.0     0.483516  0.731092\n",
       "                                 6.0     0.366647  0.785098\n",
       "                                 7.0     3.501839  4.023460\n",
       "                                 8.0     3.490044  3.791182\n",
       "                                 9.0     1.203569  2.471117\n",
       "                                 10.0    0.424562  0.737758\n",
       "                                 11.0    0.366415  0.858876\n",
       "                                 12.0    0.708643  1.452829\n",
       "                    East Coast   1.0     0.646496  1.882699\n",
       "                                 2.0     0.424160  0.940849\n",
       "                                 3.0     0.341958  0.872358\n",
       "                                 4.0     0.560357  0.776521\n",
       "                                 5.0     0.608428  0.847529\n",
       "                                 6.0     0.642637  1.564368\n",
       "...                                           ...       ...\n",
       "tmin     PRECIS     North West   7.0    25.588875  0.798854\n",
       "                                 8.0    24.781881  0.785286\n",
       "                                 9.0    21.593540  2.386755\n",
       "                                 10.0   15.328747  2.513612\n",
       "                                 11.0    9.785517  2.973377\n",
       "                                 12.0    3.827989  3.344334\n",
       "                    Northern     1.0   -26.049524  4.850324\n",
       "                                 2.0   -22.628502  4.573483\n",
       "                                 3.0   -17.607038  4.567586\n",
       "                                 4.0   -13.107714  3.783508\n",
       "                                 5.0    -7.544303  2.823427\n",
       "                                 6.0    -2.099827  2.383157\n",
       "                                 7.0     1.854699  1.725120\n",
       "                                 8.0     1.010670  1.959979\n",
       "                                 9.0    -5.026993  2.832867\n",
       "                                 10.0  -12.063732  2.949148\n",
       "                                 11.0  -18.299358  4.300660\n",
       "                                 12.0  -23.821497  5.100419\n",
       "                    West Coast   1.0    14.431381  1.631077\n",
       "                                 2.0    15.001630  1.459236\n",
       "                                 3.0    17.453915  1.496856\n",
       "                                 4.0    20.270910  1.286537\n",
       "                                 5.0    21.524818  0.774294\n",
       "                                 6.0    22.521532  0.725633\n",
       "                                 7.0    23.086468  0.404941\n",
       "                                 8.0    22.590179  0.468628\n",
       "                                 9.0    20.910074  1.092174\n",
       "                                 10.0   20.599785  1.057480\n",
       "                                 11.0   18.640553  1.717993\n",
       "                                 12.0   15.935536  2.163036\n",
       "\n",
       "[1296 rows x 2 columns]"
      ]
     },
     "execution_count": 1084,
     "metadata": {},
     "output_type": "execute_result"
    }
   ],
   "source": [
    "df_clim"
   ]
  },
  {
   "cell_type": "code",
   "execution_count": 1079,
   "metadata": {},
   "outputs": [
    {
     "data": {
      "text/html": [
       "<div>\n",
       "<style scoped>\n",
       "    .dataframe tbody tr th:only-of-type {\n",
       "        vertical-align: middle;\n",
       "    }\n",
       "\n",
       "    .dataframe tbody tr th {\n",
       "        vertical-align: top;\n",
       "    }\n",
       "\n",
       "    .dataframe thead th {\n",
       "        text-align: right;\n",
       "    }\n",
       "</style>\n",
       "<table border=\"1\" class=\"dataframe\">\n",
       "  <thead>\n",
       "    <tr style=\"text-align: right;\">\n",
       "      <th></th>\n",
       "      <th>month</th>\n",
       "      <th>model</th>\n",
       "      <th>precip</th>\n",
       "    </tr>\n",
       "  </thead>\n",
       "  <tbody>\n",
       "    <tr>\n",
       "      <th>0</th>\n",
       "      <td>1</td>\n",
       "      <td>HADGEM2-ES</td>\n",
       "      <td>0.824659</td>\n",
       "    </tr>\n",
       "    <tr>\n",
       "      <th>1</th>\n",
       "      <td>1</td>\n",
       "      <td>IMD</td>\n",
       "      <td>0.579823</td>\n",
       "    </tr>\n",
       "    <tr>\n",
       "      <th>2</th>\n",
       "      <td>1</td>\n",
       "      <td>PRECIS</td>\n",
       "      <td>0.526405</td>\n",
       "    </tr>\n",
       "    <tr>\n",
       "      <th>3</th>\n",
       "      <td>2</td>\n",
       "      <td>HADGEM2-ES</td>\n",
       "      <td>0.891499</td>\n",
       "    </tr>\n",
       "    <tr>\n",
       "      <th>4</th>\n",
       "      <td>2</td>\n",
       "      <td>IMD</td>\n",
       "      <td>0.852803</td>\n",
       "    </tr>\n",
       "    <tr>\n",
       "      <th>5</th>\n",
       "      <td>2</td>\n",
       "      <td>PRECIS</td>\n",
       "      <td>0.591482</td>\n",
       "    </tr>\n",
       "    <tr>\n",
       "      <th>6</th>\n",
       "      <td>3</td>\n",
       "      <td>HADGEM2-ES</td>\n",
       "      <td>1.281998</td>\n",
       "    </tr>\n",
       "    <tr>\n",
       "      <th>7</th>\n",
       "      <td>3</td>\n",
       "      <td>IMD</td>\n",
       "      <td>1.020326</td>\n",
       "    </tr>\n",
       "    <tr>\n",
       "      <th>8</th>\n",
       "      <td>3</td>\n",
       "      <td>PRECIS</td>\n",
       "      <td>0.775534</td>\n",
       "    </tr>\n",
       "    <tr>\n",
       "      <th>9</th>\n",
       "      <td>4</td>\n",
       "      <td>HADGEM2-ES</td>\n",
       "      <td>1.696429</td>\n",
       "    </tr>\n",
       "    <tr>\n",
       "      <th>10</th>\n",
       "      <td>4</td>\n",
       "      <td>IMD</td>\n",
       "      <td>1.388417</td>\n",
       "    </tr>\n",
       "    <tr>\n",
       "      <th>11</th>\n",
       "      <td>4</td>\n",
       "      <td>PRECIS</td>\n",
       "      <td>1.099275</td>\n",
       "    </tr>\n",
       "    <tr>\n",
       "      <th>12</th>\n",
       "      <td>5</td>\n",
       "      <td>HADGEM2-ES</td>\n",
       "      <td>2.091731</td>\n",
       "    </tr>\n",
       "    <tr>\n",
       "      <th>13</th>\n",
       "      <td>5</td>\n",
       "      <td>IMD</td>\n",
       "      <td>2.095453</td>\n",
       "    </tr>\n",
       "    <tr>\n",
       "      <th>14</th>\n",
       "      <td>5</td>\n",
       "      <td>PRECIS</td>\n",
       "      <td>1.442689</td>\n",
       "    </tr>\n",
       "    <tr>\n",
       "      <th>15</th>\n",
       "      <td>6</td>\n",
       "      <td>HADGEM2-ES</td>\n",
       "      <td>2.708346</td>\n",
       "    </tr>\n",
       "    <tr>\n",
       "      <th>16</th>\n",
       "      <td>6</td>\n",
       "      <td>IMD</td>\n",
       "      <td>5.560563</td>\n",
       "    </tr>\n",
       "    <tr>\n",
       "      <th>17</th>\n",
       "      <td>6</td>\n",
       "      <td>PRECIS</td>\n",
       "      <td>2.361016</td>\n",
       "    </tr>\n",
       "    <tr>\n",
       "      <th>18</th>\n",
       "      <td>7</td>\n",
       "      <td>HADGEM2-ES</td>\n",
       "      <td>5.761353</td>\n",
       "    </tr>\n",
       "    <tr>\n",
       "      <th>19</th>\n",
       "      <td>7</td>\n",
       "      <td>IMD</td>\n",
       "      <td>8.980605</td>\n",
       "    </tr>\n",
       "    <tr>\n",
       "      <th>20</th>\n",
       "      <td>7</td>\n",
       "      <td>PRECIS</td>\n",
       "      <td>5.978572</td>\n",
       "    </tr>\n",
       "    <tr>\n",
       "      <th>21</th>\n",
       "      <td>8</td>\n",
       "      <td>HADGEM2-ES</td>\n",
       "      <td>5.218286</td>\n",
       "    </tr>\n",
       "    <tr>\n",
       "      <th>22</th>\n",
       "      <td>8</td>\n",
       "      <td>IMD</td>\n",
       "      <td>8.133419</td>\n",
       "    </tr>\n",
       "    <tr>\n",
       "      <th>23</th>\n",
       "      <td>8</td>\n",
       "      <td>PRECIS</td>\n",
       "      <td>5.316387</td>\n",
       "    </tr>\n",
       "    <tr>\n",
       "      <th>24</th>\n",
       "      <td>9</td>\n",
       "      <td>HADGEM2-ES</td>\n",
       "      <td>2.585576</td>\n",
       "    </tr>\n",
       "    <tr>\n",
       "      <th>25</th>\n",
       "      <td>9</td>\n",
       "      <td>IMD</td>\n",
       "      <td>5.377789</td>\n",
       "    </tr>\n",
       "    <tr>\n",
       "      <th>26</th>\n",
       "      <td>9</td>\n",
       "      <td>PRECIS</td>\n",
       "      <td>2.724244</td>\n",
       "    </tr>\n",
       "    <tr>\n",
       "      <th>27</th>\n",
       "      <td>10</td>\n",
       "      <td>HADGEM2-ES</td>\n",
       "      <td>0.988954</td>\n",
       "    </tr>\n",
       "    <tr>\n",
       "      <th>28</th>\n",
       "      <td>10</td>\n",
       "      <td>IMD</td>\n",
       "      <td>2.431952</td>\n",
       "    </tr>\n",
       "    <tr>\n",
       "      <th>29</th>\n",
       "      <td>10</td>\n",
       "      <td>PRECIS</td>\n",
       "      <td>1.371395</td>\n",
       "    </tr>\n",
       "    <tr>\n",
       "      <th>30</th>\n",
       "      <td>11</td>\n",
       "      <td>HADGEM2-ES</td>\n",
       "      <td>0.747355</td>\n",
       "    </tr>\n",
       "    <tr>\n",
       "      <th>31</th>\n",
       "      <td>11</td>\n",
       "      <td>IMD</td>\n",
       "      <td>1.014769</td>\n",
       "    </tr>\n",
       "    <tr>\n",
       "      <th>32</th>\n",
       "      <td>11</td>\n",
       "      <td>PRECIS</td>\n",
       "      <td>0.973265</td>\n",
       "    </tr>\n",
       "    <tr>\n",
       "      <th>33</th>\n",
       "      <td>12</td>\n",
       "      <td>HADGEM2-ES</td>\n",
       "      <td>0.954555</td>\n",
       "    </tr>\n",
       "    <tr>\n",
       "      <th>34</th>\n",
       "      <td>12</td>\n",
       "      <td>IMD</td>\n",
       "      <td>0.549251</td>\n",
       "    </tr>\n",
       "    <tr>\n",
       "      <th>35</th>\n",
       "      <td>12</td>\n",
       "      <td>PRECIS</td>\n",
       "      <td>0.819510</td>\n",
       "    </tr>\n",
       "  </tbody>\n",
       "</table>\n",
       "</div>"
      ],
      "text/plain": [
       "    month       model    precip\n",
       "0       1  HADGEM2-ES  0.824659\n",
       "1       1         IMD  0.579823\n",
       "2       1      PRECIS  0.526405\n",
       "3       2  HADGEM2-ES  0.891499\n",
       "4       2         IMD  0.852803\n",
       "5       2      PRECIS  0.591482\n",
       "6       3  HADGEM2-ES  1.281998\n",
       "7       3         IMD  1.020326\n",
       "8       3      PRECIS  0.775534\n",
       "9       4  HADGEM2-ES  1.696429\n",
       "10      4         IMD  1.388417\n",
       "11      4      PRECIS  1.099275\n",
       "12      5  HADGEM2-ES  2.091731\n",
       "13      5         IMD  2.095453\n",
       "14      5      PRECIS  1.442689\n",
       "15      6  HADGEM2-ES  2.708346\n",
       "16      6         IMD  5.560563\n",
       "17      6      PRECIS  2.361016\n",
       "18      7  HADGEM2-ES  5.761353\n",
       "19      7         IMD  8.980605\n",
       "20      7      PRECIS  5.978572\n",
       "21      8  HADGEM2-ES  5.218286\n",
       "22      8         IMD  8.133419\n",
       "23      8      PRECIS  5.316387\n",
       "24      9  HADGEM2-ES  2.585576\n",
       "25      9         IMD  5.377789\n",
       "26      9      PRECIS  2.724244\n",
       "27     10  HADGEM2-ES  0.988954\n",
       "28     10         IMD  2.431952\n",
       "29     10      PRECIS  1.371395\n",
       "30     11  HADGEM2-ES  0.747355\n",
       "31     11         IMD  1.014769\n",
       "32     11      PRECIS  0.973265\n",
       "33     12  HADGEM2-ES  0.954555\n",
       "34     12         IMD  0.549251\n",
       "35     12      PRECIS  0.819510"
      ]
     },
     "execution_count": 1079,
     "metadata": {},
     "output_type": "execute_result"
    }
   ],
   "source": [
    "df_climstd = df.groupby(['month', 'model']).mean().reset_index()"
   ]
  },
  {
   "cell_type": "code",
   "execution_count": 281,
   "metadata": {},
   "outputs": [
    {
     "name": "stdout",
     "output_type": "stream",
     "text": [
      "CPU times: user 13.5 s, sys: 6.44 s, total: 19.9 s\n",
      "Wall time: 20 s\n"
     ]
    }
   ],
   "source": [
    "%%time\n",
    "test = subsetbygdf_new(xr.open_dataset(getModelFile('IMD', 'precip')), shp, 'Region')"
   ]
  },
  {
   "cell_type": "code",
   "execution_count": 279,
   "metadata": {},
   "outputs": [
    {
     "data": {
      "text/plain": [
       "<xarray.Dataset>\n",
       "Dimensions:     (concat_dim: 9, time: 10800)\n",
       "Coordinates:\n",
       "  * time        (time) object 1971-01-01 00:00:00 ... 2000-12-30 00:00:00\n",
       "  * concat_dim  (concat_dim) object 'Northern' 'North East' ... 'India'\n",
       "Data variables:\n",
       "    precip      (concat_dim, time) float32 0.0 0.0 0.0 ... 0.99462074 0.38607562"
      ]
     },
     "execution_count": 279,
     "metadata": {},
     "output_type": "execute_result"
    }
   ],
   "source": [
    "test\n"
   ]
  },
  {
   "cell_type": "code",
   "execution_count": 262,
   "metadata": {},
   "outputs": [],
   "source": [
    "ind = fldmean(xr.open_dataset(getModelFile('IMD', 'precip')))"
   ]
  },
  {
   "cell_type": "code",
   "execution_count": 266,
   "metadata": {},
   "outputs": [],
   "source": [
    "regionIndex = shp['Region']\n",
    "regionIndex.name = 'region'"
   ]
  },
  {
   "cell_type": "code",
   "execution_count": 272,
   "metadata": {},
   "outputs": [
    {
     "data": {
      "text/plain": [
       "0            Northern\n",
       "1          North East\n",
       "2          North West\n",
       "3             Central\n",
       "4    Inner Peninsular\n",
       "5          West Coast\n",
       "6          East Coast\n",
       "Name: region, dtype: object"
      ]
     },
     "execution_count": 272,
     "metadata": {},
     "output_type": "execute_result"
    }
   ],
   "source": [
    "regionIndex"
   ]
  },
  {
   "cell_type": "code",
   "execution_count": 569,
   "metadata": {},
   "outputs": [],
   "source": [
    "regionIndex_new = pd.concat([regionIndex, pd.Series(['Core Monsoon', 'India'])], ignore_index=True)"
   ]
  },
  {
   "cell_type": "code",
   "execution_count": 484,
   "metadata": {},
   "outputs": [
    {
     "name": "stderr",
     "output_type": "stream",
     "text": [
      "/home/abhi/miniconda3/lib/python3.6/site-packages/dask/core.py:137: RuntimeWarning: invalid value encountered in greater\n",
      "  return func(*args2)\n",
      "/home/abhi/miniconda3/lib/python3.6/site-packages/dask/core.py:137: RuntimeWarning: invalid value encountered in less\n",
      "  return func(*args2)\n",
      "/home/abhi/miniconda3/lib/python3.6/site-packages/dask/array/numpy_compat.py:28: RuntimeWarning: invalid value encountered in true_divide\n",
      "  x = np.divide(x1, x2, out)\n"
     ]
    }
   ],
   "source": [
    "combined_ds_c = combined_ds.compute()"
   ]
  },
  {
   "cell_type": "code",
   "execution_count": 486,
   "metadata": {},
   "outputs": [
    {
     "data": {
      "text/plain": [
       "<xarray.DataArray 'variable' (var_name: 4, model: 3, region: 9, time: 10800)>\n",
       "array([[[[ 0.000000e+00, ...,  0.000000e+00],\n",
       "         ...,\n",
       "         [ 2.155690e-02, ...,  3.860756e-01]],\n",
       "\n",
       "        ...,\n",
       "\n",
       "        [[ 8.477128e-02, ...,  7.548818e+00],\n",
       "         ...,\n",
       "         [ 1.303605e-01, ...,  1.499891e+00]]],\n",
       "\n",
       "\n",
       "       ...,\n",
       "\n",
       "\n",
       "       [[[-2.880047e+00, ...,  2.193188e+00],\n",
       "         ...,\n",
       "         [ 7.663945e+00, ...,  1.099713e+01]],\n",
       "\n",
       "        ...,\n",
       "\n",
       "        [[-2.278127e+01, ..., -1.606509e+01],\n",
       "         ...,\n",
       "         [ 4.439870e+00, ...,  8.255291e+00]]]], dtype=float32)\n",
       "Coordinates:\n",
       "  * time      (time) object 1971-01-01 12:00:00 ... 2000-12-30 12:00:00\n",
       "  * region    (region) object 'Northern' 'North East' ... 'Core Monsoon' 'India'\n",
       "  * model     (model) object 'IMD' 'PRECIS' 'HADGEM2-ES'\n",
       "  * var_name  (var_name) object 'precip' 'tmean' 'tmax' 'tmin'"
      ]
     },
     "execution_count": 486,
     "metadata": {},
     "output_type": "execute_result"
    }
   ],
   "source": [
    "combined_ds_c"
   ]
  },
  {
   "cell_type": "code",
   "execution_count": 485,
   "metadata": {},
   "outputs": [],
   "source": [
    "with open(\"../pickles/Analysis-Annual-cycle/combined_fldmean_ds_c.pkl\", \"wb\") as f:\n",
    "    cpickle.dump(combined_ds_c, f)"
   ]
  },
  {
   "cell_type": "code",
   "execution_count": 490,
   "metadata": {},
   "outputs": [
    {
     "name": "stdout",
     "output_type": "stream",
     "text": [
      "CPU times: user 196 ms, sys: 28 ms, total: 224 ms\n",
      "Wall time: 221 ms\n"
     ]
    }
   ],
   "source": [
    "%%time\n",
    "combined_df = combined_ds_c.to_dataframe().reset_index()"
   ]
  },
  {
   "cell_type": "code",
   "execution_count": 494,
   "metadata": {},
   "outputs": [],
   "source": [
    "combined_df.time = combined_df.time.apply(conv2pd_dt)"
   ]
  },
  {
   "cell_type": "code",
   "execution_count": 497,
   "metadata": {},
   "outputs": [],
   "source": [
    "combined_df['month'] = combined_df.time.dt.month "
   ]
  },
  {
   "cell_type": "code",
   "execution_count": 523,
   "metadata": {},
   "outputs": [],
   "source": [
    "combined_df.dropna(inplace=True)"
   ]
  },
  {
   "cell_type": "code",
   "execution_count": 1507,
   "metadata": {},
   "outputs": [],
   "source": [
    "def sel_df(var_name, region):\n",
    "    var_cond = (combined_df.var_name == var_name)\n",
    "    \n",
    "    region_cond = np.isin(combined_df.region, region)\n",
    "    \n",
    "    return combined_df.loc[var_cond & region_cond, :]"
   ]
  },
  {
   "cell_type": "code",
   "execution_count": 510,
   "metadata": {},
   "outputs": [
    {
     "data": {
      "text/plain": [
       "array(['Northern', 'North East', 'North West', 'Central',\n",
       "       'Inner Peninsular', 'West Coast', 'East Coast', 'Core Monsoon',\n",
       "       'India'], dtype=object)"
      ]
     },
     "execution_count": 510,
     "metadata": {},
     "output_type": "execute_result"
    }
   ],
   "source": [
    "combined_df.region.unique()"
   ]
  },
  {
   "cell_type": "code",
   "execution_count": 1040,
   "metadata": {},
   "outputs": [
    {
     "data": {
      "text/html": [
       "<div>\n",
       "<style scoped>\n",
       "    .dataframe tbody tr th:only-of-type {\n",
       "        vertical-align: middle;\n",
       "    }\n",
       "\n",
       "    .dataframe tbody tr th {\n",
       "        vertical-align: top;\n",
       "    }\n",
       "\n",
       "    .dataframe thead th {\n",
       "        text-align: right;\n",
       "    }\n",
       "</style>\n",
       "<table border=\"1\" class=\"dataframe\">\n",
       "  <thead>\n",
       "    <tr style=\"text-align: right;\">\n",
       "      <th></th>\n",
       "      <th>var_name</th>\n",
       "      <th>model</th>\n",
       "      <th>region</th>\n",
       "      <th>time</th>\n",
       "      <th>variable</th>\n",
       "      <th>month</th>\n",
       "      <th>seas</th>\n",
       "    </tr>\n",
       "  </thead>\n",
       "  <tbody>\n",
       "    <tr>\n",
       "      <th>378000</th>\n",
       "      <td>tmean</td>\n",
       "      <td>IMD</td>\n",
       "      <td>India</td>\n",
       "      <td>1971-01-01</td>\n",
       "      <td>16.400925</td>\n",
       "      <td>1.0</td>\n",
       "      <td>DJF</td>\n",
       "    </tr>\n",
       "    <tr>\n",
       "      <th>378001</th>\n",
       "      <td>tmean</td>\n",
       "      <td>IMD</td>\n",
       "      <td>India</td>\n",
       "      <td>1971-01-02</td>\n",
       "      <td>15.879515</td>\n",
       "      <td>1.0</td>\n",
       "      <td>DJF</td>\n",
       "    </tr>\n",
       "    <tr>\n",
       "      <th>378002</th>\n",
       "      <td>tmean</td>\n",
       "      <td>IMD</td>\n",
       "      <td>India</td>\n",
       "      <td>1971-01-03</td>\n",
       "      <td>16.385227</td>\n",
       "      <td>1.0</td>\n",
       "      <td>DJF</td>\n",
       "    </tr>\n",
       "    <tr>\n",
       "      <th>378003</th>\n",
       "      <td>tmean</td>\n",
       "      <td>IMD</td>\n",
       "      <td>India</td>\n",
       "      <td>1971-01-04</td>\n",
       "      <td>16.796783</td>\n",
       "      <td>1.0</td>\n",
       "      <td>DJF</td>\n",
       "    </tr>\n",
       "    <tr>\n",
       "      <th>378004</th>\n",
       "      <td>tmean</td>\n",
       "      <td>IMD</td>\n",
       "      <td>India</td>\n",
       "      <td>1971-01-05</td>\n",
       "      <td>16.923214</td>\n",
       "      <td>1.0</td>\n",
       "      <td>DJF</td>\n",
       "    </tr>\n",
       "  </tbody>\n",
       "</table>\n",
       "</div>"
      ],
      "text/plain": [
       "       var_name model region       time   variable  month seas\n",
       "378000    tmean   IMD  India 1971-01-01  16.400925    1.0  DJF\n",
       "378001    tmean   IMD  India 1971-01-02  15.879515    1.0  DJF\n",
       "378002    tmean   IMD  India 1971-01-03  16.385227    1.0  DJF\n",
       "378003    tmean   IMD  India 1971-01-04  16.796783    1.0  DJF\n",
       "378004    tmean   IMD  India 1971-01-05  16.923214    1.0  DJF"
      ]
     },
     "execution_count": 1040,
     "metadata": {},
     "output_type": "execute_result"
    }
   ],
   "source": [
    "df.head()"
   ]
  },
  {
   "cell_type": "code",
   "execution_count": 1500,
   "metadata": {},
   "outputs": [
    {
     "data": {
      "image/png": "[encoded data removed]",
      "text/plain": [
       "<Figure size 1200x400 with 1 Axes>"
      ]
     },
     "metadata": {
      "needs_background": "light"
     },
     "output_type": "display_data"
    }
   ],
   "source": [
    "var_name = 'precip'\n",
    "region = 'Core Monsoon'\n",
    "\n",
    "df = sel_df(var_name, region)\n",
    "\n",
    "fig, ax = plt.subplots(dpi=100, figsize=(12, 4))\n",
    "sns.boxplot(data=df, x='month', y='variable', hue='model', showfliers=False, ax=ax, \n",
    "           palette=['gray', 'steelblue', 'crimson'])\n",
    "mon_labels = ax.set_xticklabels(month_abbr[1:])\n",
    "ax.set_xlabel('')\n",
    "ax.set_ylabel(titles[var_name], fontweight='bold')\n",
    "ax.legend().set_title('')"
   ]
  },
  {
   "cell_type": "code",
   "execution_count": 517,
   "metadata": {},
   "outputs": [],
   "source": [
    "seas_dict =     {'JJAS': [6, 7, 8, 9],\n",
    "                 'ON': [10 , 11],\n",
    "                'DJF': [12, 1, 2],\n",
    "                'MAM': [3, 4, 5]}"
   ]
  },
  {
   "cell_type": "code",
   "execution_count": 518,
   "metadata": {},
   "outputs": [],
   "source": [
    "def getseas(month):\n",
    "    for seas, monlist in seas_dict.items():\n",
    "        if month in monlist:\n",
    "            return seas\n",
    "    \n",
    "    "
   ]
  },
  {
   "cell_type": "code",
   "execution_count": 524,
   "metadata": {},
   "outputs": [],
   "source": [
    "combined_df['seas'] = combined_df.month.apply(getseas)"
   ]
  },
  {
   "cell_type": "code",
   "execution_count": 1540,
   "metadata": {},
   "outputs": [
    {
     "data": {
      "image/png": "[encoded data removed]",
      "text/plain": [
       "<Figure size 1200x400 with 1 Axes>"
      ]
     },
     "metadata": {
      "needs_background": "light"
     },
     "output_type": "display_data"
    }
   ],
   "source": [
    "var_name = 'precip'\n",
    "# region = 'West Coast'\n",
    "regions = ['India', 'Core Monsoon',\n",
    "                      'West Coast', 'Inner Peninsular']\n",
    "seas = 'JJAS'\n",
    "df = sel_df(var_name, regions)\n",
    "df = df.loc[df.seas == seas]\n",
    "\n",
    "fig, ax = plt.subplots(dpi=100, figsize=(12, 4))\n",
    "plot = sns.boxplot(data=df, x='region', y='variable', hue='model', showfliers=False, ax=ax, \n",
    "           palette=['gray', 'steelblue', 'crimson'])\n",
    "# mon_labels = ax.set_xticklabels(month_abbr[1:])\n",
    "ax.set_xlabel('')\n",
    "ax.set_ylabel(titles[var_name], fontweight='bold')\n",
    "ax.legend().set_title('')\n",
    "\n",
    "out_dir = f\"../plots/compare/{var_name}/boxplots\"\n",
    "os.system(f\"mkdir -p {out_dir}\")\n",
    "plot.figure.savefig(f\"{out_dir}/{'_'.join(regions)}_{seas}.png\",\n",
    "                dpi=400, bbox_inches='tight')"
   ]
  },
  {
   "cell_type": "code",
   "execution_count": 1517,
   "metadata": {},
   "outputs": [
    {
     "data": {
      "text/plain": [
       "'../plots/compare/precip/boxplots'"
      ]
     },
     "execution_count": 1517,
     "metadata": {},
     "output_type": "execute_result"
    }
   ],
   "source": [
    "out_dir"
   ]
  },
  {
   "cell_type": "code",
   "execution_count": 826,
   "metadata": {},
   "outputs": [
    {
     "data": {
      "text/plain": [
       "seas  region        var_name  model     \n",
       "DJF   Central       precip    HADGEM2-ES     1.105718\n",
       "                              IMD            0.434477\n",
       "                              PRECIS         0.457454\n",
       "                    tmax      HADGEM2-ES    18.040325\n",
       "                              IMD           24.978699\n",
       "                              PRECIS        23.868626\n",
       "                    tmean     HADGEM2-ES    12.080367\n",
       "                              IMD           17.337347\n",
       "                              PRECIS        14.156499\n",
       "                    tmin      HADGEM2-ES     6.242962\n",
       "                              IMD            9.695940\n",
       "                              PRECIS         5.308788\n",
       "      Core Monsoon  precip    HADGEM2-ES     0.535573\n",
       "                              IMD            0.250603\n",
       "                              PRECIS         0.218883\n",
       "                    tmax      HADGEM2-ES    23.143652\n",
       "                              IMD           27.214462\n",
       "                              PRECIS        26.533634\n",
       "                    tmean     HADGEM2-ES    16.018942\n",
       "                              IMD           19.316891\n",
       "                              PRECIS        16.846594\n",
       "                    tmin      HADGEM2-ES     8.373608\n",
       "                              IMD           11.419244\n",
       "                              PRECIS         7.872981\n",
       "      East Coast    precip    HADGEM2-ES     0.579467\n",
       "                              IMD            0.845092\n",
       "                              PRECIS         0.536795\n",
       "                    tmax      HADGEM2-ES    26.791607\n",
       "                              IMD           29.293356\n",
       "                              PRECIS        29.561882\n",
       "                                              ...    \n",
       "ON    North West    tmean     HADGEM2-ES    19.383444\n",
       "                              IMD           23.452169\n",
       "                              PRECIS        21.629717\n",
       "                    tmin      HADGEM2-ES    12.237317\n",
       "                              IMD           15.623093\n",
       "                              PRECIS        12.557132\n",
       "      Northern      precip    HADGEM2-ES     1.882842\n",
       "                              IMD            0.969240\n",
       "                              PRECIS         2.503475\n",
       "                    tmax      HADGEM2-ES     1.331982\n",
       "                              IMD           21.904240\n",
       "                              PRECIS        -0.972943\n",
       "                    tmean     HADGEM2-ES    -4.529413\n",
       "                              IMD           14.522935\n",
       "                              PRECIS        -8.202012\n",
       "                    tmin      HADGEM2-ES   -10.138472\n",
       "                              IMD            7.143101\n",
       "                              PRECIS       -15.181545\n",
       "      West Coast    precip    HADGEM2-ES     0.743546\n",
       "                              IMD            2.835871\n",
       "                              PRECIS         1.533391\n",
       "                    tmax      HADGEM2-ES    32.011600\n",
       "                              IMD           31.212151\n",
       "                              PRECIS        32.285637\n",
       "                    tmean     HADGEM2-ES    26.627718\n",
       "                              IMD           25.493469\n",
       "                              PRECIS        25.541464\n",
       "                    tmin      HADGEM2-ES    20.529301\n",
       "                              IMD           19.774666\n",
       "                              PRECIS        19.620169\n",
       "Name: variable, Length: 432, dtype: float32"
      ]
     },
     "execution_count": 826,
     "metadata": {},
     "output_type": "execute_result"
    }
   ],
   "source": [
    "combined_df.groupby(['seas', 'region','var_name', 'model']).variable.mean()"
   ]
  },
  {
   "cell_type": "code",
   "execution_count": 1078,
   "metadata": {},
   "outputs": [
    {
     "data": {
      "text/html": [
       "<div>\n",
       "<style scoped>\n",
       "    .dataframe tbody tr th:only-of-type {\n",
       "        vertical-align: middle;\n",
       "    }\n",
       "\n",
       "    .dataframe tbody tr th {\n",
       "        vertical-align: top;\n",
       "    }\n",
       "\n",
       "    .dataframe thead th {\n",
       "        text-align: right;\n",
       "    }\n",
       "</style>\n",
       "<table border=\"1\" class=\"dataframe\">\n",
       "  <thead>\n",
       "    <tr style=\"text-align: right;\">\n",
       "      <th></th>\n",
       "      <th>var_name</th>\n",
       "      <th>model</th>\n",
       "      <th>region</th>\n",
       "      <th>time</th>\n",
       "      <th>variable</th>\n",
       "      <th>month</th>\n",
       "      <th>seas</th>\n",
       "    </tr>\n",
       "  </thead>\n",
       "  <tbody>\n",
       "    <tr>\n",
       "      <th>0</th>\n",
       "      <td>precip</td>\n",
       "      <td>IMD</td>\n",
       "      <td>Northern</td>\n",
       "      <td>1971-01-01</td>\n",
       "      <td>0.000000</td>\n",
       "      <td>1.0</td>\n",
       "      <td>DJF</td>\n",
       "    </tr>\n",
       "    <tr>\n",
       "      <th>1</th>\n",
       "      <td>precip</td>\n",
       "      <td>IMD</td>\n",
       "      <td>Northern</td>\n",
       "      <td>1971-01-02</td>\n",
       "      <td>0.000000</td>\n",
       "      <td>1.0</td>\n",
       "      <td>DJF</td>\n",
       "    </tr>\n",
       "    <tr>\n",
       "      <th>2</th>\n",
       "      <td>precip</td>\n",
       "      <td>IMD</td>\n",
       "      <td>Northern</td>\n",
       "      <td>1971-01-03</td>\n",
       "      <td>0.000000</td>\n",
       "      <td>1.0</td>\n",
       "      <td>DJF</td>\n",
       "    </tr>\n",
       "    <tr>\n",
       "      <th>3</th>\n",
       "      <td>precip</td>\n",
       "      <td>IMD</td>\n",
       "      <td>Northern</td>\n",
       "      <td>1971-01-04</td>\n",
       "      <td>0.000000</td>\n",
       "      <td>1.0</td>\n",
       "      <td>DJF</td>\n",
       "    </tr>\n",
       "    <tr>\n",
       "      <th>4</th>\n",
       "      <td>precip</td>\n",
       "      <td>IMD</td>\n",
       "      <td>Northern</td>\n",
       "      <td>1971-01-05</td>\n",
       "      <td>0.000000</td>\n",
       "      <td>1.0</td>\n",
       "      <td>DJF</td>\n",
       "    </tr>\n",
       "    <tr>\n",
       "      <th>5</th>\n",
       "      <td>precip</td>\n",
       "      <td>IMD</td>\n",
       "      <td>Northern</td>\n",
       "      <td>1971-01-06</td>\n",
       "      <td>0.000000</td>\n",
       "      <td>1.0</td>\n",
       "      <td>DJF</td>\n",
       "    </tr>\n",
       "    <tr>\n",
       "      <th>6</th>\n",
       "      <td>precip</td>\n",
       "      <td>IMD</td>\n",
       "      <td>Northern</td>\n",
       "      <td>1971-01-07</td>\n",
       "      <td>0.337511</td>\n",
       "      <td>1.0</td>\n",
       "      <td>DJF</td>\n",
       "    </tr>\n",
       "    <tr>\n",
       "      <th>7</th>\n",
       "      <td>precip</td>\n",
       "      <td>IMD</td>\n",
       "      <td>Northern</td>\n",
       "      <td>1971-01-08</td>\n",
       "      <td>0.165058</td>\n",
       "      <td>1.0</td>\n",
       "      <td>DJF</td>\n",
       "    </tr>\n",
       "    <tr>\n",
       "      <th>8</th>\n",
       "      <td>precip</td>\n",
       "      <td>IMD</td>\n",
       "      <td>Northern</td>\n",
       "      <td>1971-01-09</td>\n",
       "      <td>0.000000</td>\n",
       "      <td>1.0</td>\n",
       "      <td>DJF</td>\n",
       "    </tr>\n",
       "    <tr>\n",
       "      <th>9</th>\n",
       "      <td>precip</td>\n",
       "      <td>IMD</td>\n",
       "      <td>Northern</td>\n",
       "      <td>1971-01-10</td>\n",
       "      <td>0.000000</td>\n",
       "      <td>1.0</td>\n",
       "      <td>DJF</td>\n",
       "    </tr>\n",
       "    <tr>\n",
       "      <th>10</th>\n",
       "      <td>precip</td>\n",
       "      <td>IMD</td>\n",
       "      <td>Northern</td>\n",
       "      <td>1971-01-11</td>\n",
       "      <td>0.000000</td>\n",
       "      <td>1.0</td>\n",
       "      <td>DJF</td>\n",
       "    </tr>\n",
       "    <tr>\n",
       "      <th>11</th>\n",
       "      <td>precip</td>\n",
       "      <td>IMD</td>\n",
       "      <td>Northern</td>\n",
       "      <td>1971-01-12</td>\n",
       "      <td>0.000000</td>\n",
       "      <td>1.0</td>\n",
       "      <td>DJF</td>\n",
       "    </tr>\n",
       "    <tr>\n",
       "      <th>12</th>\n",
       "      <td>precip</td>\n",
       "      <td>IMD</td>\n",
       "      <td>Northern</td>\n",
       "      <td>1971-01-13</td>\n",
       "      <td>0.000000</td>\n",
       "      <td>1.0</td>\n",
       "      <td>DJF</td>\n",
       "    </tr>\n",
       "    <tr>\n",
       "      <th>13</th>\n",
       "      <td>precip</td>\n",
       "      <td>IMD</td>\n",
       "      <td>Northern</td>\n",
       "      <td>1971-01-14</td>\n",
       "      <td>0.000000</td>\n",
       "      <td>1.0</td>\n",
       "      <td>DJF</td>\n",
       "    </tr>\n",
       "    <tr>\n",
       "      <th>14</th>\n",
       "      <td>precip</td>\n",
       "      <td>IMD</td>\n",
       "      <td>Northern</td>\n",
       "      <td>1971-01-15</td>\n",
       "      <td>0.513271</td>\n",
       "      <td>1.0</td>\n",
       "      <td>DJF</td>\n",
       "    </tr>\n",
       "    <tr>\n",
       "      <th>15</th>\n",
       "      <td>precip</td>\n",
       "      <td>IMD</td>\n",
       "      <td>Northern</td>\n",
       "      <td>1971-01-16</td>\n",
       "      <td>0.390814</td>\n",
       "      <td>1.0</td>\n",
       "      <td>DJF</td>\n",
       "    </tr>\n",
       "    <tr>\n",
       "      <th>16</th>\n",
       "      <td>precip</td>\n",
       "      <td>IMD</td>\n",
       "      <td>Northern</td>\n",
       "      <td>1971-01-17</td>\n",
       "      <td>0.395817</td>\n",
       "      <td>1.0</td>\n",
       "      <td>DJF</td>\n",
       "    </tr>\n",
       "    <tr>\n",
       "      <th>17</th>\n",
       "      <td>precip</td>\n",
       "      <td>IMD</td>\n",
       "      <td>Northern</td>\n",
       "      <td>1971-01-18</td>\n",
       "      <td>0.306599</td>\n",
       "      <td>1.0</td>\n",
       "      <td>DJF</td>\n",
       "    </tr>\n",
       "    <tr>\n",
       "      <th>18</th>\n",
       "      <td>precip</td>\n",
       "      <td>IMD</td>\n",
       "      <td>Northern</td>\n",
       "      <td>1971-01-19</td>\n",
       "      <td>0.652574</td>\n",
       "      <td>1.0</td>\n",
       "      <td>DJF</td>\n",
       "    </tr>\n",
       "    <tr>\n",
       "      <th>19</th>\n",
       "      <td>precip</td>\n",
       "      <td>IMD</td>\n",
       "      <td>Northern</td>\n",
       "      <td>1971-01-20</td>\n",
       "      <td>1.561650</td>\n",
       "      <td>1.0</td>\n",
       "      <td>DJF</td>\n",
       "    </tr>\n",
       "    <tr>\n",
       "      <th>20</th>\n",
       "      <td>precip</td>\n",
       "      <td>IMD</td>\n",
       "      <td>Northern</td>\n",
       "      <td>1971-01-21</td>\n",
       "      <td>1.844197</td>\n",
       "      <td>1.0</td>\n",
       "      <td>DJF</td>\n",
       "    </tr>\n",
       "    <tr>\n",
       "      <th>21</th>\n",
       "      <td>precip</td>\n",
       "      <td>IMD</td>\n",
       "      <td>Northern</td>\n",
       "      <td>1971-01-22</td>\n",
       "      <td>2.615324</td>\n",
       "      <td>1.0</td>\n",
       "      <td>DJF</td>\n",
       "    </tr>\n",
       "    <tr>\n",
       "      <th>22</th>\n",
       "      <td>precip</td>\n",
       "      <td>IMD</td>\n",
       "      <td>Northern</td>\n",
       "      <td>1971-01-23</td>\n",
       "      <td>1.926449</td>\n",
       "      <td>1.0</td>\n",
       "      <td>DJF</td>\n",
       "    </tr>\n",
       "    <tr>\n",
       "      <th>23</th>\n",
       "      <td>precip</td>\n",
       "      <td>IMD</td>\n",
       "      <td>Northern</td>\n",
       "      <td>1971-01-24</td>\n",
       "      <td>1.072559</td>\n",
       "      <td>1.0</td>\n",
       "      <td>DJF</td>\n",
       "    </tr>\n",
       "    <tr>\n",
       "      <th>24</th>\n",
       "      <td>precip</td>\n",
       "      <td>IMD</td>\n",
       "      <td>Northern</td>\n",
       "      <td>1971-01-25</td>\n",
       "      <td>2.952279</td>\n",
       "      <td>1.0</td>\n",
       "      <td>DJF</td>\n",
       "    </tr>\n",
       "    <tr>\n",
       "      <th>25</th>\n",
       "      <td>precip</td>\n",
       "      <td>IMD</td>\n",
       "      <td>Northern</td>\n",
       "      <td>1971-01-26</td>\n",
       "      <td>4.086830</td>\n",
       "      <td>1.0</td>\n",
       "      <td>DJF</td>\n",
       "    </tr>\n",
       "    <tr>\n",
       "      <th>26</th>\n",
       "      <td>precip</td>\n",
       "      <td>IMD</td>\n",
       "      <td>Northern</td>\n",
       "      <td>1971-01-27</td>\n",
       "      <td>3.708375</td>\n",
       "      <td>1.0</td>\n",
       "      <td>DJF</td>\n",
       "    </tr>\n",
       "    <tr>\n",
       "      <th>27</th>\n",
       "      <td>precip</td>\n",
       "      <td>IMD</td>\n",
       "      <td>Northern</td>\n",
       "      <td>1971-01-28</td>\n",
       "      <td>2.042331</td>\n",
       "      <td>1.0</td>\n",
       "      <td>DJF</td>\n",
       "    </tr>\n",
       "    <tr>\n",
       "      <th>28</th>\n",
       "      <td>precip</td>\n",
       "      <td>IMD</td>\n",
       "      <td>Northern</td>\n",
       "      <td>1971-01-29</td>\n",
       "      <td>0.347746</td>\n",
       "      <td>1.0</td>\n",
       "      <td>DJF</td>\n",
       "    </tr>\n",
       "    <tr>\n",
       "      <th>29</th>\n",
       "      <td>precip</td>\n",
       "      <td>IMD</td>\n",
       "      <td>Northern</td>\n",
       "      <td>1971-01-30</td>\n",
       "      <td>0.000000</td>\n",
       "      <td>1.0</td>\n",
       "      <td>DJF</td>\n",
       "    </tr>\n",
       "    <tr>\n",
       "      <th>...</th>\n",
       "      <td>...</td>\n",
       "      <td>...</td>\n",
       "      <td>...</td>\n",
       "      <td>...</td>\n",
       "      <td>...</td>\n",
       "      <td>...</td>\n",
       "      <td>...</td>\n",
       "    </tr>\n",
       "    <tr>\n",
       "      <th>1166370</th>\n",
       "      <td>tmin</td>\n",
       "      <td>HADGEM2-ES</td>\n",
       "      <td>India</td>\n",
       "      <td>2000-12-01</td>\n",
       "      <td>8.227222</td>\n",
       "      <td>12.0</td>\n",
       "      <td>DJF</td>\n",
       "    </tr>\n",
       "    <tr>\n",
       "      <th>1166371</th>\n",
       "      <td>tmin</td>\n",
       "      <td>HADGEM2-ES</td>\n",
       "      <td>India</td>\n",
       "      <td>2000-12-02</td>\n",
       "      <td>8.250276</td>\n",
       "      <td>12.0</td>\n",
       "      <td>DJF</td>\n",
       "    </tr>\n",
       "    <tr>\n",
       "      <th>1166372</th>\n",
       "      <td>tmin</td>\n",
       "      <td>HADGEM2-ES</td>\n",
       "      <td>India</td>\n",
       "      <td>2000-12-03</td>\n",
       "      <td>8.616432</td>\n",
       "      <td>12.0</td>\n",
       "      <td>DJF</td>\n",
       "    </tr>\n",
       "    <tr>\n",
       "      <th>1166373</th>\n",
       "      <td>tmin</td>\n",
       "      <td>HADGEM2-ES</td>\n",
       "      <td>India</td>\n",
       "      <td>2000-12-04</td>\n",
       "      <td>8.652301</td>\n",
       "      <td>12.0</td>\n",
       "      <td>DJF</td>\n",
       "    </tr>\n",
       "    <tr>\n",
       "      <th>1166374</th>\n",
       "      <td>tmin</td>\n",
       "      <td>HADGEM2-ES</td>\n",
       "      <td>India</td>\n",
       "      <td>2000-12-05</td>\n",
       "      <td>8.320268</td>\n",
       "      <td>12.0</td>\n",
       "      <td>DJF</td>\n",
       "    </tr>\n",
       "    <tr>\n",
       "      <th>1166375</th>\n",
       "      <td>tmin</td>\n",
       "      <td>HADGEM2-ES</td>\n",
       "      <td>India</td>\n",
       "      <td>2000-12-06</td>\n",
       "      <td>8.335623</td>\n",
       "      <td>12.0</td>\n",
       "      <td>DJF</td>\n",
       "    </tr>\n",
       "    <tr>\n",
       "      <th>1166376</th>\n",
       "      <td>tmin</td>\n",
       "      <td>HADGEM2-ES</td>\n",
       "      <td>India</td>\n",
       "      <td>2000-12-07</td>\n",
       "      <td>8.766770</td>\n",
       "      <td>12.0</td>\n",
       "      <td>DJF</td>\n",
       "    </tr>\n",
       "    <tr>\n",
       "      <th>1166377</th>\n",
       "      <td>tmin</td>\n",
       "      <td>HADGEM2-ES</td>\n",
       "      <td>India</td>\n",
       "      <td>2000-12-08</td>\n",
       "      <td>8.904874</td>\n",
       "      <td>12.0</td>\n",
       "      <td>DJF</td>\n",
       "    </tr>\n",
       "    <tr>\n",
       "      <th>1166378</th>\n",
       "      <td>tmin</td>\n",
       "      <td>HADGEM2-ES</td>\n",
       "      <td>India</td>\n",
       "      <td>2000-12-09</td>\n",
       "      <td>9.295417</td>\n",
       "      <td>12.0</td>\n",
       "      <td>DJF</td>\n",
       "    </tr>\n",
       "    <tr>\n",
       "      <th>1166379</th>\n",
       "      <td>tmin</td>\n",
       "      <td>HADGEM2-ES</td>\n",
       "      <td>India</td>\n",
       "      <td>2000-12-10</td>\n",
       "      <td>10.292881</td>\n",
       "      <td>12.0</td>\n",
       "      <td>DJF</td>\n",
       "    </tr>\n",
       "    <tr>\n",
       "      <th>1166380</th>\n",
       "      <td>tmin</td>\n",
       "      <td>HADGEM2-ES</td>\n",
       "      <td>India</td>\n",
       "      <td>2000-12-11</td>\n",
       "      <td>11.273881</td>\n",
       "      <td>12.0</td>\n",
       "      <td>DJF</td>\n",
       "    </tr>\n",
       "    <tr>\n",
       "      <th>1166381</th>\n",
       "      <td>tmin</td>\n",
       "      <td>HADGEM2-ES</td>\n",
       "      <td>India</td>\n",
       "      <td>2000-12-12</td>\n",
       "      <td>11.150125</td>\n",
       "      <td>12.0</td>\n",
       "      <td>DJF</td>\n",
       "    </tr>\n",
       "    <tr>\n",
       "      <th>1166382</th>\n",
       "      <td>tmin</td>\n",
       "      <td>HADGEM2-ES</td>\n",
       "      <td>India</td>\n",
       "      <td>2000-12-13</td>\n",
       "      <td>10.043839</td>\n",
       "      <td>12.0</td>\n",
       "      <td>DJF</td>\n",
       "    </tr>\n",
       "    <tr>\n",
       "      <th>1166383</th>\n",
       "      <td>tmin</td>\n",
       "      <td>HADGEM2-ES</td>\n",
       "      <td>India</td>\n",
       "      <td>2000-12-14</td>\n",
       "      <td>9.873621</td>\n",
       "      <td>12.0</td>\n",
       "      <td>DJF</td>\n",
       "    </tr>\n",
       "    <tr>\n",
       "      <th>1166384</th>\n",
       "      <td>tmin</td>\n",
       "      <td>HADGEM2-ES</td>\n",
       "      <td>India</td>\n",
       "      <td>2000-12-15</td>\n",
       "      <td>9.849098</td>\n",
       "      <td>12.0</td>\n",
       "      <td>DJF</td>\n",
       "    </tr>\n",
       "    <tr>\n",
       "      <th>1166385</th>\n",
       "      <td>tmin</td>\n",
       "      <td>HADGEM2-ES</td>\n",
       "      <td>India</td>\n",
       "      <td>2000-12-16</td>\n",
       "      <td>9.541004</td>\n",
       "      <td>12.0</td>\n",
       "      <td>DJF</td>\n",
       "    </tr>\n",
       "    <tr>\n",
       "      <th>1166386</th>\n",
       "      <td>tmin</td>\n",
       "      <td>HADGEM2-ES</td>\n",
       "      <td>India</td>\n",
       "      <td>2000-12-17</td>\n",
       "      <td>9.354494</td>\n",
       "      <td>12.0</td>\n",
       "      <td>DJF</td>\n",
       "    </tr>\n",
       "    <tr>\n",
       "      <th>1166387</th>\n",
       "      <td>tmin</td>\n",
       "      <td>HADGEM2-ES</td>\n",
       "      <td>India</td>\n",
       "      <td>2000-12-18</td>\n",
       "      <td>8.995394</td>\n",
       "      <td>12.0</td>\n",
       "      <td>DJF</td>\n",
       "    </tr>\n",
       "    <tr>\n",
       "      <th>1166388</th>\n",
       "      <td>tmin</td>\n",
       "      <td>HADGEM2-ES</td>\n",
       "      <td>India</td>\n",
       "      <td>2000-12-19</td>\n",
       "      <td>9.312818</td>\n",
       "      <td>12.0</td>\n",
       "      <td>DJF</td>\n",
       "    </tr>\n",
       "    <tr>\n",
       "      <th>1166389</th>\n",
       "      <td>tmin</td>\n",
       "      <td>HADGEM2-ES</td>\n",
       "      <td>India</td>\n",
       "      <td>2000-12-20</td>\n",
       "      <td>9.392918</td>\n",
       "      <td>12.0</td>\n",
       "      <td>DJF</td>\n",
       "    </tr>\n",
       "    <tr>\n",
       "      <th>1166390</th>\n",
       "      <td>tmin</td>\n",
       "      <td>HADGEM2-ES</td>\n",
       "      <td>India</td>\n",
       "      <td>2000-12-21</td>\n",
       "      <td>9.622423</td>\n",
       "      <td>12.0</td>\n",
       "      <td>DJF</td>\n",
       "    </tr>\n",
       "    <tr>\n",
       "      <th>1166391</th>\n",
       "      <td>tmin</td>\n",
       "      <td>HADGEM2-ES</td>\n",
       "      <td>India</td>\n",
       "      <td>2000-12-22</td>\n",
       "      <td>8.500094</td>\n",
       "      <td>12.0</td>\n",
       "      <td>DJF</td>\n",
       "    </tr>\n",
       "    <tr>\n",
       "      <th>1166392</th>\n",
       "      <td>tmin</td>\n",
       "      <td>HADGEM2-ES</td>\n",
       "      <td>India</td>\n",
       "      <td>2000-12-23</td>\n",
       "      <td>8.244836</td>\n",
       "      <td>12.0</td>\n",
       "      <td>DJF</td>\n",
       "    </tr>\n",
       "    <tr>\n",
       "      <th>1166393</th>\n",
       "      <td>tmin</td>\n",
       "      <td>HADGEM2-ES</td>\n",
       "      <td>India</td>\n",
       "      <td>2000-12-24</td>\n",
       "      <td>8.408673</td>\n",
       "      <td>12.0</td>\n",
       "      <td>DJF</td>\n",
       "    </tr>\n",
       "    <tr>\n",
       "      <th>1166394</th>\n",
       "      <td>tmin</td>\n",
       "      <td>HADGEM2-ES</td>\n",
       "      <td>India</td>\n",
       "      <td>2000-12-25</td>\n",
       "      <td>8.242764</td>\n",
       "      <td>12.0</td>\n",
       "      <td>DJF</td>\n",
       "    </tr>\n",
       "    <tr>\n",
       "      <th>1166395</th>\n",
       "      <td>tmin</td>\n",
       "      <td>HADGEM2-ES</td>\n",
       "      <td>India</td>\n",
       "      <td>2000-12-26</td>\n",
       "      <td>8.458817</td>\n",
       "      <td>12.0</td>\n",
       "      <td>DJF</td>\n",
       "    </tr>\n",
       "    <tr>\n",
       "      <th>1166396</th>\n",
       "      <td>tmin</td>\n",
       "      <td>HADGEM2-ES</td>\n",
       "      <td>India</td>\n",
       "      <td>2000-12-27</td>\n",
       "      <td>9.232350</td>\n",
       "      <td>12.0</td>\n",
       "      <td>DJF</td>\n",
       "    </tr>\n",
       "    <tr>\n",
       "      <th>1166397</th>\n",
       "      <td>tmin</td>\n",
       "      <td>HADGEM2-ES</td>\n",
       "      <td>India</td>\n",
       "      <td>2000-12-28</td>\n",
       "      <td>9.285704</td>\n",
       "      <td>12.0</td>\n",
       "      <td>DJF</td>\n",
       "    </tr>\n",
       "    <tr>\n",
       "      <th>1166398</th>\n",
       "      <td>tmin</td>\n",
       "      <td>HADGEM2-ES</td>\n",
       "      <td>India</td>\n",
       "      <td>2000-12-29</td>\n",
       "      <td>8.874494</td>\n",
       "      <td>12.0</td>\n",
       "      <td>DJF</td>\n",
       "    </tr>\n",
       "    <tr>\n",
       "      <th>1166399</th>\n",
       "      <td>tmin</td>\n",
       "      <td>HADGEM2-ES</td>\n",
       "      <td>India</td>\n",
       "      <td>2000-12-30</td>\n",
       "      <td>8.255291</td>\n",
       "      <td>12.0</td>\n",
       "      <td>DJF</td>\n",
       "    </tr>\n",
       "  </tbody>\n",
       "</table>\n",
       "<p>1157715 rows × 7 columns</p>\n",
       "</div>"
      ],
      "text/plain": [
       "        var_name       model    region       time   variable  month seas\n",
       "0         precip         IMD  Northern 1971-01-01   0.000000    1.0  DJF\n",
       "1         precip         IMD  Northern 1971-01-02   0.000000    1.0  DJF\n",
       "2         precip         IMD  Northern 1971-01-03   0.000000    1.0  DJF\n",
       "3         precip         IMD  Northern 1971-01-04   0.000000    1.0  DJF\n",
       "4         precip         IMD  Northern 1971-01-05   0.000000    1.0  DJF\n",
       "5         precip         IMD  Northern 1971-01-06   0.000000    1.0  DJF\n",
       "6         precip         IMD  Northern 1971-01-07   0.337511    1.0  DJF\n",
       "7         precip         IMD  Northern 1971-01-08   0.165058    1.0  DJF\n",
       "8         precip         IMD  Northern 1971-01-09   0.000000    1.0  DJF\n",
       "9         precip         IMD  Northern 1971-01-10   0.000000    1.0  DJF\n",
       "10        precip         IMD  Northern 1971-01-11   0.000000    1.0  DJF\n",
       "11        precip         IMD  Northern 1971-01-12   0.000000    1.0  DJF\n",
       "12        precip         IMD  Northern 1971-01-13   0.000000    1.0  DJF\n",
       "13        precip         IMD  Northern 1971-01-14   0.000000    1.0  DJF\n",
       "14        precip         IMD  Northern 1971-01-15   0.513271    1.0  DJF\n",
       "15        precip         IMD  Northern 1971-01-16   0.390814    1.0  DJF\n",
       "16        precip         IMD  Northern 1971-01-17   0.395817    1.0  DJF\n",
       "17        precip         IMD  Northern 1971-01-18   0.306599    1.0  DJF\n",
       "18        precip         IMD  Northern 1971-01-19   0.652574    1.0  DJF\n",
       "19        precip         IMD  Northern 1971-01-20   1.561650    1.0  DJF\n",
       "20        precip         IMD  Northern 1971-01-21   1.844197    1.0  DJF\n",
       "21        precip         IMD  Northern 1971-01-22   2.615324    1.0  DJF\n",
       "22        precip         IMD  Northern 1971-01-23   1.926449    1.0  DJF\n",
       "23        precip         IMD  Northern 1971-01-24   1.072559    1.0  DJF\n",
       "24        precip         IMD  Northern 1971-01-25   2.952279    1.0  DJF\n",
       "25        precip         IMD  Northern 1971-01-26   4.086830    1.0  DJF\n",
       "26        precip         IMD  Northern 1971-01-27   3.708375    1.0  DJF\n",
       "27        precip         IMD  Northern 1971-01-28   2.042331    1.0  DJF\n",
       "28        precip         IMD  Northern 1971-01-29   0.347746    1.0  DJF\n",
       "29        precip         IMD  Northern 1971-01-30   0.000000    1.0  DJF\n",
       "...          ...         ...       ...        ...        ...    ...  ...\n",
       "1166370     tmin  HADGEM2-ES     India 2000-12-01   8.227222   12.0  DJF\n",
       "1166371     tmin  HADGEM2-ES     India 2000-12-02   8.250276   12.0  DJF\n",
       "1166372     tmin  HADGEM2-ES     India 2000-12-03   8.616432   12.0  DJF\n",
       "1166373     tmin  HADGEM2-ES     India 2000-12-04   8.652301   12.0  DJF\n",
       "1166374     tmin  HADGEM2-ES     India 2000-12-05   8.320268   12.0  DJF\n",
       "1166375     tmin  HADGEM2-ES     India 2000-12-06   8.335623   12.0  DJF\n",
       "1166376     tmin  HADGEM2-ES     India 2000-12-07   8.766770   12.0  DJF\n",
       "1166377     tmin  HADGEM2-ES     India 2000-12-08   8.904874   12.0  DJF\n",
       "1166378     tmin  HADGEM2-ES     India 2000-12-09   9.295417   12.0  DJF\n",
       "1166379     tmin  HADGEM2-ES     India 2000-12-10  10.292881   12.0  DJF\n",
       "1166380     tmin  HADGEM2-ES     India 2000-12-11  11.273881   12.0  DJF\n",
       "1166381     tmin  HADGEM2-ES     India 2000-12-12  11.150125   12.0  DJF\n",
       "1166382     tmin  HADGEM2-ES     India 2000-12-13  10.043839   12.0  DJF\n",
       "1166383     tmin  HADGEM2-ES     India 2000-12-14   9.873621   12.0  DJF\n",
       "1166384     tmin  HADGEM2-ES     India 2000-12-15   9.849098   12.0  DJF\n",
       "1166385     tmin  HADGEM2-ES     India 2000-12-16   9.541004   12.0  DJF\n",
       "1166386     tmin  HADGEM2-ES     India 2000-12-17   9.354494   12.0  DJF\n",
       "1166387     tmin  HADGEM2-ES     India 2000-12-18   8.995394   12.0  DJF\n",
       "1166388     tmin  HADGEM2-ES     India 2000-12-19   9.312818   12.0  DJF\n",
       "1166389     tmin  HADGEM2-ES     India 2000-12-20   9.392918   12.0  DJF\n",
       "1166390     tmin  HADGEM2-ES     India 2000-12-21   9.622423   12.0  DJF\n",
       "1166391     tmin  HADGEM2-ES     India 2000-12-22   8.500094   12.0  DJF\n",
       "1166392     tmin  HADGEM2-ES     India 2000-12-23   8.244836   12.0  DJF\n",
       "1166393     tmin  HADGEM2-ES     India 2000-12-24   8.408673   12.0  DJF\n",
       "1166394     tmin  HADGEM2-ES     India 2000-12-25   8.242764   12.0  DJF\n",
       "1166395     tmin  HADGEM2-ES     India 2000-12-26   8.458817   12.0  DJF\n",
       "1166396     tmin  HADGEM2-ES     India 2000-12-27   9.232350   12.0  DJF\n",
       "1166397     tmin  HADGEM2-ES     India 2000-12-28   9.285704   12.0  DJF\n",
       "1166398     tmin  HADGEM2-ES     India 2000-12-29   8.874494   12.0  DJF\n",
       "1166399     tmin  HADGEM2-ES     India 2000-12-30   8.255291   12.0  DJF\n",
       "\n",
       "[1157715 rows x 7 columns]"
      ]
     },
     "execution_count": 1078,
     "metadata": {},
     "output_type": "execute_result"
    }
   ],
   "source": []
  },
  {
   "cell_type": "code",
   "execution_count": 827,
   "metadata": {},
   "outputs": [
    {
     "data": {
      "text/html": [
       "<div>\n",
       "<style scoped>\n",
       "    .dataframe tbody tr th:only-of-type {\n",
       "        vertical-align: middle;\n",
       "    }\n",
       "\n",
       "    .dataframe tbody tr th {\n",
       "        vertical-align: top;\n",
       "    }\n",
       "\n",
       "    .dataframe thead th {\n",
       "        text-align: right;\n",
       "    }\n",
       "</style>\n",
       "<table border=\"1\" class=\"dataframe\">\n",
       "  <thead>\n",
       "    <tr style=\"text-align: right;\">\n",
       "      <th></th>\n",
       "      <th></th>\n",
       "      <th></th>\n",
       "      <th>count</th>\n",
       "      <th>mean</th>\n",
       "      <th>std</th>\n",
       "      <th>min</th>\n",
       "      <th>25%</th>\n",
       "      <th>50%</th>\n",
       "      <th>75%</th>\n",
       "      <th>max</th>\n",
       "    </tr>\n",
       "    <tr>\n",
       "      <th>var_name</th>\n",
       "      <th>region</th>\n",
       "      <th>model</th>\n",
       "      <th></th>\n",
       "      <th></th>\n",
       "      <th></th>\n",
       "      <th></th>\n",
       "      <th></th>\n",
       "      <th></th>\n",
       "      <th></th>\n",
       "      <th></th>\n",
       "    </tr>\n",
       "  </thead>\n",
       "  <tbody>\n",
       "    <tr>\n",
       "      <th rowspan=\"27\" valign=\"top\">precip</th>\n",
       "      <th rowspan=\"3\" valign=\"top\">Central</th>\n",
       "      <th>HADGEM2-ES</th>\n",
       "      <td>10748.0</td>\n",
       "      <td>2.253328</td>\n",
       "      <td>3.545191</td>\n",
       "      <td>5.170044e-03</td>\n",
       "      <td>0.302603</td>\n",
       "      <td>0.673718</td>\n",
       "      <td>2.461517</td>\n",
       "      <td>25.990906</td>\n",
       "    </tr>\n",
       "    <tr>\n",
       "      <th>IMD</th>\n",
       "      <td>10748.0</td>\n",
       "      <td>2.913279</td>\n",
       "      <td>4.877775</td>\n",
       "      <td>0.000000e+00</td>\n",
       "      <td>0.016860</td>\n",
       "      <td>0.357470</td>\n",
       "      <td>3.641199</td>\n",
       "      <td>30.541578</td>\n",
       "    </tr>\n",
       "    <tr>\n",
       "      <th>PRECIS</th>\n",
       "      <td>10748.0</td>\n",
       "      <td>1.631506</td>\n",
       "      <td>3.183608</td>\n",
       "      <td>5.531307e-05</td>\n",
       "      <td>0.009799</td>\n",
       "      <td>0.110417</td>\n",
       "      <td>1.351202</td>\n",
       "      <td>31.122198</td>\n",
       "    </tr>\n",
       "    <tr>\n",
       "      <th rowspan=\"3\" valign=\"top\">Core Monsoon</th>\n",
       "      <th>HADGEM2-ES</th>\n",
       "      <td>10748.0</td>\n",
       "      <td>0.997673</td>\n",
       "      <td>2.230632</td>\n",
       "      <td>4.946910e-04</td>\n",
       "      <td>0.076563</td>\n",
       "      <td>0.178357</td>\n",
       "      <td>0.702871</td>\n",
       "      <td>25.618437</td>\n",
       "    </tr>\n",
       "    <tr>\n",
       "      <th>IMD</th>\n",
       "      <td>10748.0</td>\n",
       "      <td>2.616619</td>\n",
       "      <td>4.494337</td>\n",
       "      <td>0.000000e+00</td>\n",
       "      <td>0.009026</td>\n",
       "      <td>0.246775</td>\n",
       "      <td>3.266739</td>\n",
       "      <td>29.984631</td>\n",
       "    </tr>\n",
       "    <tr>\n",
       "      <th>PRECIS</th>\n",
       "      <td>10748.0</td>\n",
       "      <td>1.145052</td>\n",
       "      <td>2.959764</td>\n",
       "      <td>3.475251e-09</td>\n",
       "      <td>0.001126</td>\n",
       "      <td>0.016046</td>\n",
       "      <td>0.451833</td>\n",
       "      <td>38.423206</td>\n",
       "    </tr>\n",
       "    <tr>\n",
       "      <th rowspan=\"3\" valign=\"top\">East Coast</th>\n",
       "      <th>HADGEM2-ES</th>\n",
       "      <td>10748.0</td>\n",
       "      <td>1.348096</td>\n",
       "      <td>2.694990</td>\n",
       "      <td>4.836506e-04</td>\n",
       "      <td>0.075876</td>\n",
       "      <td>0.319390</td>\n",
       "      <td>1.243444</td>\n",
       "      <td>29.006571</td>\n",
       "    </tr>\n",
       "    <tr>\n",
       "      <th>IMD</th>\n",
       "      <td>10748.0</td>\n",
       "      <td>3.340288</td>\n",
       "      <td>4.596957</td>\n",
       "      <td>0.000000e+00</td>\n",
       "      <td>0.141413</td>\n",
       "      <td>1.598283</td>\n",
       "      <td>4.831926</td>\n",
       "      <td>51.512863</td>\n",
       "    </tr>\n",
       "    <tr>\n",
       "      <th>PRECIS</th>\n",
       "      <td>10748.0</td>\n",
       "      <td>2.025850</td>\n",
       "      <td>4.556166</td>\n",
       "      <td>6.259610e-05</td>\n",
       "      <td>0.038433</td>\n",
       "      <td>0.207629</td>\n",
       "      <td>1.918146</td>\n",
       "      <td>64.549240</td>\n",
       "    </tr>\n",
       "    <tr>\n",
       "      <th rowspan=\"3\" valign=\"top\">India</th>\n",
       "      <th>HADGEM2-ES</th>\n",
       "      <td>10748.0</td>\n",
       "      <td>2.151964</td>\n",
       "      <td>2.132552</td>\n",
       "      <td>6.294297e-02</td>\n",
       "      <td>0.616003</td>\n",
       "      <td>1.422682</td>\n",
       "      <td>2.955389</td>\n",
       "      <td>15.740044</td>\n",
       "    </tr>\n",
       "    <tr>\n",
       "      <th>IMD</th>\n",
       "      <td>10748.0</td>\n",
       "      <td>3.176616</td>\n",
       "      <td>3.453485</td>\n",
       "      <td>0.000000e+00</td>\n",
       "      <td>0.501780</td>\n",
       "      <td>1.712524</td>\n",
       "      <td>5.107472</td>\n",
       "      <td>18.782192</td>\n",
       "    </tr>\n",
       "    <tr>\n",
       "      <th>PRECIS</th>\n",
       "      <td>10748.0</td>\n",
       "      <td>2.005119</td>\n",
       "      <td>2.350498</td>\n",
       "      <td>3.739137e-03</td>\n",
       "      <td>0.372927</td>\n",
       "      <td>1.054732</td>\n",
       "      <td>2.845276</td>\n",
       "      <td>19.762371</td>\n",
       "    </tr>\n",
       "    <tr>\n",
       "      <th rowspan=\"3\" valign=\"top\">Inner Peninsular</th>\n",
       "      <th>HADGEM2-ES</th>\n",
       "      <td>10748.0</td>\n",
       "      <td>0.864139</td>\n",
       "      <td>2.145346</td>\n",
       "      <td>1.839922e-05</td>\n",
       "      <td>0.023143</td>\n",
       "      <td>0.123205</td>\n",
       "      <td>0.602497</td>\n",
       "      <td>31.945160</td>\n",
       "    </tr>\n",
       "    <tr>\n",
       "      <th>IMD</th>\n",
       "      <td>10748.0</td>\n",
       "      <td>2.596221</td>\n",
       "      <td>3.889280</td>\n",
       "      <td>0.000000e+00</td>\n",
       "      <td>0.054471</td>\n",
       "      <td>0.754286</td>\n",
       "      <td>3.678113</td>\n",
       "      <td>32.543194</td>\n",
       "    </tr>\n",
       "    <tr>\n",
       "      <th>PRECIS</th>\n",
       "      <td>10748.0</td>\n",
       "      <td>1.404262</td>\n",
       "      <td>3.564894</td>\n",
       "      <td>2.033699e-09</td>\n",
       "      <td>0.003016</td>\n",
       "      <td>0.066496</td>\n",
       "      <td>0.914415</td>\n",
       "      <td>47.901764</td>\n",
       "    </tr>\n",
       "    <tr>\n",
       "      <th rowspan=\"3\" valign=\"top\">North East</th>\n",
       "      <th>HADGEM2-ES</th>\n",
       "      <td>10748.0</td>\n",
       "      <td>5.824118</td>\n",
       "      <td>6.085293</td>\n",
       "      <td>4.545222e-02</td>\n",
       "      <td>0.888560</td>\n",
       "      <td>3.512829</td>\n",
       "      <td>9.158826</td>\n",
       "      <td>39.543877</td>\n",
       "    </tr>\n",
       "    <tr>\n",
       "      <th>IMD</th>\n",
       "      <td>10748.0</td>\n",
       "      <td>5.853519</td>\n",
       "      <td>6.935573</td>\n",
       "      <td>0.000000e+00</td>\n",
       "      <td>0.320947</td>\n",
       "      <td>3.179784</td>\n",
       "      <td>9.399637</td>\n",
       "      <td>55.287628</td>\n",
       "    </tr>\n",
       "    <tr>\n",
       "      <th>PRECIS</th>\n",
       "      <td>10748.0</td>\n",
       "      <td>4.777733</td>\n",
       "      <td>5.453840</td>\n",
       "      <td>3.109011e-03</td>\n",
       "      <td>0.361498</td>\n",
       "      <td>2.556159</td>\n",
       "      <td>8.043973</td>\n",
       "      <td>52.579678</td>\n",
       "    </tr>\n",
       "    <tr>\n",
       "      <th rowspan=\"3\" valign=\"top\">North West</th>\n",
       "      <th>HADGEM2-ES</th>\n",
       "      <td>10748.0</td>\n",
       "      <td>1.046776</td>\n",
       "      <td>1.746382</td>\n",
       "      <td>1.579658e-05</td>\n",
       "      <td>0.119953</td>\n",
       "      <td>0.338681</td>\n",
       "      <td>1.181487</td>\n",
       "      <td>20.110577</td>\n",
       "    </tr>\n",
       "    <tr>\n",
       "      <th>IMD</th>\n",
       "      <td>10748.0</td>\n",
       "      <td>1.500172</td>\n",
       "      <td>3.108036</td>\n",
       "      <td>0.000000e+00</td>\n",
       "      <td>0.005432</td>\n",
       "      <td>0.135123</td>\n",
       "      <td>1.295593</td>\n",
       "      <td>31.086290</td>\n",
       "    </tr>\n",
       "    <tr>\n",
       "      <th>PRECIS</th>\n",
       "      <td>10748.0</td>\n",
       "      <td>0.512227</td>\n",
       "      <td>1.280834</td>\n",
       "      <td>4.874000e-06</td>\n",
       "      <td>0.006206</td>\n",
       "      <td>0.045484</td>\n",
       "      <td>0.371941</td>\n",
       "      <td>25.302101</td>\n",
       "    </tr>\n",
       "    <tr>\n",
       "      <th rowspan=\"3\" valign=\"top\">Northern</th>\n",
       "      <th>HADGEM2-ES</th>\n",
       "      <td>10748.0</td>\n",
       "      <td>2.888195</td>\n",
       "      <td>2.732666</td>\n",
       "      <td>1.551076e-03</td>\n",
       "      <td>0.901293</td>\n",
       "      <td>2.140315</td>\n",
       "      <td>4.005545</td>\n",
       "      <td>25.274141</td>\n",
       "    </tr>\n",
       "    <tr>\n",
       "      <th>IMD</th>\n",
       "      <td>10748.0</td>\n",
       "      <td>2.665097</td>\n",
       "      <td>5.089244</td>\n",
       "      <td>0.000000e+00</td>\n",
       "      <td>0.023689</td>\n",
       "      <td>0.711614</td>\n",
       "      <td>3.062691</td>\n",
       "      <td>74.637161</td>\n",
       "    </tr>\n",
       "    <tr>\n",
       "      <th>PRECIS</th>\n",
       "      <td>10748.0</td>\n",
       "      <td>2.281215</td>\n",
       "      <td>3.206133</td>\n",
       "      <td>8.478470e-04</td>\n",
       "      <td>0.312091</td>\n",
       "      <td>1.210029</td>\n",
       "      <td>2.874988</td>\n",
       "      <td>39.354095</td>\n",
       "    </tr>\n",
       "    <tr>\n",
       "      <th rowspan=\"3\" valign=\"top\">West Coast</th>\n",
       "      <th>HADGEM2-ES</th>\n",
       "      <td>10748.0</td>\n",
       "      <td>1.004086</td>\n",
       "      <td>2.089047</td>\n",
       "      <td>8.295361e-06</td>\n",
       "      <td>0.019180</td>\n",
       "      <td>0.126266</td>\n",
       "      <td>0.952982</td>\n",
       "      <td>35.293903</td>\n",
       "    </tr>\n",
       "    <tr>\n",
       "      <th>IMD</th>\n",
       "      <td>10748.0</td>\n",
       "      <td>4.099380</td>\n",
       "      <td>6.633994</td>\n",
       "      <td>0.000000e+00</td>\n",
       "      <td>0.077283</td>\n",
       "      <td>1.196865</td>\n",
       "      <td>5.302850</td>\n",
       "      <td>69.848152</td>\n",
       "    </tr>\n",
       "    <tr>\n",
       "      <th>PRECIS</th>\n",
       "      <td>10748.0</td>\n",
       "      <td>2.094661</td>\n",
       "      <td>3.685714</td>\n",
       "      <td>1.373100e-04</td>\n",
       "      <td>0.122036</td>\n",
       "      <td>0.419799</td>\n",
       "      <td>2.164680</td>\n",
       "      <td>54.316647</td>\n",
       "    </tr>\n",
       "    <tr>\n",
       "      <th rowspan=\"3\" valign=\"top\">tmax</th>\n",
       "      <th rowspan=\"3\" valign=\"top\">Central</th>\n",
       "      <th>HADGEM2-ES</th>\n",
       "      <td>10407.0</td>\n",
       "      <td>27.210472</td>\n",
       "      <td>6.929998</td>\n",
       "      <td>-2.867820e+01</td>\n",
       "      <td>21.281910</td>\n",
       "      <td>28.426369</td>\n",
       "      <td>32.595926</td>\n",
       "      <td>41.441227</td>\n",
       "    </tr>\n",
       "    <tr>\n",
       "      <th>IMD</th>\n",
       "      <td>10748.0</td>\n",
       "      <td>31.550257</td>\n",
       "      <td>5.286817</td>\n",
       "      <td>1.713857e+01</td>\n",
       "      <td>27.885705</td>\n",
       "      <td>31.402620</td>\n",
       "      <td>34.896154</td>\n",
       "      <td>44.166233</td>\n",
       "    </tr>\n",
       "    <tr>\n",
       "      <th>PRECIS</th>\n",
       "      <td>10748.0</td>\n",
       "      <td>31.850044</td>\n",
       "      <td>6.552628</td>\n",
       "      <td>1.064487e+01</td>\n",
       "      <td>27.461418</td>\n",
       "      <td>31.732406</td>\n",
       "      <td>36.819417</td>\n",
       "      <td>45.413143</td>\n",
       "    </tr>\n",
       "    <tr>\n",
       "      <th>...</th>\n",
       "      <th>...</th>\n",
       "      <th>...</th>\n",
       "      <td>...</td>\n",
       "      <td>...</td>\n",
       "      <td>...</td>\n",
       "      <td>...</td>\n",
       "      <td>...</td>\n",
       "      <td>...</td>\n",
       "      <td>...</td>\n",
       "      <td>...</td>\n",
       "    </tr>\n",
       "    <tr>\n",
       "      <th rowspan=\"3\" valign=\"top\">tmean</th>\n",
       "      <th rowspan=\"3\" valign=\"top\">West Coast</th>\n",
       "      <th>HADGEM2-ES</th>\n",
       "      <td>10748.0</td>\n",
       "      <td>26.077799</td>\n",
       "      <td>2.298260</td>\n",
       "      <td>1.645366e+01</td>\n",
       "      <td>24.735545</td>\n",
       "      <td>26.404141</td>\n",
       "      <td>27.835831</td>\n",
       "      <td>31.430717</td>\n",
       "    </tr>\n",
       "    <tr>\n",
       "      <th>IMD</th>\n",
       "      <td>10748.0</td>\n",
       "      <td>25.885553</td>\n",
       "      <td>2.344806</td>\n",
       "      <td>1.858506e+01</td>\n",
       "      <td>24.260186</td>\n",
       "      <td>25.945075</td>\n",
       "      <td>27.410159</td>\n",
       "      <td>31.612091</td>\n",
       "    </tr>\n",
       "    <tr>\n",
       "      <th>PRECIS</th>\n",
       "      <td>10748.0</td>\n",
       "      <td>24.891102</td>\n",
       "      <td>2.248443</td>\n",
       "      <td>1.311389e+01</td>\n",
       "      <td>23.764129</td>\n",
       "      <td>25.007478</td>\n",
       "      <td>26.559884</td>\n",
       "      <td>30.704847</td>\n",
       "    </tr>\n",
       "    <tr>\n",
       "      <th rowspan=\"27\" valign=\"top\">tmin</th>\n",
       "      <th rowspan=\"3\" valign=\"top\">Central</th>\n",
       "      <th>HADGEM2-ES</th>\n",
       "      <td>10748.0</td>\n",
       "      <td>15.844198</td>\n",
       "      <td>7.756622</td>\n",
       "      <td>-2.420213e+00</td>\n",
       "      <td>9.059743</td>\n",
       "      <td>15.735098</td>\n",
       "      <td>23.276962</td>\n",
       "      <td>30.410961</td>\n",
       "    </tr>\n",
       "    <tr>\n",
       "      <th>IMD</th>\n",
       "      <td>10748.0</td>\n",
       "      <td>18.454504</td>\n",
       "      <td>6.420942</td>\n",
       "      <td>3.801458e+00</td>\n",
       "      <td>12.392378</td>\n",
       "      <td>20.390266</td>\n",
       "      <td>24.023062</td>\n",
       "      <td>29.751669</td>\n",
       "    </tr>\n",
       "    <tr>\n",
       "      <th>PRECIS</th>\n",
       "      <td>10748.0</td>\n",
       "      <td>15.749018</td>\n",
       "      <td>8.005236</td>\n",
       "      <td>-5.006531e+00</td>\n",
       "      <td>8.858867</td>\n",
       "      <td>16.643044</td>\n",
       "      <td>23.011381</td>\n",
       "      <td>29.699852</td>\n",
       "    </tr>\n",
       "    <tr>\n",
       "      <th rowspan=\"3\" valign=\"top\">Core Monsoon</th>\n",
       "      <th>HADGEM2-ES</th>\n",
       "      <td>10748.0</td>\n",
       "      <td>17.382534</td>\n",
       "      <td>7.089697</td>\n",
       "      <td>-7.857960e-02</td>\n",
       "      <td>11.224800</td>\n",
       "      <td>17.939610</td>\n",
       "      <td>23.999978</td>\n",
       "      <td>30.396605</td>\n",
       "    </tr>\n",
       "    <tr>\n",
       "      <th>IMD</th>\n",
       "      <td>10748.0</td>\n",
       "      <td>19.204834</td>\n",
       "      <td>5.713135</td>\n",
       "      <td>4.946763e+00</td>\n",
       "      <td>13.843486</td>\n",
       "      <td>21.116284</td>\n",
       "      <td>23.847833</td>\n",
       "      <td>29.343557</td>\n",
       "    </tr>\n",
       "    <tr>\n",
       "      <th>PRECIS</th>\n",
       "      <td>10748.0</td>\n",
       "      <td>17.058613</td>\n",
       "      <td>6.865425</td>\n",
       "      <td>-3.365489e+00</td>\n",
       "      <td>11.282597</td>\n",
       "      <td>18.353851</td>\n",
       "      <td>23.229956</td>\n",
       "      <td>28.083870</td>\n",
       "    </tr>\n",
       "    <tr>\n",
       "      <th rowspan=\"3\" valign=\"top\">East Coast</th>\n",
       "      <th>HADGEM2-ES</th>\n",
       "      <td>10748.0</td>\n",
       "      <td>21.735033</td>\n",
       "      <td>4.400187</td>\n",
       "      <td>1.049031e+01</td>\n",
       "      <td>17.854727</td>\n",
       "      <td>22.325943</td>\n",
       "      <td>25.367804</td>\n",
       "      <td>30.378267</td>\n",
       "    </tr>\n",
       "    <tr>\n",
       "      <th>IMD</th>\n",
       "      <td>10748.0</td>\n",
       "      <td>22.420176</td>\n",
       "      <td>3.418725</td>\n",
       "      <td>1.295974e+01</td>\n",
       "      <td>19.637876</td>\n",
       "      <td>23.778354</td>\n",
       "      <td>24.962062</td>\n",
       "      <td>29.181517</td>\n",
       "    </tr>\n",
       "    <tr>\n",
       "      <th>PRECIS</th>\n",
       "      <td>10748.0</td>\n",
       "      <td>20.799572</td>\n",
       "      <td>4.742040</td>\n",
       "      <td>6.342866e+00</td>\n",
       "      <td>16.885227</td>\n",
       "      <td>22.062037</td>\n",
       "      <td>24.307890</td>\n",
       "      <td>30.585789</td>\n",
       "    </tr>\n",
       "    <tr>\n",
       "      <th rowspan=\"3\" valign=\"top\">India</th>\n",
       "      <th>HADGEM2-ES</th>\n",
       "      <td>10748.0</td>\n",
       "      <td>14.775386</td>\n",
       "      <td>6.508060</td>\n",
       "      <td>8.109503e-02</td>\n",
       "      <td>8.819622</td>\n",
       "      <td>15.263926</td>\n",
       "      <td>21.270668</td>\n",
       "      <td>25.428047</td>\n",
       "    </tr>\n",
       "    <tr>\n",
       "      <th>IMD</th>\n",
       "      <td>10748.0</td>\n",
       "      <td>18.618572</td>\n",
       "      <td>5.220311</td>\n",
       "      <td>6.776074e+00</td>\n",
       "      <td>13.615893</td>\n",
       "      <td>20.288929</td>\n",
       "      <td>23.281232</td>\n",
       "      <td>26.974131</td>\n",
       "    </tr>\n",
       "    <tr>\n",
       "      <th>PRECIS</th>\n",
       "      <td>10748.0</td>\n",
       "      <td>14.058372</td>\n",
       "      <td>6.629133</td>\n",
       "      <td>-3.914334e+00</td>\n",
       "      <td>8.089758</td>\n",
       "      <td>15.092005</td>\n",
       "      <td>20.471664</td>\n",
       "      <td>24.121531</td>\n",
       "    </tr>\n",
       "    <tr>\n",
       "      <th rowspan=\"3\" valign=\"top\">Inner Peninsular</th>\n",
       "      <th>HADGEM2-ES</th>\n",
       "      <td>10748.0</td>\n",
       "      <td>18.860270</td>\n",
       "      <td>5.023081</td>\n",
       "      <td>4.572223e+00</td>\n",
       "      <td>14.686616</td>\n",
       "      <td>19.771613</td>\n",
       "      <td>23.122245</td>\n",
       "      <td>28.129166</td>\n",
       "    </tr>\n",
       "    <tr>\n",
       "      <th>IMD</th>\n",
       "      <td>10748.0</td>\n",
       "      <td>20.429470</td>\n",
       "      <td>3.909136</td>\n",
       "      <td>9.979870e+00</td>\n",
       "      <td>17.148607</td>\n",
       "      <td>21.965890</td>\n",
       "      <td>23.197140</td>\n",
       "      <td>28.330482</td>\n",
       "    </tr>\n",
       "    <tr>\n",
       "      <th>PRECIS</th>\n",
       "      <td>10748.0</td>\n",
       "      <td>18.470690</td>\n",
       "      <td>4.796437</td>\n",
       "      <td>1.989003e+00</td>\n",
       "      <td>14.642095</td>\n",
       "      <td>19.918821</td>\n",
       "      <td>22.312413</td>\n",
       "      <td>26.605225</td>\n",
       "    </tr>\n",
       "    <tr>\n",
       "      <th rowspan=\"3\" valign=\"top\">North East</th>\n",
       "      <th>HADGEM2-ES</th>\n",
       "      <td>10748.0</td>\n",
       "      <td>13.822627</td>\n",
       "      <td>6.817426</td>\n",
       "      <td>-2.394565e+00</td>\n",
       "      <td>7.279488</td>\n",
       "      <td>14.497948</td>\n",
       "      <td>20.741578</td>\n",
       "      <td>25.087523</td>\n",
       "    </tr>\n",
       "    <tr>\n",
       "      <th>IMD</th>\n",
       "      <td>10748.0</td>\n",
       "      <td>18.833570</td>\n",
       "      <td>5.472816</td>\n",
       "      <td>5.376878e+00</td>\n",
       "      <td>13.824931</td>\n",
       "      <td>20.629166</td>\n",
       "      <td>23.817442</td>\n",
       "      <td>26.663197</td>\n",
       "    </tr>\n",
       "    <tr>\n",
       "      <th>PRECIS</th>\n",
       "      <td>10748.0</td>\n",
       "      <td>14.532756</td>\n",
       "      <td>7.215105</td>\n",
       "      <td>-2.815763e+00</td>\n",
       "      <td>8.251429</td>\n",
       "      <td>16.333321</td>\n",
       "      <td>21.150667</td>\n",
       "      <td>27.127405</td>\n",
       "    </tr>\n",
       "    <tr>\n",
       "      <th rowspan=\"3\" valign=\"top\">North West</th>\n",
       "      <th>HADGEM2-ES</th>\n",
       "      <td>10748.0</td>\n",
       "      <td>15.463981</td>\n",
       "      <td>8.315459</td>\n",
       "      <td>-3.958874e+00</td>\n",
       "      <td>7.988411</td>\n",
       "      <td>16.175419</td>\n",
       "      <td>23.794329</td>\n",
       "      <td>28.487820</td>\n",
       "    </tr>\n",
       "    <tr>\n",
       "      <th>IMD</th>\n",
       "      <td>10748.0</td>\n",
       "      <td>17.855785</td>\n",
       "      <td>6.831431</td>\n",
       "      <td>1.366766e+00</td>\n",
       "      <td>11.354880</td>\n",
       "      <td>19.417606</td>\n",
       "      <td>24.050707</td>\n",
       "      <td>29.628691</td>\n",
       "    </tr>\n",
       "    <tr>\n",
       "      <th>PRECIS</th>\n",
       "      <td>10748.0</td>\n",
       "      <td>15.238786</td>\n",
       "      <td>8.699546</td>\n",
       "      <td>-7.575289e+00</td>\n",
       "      <td>7.555782</td>\n",
       "      <td>16.136325</td>\n",
       "      <td>24.026355</td>\n",
       "      <td>28.081608</td>\n",
       "    </tr>\n",
       "    <tr>\n",
       "      <th rowspan=\"3\" valign=\"top\">Northern</th>\n",
       "      <th>HADGEM2-ES</th>\n",
       "      <td>10748.0</td>\n",
       "      <td>-7.116094</td>\n",
       "      <td>9.968582</td>\n",
       "      <td>-3.031518e+01</td>\n",
       "      <td>-15.422524</td>\n",
       "      <td>-7.010248</td>\n",
       "      <td>1.835440</td>\n",
       "      <td>10.219533</td>\n",
       "    </tr>\n",
       "    <tr>\n",
       "      <th>IMD</th>\n",
       "      <td>10748.0</td>\n",
       "      <td>9.903076</td>\n",
       "      <td>7.046141</td>\n",
       "      <td>-5.673908e+00</td>\n",
       "      <td>3.355845</td>\n",
       "      <td>10.077602</td>\n",
       "      <td>16.499089</td>\n",
       "      <td>23.000504</td>\n",
       "    </tr>\n",
       "    <tr>\n",
       "      <th>PRECIS</th>\n",
       "      <td>10748.0</td>\n",
       "      <td>-12.064386</td>\n",
       "      <td>10.039362</td>\n",
       "      <td>-3.687417e+01</td>\n",
       "      <td>-20.166978</td>\n",
       "      <td>-11.747824</td>\n",
       "      <td>-3.088984</td>\n",
       "      <td>7.041219</td>\n",
       "    </tr>\n",
       "    <tr>\n",
       "      <th rowspan=\"3\" valign=\"top\">West Coast</th>\n",
       "      <th>HADGEM2-ES</th>\n",
       "      <td>10748.0</td>\n",
       "      <td>20.683662</td>\n",
       "      <td>3.008438</td>\n",
       "      <td>1.076520e+01</td>\n",
       "      <td>18.196533</td>\n",
       "      <td>21.771069</td>\n",
       "      <td>23.241431</td>\n",
       "      <td>26.027323</td>\n",
       "    </tr>\n",
       "    <tr>\n",
       "      <th>IMD</th>\n",
       "      <td>10748.0</td>\n",
       "      <td>20.294739</td>\n",
       "      <td>3.116743</td>\n",
       "      <td>1.118371e+01</td>\n",
       "      <td>17.529213</td>\n",
       "      <td>21.574248</td>\n",
       "      <td>22.730847</td>\n",
       "      <td>25.794365</td>\n",
       "    </tr>\n",
       "    <tr>\n",
       "      <th>PRECIS</th>\n",
       "      <td>10748.0</td>\n",
       "      <td>19.435305</td>\n",
       "      <td>3.193257</td>\n",
       "      <td>5.890807e+00</td>\n",
       "      <td>16.930933</td>\n",
       "      <td>20.323868</td>\n",
       "      <td>22.142250</td>\n",
       "      <td>24.368906</td>\n",
       "    </tr>\n",
       "  </tbody>\n",
       "</table>\n",
       "<p>108 rows × 8 columns</p>\n",
       "</div>"
      ],
      "text/plain": [
       "                                        count       mean        std  \\\n",
       "var_name region           model                                       \n",
       "precip   Central          HADGEM2-ES  10748.0   2.253328   3.545191   \n",
       "                          IMD         10748.0   2.913279   4.877775   \n",
       "                          PRECIS      10748.0   1.631506   3.183608   \n",
       "         Core Monsoon     HADGEM2-ES  10748.0   0.997673   2.230632   \n",
       "                          IMD         10748.0   2.616619   4.494337   \n",
       "                          PRECIS      10748.0   1.145052   2.959764   \n",
       "         East Coast       HADGEM2-ES  10748.0   1.348096   2.694990   \n",
       "                          IMD         10748.0   3.340288   4.596957   \n",
       "                          PRECIS      10748.0   2.025850   4.556166   \n",
       "         India            HADGEM2-ES  10748.0   2.151964   2.132552   \n",
       "                          IMD         10748.0   3.176616   3.453485   \n",
       "                          PRECIS      10748.0   2.005119   2.350498   \n",
       "         Inner Peninsular HADGEM2-ES  10748.0   0.864139   2.145346   \n",
       "                          IMD         10748.0   2.596221   3.889280   \n",
       "                          PRECIS      10748.0   1.404262   3.564894   \n",
       "         North East       HADGEM2-ES  10748.0   5.824118   6.085293   \n",
       "                          IMD         10748.0   5.853519   6.935573   \n",
       "                          PRECIS      10748.0   4.777733   5.453840   \n",
       "         North West       HADGEM2-ES  10748.0   1.046776   1.746382   \n",
       "                          IMD         10748.0   1.500172   3.108036   \n",
       "                          PRECIS      10748.0   0.512227   1.280834   \n",
       "         Northern         HADGEM2-ES  10748.0   2.888195   2.732666   \n",
       "                          IMD         10748.0   2.665097   5.089244   \n",
       "                          PRECIS      10748.0   2.281215   3.206133   \n",
       "         West Coast       HADGEM2-ES  10748.0   1.004086   2.089047   \n",
       "                          IMD         10748.0   4.099380   6.633994   \n",
       "                          PRECIS      10748.0   2.094661   3.685714   \n",
       "tmax     Central          HADGEM2-ES  10407.0  27.210472   6.929998   \n",
       "                          IMD         10748.0  31.550257   5.286817   \n",
       "                          PRECIS      10748.0  31.850044   6.552628   \n",
       "...                                       ...        ...        ...   \n",
       "tmean    West Coast       HADGEM2-ES  10748.0  26.077799   2.298260   \n",
       "                          IMD         10748.0  25.885553   2.344806   \n",
       "                          PRECIS      10748.0  24.891102   2.248443   \n",
       "tmin     Central          HADGEM2-ES  10748.0  15.844198   7.756622   \n",
       "                          IMD         10748.0  18.454504   6.420942   \n",
       "                          PRECIS      10748.0  15.749018   8.005236   \n",
       "         Core Monsoon     HADGEM2-ES  10748.0  17.382534   7.089697   \n",
       "                          IMD         10748.0  19.204834   5.713135   \n",
       "                          PRECIS      10748.0  17.058613   6.865425   \n",
       "         East Coast       HADGEM2-ES  10748.0  21.735033   4.400187   \n",
       "                          IMD         10748.0  22.420176   3.418725   \n",
       "                          PRECIS      10748.0  20.799572   4.742040   \n",
       "         India            HADGEM2-ES  10748.0  14.775386   6.508060   \n",
       "                          IMD         10748.0  18.618572   5.220311   \n",
       "                          PRECIS      10748.0  14.058372   6.629133   \n",
       "         Inner Peninsular HADGEM2-ES  10748.0  18.860270   5.023081   \n",
       "                          IMD         10748.0  20.429470   3.909136   \n",
       "                          PRECIS      10748.0  18.470690   4.796437   \n",
       "         North East       HADGEM2-ES  10748.0  13.822627   6.817426   \n",
       "                          IMD         10748.0  18.833570   5.472816   \n",
       "                          PRECIS      10748.0  14.532756   7.215105   \n",
       "         North West       HADGEM2-ES  10748.0  15.463981   8.315459   \n",
       "                          IMD         10748.0  17.855785   6.831431   \n",
       "                          PRECIS      10748.0  15.238786   8.699546   \n",
       "         Northern         HADGEM2-ES  10748.0  -7.116094   9.968582   \n",
       "                          IMD         10748.0   9.903076   7.046141   \n",
       "                          PRECIS      10748.0 -12.064386  10.039362   \n",
       "         West Coast       HADGEM2-ES  10748.0  20.683662   3.008438   \n",
       "                          IMD         10748.0  20.294739   3.116743   \n",
       "                          PRECIS      10748.0  19.435305   3.193257   \n",
       "\n",
       "                                               min        25%        50%  \\\n",
       "var_name region           model                                            \n",
       "precip   Central          HADGEM2-ES  5.170044e-03   0.302603   0.673718   \n",
       "                          IMD         0.000000e+00   0.016860   0.357470   \n",
       "                          PRECIS      5.531307e-05   0.009799   0.110417   \n",
       "         Core Monsoon     HADGEM2-ES  4.946910e-04   0.076563   0.178357   \n",
       "                          IMD         0.000000e+00   0.009026   0.246775   \n",
       "                          PRECIS      3.475251e-09   0.001126   0.016046   \n",
       "         East Coast       HADGEM2-ES  4.836506e-04   0.075876   0.319390   \n",
       "                          IMD         0.000000e+00   0.141413   1.598283   \n",
       "                          PRECIS      6.259610e-05   0.038433   0.207629   \n",
       "         India            HADGEM2-ES  6.294297e-02   0.616003   1.422682   \n",
       "                          IMD         0.000000e+00   0.501780   1.712524   \n",
       "                          PRECIS      3.739137e-03   0.372927   1.054732   \n",
       "         Inner Peninsular HADGEM2-ES  1.839922e-05   0.023143   0.123205   \n",
       "                          IMD         0.000000e+00   0.054471   0.754286   \n",
       "                          PRECIS      2.033699e-09   0.003016   0.066496   \n",
       "         North East       HADGEM2-ES  4.545222e-02   0.888560   3.512829   \n",
       "                          IMD         0.000000e+00   0.320947   3.179784   \n",
       "                          PRECIS      3.109011e-03   0.361498   2.556159   \n",
       "         North West       HADGEM2-ES  1.579658e-05   0.119953   0.338681   \n",
       "                          IMD         0.000000e+00   0.005432   0.135123   \n",
       "                          PRECIS      4.874000e-06   0.006206   0.045484   \n",
       "         Northern         HADGEM2-ES  1.551076e-03   0.901293   2.140315   \n",
       "                          IMD         0.000000e+00   0.023689   0.711614   \n",
       "                          PRECIS      8.478470e-04   0.312091   1.210029   \n",
       "         West Coast       HADGEM2-ES  8.295361e-06   0.019180   0.126266   \n",
       "                          IMD         0.000000e+00   0.077283   1.196865   \n",
       "                          PRECIS      1.373100e-04   0.122036   0.419799   \n",
       "tmax     Central          HADGEM2-ES -2.867820e+01  21.281910  28.426369   \n",
       "                          IMD         1.713857e+01  27.885705  31.402620   \n",
       "                          PRECIS      1.064487e+01  27.461418  31.732406   \n",
       "...                                            ...        ...        ...   \n",
       "tmean    West Coast       HADGEM2-ES  1.645366e+01  24.735545  26.404141   \n",
       "                          IMD         1.858506e+01  24.260186  25.945075   \n",
       "                          PRECIS      1.311389e+01  23.764129  25.007478   \n",
       "tmin     Central          HADGEM2-ES -2.420213e+00   9.059743  15.735098   \n",
       "                          IMD         3.801458e+00  12.392378  20.390266   \n",
       "                          PRECIS     -5.006531e+00   8.858867  16.643044   \n",
       "         Core Monsoon     HADGEM2-ES -7.857960e-02  11.224800  17.939610   \n",
       "                          IMD         4.946763e+00  13.843486  21.116284   \n",
       "                          PRECIS     -3.365489e+00  11.282597  18.353851   \n",
       "         East Coast       HADGEM2-ES  1.049031e+01  17.854727  22.325943   \n",
       "                          IMD         1.295974e+01  19.637876  23.778354   \n",
       "                          PRECIS      6.342866e+00  16.885227  22.062037   \n",
       "         India            HADGEM2-ES  8.109503e-02   8.819622  15.263926   \n",
       "                          IMD         6.776074e+00  13.615893  20.288929   \n",
       "                          PRECIS     -3.914334e+00   8.089758  15.092005   \n",
       "         Inner Peninsular HADGEM2-ES  4.572223e+00  14.686616  19.771613   \n",
       "                          IMD         9.979870e+00  17.148607  21.965890   \n",
       "                          PRECIS      1.989003e+00  14.642095  19.918821   \n",
       "         North East       HADGEM2-ES -2.394565e+00   7.279488  14.497948   \n",
       "                          IMD         5.376878e+00  13.824931  20.629166   \n",
       "                          PRECIS     -2.815763e+00   8.251429  16.333321   \n",
       "         North West       HADGEM2-ES -3.958874e+00   7.988411  16.175419   \n",
       "                          IMD         1.366766e+00  11.354880  19.417606   \n",
       "                          PRECIS     -7.575289e+00   7.555782  16.136325   \n",
       "         Northern         HADGEM2-ES -3.031518e+01 -15.422524  -7.010248   \n",
       "                          IMD        -5.673908e+00   3.355845  10.077602   \n",
       "                          PRECIS     -3.687417e+01 -20.166978 -11.747824   \n",
       "         West Coast       HADGEM2-ES  1.076520e+01  18.196533  21.771069   \n",
       "                          IMD         1.118371e+01  17.529213  21.574248   \n",
       "                          PRECIS      5.890807e+00  16.930933  20.323868   \n",
       "\n",
       "                                            75%        max  \n",
       "var_name region           model                             \n",
       "precip   Central          HADGEM2-ES   2.461517  25.990906  \n",
       "                          IMD          3.641199  30.541578  \n",
       "                          PRECIS       1.351202  31.122198  \n",
       "         Core Monsoon     HADGEM2-ES   0.702871  25.618437  \n",
       "                          IMD          3.266739  29.984631  \n",
       "                          PRECIS       0.451833  38.423206  \n",
       "         East Coast       HADGEM2-ES   1.243444  29.006571  \n",
       "                          IMD          4.831926  51.512863  \n",
       "                          PRECIS       1.918146  64.549240  \n",
       "         India            HADGEM2-ES   2.955389  15.740044  \n",
       "                          IMD          5.107472  18.782192  \n",
       "                          PRECIS       2.845276  19.762371  \n",
       "         Inner Peninsular HADGEM2-ES   0.602497  31.945160  \n",
       "                          IMD          3.678113  32.543194  \n",
       "                          PRECIS       0.914415  47.901764  \n",
       "         North East       HADGEM2-ES   9.158826  39.543877  \n",
       "                          IMD          9.399637  55.287628  \n",
       "                          PRECIS       8.043973  52.579678  \n",
       "         North West       HADGEM2-ES   1.181487  20.110577  \n",
       "                          IMD          1.295593  31.086290  \n",
       "                          PRECIS       0.371941  25.302101  \n",
       "         Northern         HADGEM2-ES   4.005545  25.274141  \n",
       "                          IMD          3.062691  74.637161  \n",
       "                          PRECIS       2.874988  39.354095  \n",
       "         West Coast       HADGEM2-ES   0.952982  35.293903  \n",
       "                          IMD          5.302850  69.848152  \n",
       "                          PRECIS       2.164680  54.316647  \n",
       "tmax     Central          HADGEM2-ES  32.595926  41.441227  \n",
       "                          IMD         34.896154  44.166233  \n",
       "                          PRECIS      36.819417  45.413143  \n",
       "...                                         ...        ...  \n",
       "tmean    West Coast       HADGEM2-ES  27.835831  31.430717  \n",
       "                          IMD         27.410159  31.612091  \n",
       "                          PRECIS      26.559884  30.704847  \n",
       "tmin     Central          HADGEM2-ES  23.276962  30.410961  \n",
       "                          IMD         24.023062  29.751669  \n",
       "                          PRECIS      23.011381  29.699852  \n",
       "         Core Monsoon     HADGEM2-ES  23.999978  30.396605  \n",
       "                          IMD         23.847833  29.343557  \n",
       "                          PRECIS      23.229956  28.083870  \n",
       "         East Coast       HADGEM2-ES  25.367804  30.378267  \n",
       "                          IMD         24.962062  29.181517  \n",
       "                          PRECIS      24.307890  30.585789  \n",
       "         India            HADGEM2-ES  21.270668  25.428047  \n",
       "                          IMD         23.281232  26.974131  \n",
       "                          PRECIS      20.471664  24.121531  \n",
       "         Inner Peninsular HADGEM2-ES  23.122245  28.129166  \n",
       "                          IMD         23.197140  28.330482  \n",
       "                          PRECIS      22.312413  26.605225  \n",
       "         North East       HADGEM2-ES  20.741578  25.087523  \n",
       "                          IMD         23.817442  26.663197  \n",
       "                          PRECIS      21.150667  27.127405  \n",
       "         North West       HADGEM2-ES  23.794329  28.487820  \n",
       "                          IMD         24.050707  29.628691  \n",
       "                          PRECIS      24.026355  28.081608  \n",
       "         Northern         HADGEM2-ES   1.835440  10.219533  \n",
       "                          IMD         16.499089  23.000504  \n",
       "                          PRECIS      -3.088984   7.041219  \n",
       "         West Coast       HADGEM2-ES  23.241431  26.027323  \n",
       "                          IMD         22.730847  25.794365  \n",
       "                          PRECIS      22.142250  24.368906  \n",
       "\n",
       "[108 rows x 8 columns]"
      ]
     },
     "execution_count": 827,
     "metadata": {},
     "output_type": "execute_result"
    }
   ],
   "source": [
    "combined_df.groupby(['var_name', 'region', 'model']).variable.describe()"
   ]
  },
  {
   "cell_type": "code",
   "execution_count": 555,
   "metadata": {},
   "outputs": [],
   "source": [
    "combined_ds_c = combined_ds_c.to_dataset()"
   ]
  },
  {
   "cell_type": "code",
   "execution_count": 556,
   "metadata": {},
   "outputs": [
    {
     "data": {
      "text/plain": [
       "<xarray.Dataset>\n",
       "Dimensions:   (model: 3, region: 9, time: 10800, var_name: 4)\n",
       "Coordinates:\n",
       "  * time      (time) object 1971-01-01 12:00:00 ... 2000-12-30 12:00:00\n",
       "  * region    (region) object 'Northern' 'North East' ... 'Core Monsoon' 'India'\n",
       "  * model     (model) object 'IMD' 'PRECIS' 'HADGEM2-ES'\n",
       "  * var_name  (var_name) object 'precip' 'tmean' 'tmax' 'tmin'\n",
       "Data variables:\n",
       "    variable  (var_name, model, region, time) float32 0.0 0.0 ... 8.255291"
      ]
     },
     "execution_count": 556,
     "metadata": {},
     "output_type": "execute_result"
    }
   ],
   "source": [
    "combined_ds_c"
   ]
  },
  {
   "cell_type": "code",
   "execution_count": 588,
   "metadata": {},
   "outputs": [],
   "source": [
    "nc_IMD = (combined_ds_c.sel(model='IMD', region='India', var_name='precip')\n",
    "          .rename({'variable': 'India_precip'})).drop(['region', 'model', 'var_name'])"
   ]
  },
  {
   "cell_type": "code",
   "execution_count": 568,
   "metadata": {},
   "outputs": [
    {
     "data": {
      "text/plain": [
       "0            Northern\n",
       "1          North East\n",
       "2          North West\n",
       "3             Central\n",
       "4    Inner Peninsular\n",
       "5          West Coast\n",
       "6          East Coast\n",
       "Name: region, dtype: object"
      ]
     },
     "execution_count": 568,
     "metadata": {},
     "output_type": "execute_result"
    }
   ],
   "source": [
    "regionIndex"
   ]
  },
  {
   "cell_type": "code",
   "execution_count": 589,
   "metadata": {},
   "outputs": [],
   "source": [
    "ncfiles = {}"
   ]
  },
  {
   "cell_type": "code",
   "execution_count": 590,
   "metadata": {},
   "outputs": [],
   "source": [
    "for model in modelIndex:\n",
    "    ncfiles[model] = nc_IMD.copy()\n",
    "    \n",
    "    for var in varIndex:\n",
    "        for region in regionIndex_new:\n",
    "            assign_varname = f\"{region}_{var}\"\n",
    "            \n",
    "            assign_da = (combined_ds_c.sel(model=model, \n",
    "                                           region=region, \n",
    "                                           var_name=var)\n",
    "                         .rename({'variable': assign_varname}).drop(['region', 'model', 'var_name']))\n",
    "            \n",
    "            ncfiles[model] = ncfiles[model].assign({assign_varname: assign_da[assign_varname]})"
   ]
  },
  {
   "cell_type": "code",
   "execution_count": 592,
   "metadata": {},
   "outputs": [],
   "source": [
    "for model, _ds in ncfiles.items():\n",
    "    _ds.to_netcdf(f\"/tmp/{model}_rf.nc\")"
   ]
  },
  {
   "cell_type": "code",
   "execution_count": 637,
   "metadata": {},
   "outputs": [],
   "source": [
    "timcor_dict = {model: xr.open_dataset(cdo.timcor(input=f\"-yearmean /tmp/IMD_rf.nc -yearmean /tmp/{model}_rf.nc\", \n",
    "                                                returnCDF=True))\n",
    "              for model in ['PRECIS', 'HADGEM2-ES']}"
   ]
  },
  {
   "cell_type": "code",
   "execution_count": 638,
   "metadata": {},
   "outputs": [],
   "source": [
    "timcor_ds = xr.concat(timcor_dict.values(), dim=pd.Index(['PRECIS', 'HADGEM2-ES'], \n",
    "                                                         name='model')).mean('time')"
   ]
  },
  {
   "cell_type": "code",
   "execution_count": 639,
   "metadata": {},
   "outputs": [],
   "source": [
    "region_ds = {}"
   ]
  },
  {
   "cell_type": "code",
   "execution_count": 640,
   "metadata": {},
   "outputs": [
    {
     "data": {
      "text/plain": [
       "<xarray.Dataset>\n",
       "Dimensions:                  (bnds: 2, model: 2)\n",
       "Coordinates:\n",
       "  * model                    (model) object 'PRECIS' 'HADGEM2-ES'\n",
       "Dimensions without coordinates: bnds\n",
       "Data variables:\n",
       "    time_bnds                (model, bnds) float64 -6.696e+05 ... -6.696e+05\n",
       "    India_precip             (model) float32 0.11172817 0.13199578\n",
       "    Northern_precip          (model) float32 -0.1435686 -0.09269663\n",
       "    North East_precip        (model) float32 0.174835 0.2865479\n",
       "    North West_precip        (model) float32 0.0863386 -0.018128937\n",
       "    Central_precip           (model) float32 0.2659536 0.023838518\n",
       "    Inner Peninsular_precip  (model) float32 0.033153556 0.17227422\n",
       "    West Coast_precip        (model) float32 0.053939983 0.09556917\n",
       "    East Coast_precip        (model) float32 0.11467318 0.3335867\n",
       "    Core Monsoon_precip      (model) float32 0.09830051 0.04560971\n",
       "    Northern_tmean           (model) float32 0.39705816 0.6215064\n",
       "    North East_tmean         (model) float32 0.37294462 0.31791568\n",
       "    North West_tmean         (model) float32 0.37507042 0.22840667\n",
       "    Central_tmean            (model) float32 0.51202905 0.26964977\n",
       "    Inner Peninsular_tmean   (model) float32 0.38813618 0.19122098\n",
       "    West Coast_tmean         (model) float32 0.31918854 0.20432325\n",
       "    East Coast_tmean         (model) float32 0.35791752 0.2812425\n",
       "    Core Monsoon_tmean       (model) float32 0.46352133 0.22960626\n",
       "    India_tmean              (model) float32 0.5837553 0.3883445\n",
       "    Northern_tmax            (model) float32 0.25631365 0.15931553\n",
       "    North East_tmax          (model) float32 0.16490316 -0.38995516\n",
       "    North West_tmax          (model) float32 0.39042988 0.013314194\n",
       "    Central_tmax             (model) float32 0.50352204 -0.12573484\n",
       "    Inner Peninsular_tmax    (model) float32 0.34129256 0.095394604\n",
       "    West Coast_tmax          (model) float32 0.29731342 0.27245325\n",
       "    East Coast_tmax          (model) float32 0.33939418 0.0002536096\n",
       "    Core Monsoon_tmax        (model) float32 0.48328453 0.004724962\n",
       "    India_tmax               (model) float32 0.54137063 0.0034955163\n",
       "    Northern_tmin            (model) float32 0.4556528 0.64198923\n",
       "    North East_tmin          (model) float32 0.46530616 0.41816366\n",
       "    North West_tmin          (model) float32 0.32363808 0.3929198\n",
       "    Central_tmin             (model) float32 0.27416155 0.25079355\n",
       "    Inner Peninsular_tmin    (model) float32 0.2342002 0.20945059\n",
       "    West Coast_tmin          (model) float32 0.16698524 0.15451284\n",
       "    East Coast_tmin          (model) float32 0.2537587 0.19117917\n",
       "    Core Monsoon_tmin        (model) float32 0.20406514 0.1689554\n",
       "    India_tmin               (model) float32 0.44801372 0.35473683"
      ]
     },
     "execution_count": 640,
     "metadata": {},
     "output_type": "execute_result"
    }
   ],
   "source": [
    "timcor_ds"
   ]
  },
  {
   "cell_type": "code",
   "execution_count": 623,
   "metadata": {},
   "outputs": [
    {
     "data": {
      "text/plain": [
       "{'Northern_precip': 'Northern',\n",
       " 'North East_precip': 'North East',\n",
       " 'North West_precip': 'North West',\n",
       " 'Central_precip': 'Central',\n",
       " 'Inner Peninsular_precip': 'Inner Peninsular',\n",
       " 'West Coast_precip': 'West Coast',\n",
       " 'East Coast_precip': 'East Coast',\n",
       " 'Core Monsoon_precip': 'Core Monsoon',\n",
       " 'India_precip': 'India'}"
      ]
     },
     "execution_count": 623,
     "metadata": {},
     "output_type": "execute_result"
    }
   ],
   "source": [
    "dict(zip(list(regionIndex_new + '_precip'), \n",
    "         list(regionIndex_new)))"
   ]
  },
  {
   "cell_type": "code",
   "execution_count": 641,
   "metadata": {},
   "outputs": [],
   "source": [
    "for var in varIndex:\n",
    "    rename_dict = dict(zip(list(regionIndex_new + f'_{var}'), \n",
    "                    list(regionIndex_new)))\n",
    "    \n",
    "    region_ds[var] = (timcor_ds[list(regionIndex_new + f'_{var}')]\n",
    "                      .rename(rename_dict))\n",
    "\n",
    "    "
   ]
  },
  {
   "cell_type": "code",
   "execution_count": 642,
   "metadata": {},
   "outputs": [
    {
     "data": {
      "text/plain": [
       "{'precip': <xarray.Dataset>\n",
       " Dimensions:           (model: 2)\n",
       " Coordinates:\n",
       "   * model             (model) object 'PRECIS' 'HADGEM2-ES'\n",
       " Data variables:\n",
       "     Northern          (model) float32 -0.1435686 -0.09269663\n",
       "     North East        (model) float32 0.174835 0.2865479\n",
       "     North West        (model) float32 0.0863386 -0.018128937\n",
       "     Central           (model) float32 0.2659536 0.023838518\n",
       "     Inner Peninsular  (model) float32 0.033153556 0.17227422\n",
       "     West Coast        (model) float32 0.053939983 0.09556917\n",
       "     East Coast        (model) float32 0.11467318 0.3335867\n",
       "     Core Monsoon      (model) float32 0.09830051 0.04560971\n",
       "     India             (model) float32 0.11172817 0.13199578,\n",
       " 'tmean': <xarray.Dataset>\n",
       " Dimensions:           (model: 2)\n",
       " Coordinates:\n",
       "   * model             (model) object 'PRECIS' 'HADGEM2-ES'\n",
       " Data variables:\n",
       "     Northern          (model) float32 0.39705816 0.6215064\n",
       "     North East        (model) float32 0.37294462 0.31791568\n",
       "     North West        (model) float32 0.37507042 0.22840667\n",
       "     Central           (model) float32 0.51202905 0.26964977\n",
       "     Inner Peninsular  (model) float32 0.38813618 0.19122098\n",
       "     West Coast        (model) float32 0.31918854 0.20432325\n",
       "     East Coast        (model) float32 0.35791752 0.2812425\n",
       "     Core Monsoon      (model) float32 0.46352133 0.22960626\n",
       "     India             (model) float32 0.5837553 0.3883445,\n",
       " 'tmax': <xarray.Dataset>\n",
       " Dimensions:           (model: 2)\n",
       " Coordinates:\n",
       "   * model             (model) object 'PRECIS' 'HADGEM2-ES'\n",
       " Data variables:\n",
       "     Northern          (model) float32 0.25631365 0.15931553\n",
       "     North East        (model) float32 0.16490316 -0.38995516\n",
       "     North West        (model) float32 0.39042988 0.013314194\n",
       "     Central           (model) float32 0.50352204 -0.12573484\n",
       "     Inner Peninsular  (model) float32 0.34129256 0.095394604\n",
       "     West Coast        (model) float32 0.29731342 0.27245325\n",
       "     East Coast        (model) float32 0.33939418 0.0002536096\n",
       "     Core Monsoon      (model) float32 0.48328453 0.004724962\n",
       "     India             (model) float32 0.54137063 0.0034955163,\n",
       " 'tmin': <xarray.Dataset>\n",
       " Dimensions:           (model: 2)\n",
       " Coordinates:\n",
       "   * model             (model) object 'PRECIS' 'HADGEM2-ES'\n",
       " Data variables:\n",
       "     Northern          (model) float32 0.4556528 0.64198923\n",
       "     North East        (model) float32 0.46530616 0.41816366\n",
       "     North West        (model) float32 0.32363808 0.3929198\n",
       "     Central           (model) float32 0.27416155 0.25079355\n",
       "     Inner Peninsular  (model) float32 0.2342002 0.20945059\n",
       "     West Coast        (model) float32 0.16698524 0.15451284\n",
       "     East Coast        (model) float32 0.2537587 0.19117917\n",
       "     Core Monsoon      (model) float32 0.20406514 0.1689554\n",
       "     India             (model) float32 0.44801372 0.35473683}"
      ]
     },
     "execution_count": 642,
     "metadata": {},
     "output_type": "execute_result"
    }
   ],
   "source": [
    "region_ds"
   ]
  },
  {
   "cell_type": "code",
   "execution_count": 643,
   "metadata": {},
   "outputs": [],
   "source": [
    "combined_tcor_ds = xr.concat(region_ds.values(), dim=varIndex)"
   ]
  },
  {
   "cell_type": "code",
   "execution_count": 644,
   "metadata": {},
   "outputs": [],
   "source": [
    "combined_tcor_df = combined_tcor_ds.to_dataframe()"
   ]
  },
  {
   "cell_type": "code",
   "execution_count": 836,
   "metadata": {},
   "outputs": [],
   "source": [
    "!mkdir -p ../csv/Analysis-Annual-Cycle"
   ]
  },
  {
   "cell_type": "code",
   "execution_count": 838,
   "metadata": {},
   "outputs": [],
   "source": [
    "(combined_tcor_df.reorder_levels(['var_name', 'model']).sort_index().drop('Northern', axis=1)\n",
    " .to_csv('../csv/Analysis-Annual-Cycle/Region_var_model_tcor.csv'))"
   ]
  },
  {
   "cell_type": "code",
   "execution_count": 579,
   "metadata": {},
   "outputs": [],
   "source": [
    "grp_obj = combined_df.groupby(['var_name', 'region', 'model']).variable"
   ]
  },
  {
   "cell_type": "code",
   "execution_count": 652,
   "metadata": {},
   "outputs": [
    {
     "data": {
      "text/html": [
       "<div>\n",
       "<style scoped>\n",
       "    .dataframe tbody tr th:only-of-type {\n",
       "        vertical-align: middle;\n",
       "    }\n",
       "\n",
       "    .dataframe tbody tr th {\n",
       "        vertical-align: top;\n",
       "    }\n",
       "\n",
       "    .dataframe thead th {\n",
       "        text-align: right;\n",
       "    }\n",
       "</style>\n",
       "<table border=\"1\" class=\"dataframe\">\n",
       "  <thead>\n",
       "    <tr style=\"text-align: right;\">\n",
       "      <th></th>\n",
       "      <th></th>\n",
       "      <th></th>\n",
       "      <th>mean</th>\n",
       "      <th>std</th>\n",
       "    </tr>\n",
       "    <tr>\n",
       "      <th>var_name</th>\n",
       "      <th>region</th>\n",
       "      <th>model</th>\n",
       "      <th></th>\n",
       "      <th></th>\n",
       "    </tr>\n",
       "  </thead>\n",
       "  <tbody>\n",
       "    <tr>\n",
       "      <th rowspan=\"27\" valign=\"top\">precip</th>\n",
       "      <th rowspan=\"3\" valign=\"top\">Central</th>\n",
       "      <th>HADGEM2-ES</th>\n",
       "      <td>2.253328</td>\n",
       "      <td>3.545191</td>\n",
       "    </tr>\n",
       "    <tr>\n",
       "      <th>IMD</th>\n",
       "      <td>2.913279</td>\n",
       "      <td>4.877775</td>\n",
       "    </tr>\n",
       "    <tr>\n",
       "      <th>PRECIS</th>\n",
       "      <td>1.631506</td>\n",
       "      <td>3.183608</td>\n",
       "    </tr>\n",
       "    <tr>\n",
       "      <th rowspan=\"3\" valign=\"top\">Core Monsoon</th>\n",
       "      <th>HADGEM2-ES</th>\n",
       "      <td>0.997673</td>\n",
       "      <td>2.230632</td>\n",
       "    </tr>\n",
       "    <tr>\n",
       "      <th>IMD</th>\n",
       "      <td>2.616619</td>\n",
       "      <td>4.494337</td>\n",
       "    </tr>\n",
       "    <tr>\n",
       "      <th>PRECIS</th>\n",
       "      <td>1.145052</td>\n",
       "      <td>2.959764</td>\n",
       "    </tr>\n",
       "    <tr>\n",
       "      <th rowspan=\"3\" valign=\"top\">East Coast</th>\n",
       "      <th>HADGEM2-ES</th>\n",
       "      <td>1.348096</td>\n",
       "      <td>2.694990</td>\n",
       "    </tr>\n",
       "    <tr>\n",
       "      <th>IMD</th>\n",
       "      <td>3.340288</td>\n",
       "      <td>4.596957</td>\n",
       "    </tr>\n",
       "    <tr>\n",
       "      <th>PRECIS</th>\n",
       "      <td>2.025850</td>\n",
       "      <td>4.556166</td>\n",
       "    </tr>\n",
       "    <tr>\n",
       "      <th rowspan=\"3\" valign=\"top\">India</th>\n",
       "      <th>HADGEM2-ES</th>\n",
       "      <td>2.151964</td>\n",
       "      <td>2.132552</td>\n",
       "    </tr>\n",
       "    <tr>\n",
       "      <th>IMD</th>\n",
       "      <td>3.176616</td>\n",
       "      <td>3.453485</td>\n",
       "    </tr>\n",
       "    <tr>\n",
       "      <th>PRECIS</th>\n",
       "      <td>2.005119</td>\n",
       "      <td>2.350498</td>\n",
       "    </tr>\n",
       "    <tr>\n",
       "      <th rowspan=\"3\" valign=\"top\">Inner Peninsular</th>\n",
       "      <th>HADGEM2-ES</th>\n",
       "      <td>0.864139</td>\n",
       "      <td>2.145346</td>\n",
       "    </tr>\n",
       "    <tr>\n",
       "      <th>IMD</th>\n",
       "      <td>2.596221</td>\n",
       "      <td>3.889280</td>\n",
       "    </tr>\n",
       "    <tr>\n",
       "      <th>PRECIS</th>\n",
       "      <td>1.404262</td>\n",
       "      <td>3.564894</td>\n",
       "    </tr>\n",
       "    <tr>\n",
       "      <th rowspan=\"3\" valign=\"top\">North East</th>\n",
       "      <th>HADGEM2-ES</th>\n",
       "      <td>5.824118</td>\n",
       "      <td>6.085293</td>\n",
       "    </tr>\n",
       "    <tr>\n",
       "      <th>IMD</th>\n",
       "      <td>5.853519</td>\n",
       "      <td>6.935573</td>\n",
       "    </tr>\n",
       "    <tr>\n",
       "      <th>PRECIS</th>\n",
       "      <td>4.777733</td>\n",
       "      <td>5.453840</td>\n",
       "    </tr>\n",
       "    <tr>\n",
       "      <th rowspan=\"3\" valign=\"top\">North West</th>\n",
       "      <th>HADGEM2-ES</th>\n",
       "      <td>1.046776</td>\n",
       "      <td>1.746382</td>\n",
       "    </tr>\n",
       "    <tr>\n",
       "      <th>IMD</th>\n",
       "      <td>1.500172</td>\n",
       "      <td>3.108036</td>\n",
       "    </tr>\n",
       "    <tr>\n",
       "      <th>PRECIS</th>\n",
       "      <td>0.512227</td>\n",
       "      <td>1.280834</td>\n",
       "    </tr>\n",
       "    <tr>\n",
       "      <th rowspan=\"3\" valign=\"top\">Northern</th>\n",
       "      <th>HADGEM2-ES</th>\n",
       "      <td>2.888195</td>\n",
       "      <td>2.732666</td>\n",
       "    </tr>\n",
       "    <tr>\n",
       "      <th>IMD</th>\n",
       "      <td>2.665097</td>\n",
       "      <td>5.089244</td>\n",
       "    </tr>\n",
       "    <tr>\n",
       "      <th>PRECIS</th>\n",
       "      <td>2.281215</td>\n",
       "      <td>3.206133</td>\n",
       "    </tr>\n",
       "    <tr>\n",
       "      <th rowspan=\"3\" valign=\"top\">West Coast</th>\n",
       "      <th>HADGEM2-ES</th>\n",
       "      <td>1.004086</td>\n",
       "      <td>2.089047</td>\n",
       "    </tr>\n",
       "    <tr>\n",
       "      <th>IMD</th>\n",
       "      <td>4.099380</td>\n",
       "      <td>6.633994</td>\n",
       "    </tr>\n",
       "    <tr>\n",
       "      <th>PRECIS</th>\n",
       "      <td>2.094661</td>\n",
       "      <td>3.685714</td>\n",
       "    </tr>\n",
       "    <tr>\n",
       "      <th rowspan=\"3\" valign=\"top\">tmax</th>\n",
       "      <th rowspan=\"3\" valign=\"top\">Central</th>\n",
       "      <th>HADGEM2-ES</th>\n",
       "      <td>27.210472</td>\n",
       "      <td>6.929998</td>\n",
       "    </tr>\n",
       "    <tr>\n",
       "      <th>IMD</th>\n",
       "      <td>31.550257</td>\n",
       "      <td>5.286817</td>\n",
       "    </tr>\n",
       "    <tr>\n",
       "      <th>PRECIS</th>\n",
       "      <td>31.850044</td>\n",
       "      <td>6.552628</td>\n",
       "    </tr>\n",
       "    <tr>\n",
       "      <th>...</th>\n",
       "      <th>...</th>\n",
       "      <th>...</th>\n",
       "      <td>...</td>\n",
       "      <td>...</td>\n",
       "    </tr>\n",
       "    <tr>\n",
       "      <th rowspan=\"3\" valign=\"top\">tmean</th>\n",
       "      <th rowspan=\"3\" valign=\"top\">West Coast</th>\n",
       "      <th>HADGEM2-ES</th>\n",
       "      <td>26.077799</td>\n",
       "      <td>2.298260</td>\n",
       "    </tr>\n",
       "    <tr>\n",
       "      <th>IMD</th>\n",
       "      <td>25.885553</td>\n",
       "      <td>2.344806</td>\n",
       "    </tr>\n",
       "    <tr>\n",
       "      <th>PRECIS</th>\n",
       "      <td>24.891102</td>\n",
       "      <td>2.248443</td>\n",
       "    </tr>\n",
       "    <tr>\n",
       "      <th rowspan=\"27\" valign=\"top\">tmin</th>\n",
       "      <th rowspan=\"3\" valign=\"top\">Central</th>\n",
       "      <th>HADGEM2-ES</th>\n",
       "      <td>15.844198</td>\n",
       "      <td>7.756622</td>\n",
       "    </tr>\n",
       "    <tr>\n",
       "      <th>IMD</th>\n",
       "      <td>18.454504</td>\n",
       "      <td>6.420942</td>\n",
       "    </tr>\n",
       "    <tr>\n",
       "      <th>PRECIS</th>\n",
       "      <td>15.749018</td>\n",
       "      <td>8.005236</td>\n",
       "    </tr>\n",
       "    <tr>\n",
       "      <th rowspan=\"3\" valign=\"top\">Core Monsoon</th>\n",
       "      <th>HADGEM2-ES</th>\n",
       "      <td>17.382534</td>\n",
       "      <td>7.089697</td>\n",
       "    </tr>\n",
       "    <tr>\n",
       "      <th>IMD</th>\n",
       "      <td>19.204834</td>\n",
       "      <td>5.713135</td>\n",
       "    </tr>\n",
       "    <tr>\n",
       "      <th>PRECIS</th>\n",
       "      <td>17.058613</td>\n",
       "      <td>6.865425</td>\n",
       "    </tr>\n",
       "    <tr>\n",
       "      <th rowspan=\"3\" valign=\"top\">East Coast</th>\n",
       "      <th>HADGEM2-ES</th>\n",
       "      <td>21.735033</td>\n",
       "      <td>4.400187</td>\n",
       "    </tr>\n",
       "    <tr>\n",
       "      <th>IMD</th>\n",
       "      <td>22.420176</td>\n",
       "      <td>3.418725</td>\n",
       "    </tr>\n",
       "    <tr>\n",
       "      <th>PRECIS</th>\n",
       "      <td>20.799572</td>\n",
       "      <td>4.742040</td>\n",
       "    </tr>\n",
       "    <tr>\n",
       "      <th rowspan=\"3\" valign=\"top\">India</th>\n",
       "      <th>HADGEM2-ES</th>\n",
       "      <td>14.775386</td>\n",
       "      <td>6.508060</td>\n",
       "    </tr>\n",
       "    <tr>\n",
       "      <th>IMD</th>\n",
       "      <td>18.618572</td>\n",
       "      <td>5.220311</td>\n",
       "    </tr>\n",
       "    <tr>\n",
       "      <th>PRECIS</th>\n",
       "      <td>14.058372</td>\n",
       "      <td>6.629133</td>\n",
       "    </tr>\n",
       "    <tr>\n",
       "      <th rowspan=\"3\" valign=\"top\">Inner Peninsular</th>\n",
       "      <th>HADGEM2-ES</th>\n",
       "      <td>18.860270</td>\n",
       "      <td>5.023081</td>\n",
       "    </tr>\n",
       "    <tr>\n",
       "      <th>IMD</th>\n",
       "      <td>20.429470</td>\n",
       "      <td>3.909136</td>\n",
       "    </tr>\n",
       "    <tr>\n",
       "      <th>PRECIS</th>\n",
       "      <td>18.470690</td>\n",
       "      <td>4.796437</td>\n",
       "    </tr>\n",
       "    <tr>\n",
       "      <th rowspan=\"3\" valign=\"top\">North East</th>\n",
       "      <th>HADGEM2-ES</th>\n",
       "      <td>13.822627</td>\n",
       "      <td>6.817426</td>\n",
       "    </tr>\n",
       "    <tr>\n",
       "      <th>IMD</th>\n",
       "      <td>18.833570</td>\n",
       "      <td>5.472816</td>\n",
       "    </tr>\n",
       "    <tr>\n",
       "      <th>PRECIS</th>\n",
       "      <td>14.532756</td>\n",
       "      <td>7.215105</td>\n",
       "    </tr>\n",
       "    <tr>\n",
       "      <th rowspan=\"3\" valign=\"top\">North West</th>\n",
       "      <th>HADGEM2-ES</th>\n",
       "      <td>15.463981</td>\n",
       "      <td>8.315459</td>\n",
       "    </tr>\n",
       "    <tr>\n",
       "      <th>IMD</th>\n",
       "      <td>17.855785</td>\n",
       "      <td>6.831431</td>\n",
       "    </tr>\n",
       "    <tr>\n",
       "      <th>PRECIS</th>\n",
       "      <td>15.238786</td>\n",
       "      <td>8.699546</td>\n",
       "    </tr>\n",
       "    <tr>\n",
       "      <th rowspan=\"3\" valign=\"top\">Northern</th>\n",
       "      <th>HADGEM2-ES</th>\n",
       "      <td>-7.116094</td>\n",
       "      <td>9.968582</td>\n",
       "    </tr>\n",
       "    <tr>\n",
       "      <th>IMD</th>\n",
       "      <td>9.903076</td>\n",
       "      <td>7.046141</td>\n",
       "    </tr>\n",
       "    <tr>\n",
       "      <th>PRECIS</th>\n",
       "      <td>-12.064386</td>\n",
       "      <td>10.039362</td>\n",
       "    </tr>\n",
       "    <tr>\n",
       "      <th rowspan=\"3\" valign=\"top\">West Coast</th>\n",
       "      <th>HADGEM2-ES</th>\n",
       "      <td>20.683662</td>\n",
       "      <td>3.008438</td>\n",
       "    </tr>\n",
       "    <tr>\n",
       "      <th>IMD</th>\n",
       "      <td>20.294739</td>\n",
       "      <td>3.116743</td>\n",
       "    </tr>\n",
       "    <tr>\n",
       "      <th>PRECIS</th>\n",
       "      <td>19.435305</td>\n",
       "      <td>3.193257</td>\n",
       "    </tr>\n",
       "  </tbody>\n",
       "</table>\n",
       "<p>108 rows × 2 columns</p>\n",
       "</div>"
      ],
      "text/plain": [
       "                                           mean        std\n",
       "var_name region           model                           \n",
       "precip   Central          HADGEM2-ES   2.253328   3.545191\n",
       "                          IMD          2.913279   4.877775\n",
       "                          PRECIS       1.631506   3.183608\n",
       "         Core Monsoon     HADGEM2-ES   0.997673   2.230632\n",
       "                          IMD          2.616619   4.494337\n",
       "                          PRECIS       1.145052   2.959764\n",
       "         East Coast       HADGEM2-ES   1.348096   2.694990\n",
       "                          IMD          3.340288   4.596957\n",
       "                          PRECIS       2.025850   4.556166\n",
       "         India            HADGEM2-ES   2.151964   2.132552\n",
       "                          IMD          3.176616   3.453485\n",
       "                          PRECIS       2.005119   2.350498\n",
       "         Inner Peninsular HADGEM2-ES   0.864139   2.145346\n",
       "                          IMD          2.596221   3.889280\n",
       "                          PRECIS       1.404262   3.564894\n",
       "         North East       HADGEM2-ES   5.824118   6.085293\n",
       "                          IMD          5.853519   6.935573\n",
       "                          PRECIS       4.777733   5.453840\n",
       "         North West       HADGEM2-ES   1.046776   1.746382\n",
       "                          IMD          1.500172   3.108036\n",
       "                          PRECIS       0.512227   1.280834\n",
       "         Northern         HADGEM2-ES   2.888195   2.732666\n",
       "                          IMD          2.665097   5.089244\n",
       "                          PRECIS       2.281215   3.206133\n",
       "         West Coast       HADGEM2-ES   1.004086   2.089047\n",
       "                          IMD          4.099380   6.633994\n",
       "                          PRECIS       2.094661   3.685714\n",
       "tmax     Central          HADGEM2-ES  27.210472   6.929998\n",
       "                          IMD         31.550257   5.286817\n",
       "                          PRECIS      31.850044   6.552628\n",
       "...                                         ...        ...\n",
       "tmean    West Coast       HADGEM2-ES  26.077799   2.298260\n",
       "                          IMD         25.885553   2.344806\n",
       "                          PRECIS      24.891102   2.248443\n",
       "tmin     Central          HADGEM2-ES  15.844198   7.756622\n",
       "                          IMD         18.454504   6.420942\n",
       "                          PRECIS      15.749018   8.005236\n",
       "         Core Monsoon     HADGEM2-ES  17.382534   7.089697\n",
       "                          IMD         19.204834   5.713135\n",
       "                          PRECIS      17.058613   6.865425\n",
       "         East Coast       HADGEM2-ES  21.735033   4.400187\n",
       "                          IMD         22.420176   3.418725\n",
       "                          PRECIS      20.799572   4.742040\n",
       "         India            HADGEM2-ES  14.775386   6.508060\n",
       "                          IMD         18.618572   5.220311\n",
       "                          PRECIS      14.058372   6.629133\n",
       "         Inner Peninsular HADGEM2-ES  18.860270   5.023081\n",
       "                          IMD         20.429470   3.909136\n",
       "                          PRECIS      18.470690   4.796437\n",
       "         North East       HADGEM2-ES  13.822627   6.817426\n",
       "                          IMD         18.833570   5.472816\n",
       "                          PRECIS      14.532756   7.215105\n",
       "         North West       HADGEM2-ES  15.463981   8.315459\n",
       "                          IMD         17.855785   6.831431\n",
       "                          PRECIS      15.238786   8.699546\n",
       "         Northern         HADGEM2-ES  -7.116094   9.968582\n",
       "                          IMD          9.903076   7.046141\n",
       "                          PRECIS     -12.064386  10.039362\n",
       "         West Coast       HADGEM2-ES  20.683662   3.008438\n",
       "                          IMD         20.294739   3.116743\n",
       "                          PRECIS      19.435305   3.193257\n",
       "\n",
       "[108 rows x 2 columns]"
      ]
     },
     "execution_count": 652,
     "metadata": {},
     "output_type": "execute_result"
    }
   ],
   "source": [
    "grp_obj.describe()[['mean', 'std']]"
   ]
  },
  {
   "cell_type": "code",
   "execution_count": 688,
   "metadata": {},
   "outputs": [],
   "source": [
    "def make_pentad(f):\n",
    "    return cdo.timselmean('5', \n",
    "                         input=f\"-selseas,JJAS {f}\",\n",
    "                         returnCDF=True)"
   ]
  },
  {
   "cell_type": "code",
   "execution_count": 689,
   "metadata": {},
   "outputs": [],
   "source": [
    "f = make_pentad(getModelFile('IMD', 'precip'))\n",
    "\n",
    "imd_f = xr.open_dataset(f)"
   ]
  },
  {
   "cell_type": "code",
   "execution_count": 690,
   "metadata": {},
   "outputs": [],
   "source": [
    "imd_anam = xr.open_dataset(cdo.mulc('100', \n",
    "                                   input=f\"-ydaydiv -ydaysub {f} -ydaymean {f} -ydaymean {f}\",\n",
    "                                   returnCDF=True))"
   ]
  },
  {
   "cell_type": "code",
   "execution_count": 691,
   "metadata": {},
   "outputs": [],
   "source": [
    "cmr_anam = fldmean(sellonlatbox(imd_anam, \n",
    "                                [73, 82, 18, 28]))"
   ]
  },
  {
   "cell_type": "code",
   "execution_count": 714,
   "metadata": {},
   "outputs": [
    {
     "data": {
      "text/plain": [
       "<matplotlib.collections.QuadMesh at 0x7fad5dd0f4a8>"
      ]
     },
     "execution_count": 714,
     "metadata": {},
     "output_type": "execute_result"
    },
    {
     "data": {
      "image/png": "[encoded data removed]",
      "text/plain": [
       "<Figure size 432x288 with 2 Axes>"
      ]
     },
     "metadata": {
      "needs_background": "light"
     },
     "output_type": "display_data"
    }
   ],
   "source": [
    "imd_anam.where(cmr_anam.precip <= -40).mean('time').precip.plot(cmap='RdBu')"
   ]
  },
  {
   "cell_type": "code",
   "execution_count": 706,
   "metadata": {},
   "outputs": [],
   "source": [
    "arr = cmr_anam.where(cmr_anam.precip >= 40).precip.values"
   ]
  },
  {
   "cell_type": "code",
   "execution_count": 707,
   "metadata": {},
   "outputs": [
    {
     "data": {
      "text/plain": [
       "0.21666666666666667"
      ]
     },
     "execution_count": 707,
     "metadata": {},
     "output_type": "execute_result"
    }
   ],
   "source": [
    "arr[~np.isnan(arr)].size/arr.size"
   ]
  },
  {
   "cell_type": "code",
   "execution_count": null,
   "metadata": {},
   "outputs": [],
   "source": []
  },
  {
   "cell_type": "code",
   "execution_count": 749,
   "metadata": {},
   "outputs": [],
   "source": [
    "tfield_dict = {'abs': {}, \n",
    "            'anam': {}}"
   ]
  },
  {
   "cell_type": "code",
   "execution_count": 750,
   "metadata": {},
   "outputs": [],
   "source": [
    "pentad_ds = {model : {'abs': {}, \n",
    "            'anam': {}} \n",
    "             for model in modelIndex}"
   ]
  },
  {
   "cell_type": "code",
   "execution_count": 751,
   "metadata": {},
   "outputs": [],
   "source": [
    "cmr_fmean = {}"
   ]
  },
  {
   "cell_type": "code",
   "execution_count": 752,
   "metadata": {},
   "outputs": [],
   "source": [
    "ABN_ds = {model : {'abs': {}, \n",
    "            'anam': {}} \n",
    "          for model in modelIndex}"
   ]
  },
  {
   "cell_type": "code",
   "execution_count": 753,
   "metadata": {},
   "outputs": [],
   "source": [
    "ABN_cond = {model :  {} for model in modelIndex}"
   ]
  },
  {
   "cell_type": "code",
   "execution_count": 754,
   "metadata": {},
   "outputs": [
    {
     "name": "stdout",
     "output_type": "stream",
     "text": [
      "CPU times: user 956 ms, sys: 236 ms, total: 1.19 s\n",
      "Wall time: 12.6 s\n"
     ]
    }
   ],
   "source": [
    "%%time\n",
    "for model in modelIndex:\n",
    "    var_name = getvarname(model, 'precip')\n",
    "    time_name = gettimename(model, 'precip')\n",
    "    \n",
    "    f = make_pentad(getModelFile(model, 'precip'))\n",
    "    pentad_ds[model]['abs'] = xr.open_dataset(f, chunks={time_name: 24})\n",
    "    pentad_ds[model]['anam'] = (xr\n",
    "                                .open_dataset(cdo.mulc('100',\n",
    "                                                       input=f\"-ydaydiv -ydaysub {f}\"+\\\n",
    "                                                             f\" -ydaymean {f} -ydaymean {f}\",\n",
    "                                   returnCDF=True),\n",
    "                                             chunks={time_name: 24}))\n",
    "                                \n",
    "    cmr_fmean[model] = fldmean(sellonlatbox(pentad_ds[model]['anam'], \n",
    "                                [73, 82, 18, 28]))\n",
    "    \n",
    "    ABN_cond[model]['A'] = cmr_fmean[model][var_name] > 40\n",
    "    ABN_cond[model]['B'] = cmr_fmean[model][var_name] < -40\n",
    "    ABN_cond[model]['N'] = (cmr_fmean[model][var_name] >= -40) & (cmr_fmean[model][var_name] <= 40) \n",
    "\n",
    "    \n",
    "    for spell in ['A', 'B', 'N']:\n",
    "        for tfield in ['abs', 'anam']:\n",
    "            ABN_ds[model][tfield][spell] = (pentad_ds[model][tfield]\n",
    "                                            .where(ABN_cond[model][spell])\n",
    "                                            .mean(time_name))                    "
   ]
  },
  {
   "cell_type": "code",
   "execution_count": 763,
   "metadata": {},
   "outputs": [
    {
     "data": {
      "text/plain": [
       "<matplotlib.collections.QuadMesh at 0x7facfc521940>"
      ]
     },
     "execution_count": 763,
     "metadata": {},
     "output_type": "execute_result"
    },
    {
     "data": {
      "image/png": "[encoded data removed]",
      "text/plain": [
       "<Figure size 432x288 with 2 Axes>"
      ]
     },
     "metadata": {
      "needs_background": "light"
     },
     "output_type": "display_data"
    }
   ],
   "source": [
    "ABN_ds['IMD']['abs']['A'].precip.plot()"
   ]
  },
  {
   "cell_type": "code",
   "execution_count": 767,
   "metadata": {},
   "outputs": [
    {
     "data": {
      "text/plain": [
       "array([<matplotlib.axes._subplots.AxesSubplot object at 0x7fad5b561fd0>,\n",
       "       <matplotlib.axes._subplots.AxesSubplot object at 0x7fad0ded9908>,\n",
       "       <matplotlib.axes._subplots.AxesSubplot object at 0x7fad0debfc88>],\n",
       "      dtype=object)"
      ]
     },
     "execution_count": 767,
     "metadata": {},
     "output_type": "execute_result"
    }
   ],
   "source": [
    "axn"
   ]
  },
  {
   "cell_type": "code",
   "execution_count": 781,
   "metadata": {},
   "outputs": [
    {
     "data": {
      "image/png": "[encoded data removed]",
      "text/plain": [
       "<Figure size 1200x800 with 3 Axes>"
      ]
     },
     "metadata": {
      "needs_background": "light"
     },
     "output_type": "display_data"
    }
   ],
   "source": [
    "fig, axn = plt.subplots(1, 3, sharex=True, sharey=True,\n",
    "                       dpi=200)\n",
    "\n",
    "for ax, model in zip(axn, list(modelIndex)):\n",
    "    ax.set_aspect('equal')\n",
    "    var_name = getvarname(model, 'precip')\n",
    "    \n",
    "    plot = ABN_ds[model]['anam']['B'][var_name].plot(ax=ax, \n",
    "                                            levels=np.arange(-150, 150, 10),\n",
    "                                                    cmap='RdBu')\n",
    "    ax.set_xlabel('')\n",
    "    ax.set_ylabel('')\n",
    "    \n",
    "    plot.colorbar.remove()\n",
    "    \n",
    "fig.subplots_adjust(hspace=0.2, wspace=0.2)"
   ]
  },
  {
   "cell_type": "code",
   "execution_count": 784,
   "metadata": {},
   "outputs": [
    {
     "name": "stderr",
     "output_type": "stream",
     "text": [
      "/home/abhi/miniconda3/lib/python3.6/site-packages/dask/array/numpy_compat.py:28: RuntimeWarning: invalid value encountered in true_divide\n",
      "  x = np.divide(x1, x2, out)\n"
     ]
    }
   ],
   "source": [
    "for model in modelIndex:\n",
    "    outdir = f\"../data/{model}/precip/ABN\"\n",
    "    os.system(f'mkdir -p {outdir}')\n",
    "    \n",
    "    for spell in ['A', 'B', 'N']:\n",
    "        for tfield in ['abs', 'anam']:\n",
    "            outname = f\"1971-2000_rm_ll25_{spell}_{tfield}.nc\"\n",
    "            ABN_ds[model][tfield][spell].to_netcdf(f\"{outdir}/{outname}\")"
   ]
  },
  {
   "cell_type": "code",
   "execution_count": 803,
   "metadata": {},
   "outputs": [
    {
     "name": "stderr",
     "output_type": "stream",
     "text": [
      "/home/abhi/miniconda3/lib/python3.6/site-packages/dask/array/numpy_compat.py:28: RuntimeWarning: invalid value encountered in true_divide\n",
      "  x = np.divide(x1, x2, out)\n"
     ]
    }
   ],
   "source": [
    "df = ABN_ds['IMD']['abs']['A'].to_dataframe().reset_index().dropna()"
   ]
  },
  {
   "cell_type": "code",
   "execution_count": 805,
   "metadata": {},
   "outputs": [
    {
     "data": {
      "text/plain": [
       "<matplotlib.axes._subplots.AxesSubplot at 0x7facd7b67470>"
      ]
     },
     "execution_count": 805,
     "metadata": {},
     "output_type": "execute_result"
    },
    {
     "data": {
      "image/png": "[encoded data removed]",
      "text/plain": [
       "<Figure size 432x288 with 1 Axes>"
      ]
     },
     "metadata": {
      "needs_background": "light"
     },
     "output_type": "display_data"
    }
   ],
   "source": [
    "df.boxplot(column='precip')"
   ]
  },
  {
   "cell_type": "code",
   "execution_count": 808,
   "metadata": {},
   "outputs": [
    {
     "data": {
      "text/plain": [
       "<matplotlib.axes._subplots.AxesSubplot at 0x7facd72dd550>"
      ]
     },
     "execution_count": 808,
     "metadata": {},
     "output_type": "execute_result"
    },
    {
     "data": {
      "image/png": "[encoded data removed]",
      "text/plain": [
       "<Figure size 432x288 with 1 Axes>"
      ]
     },
     "metadata": {
      "needs_background": "light"
     },
     "output_type": "display_data"
    }
   ],
   "source": [
    "sns.boxplot(data=df, y='precip', showfliers=True)"
   ]
  },
  {
   "cell_type": "code",
   "execution_count": 928,
   "metadata": {},
   "outputs": [],
   "source": [
    "arr1 = ABN_ds['IMD']['abs']['N']\n",
    "arr2 = ABN_ds['PRECIS']['abs']['N']\n",
    "arr3 = ABN_ds['HADGEM2-ES']['abs']['N']\n",
    "\n",
    "arr1 = arr1.precip.values.reshape(129*135)\n",
    "arr1 = arr1[~np.isnan(arr1)]\n",
    "\n",
    "arr2 = arr2.precip.values.reshape(129*135)\n",
    "arr2 = arr2[~np.isnan(arr2)]\n",
    "\n",
    "\n",
    "arr3 = arr3.pr.values.reshape(129*135)\n",
    "arr3 = arr3[~np.isnan(arr3)]\n"
   ]
  },
  {
   "cell_type": "code",
   "execution_count": 929,
   "metadata": {},
   "outputs": [
    {
     "data": {
      "text/plain": [
       "4964"
      ]
     },
     "execution_count": 929,
     "metadata": {},
     "output_type": "execute_result"
    }
   ],
   "source": [
    "arr1.size\n"
   ]
  },
  {
   "cell_type": "code",
   "execution_count": 931,
   "metadata": {},
   "outputs": [
    {
     "data": {
      "text/plain": [
       "array([[1.        , 0.53151618],\n",
       "       [0.53151618, 1.        ]])"
      ]
     },
     "execution_count": 931,
     "metadata": {},
     "output_type": "execute_result"
    }
   ],
   "source": [
    "np.corrcoef(arr1, arr3)"
   ]
  },
  {
   "cell_type": "markdown",
   "metadata": {},
   "source": [
    "### Distribution comparison during A and B spells"
   ]
  },
  {
   "cell_type": "code",
   "execution_count": 1326,
   "metadata": {},
   "outputs": [],
   "source": [
    "def getComposite(spell, model, region=None, return_da=True, pentad_dict=pentad_ds, \n",
    "                var='precip', tfield='abs'):\n",
    "    \n",
    "    var_name = getvarname(model, var)\n",
    "    da = pentad_dict[model][tfield].where(ABN_cond[model][spell])[var_name]\n",
    "    da = da.rename({gettimename(model, var): 'time'})\n",
    "        \n",
    "    if region == 'Core Monsoon':\n",
    "        da = sellonlatbox(da, [73, 82, 18, 28])\n",
    "\n",
    "        \n",
    "    \n",
    "    return da"
   ]
  },
  {
   "cell_type": "code",
   "execution_count": 1336,
   "metadata": {},
   "outputs": [],
   "source": [
    "pentad_ds_tmax = {model: {'abs': None, 'anam': None} \n",
    "                  for model in modelIndex}"
   ]
  },
  {
   "cell_type": "code",
   "execution_count": 1337,
   "metadata": {},
   "outputs": [
    {
     "name": "stdout",
     "output_type": "stream",
     "text": [
      "CPU times: user 1.14 s, sys: 448 ms, total: 1.58 s\n",
      "Wall time: 23.1 s\n"
     ]
    }
   ],
   "source": [
    "%%time\n",
    "for model in modelIndex:\n",
    "    var_name = getvarname(model, 'tmax')\n",
    "    time_name = gettimename(model, 'tmax')\n",
    "    \n",
    "    f = make_pentad(getModelFile(model, 'tmax'))\n",
    "    pentad_ds_tmax[model]['abs'] = xr.open_dataset(f, chunks={time_name: 24})\n",
    "    pentad_ds_tmax[model]['anam'] = (xr\n",
    "                                .open_dataset(cdo.ydaysub(input=f\"{f}\"+\\\n",
    "                                                             f\" -ydaymean {f}\",\n",
    "                                   returnCDF=True),\n",
    "                                             chunks={time_name: 24}))"
   ]
  },
  {
   "cell_type": "code",
   "execution_count": 1364,
   "metadata": {},
   "outputs": [],
   "source": [
    "levels = np.arange(-2, 2+(0.001), 10**(-3))"
   ]
  },
  {
   "cell_type": "code",
   "execution_count": 1413,
   "metadata": {},
   "outputs": [
    {
     "data": {
      "text/plain": [
       "<matplotlib.collections.QuadMesh at 0x7facca5ddcf8>"
      ]
     },
     "execution_count": 1413,
     "metadata": {},
     "output_type": "execute_result"
    },
    {
     "data": {
      "image/png": "[encoded data removed]",
      "text/plain": [
       "<Figure size 432x288 with 2 Axes>"
      ]
     },
     "metadata": {
      "needs_background": "light"
     },
     "output_type": "display_data"
    }
   ],
   "source": [
    "test_ds = getComposite('B60', 'IMD', pentad_dict=pentad_ds_tmax, var='tmax', tfield='anam')\n",
    "\n",
    "test_ds.mean(dim='time').plot(levels=levels)"
   ]
  },
  {
   "cell_type": "code",
   "execution_count": 1430,
   "metadata": {},
   "outputs": [
    {
     "data": {
      "text/plain": [
       "<matplotlib.collections.QuadMesh at 0x7facb50e95f8>"
      ]
     },
     "execution_count": 1430,
     "metadata": {},
     "output_type": "execute_result"
    },
    {
     "data": {
      "image/png": "[encoded data removed]",
      "text/plain": [
       "<Figure size 432x288 with 2 Axes>"
      ]
     },
     "metadata": {
      "needs_background": "light"
     },
     "output_type": "display_data"
    }
   ],
   "source": [
    "test_ds = getComposite('B', 'PRECIS', pentad_dict=pentad_ds_tmax, var='tmax', tfield='anam')\n",
    "\n",
    "test_ds.mean(dim='time').plot(levels=levels)"
   ]
  },
  {
   "cell_type": "code",
   "execution_count": 1428,
   "metadata": {},
   "outputs": [
    {
     "data": {
      "text/plain": [
       "<matplotlib.collections.QuadMesh at 0x7facb5a48eb8>"
      ]
     },
     "execution_count": 1428,
     "metadata": {},
     "output_type": "execute_result"
    },
    {
     "data": {
      "image/png": "[encoded data removed]",
      "text/plain": [
       "<Figure size 432x288 with 2 Axes>"
      ]
     },
     "metadata": {
      "needs_background": "light"
     },
     "output_type": "display_data"
    }
   ],
   "source": [
    "test_ds = getComposite('B', 'HADGEM2-ES', pentad_dict=pentad_ds_tmax, var='tmax', tfield='anam')\n",
    "\n",
    "test_ds.mean(dim='time').plot(levels=levels)"
   ]
  },
  {
   "cell_type": "code",
   "execution_count": 1435,
   "metadata": {},
   "outputs": [
    {
     "data": {
      "text/plain": [
       "{'A': <xarray.DataArray 'pr' (time: 720)>\n",
       " dask.array<shape=(720,), dtype=bool, chunksize=(24,)>\n",
       " Coordinates:\n",
       "   * time     (time) object 1971-06-03 12:00:00 ... 2000-09-28 12:00:00,\n",
       " 'B': <xarray.DataArray 'pr' (time: 720)>\n",
       " dask.array<shape=(720,), dtype=bool, chunksize=(24,)>\n",
       " Coordinates:\n",
       "   * time     (time) object 1971-06-03 12:00:00 ... 2000-09-28 12:00:00,\n",
       " 'N': <xarray.DataArray 'pr' (time: 720)>\n",
       " dask.array<shape=(720,), dtype=bool, chunksize=(24,)>\n",
       " Coordinates:\n",
       "   * time     (time) object 1971-06-03 12:00:00 ... 2000-09-28 12:00:00,\n",
       " 'B60': <xarray.DataArray 'pr' (time: 720)>\n",
       " dask.array<shape=(720,), dtype=bool, chunksize=(24,)>\n",
       " Coordinates:\n",
       "   * time     (time) object 1971-06-03 12:00:00 ... 2000-09-28 12:00:00,\n",
       " 'B75': <xarray.DataArray 'pr' (time: 720)>\n",
       " dask.array<shape=(720,), dtype=bool, chunksize=(24,)>\n",
       " Coordinates:\n",
       "   * time     (time) object 1971-06-03 12:00:00 ... 2000-09-28 12:00:00}"
      ]
     },
     "execution_count": 1435,
     "metadata": {},
     "output_type": "execute_result"
    }
   ],
   "source": [
    "ABN_cond['HADGEM2-ES']"
   ]
  },
  {
   "cell_type": "code",
   "execution_count": 1582,
   "metadata": {},
   "outputs": [],
   "source": [
    "def getconcatds_tmax(model, apply_tmean=True):\n",
    "    time_name=gettimename(model, 'tmax')\n",
    "    ds = getComposite('B', model, \n",
    "                 pentad_dict=pentad_ds_tmax, \n",
    "                 var='tmax', tfield='anam')\n",
    "    \n",
    "    try:\n",
    "        ds = ds.drop('height')\n",
    "    except Exception:\n",
    "        pass\n",
    "    \n",
    "    if apply_tmean:\n",
    "        return ds.mean('time')\n",
    "    \n",
    "    return ds"
   ]
  },
  {
   "cell_type": "code",
   "execution_count": 1449,
   "metadata": {},
   "outputs": [
    {
     "data": {
      "text/plain": [
       "<xarray.DataArray 'tasmax' (time: 418, lat: 129, lon: 135)>\n",
       "dask.array<shape=(418, 129, 135), dtype=float32, chunksize=(24, 129, 135)>\n",
       "Coordinates:\n",
       "  * time     (time) object 1971-06-03 12:00:00 ... 1989-07-18 12:00:00\n",
       "  * lon      (lon) float64 66.5 66.75 67.0 67.25 67.5 ... 99.25 99.5 99.75 100.0\n",
       "  * lat      (lat) float64 6.5 6.75 7.0 7.25 7.5 ... 37.5 37.75 38.0 38.25 38.5\n",
       "Attributes:\n",
       "    standard_name:     air_temperature\n",
       "    long_name:         Daily Maximum Near-Surface Air Temperature\n",
       "    units:             K\n",
       "    comment:           daily-maximum near-surface (usually, 2 meter) air temp...\n",
       "    original_name:     mo: m01s03i236\n",
       "    cell_methods:      time: maximum\n",
       "    cell_measures:     area: areacella\n",
       "    history:           2010-11-22T15:34:22Z altered by CMOR: Treated scalar d...\n",
       "    associated_files:  baseURL: http://cmip-pcmdi.llnl.gov/CMIP5/dataLocation..."
      ]
     },
     "execution_count": 1449,
     "metadata": {},
     "output_type": "execute_result"
    }
   ],
   "source": [
    "getconcatds_tmax('HADGEM2-ES', False)"
   ]
  },
  {
   "cell_type": "code",
   "execution_count": 1583,
   "metadata": {},
   "outputs": [],
   "source": [
    "tmax_B_ds = xr.concat([sellonlatbox(getconcatds_tmax(model, False), [73,82,18,28]).compute()\n",
    "                      for model in modelIndex], \n",
    "                     dim=modelIndex)"
   ]
  },
  {
   "cell_type": "code",
   "execution_count": 1584,
   "metadata": {},
   "outputs": [
    {
     "data": {
      "text/plain": [
       "<xarray.DataArray 'tmax' (model: 3, time: 1440)>\n",
       "array([[      nan,       nan,       nan, ...,       nan,  1.205616,       nan],\n",
       "       [      nan, -0.201999,       nan, ..., -0.274081,       nan,  0.350489],\n",
       "       [      nan,  0.512634,       nan, ...,       nan,       nan,       nan]],\n",
       "      dtype=float32)\n",
       "Coordinates:\n",
       "  * time     (time) object 1971-06-03 00:00:00 ... 2000-09-28 12:00:00\n",
       "  * model    (model) object 'IMD' 'PRECIS' 'HADGEM2-ES'"
      ]
     },
     "execution_count": 1584,
     "metadata": {},
     "output_type": "execute_result"
    }
   ],
   "source": [
    "fldmean(tmax_B_ds)"
   ]
  },
  {
   "cell_type": "code",
   "execution_count": 1587,
   "metadata": {},
   "outputs": [],
   "source": [
    "tmax_df = tmax_B_ds.to_dataframe().reset_index().dropna()"
   ]
  },
  {
   "cell_type": "code",
   "execution_count": 1588,
   "metadata": {},
   "outputs": [
    {
     "data": {
      "image/png": "[encoded data removed]",
      "text/plain": [
       "<Figure size 432x288 with 1 Axes>"
      ]
     },
     "metadata": {
      "needs_background": "light"
     },
     "output_type": "display_data"
    }
   ],
   "source": [
    "for model in modelIndex:\n",
    "    sns.kdeplot(data=tmax_df.loc[tmax_df.model == model].tmax, color=def_cols_d[model],\n",
    "               shade=True, label=model)"
   ]
  },
  {
   "cell_type": "code",
   "execution_count": 1426,
   "metadata": {},
   "outputs": [
    {
     "data": {
      "image/png": "[encoded data removed]",
      "text/plain": [
       "<Figure size 720x216 with 4 Axes>"
      ]
     },
     "metadata": {
      "needs_background": "light"
     },
     "output_type": "display_data"
    }
   ],
   "source": [
    "ll, ul = -3, 3 \n",
    "levels = np.arange(ll, ul+(0.001), 10**(-3))\n",
    "\n",
    "g = tmax_B_ds.plot(col='model', levels=levels)\n",
    "\n",
    "g.cbar.remove()\n",
    "for ax in g.fig.axes:\n",
    "    title = ax.get_title().replace('model = ', '')\n",
    "    ax.set_title(title, fontweight='bold')\n",
    "    ax.set_xlabel('')\n",
    "    ax.set_ylabel('')\n",
    "    shp.boundary.plot(edgecolor='black', ax=ax, linewidth=0.5)\n",
    "    \n",
    "g.add_colorbar()\n",
    "\n",
    "g.cbar.set_label('Anomaly $^\\circ C$', rotation=270, labelpad=15, fontweight='bold')\n",
    "g.cbar.set_ticks(np.arange(ll, ul+.1, 0.5))\n",
    "\n",
    "# g.fig.savefig(\"../plots/compare/tmax/Break-composite/Break-composite.png\",\n",
    "#              dpi=400, bbox_inches='tight')"
   ]
  },
  {
   "cell_type": "code",
   "execution_count": 1442,
   "metadata": {},
   "outputs": [
    {
     "data": {
      "text/plain": [
       "<xarray.DataArray 'tmax' (model: 3)>\n",
       "array([1.303619, 1.216963, 0.863461], dtype=float32)\n",
       "Coordinates:\n",
       "  * model    (model) object 'IMD' 'PRECIS' 'HADGEM2-ES'"
      ]
     },
     "execution_count": 1442,
     "metadata": {},
     "output_type": "execute_result"
    }
   ],
   "source": [
    "sellonlatbox(tmax_B_ds, [73, 82, 18, 28]).mean(dim=['lat', 'lon'])"
   ]
  },
  {
   "cell_type": "code",
   "execution_count": 1409,
   "metadata": {},
   "outputs": [
    {
     "data": {
      "text/plain": [
       "-99.30355"
      ]
     },
     "execution_count": 1409,
     "metadata": {},
     "output_type": "execute_result"
    }
   ],
   "source": [
    "arr.min()"
   ]
  },
  {
   "cell_type": "code",
   "execution_count": 1422,
   "metadata": {},
   "outputs": [
    {
     "data": {
      "text/plain": [
       "0.10972222222222222"
      ]
     },
     "execution_count": 1422,
     "metadata": {},
     "output_type": "execute_result"
    }
   ],
   "source": [
    "arr[arr< -75].size/arr.size"
   ]
  },
  {
   "cell_type": "code",
   "execution_count": 1423,
   "metadata": {},
   "outputs": [],
   "source": [
    "for model in modelIndex:\n",
    "    var_name = getvarname(model, 'precip')\n",
    "    ABN_cond[model]['B75'] = cmr_fmean[model][var_name] < -75"
   ]
  },
  {
   "cell_type": "code",
   "execution_count": 1388,
   "metadata": {},
   "outputs": [],
   "source": [
    "cmr_fmean"
   ]
  },
  {
   "cell_type": "code",
   "execution_count": 973,
   "metadata": {},
   "outputs": [],
   "source": [
    "spellIndex = pd.Index(['A', 'B', 'N'], name='spell')\n"
   ]
  },
  {
   "cell_type": "code",
   "execution_count": 989,
   "metadata": {},
   "outputs": [
    {
     "name": "stdout",
     "output_type": "stream",
     "text": [
      "CPU times: user 212 ms, sys: 0 ns, total: 212 ms\n",
      "Wall time: 208 ms\n"
     ]
    }
   ],
   "source": [
    "%%time\n",
    "composite_ds = xr.concat([xr.concat([getComposite(spell, model, 'Core Monsoon')\n",
    "                                   for spell in spellIndex], dim=spellIndex)\n",
    "                          for model in modelIndex], \n",
    "                         dim=modelIndex)"
   ]
  },
  {
   "cell_type": "code",
   "execution_count": 993,
   "metadata": {},
   "outputs": [],
   "source": [
    "composite_df = composite_ds.to_dataframe().reset_index()"
   ]
  },
  {
   "cell_type": "code",
   "execution_count": null,
   "metadata": {},
   "outputs": [],
   "source": [
    "conv2pd_dt()"
   ]
  },
  {
   "cell_type": "code",
   "execution_count": 998,
   "metadata": {},
   "outputs": [],
   "source": [
    "composite_df.time = composite_df.time.apply(lambda x: conv2pd_dt(x))"
   ]
  },
  {
   "cell_type": "code",
   "execution_count": 1000,
   "metadata": {},
   "outputs": [],
   "source": [
    "composite_df.dropna(inplace=True)"
   ]
  },
  {
   "cell_type": "code",
   "execution_count": 1003,
   "metadata": {},
   "outputs": [
    {
     "data": {
      "text/html": [
       "<div>\n",
       "<style scoped>\n",
       "    .dataframe tbody tr th:only-of-type {\n",
       "        vertical-align: middle;\n",
       "    }\n",
       "\n",
       "    .dataframe tbody tr th {\n",
       "        vertical-align: top;\n",
       "    }\n",
       "\n",
       "    .dataframe thead th {\n",
       "        text-align: right;\n",
       "    }\n",
       "</style>\n",
       "<table border=\"1\" class=\"dataframe\">\n",
       "  <thead>\n",
       "    <tr style=\"text-align: right;\">\n",
       "      <th></th>\n",
       "      <th>model</th>\n",
       "      <th>spell</th>\n",
       "      <th>time</th>\n",
       "      <th>lat</th>\n",
       "      <th>lon</th>\n",
       "      <th>precip</th>\n",
       "    </tr>\n",
       "  </thead>\n",
       "  <tbody>\n",
       "    <tr>\n",
       "      <th>0</th>\n",
       "      <td>IMD</td>\n",
       "      <td>A</td>\n",
       "      <td>1971-06-03</td>\n",
       "      <td>18.0</td>\n",
       "      <td>73.00</td>\n",
       "      <td>42.848785</td>\n",
       "    </tr>\n",
       "    <tr>\n",
       "      <th>1</th>\n",
       "      <td>IMD</td>\n",
       "      <td>A</td>\n",
       "      <td>1971-06-03</td>\n",
       "      <td>18.0</td>\n",
       "      <td>73.25</td>\n",
       "      <td>58.099728</td>\n",
       "    </tr>\n",
       "    <tr>\n",
       "      <th>2</th>\n",
       "      <td>IMD</td>\n",
       "      <td>A</td>\n",
       "      <td>1971-06-03</td>\n",
       "      <td>18.0</td>\n",
       "      <td>73.50</td>\n",
       "      <td>76.295929</td>\n",
       "    </tr>\n",
       "    <tr>\n",
       "      <th>3</th>\n",
       "      <td>IMD</td>\n",
       "      <td>A</td>\n",
       "      <td>1971-06-03</td>\n",
       "      <td>18.0</td>\n",
       "      <td>73.75</td>\n",
       "      <td>19.266478</td>\n",
       "    </tr>\n",
       "    <tr>\n",
       "      <th>4</th>\n",
       "      <td>IMD</td>\n",
       "      <td>A</td>\n",
       "      <td>1971-06-03</td>\n",
       "      <td>18.0</td>\n",
       "      <td>74.00</td>\n",
       "      <td>10.177290</td>\n",
       "    </tr>\n",
       "  </tbody>\n",
       "</table>\n",
       "</div>"
      ],
      "text/plain": [
       "  model spell       time   lat    lon     precip\n",
       "0   IMD     A 1971-06-03  18.0  73.00  42.848785\n",
       "1   IMD     A 1971-06-03  18.0  73.25  58.099728\n",
       "2   IMD     A 1971-06-03  18.0  73.50  76.295929\n",
       "3   IMD     A 1971-06-03  18.0  73.75  19.266478\n",
       "4   IMD     A 1971-06-03  18.0  74.00  10.177290"
      ]
     },
     "execution_count": 1003,
     "metadata": {},
     "output_type": "execute_result"
    }
   ],
   "source": [
    "composite_df.head()"
   ]
  },
  {
   "cell_type": "code",
   "execution_count": 1004,
   "metadata": {},
   "outputs": [],
   "source": [
    "composite_df.to_pickle(\"../pickles/Analysis-Annual-cycle/composite_df.pkl\")"
   ]
  },
  {
   "cell_type": "code",
   "execution_count": 1027,
   "metadata": {},
   "outputs": [
    {
     "data": {
      "text/plain": [
       "['gray', 'steelblue', 'crimson']"
      ]
     },
     "execution_count": 1027,
     "metadata": {},
     "output_type": "execute_result"
    }
   ],
   "source": [
    "def_cols"
   ]
  },
  {
   "cell_type": "code",
   "execution_count": 1030,
   "metadata": {},
   "outputs": [],
   "source": [
    "def_cols_d = dict(zip(list(modelIndex), def_cols))"
   ]
  },
  {
   "cell_type": "code",
   "execution_count": 1542,
   "metadata": {},
   "outputs": [
    {
     "data": {
      "image/png": "[encoded data removed]",
      "text/plain": [
       "<Figure size 1152x288 with 3 Axes>"
      ]
     },
     "metadata": {
      "needs_background": "light"
     },
     "output_type": "display_data"
    }
   ],
   "source": [
    "fig, axn = plt.subplots(1, 3, figsize=(16, 4))\n",
    "\n",
    "titles = {'A': 'Active',\n",
    "         'B': 'Break', \n",
    "         'N': 'Normal'}\n",
    "\n",
    "xlims = {'A': (0, 50),\n",
    "        'B': (0, 25),\n",
    "        'N': (0, 30)}\n",
    "\n",
    "for ax, spell in zip(axn, list(spellIndex)):\n",
    "    for model in modelIndex:\n",
    "\n",
    "        sns.kdeplot(composite_df.loc[(composite_df.model == model)\n",
    "                                    & (composite_df.spell == spell)].precip, shade=True, \n",
    "                   ax=ax, label=model, color=def_cols_d[model])\n",
    "        \n",
    "    ax.set_title(titles[spell], fontweight='bold', fontsize=16)\n",
    "    \n",
    "    ax.set_xlim(*xlims[spell])\n",
    "    ax.set_yticklabels([])\n",
    "    ax.set_xlabel('Precipitation (mm $d^{-1}$)')\n",
    "    \n",
    "fig.savefig(\"../plots/compare/precip/ABN_dist/Core Monsoon.png\", dpi=400, \n",
    "           bbox_inches='tight')"
   ]
  },
  {
   "cell_type": "code",
   "execution_count": 1006,
   "metadata": {},
   "outputs": [
    {
     "name": "stdout",
     "output_type": "stream",
     "text": [
      "CPU times: user 792 ms, sys: 32 ms, total: 824 ms\n",
      "Wall time: 821 ms\n"
     ]
    },
    {
     "data": {
      "image/png": "[encoded data removed]",
      "text/plain": [
       "<Figure size 864x576 with 1 Axes>"
      ]
     },
     "metadata": {
      "needs_background": "light"
     },
     "output_type": "display_data"
    }
   ],
   "source": [
    "%%time\n",
    "fig, ax = plt.subplots(figsize=(12, 8))\n",
    "sns.boxplot(data=composite_df, x='spell', y='precip', hue='model')"
   ]
  },
  {
   "cell_type": "code",
   "execution_count": 965,
   "metadata": {},
   "outputs": [],
   "source": [
    "ds_A = getComposite('A', 'IMD', 'Core Monsoon')"
   ]
  },
  {
   "cell_type": "code",
   "execution_count": 957,
   "metadata": {},
   "outputs": [
    {
     "data": {
      "text/plain": [
       "<matplotlib.axes._subplots.AxesSubplot at 0x7facdbc0fda0>"
      ]
     },
     "execution_count": 957,
     "metadata": {},
     "output_type": "execute_result"
    },
    {
     "data": {
      "image/png": "[encoded data removed]",
      "text/plain": [
       "<Figure size 432x288 with 1 Axes>"
      ]
     },
     "metadata": {
      "needs_background": "light"
     },
     "output_type": "display_data"
    }
   ],
   "source": [
    "df_A.dropna().boxplot(column='precip')"
   ]
  },
  {
   "cell_type": "code",
   "execution_count": 936,
   "metadata": {},
   "outputs": [
    {
     "data": {
      "text/plain": [
       "<xarray.Dataset>\n",
       "Dimensions:    (bnds: 2, lat: 129, lon: 135, time: 720)\n",
       "Coordinates:\n",
       "  * time       (time) object 1971-06-03 00:00:00 ... 2000-09-28 00:00:00\n",
       "  * lon        (lon) float64 66.5 66.75 67.0 67.25 ... 99.25 99.5 99.75 100.0\n",
       "  * lat        (lat) float64 6.5 6.75 7.0 7.25 7.5 ... 37.75 38.0 38.25 38.5\n",
       "Dimensions without coordinates: bnds\n",
       "Data variables:\n",
       "    time_bnds  (time, bnds) float64 dask.array<shape=(720, 2), chunksize=(24, 2)>\n",
       "    precip     (time, lat, lon) float32 dask.array<shape=(720, 129, 135), chunksize=(24, 129, 135)>\n",
       "Attributes:\n",
       "    CDI:          Climate Data Interface version 1.9.5 (http://mpimet.mpg.de/...\n",
       "    Conventions:  CF-1.4\n",
       "    history:      Mon Jan 21 18:43:46 2019: cdo -O timselmean,5 -selseas,JJAS...\n",
       "    NCO:          4.7.3\n",
       "    CDO:          Climate Data Operators version 1.9.5 (http://mpimet.mpg.de/..."
      ]
     },
     "execution_count": 936,
     "metadata": {},
     "output_type": "execute_result"
    }
   ],
   "source": [
    "pentad_ds['IMD']['abs'].where(ABN_cond['IMD']['A'])"
   ]
  },
  {
   "cell_type": "code",
   "execution_count": 933,
   "metadata": {},
   "outputs": [
    {
     "data": {
      "text/plain": [
       "{'IMD': {'A': <xarray.DataArray 'precip' (time: 720)>\n",
       "  dask.array<shape=(720,), dtype=bool, chunksize=(24,)>\n",
       "  Coordinates:\n",
       "    * time     (time) object 1971-06-03 00:00:00 ... 2000-09-28 00:00:00,\n",
       "  'B': <xarray.DataArray 'precip' (time: 720)>\n",
       "  dask.array<shape=(720,), dtype=bool, chunksize=(24,)>\n",
       "  Coordinates:\n",
       "    * time     (time) object 1971-06-03 00:00:00 ... 2000-09-28 00:00:00,\n",
       "  'N': <xarray.DataArray 'precip' (time: 720)>\n",
       "  dask.array<shape=(720,), dtype=bool, chunksize=(24,)>\n",
       "  Coordinates:\n",
       "    * time     (time) object 1971-06-03 00:00:00 ... 2000-09-28 00:00:00},\n",
       " 'PRECIS': {'A': <xarray.DataArray 'precip' (t: 720)>\n",
       "  dask.array<shape=(720,), dtype=bool, chunksize=(24,)>\n",
       "  Coordinates:\n",
       "    * t        (t) object 1971-06-03 12:00:00 ... 2000-09-28 12:00:00,\n",
       "  'B': <xarray.DataArray 'precip' (t: 720)>\n",
       "  dask.array<shape=(720,), dtype=bool, chunksize=(24,)>\n",
       "  Coordinates:\n",
       "    * t        (t) object 1971-06-03 12:00:00 ... 2000-09-28 12:00:00,\n",
       "  'N': <xarray.DataArray 'precip' (t: 720)>\n",
       "  dask.array<shape=(720,), dtype=bool, chunksize=(24,)>\n",
       "  Coordinates:\n",
       "    * t        (t) object 1971-06-03 12:00:00 ... 2000-09-28 12:00:00},\n",
       " 'HADGEM2-ES': {'A': <xarray.DataArray 'pr' (time: 720)>\n",
       "  dask.array<shape=(720,), dtype=bool, chunksize=(24,)>\n",
       "  Coordinates:\n",
       "    * time     (time) object 1971-06-03 12:00:00 ... 2000-09-28 12:00:00,\n",
       "  'B': <xarray.DataArray 'pr' (time: 720)>\n",
       "  dask.array<shape=(720,), dtype=bool, chunksize=(24,)>\n",
       "  Coordinates:\n",
       "    * time     (time) object 1971-06-03 12:00:00 ... 2000-09-28 12:00:00,\n",
       "  'N': <xarray.DataArray 'pr' (time: 720)>\n",
       "  dask.array<shape=(720,), dtype=bool, chunksize=(24,)>\n",
       "  Coordinates:\n",
       "    * time     (time) object 1971-06-03 12:00:00 ... 2000-09-28 12:00:00}}"
      ]
     },
     "execution_count": 933,
     "metadata": {},
     "output_type": "execute_result"
    }
   ],
   "source": [
    "ABN_cond"
   ]
  },
  {
   "cell_type": "code",
   "execution_count": 1060,
   "metadata": {},
   "outputs": [
    {
     "data": {
      "text/plain": [
       "{'IMD': {'A': <xarray.DataArray 'precip' (time: 720)>\n",
       "  dask.array<shape=(720,), dtype=bool, chunksize=(24,)>\n",
       "  Coordinates:\n",
       "    * time     (time) object 1971-06-03 00:00:00 ... 2000-09-28 00:00:00,\n",
       "  'B': <xarray.DataArray 'precip' (time: 720)>\n",
       "  dask.array<shape=(720,), dtype=bool, chunksize=(24,)>\n",
       "  Coordinates:\n",
       "    * time     (time) object 1971-06-03 00:00:00 ... 2000-09-28 00:00:00,\n",
       "  'N': <xarray.DataArray 'precip' (time: 720)>\n",
       "  dask.array<shape=(720,), dtype=bool, chunksize=(24,)>\n",
       "  Coordinates:\n",
       "    * time     (time) object 1971-06-03 00:00:00 ... 2000-09-28 00:00:00},\n",
       " 'PRECIS': {'A': <xarray.DataArray 'precip' (t: 720)>\n",
       "  dask.array<shape=(720,), dtype=bool, chunksize=(24,)>\n",
       "  Coordinates:\n",
       "    * t        (t) object 1971-06-03 12:00:00 ... 2000-09-28 12:00:00,\n",
       "  'B': <xarray.DataArray 'precip' (t: 720)>\n",
       "  dask.array<shape=(720,), dtype=bool, chunksize=(24,)>\n",
       "  Coordinates:\n",
       "    * t        (t) object 1971-06-03 12:00:00 ... 2000-09-28 12:00:00,\n",
       "  'N': <xarray.DataArray 'precip' (t: 720)>\n",
       "  dask.array<shape=(720,), dtype=bool, chunksize=(24,)>\n",
       "  Coordinates:\n",
       "    * t        (t) object 1971-06-03 12:00:00 ... 2000-09-28 12:00:00},\n",
       " 'HADGEM2-ES': {'A': <xarray.DataArray 'pr' (time: 720)>\n",
       "  dask.array<shape=(720,), dtype=bool, chunksize=(24,)>\n",
       "  Coordinates:\n",
       "    * time     (time) object 1971-06-03 12:00:00 ... 2000-09-28 12:00:00,\n",
       "  'B': <xarray.DataArray 'pr' (time: 720)>\n",
       "  dask.array<shape=(720,), dtype=bool, chunksize=(24,)>\n",
       "  Coordinates:\n",
       "    * time     (time) object 1971-06-03 12:00:00 ... 2000-09-28 12:00:00,\n",
       "  'N': <xarray.DataArray 'pr' (time: 720)>\n",
       "  dask.array<shape=(720,), dtype=bool, chunksize=(24,)>\n",
       "  Coordinates:\n",
       "    * time     (time) object 1971-06-03 12:00:00 ... 2000-09-28 12:00:00}}"
      ]
     },
     "execution_count": 1060,
     "metadata": {},
     "output_type": "execute_result"
    }
   ],
   "source": [
    "ABN_cond"
   ]
  },
  {
   "cell_type": "code",
   "execution_count": 1076,
   "metadata": {},
   "outputs": [
    {
     "data": {
      "text/plain": [
       "0.20277777777777778"
      ]
     },
     "execution_count": 1076,
     "metadata": {},
     "output_type": "execute_result"
    }
   ],
   "source": [
    "arr = cmr_fmean['HADGEM2-ES'].pr.where(ABN_cond['HADGEM2-ES']['A']).values\n",
    "\n",
    "arr[~np.isnan(arr)].size/arr.size"
   ]
  },
  {
   "cell_type": "code",
   "execution_count": 1134,
   "metadata": {},
   "outputs": [],
   "source": [
    "drizzle = {}"
   ]
  },
  {
   "cell_type": "code",
   "execution_count": 1144,
   "metadata": {},
   "outputs": [],
   "source": [
    "for model in modelIndex[1:]:\n",
    "    cmd = f\"-sub -timsum -lec,1 {fpaths[model]} \"\n",
    "    cmd += f\"-timsum -lec,1 {fpaths['IMD']}\"\n",
    "    drizzle[model] = cdo.timsum(input=cmd,\n",
    "                               returnCDF=True)\n",
    "    "
   ]
  },
  {
   "cell_type": "code",
   "execution_count": 1146,
   "metadata": {},
   "outputs": [
    {
     "data": {
      "text/plain": [
       "<matplotlib.collections.QuadMesh at 0x7facd3dc2ef0>"
      ]
     },
     "execution_count": 1146,
     "metadata": {},
     "output_type": "execute_result"
    },
    {
     "data": {
      "image/png": "[encoded data removed]",
      "text/plain": [
       "<Figure size 432x288 with 2 Axes>"
      ]
     },
     "metadata": {
      "needs_background": "light"
     },
     "output_type": "display_data"
    }
   ],
   "source": [
    "xr.open_dataset(drizzle['PRECIS']).precip.isel(t=0).plot()"
   ]
  },
  {
   "cell_type": "code",
   "execution_count": 1147,
   "metadata": {},
   "outputs": [
    {
     "data": {
      "text/plain": [
       "<matplotlib.collections.QuadMesh at 0x7facd3ce45f8>"
      ]
     },
     "execution_count": 1147,
     "metadata": {},
     "output_type": "execute_result"
    },
    {
     "data": {
      "image/png": "[encoded data removed]",
      "text/plain": [
       "<Figure size 432x288 with 2 Axes>"
      ]
     },
     "metadata": {
      "needs_background": "light"
     },
     "output_type": "display_data"
    }
   ],
   "source": [
    "xr.open_dataset(drizzle['HADGEM2-ES']).pr.isel(time=0).plot()"
   ]
  },
  {
   "cell_type": "code",
   "execution_count": 1151,
   "metadata": {},
   "outputs": [],
   "source": [
    "rmse_ds1 = xr.open_dataset('/home/abhi/Documents/mygit/GCM_RCM/data/PRECIS_IMD/precip/RMSE/1971-2000_rm_ll25_JJAS_RMSE.nc')"
   ]
  },
  {
   "cell_type": "code",
   "execution_count": 1158,
   "metadata": {},
   "outputs": [
    {
     "data": {
      "text/html": [
       "<div>\n",
       "<style scoped>\n",
       "    .dataframe tbody tr th:only-of-type {\n",
       "        vertical-align: middle;\n",
       "    }\n",
       "\n",
       "    .dataframe tbody tr th {\n",
       "        vertical-align: top;\n",
       "    }\n",
       "\n",
       "    .dataframe thead th {\n",
       "        text-align: right;\n",
       "    }\n",
       "</style>\n",
       "<table border=\"1\" class=\"dataframe\">\n",
       "  <thead>\n",
       "    <tr style=\"text-align: right;\">\n",
       "      <th></th>\n",
       "      <th>precip</th>\n",
       "    </tr>\n",
       "    <tr>\n",
       "      <th>region</th>\n",
       "      <th></th>\n",
       "    </tr>\n",
       "  </thead>\n",
       "  <tbody>\n",
       "    <tr>\n",
       "      <th>Northern</th>\n",
       "      <td>2.428983</td>\n",
       "    </tr>\n",
       "    <tr>\n",
       "      <th>North East</th>\n",
       "      <td>6.721655</td>\n",
       "    </tr>\n",
       "    <tr>\n",
       "      <th>North West</th>\n",
       "      <td>3.372528</td>\n",
       "    </tr>\n",
       "    <tr>\n",
       "      <th>Central</th>\n",
       "      <td>4.596187</td>\n",
       "    </tr>\n",
       "    <tr>\n",
       "      <th>Inner Peninsular</th>\n",
       "      <td>3.878548</td>\n",
       "    </tr>\n",
       "    <tr>\n",
       "      <th>West Coast</th>\n",
       "      <td>6.446262</td>\n",
       "    </tr>\n",
       "    <tr>\n",
       "      <th>East Coast</th>\n",
       "      <td>3.268961</td>\n",
       "    </tr>\n",
       "    <tr>\n",
       "      <th>Core Monsoon</th>\n",
       "      <td>4.780663</td>\n",
       "    </tr>\n",
       "    <tr>\n",
       "      <th>India</th>\n",
       "      <td>4.454656</td>\n",
       "    </tr>\n",
       "  </tbody>\n",
       "</table>\n",
       "</div>"
      ],
      "text/plain": [
       "                    precip\n",
       "region                    \n",
       "Northern          2.428983\n",
       "North East        6.721655\n",
       "North West        3.372528\n",
       "Central           4.596187\n",
       "Inner Peninsular  3.878548\n",
       "West Coast        6.446262\n",
       "East Coast        3.268961\n",
       "Core Monsoon      4.780663\n",
       "India             4.454656"
      ]
     },
     "execution_count": 1158,
     "metadata": {},
     "output_type": "execute_result"
    }
   ],
   "source": [
    "subsetbygdf_new(rmse_ds1, shp, 'Region').precip.mean(dim='t').to_dataframe()"
   ]
  },
  {
   "cell_type": "code",
   "execution_count": 1159,
   "metadata": {},
   "outputs": [],
   "source": [
    "rmse_ds2 = xr.open_dataset('/home/abhi/Documents/mygit/GCM_RCM/data/HADGEM2-ES_IMD/precip/RMSE/1971-2000_rm_ll25_JJAS_RMSE.nc')"
   ]
  },
  {
   "cell_type": "code",
   "execution_count": 1160,
   "metadata": {},
   "outputs": [
    {
     "data": {
      "text/html": [
       "<div>\n",
       "<style scoped>\n",
       "    .dataframe tbody tr th:only-of-type {\n",
       "        vertical-align: middle;\n",
       "    }\n",
       "\n",
       "    .dataframe tbody tr th {\n",
       "        vertical-align: top;\n",
       "    }\n",
       "\n",
       "    .dataframe thead th {\n",
       "        text-align: right;\n",
       "    }\n",
       "</style>\n",
       "<table border=\"1\" class=\"dataframe\">\n",
       "  <thead>\n",
       "    <tr style=\"text-align: right;\">\n",
       "      <th></th>\n",
       "      <th>pr</th>\n",
       "    </tr>\n",
       "    <tr>\n",
       "      <th>region</th>\n",
       "      <th></th>\n",
       "    </tr>\n",
       "  </thead>\n",
       "  <tbody>\n",
       "    <tr>\n",
       "      <th>Northern</th>\n",
       "      <td>2.585174</td>\n",
       "    </tr>\n",
       "    <tr>\n",
       "      <th>North East</th>\n",
       "      <td>6.139347</td>\n",
       "    </tr>\n",
       "    <tr>\n",
       "      <th>North West</th>\n",
       "      <td>3.192448</td>\n",
       "    </tr>\n",
       "    <tr>\n",
       "      <th>Central</th>\n",
       "      <td>4.989213</td>\n",
       "    </tr>\n",
       "    <tr>\n",
       "      <th>Inner Peninsular</th>\n",
       "      <td>4.704146</td>\n",
       "    </tr>\n",
       "    <tr>\n",
       "      <th>West Coast</th>\n",
       "      <td>8.462543</td>\n",
       "    </tr>\n",
       "    <tr>\n",
       "      <th>East Coast</th>\n",
       "      <td>3.961590</td>\n",
       "    </tr>\n",
       "    <tr>\n",
       "      <th>Core Monsoon</th>\n",
       "      <td>5.597978</td>\n",
       "    </tr>\n",
       "    <tr>\n",
       "      <th>India</th>\n",
       "      <td>4.894691</td>\n",
       "    </tr>\n",
       "  </tbody>\n",
       "</table>\n",
       "</div>"
      ],
      "text/plain": [
       "                        pr\n",
       "region                    \n",
       "Northern          2.585174\n",
       "North East        6.139347\n",
       "North West        3.192448\n",
       "Central           4.989213\n",
       "Inner Peninsular  4.704146\n",
       "West Coast        8.462543\n",
       "East Coast        3.961590\n",
       "Core Monsoon      5.597978\n",
       "India             4.894691"
      ]
     },
     "execution_count": 1160,
     "metadata": {},
     "output_type": "execute_result"
    }
   ],
   "source": [
    "subsetbygdf_new(rmse_ds2, shp, 'Region').pr.mean(dim='time').to_dataframe()"
   ]
  },
  {
   "cell_type": "code",
   "execution_count": 1161,
   "metadata": {},
   "outputs": [],
   "source": [
    "getCompareFile = lambda m1, m2, var, metric, seas: \\\n",
    "f'/home/abhi/Documents/mygit/GCM_RCM/data/{m1}_{m2}/{var}/{metric}/1971-2000_rm_ll25_{seas}_{metric}.nc'"
   ]
  },
  {
   "cell_type": "code",
   "execution_count": 1165,
   "metadata": {},
   "outputs": [
    {
     "data": {
      "text/plain": [
       "Index(['precip', 'tmean', 'tmax', 'tmin'], dtype='object', name='var_name')"
      ]
     },
     "execution_count": 1165,
     "metadata": {},
     "output_type": "execute_result"
    }
   ],
   "source": [
    "seasIndex = pd.Index(['Annual', 'JJAS', 'ON', 'DJF', 'MAM'], name='seas')\n",
    "metricIndex = pd.Index(['BIAS', 'RMSE', 'timcor'], name='metric')\n"
   ]
  },
  {
   "cell_type": "code",
   "execution_count": 1211,
   "metadata": {},
   "outputs": [],
   "source": [
    "def getconcatds(m1, m2, var, metric, seas, subset=False):\n",
    "    var_name = getvarname(m1, var)\n",
    "    time_name = gettimename(m1, var)\n",
    "    \n",
    "    ds = (xr\n",
    "            .open_dataset(getCompareFile(m1, m2, \n",
    "                                         var, metric, \n",
    "                                         seas)))\n",
    "    \n",
    "    if var == 'tmax' and model == 'HADGEM2-ES':\n",
    "        too_less =  ds[var_name] > -60\n",
    "        too_much =  ds[var_name] < 60\n",
    "\n",
    "        ds[var_name] =  ds[var_name].where(too_less & too_much)\n",
    "        \n",
    "        \n",
    "    ds = ds[var_name].mean(dim=time_name)\n",
    "    \n",
    "    try:\n",
    "        ds = ds.drop('height')\n",
    "    except Exception:\n",
    "        pass\n",
    "    \n",
    "    if subset:\n",
    "        return subsetbygdf_new(ds, shp, 'Region')\n",
    "    \n",
    "\n",
    "\n",
    "    return ds"
   ]
  },
  {
   "cell_type": "code",
   "execution_count": 1179,
   "metadata": {},
   "outputs": [
    {
     "data": {
      "text/plain": [
       "<xarray.Dataset>\n",
       "Dimensions:  (bnds: 2, lat: 129, lon: 135, t: 1)\n",
       "Coordinates:\n",
       "  * t        (t) object 1986-01-01 00:00:00\n",
       "  * lon      (lon) float32 66.5 66.75 67.0 67.25 67.5 ... 99.25 99.5 99.75 100.0\n",
       "  * lat      (lat) float32 6.5 6.75 7.0 7.25 7.5 ... 37.5 37.75 38.0 38.25 38.5\n",
       "Dimensions without coordinates: bnds\n",
       "Data variables:\n",
       "    t_bnds   (t, bnds) float64 ...\n",
       "    precip   (t, lat, lon) float32 ...\n",
       "Attributes:\n",
       "    CDI:          Climate Data Interface version 1.9.5 (http://mpimet.mpg.de/...\n",
       "    Conventions:  CF-1.6\n",
       "    history:      Mon Jan 14 11:42:51 2019: cdo -O sub ../data/PRECIS/precip/...\n",
       "    frequency:    year\n",
       "    CDO:          Climate Data Operators version 1.9.5 (http://mpimet.mpg.de/..."
      ]
     },
     "execution_count": 1179,
     "metadata": {},
     "output_type": "execute_result"
    }
   ],
   "source": [
    "xr.open_dataset(getCompareFile('PRECIS', 'IMD', 'precip', 'BIAS', 'Annual'))"
   ]
  },
  {
   "cell_type": "code",
   "execution_count": 1212,
   "metadata": {},
   "outputs": [
    {
     "name": "stderr",
     "output_type": "stream",
     "text": [
      "/home/abhi/miniconda3/lib/python3.6/site-packages/xarray/core/nanops.py:161: RuntimeWarning: Mean of empty slice\n",
      "  return np.nanmean(a, axis=axis, dtype=dtype)\n",
      "/home/abhi/miniconda3/lib/python3.6/site-packages/xarray/core/nanops.py:161: RuntimeWarning: Mean of empty slice\n",
      "  return np.nanmean(a, axis=axis, dtype=dtype)\n",
      "/home/abhi/miniconda3/lib/python3.6/site-packages/xarray/core/nanops.py:161: RuntimeWarning: Mean of empty slice\n",
      "  return np.nanmean(a, axis=axis, dtype=dtype)\n",
      "/home/abhi/miniconda3/lib/python3.6/site-packages/xarray/core/nanops.py:161: RuntimeWarning: Mean of empty slice\n",
      "  return np.nanmean(a, axis=axis, dtype=dtype)\n",
      "/home/abhi/miniconda3/lib/python3.6/site-packages/xarray/core/nanops.py:161: RuntimeWarning: Mean of empty slice\n",
      "  return np.nanmean(a, axis=axis, dtype=dtype)\n",
      "/home/abhi/miniconda3/lib/python3.6/site-packages/xarray/core/nanops.py:161: RuntimeWarning: Mean of empty slice\n",
      "  return np.nanmean(a, axis=axis, dtype=dtype)\n",
      "/home/abhi/miniconda3/lib/python3.6/site-packages/xarray/core/nanops.py:161: RuntimeWarning: Mean of empty slice\n",
      "  return np.nanmean(a, axis=axis, dtype=dtype)\n",
      "/home/abhi/miniconda3/lib/python3.6/site-packages/xarray/core/nanops.py:161: RuntimeWarning: Mean of empty slice\n",
      "  return np.nanmean(a, axis=axis, dtype=dtype)\n",
      "/home/abhi/miniconda3/lib/python3.6/site-packages/xarray/core/nanops.py:161: RuntimeWarning: Mean of empty slice\n",
      "  return np.nanmean(a, axis=axis, dtype=dtype)\n",
      "/home/abhi/miniconda3/lib/python3.6/site-packages/xarray/core/nanops.py:161: RuntimeWarning: Mean of empty slice\n",
      "  return np.nanmean(a, axis=axis, dtype=dtype)\n",
      "/home/abhi/miniconda3/lib/python3.6/site-packages/xarray/core/nanops.py:161: RuntimeWarning: Mean of empty slice\n",
      "  return np.nanmean(a, axis=axis, dtype=dtype)\n",
      "/home/abhi/miniconda3/lib/python3.6/site-packages/xarray/core/nanops.py:161: RuntimeWarning: Mean of empty slice\n",
      "  return np.nanmean(a, axis=axis, dtype=dtype)\n",
      "/home/abhi/miniconda3/lib/python3.6/site-packages/xarray/core/nanops.py:161: RuntimeWarning: Mean of empty slice\n",
      "  return np.nanmean(a, axis=axis, dtype=dtype)\n",
      "/home/abhi/miniconda3/lib/python3.6/site-packages/xarray/core/nanops.py:161: RuntimeWarning: Mean of empty slice\n",
      "  return np.nanmean(a, axis=axis, dtype=dtype)\n",
      "/home/abhi/miniconda3/lib/python3.6/site-packages/xarray/core/nanops.py:161: RuntimeWarning: Mean of empty slice\n",
      "  return np.nanmean(a, axis=axis, dtype=dtype)\n"
     ]
    }
   ],
   "source": [
    "metric_ds = xr.concat([xr.concat([xr.concat([xr.concat([getconcatds(model, 'IMD', var, metric, seas)\n",
    "                          for seas in seasIndex], dim=seasIndex)\n",
    "                for metric in metricIndex], dim=metricIndex)\n",
    "                 for var in varIndex], dim=varIndex)\n",
    "       for model in modelIndex[1:]], dim=modelIndex[1:]).to_dataset().rename({'precip': 'variable'})"
   ]
  },
  {
   "cell_type": "code",
   "execution_count": 1213,
   "metadata": {},
   "outputs": [
    {
     "name": "stdout",
     "output_type": "stream",
     "text": [
      "CPU times: user 948 ms, sys: 24 ms, total: 972 ms\n",
      "Wall time: 971 ms\n"
     ]
    }
   ],
   "source": [
    "%%time\n",
    "metric_ds = subsetbygdf_new(metric_ds, shp, 'Region') "
   ]
  },
  {
   "cell_type": "code",
   "execution_count": 1214,
   "metadata": {},
   "outputs": [],
   "source": [
    "metric_df = metric_ds.variable.to_dataframe().reset_index()"
   ]
  },
  {
   "cell_type": "code",
   "execution_count": 1235,
   "metadata": {},
   "outputs": [],
   "source": [
    "def selmetric_df(var, metric, seas, drop_north=True):\n",
    "    return metric_df.loc[((metric_df.var_name == var)&\n",
    "                          (metric_df.metric == metric)&\n",
    "                         (metric_df.seas == seas) &\n",
    "                         (metric_df.region != 'Northern'))]"
   ]
  },
  {
   "cell_type": "code",
   "execution_count": 1236,
   "metadata": {},
   "outputs": [
    {
     "data": {
      "text/html": [
       "<div>\n",
       "<style scoped>\n",
       "    .dataframe tbody tr th:only-of-type {\n",
       "        vertical-align: middle;\n",
       "    }\n",
       "\n",
       "    .dataframe tbody tr th {\n",
       "        vertical-align: top;\n",
       "    }\n",
       "\n",
       "    .dataframe thead th {\n",
       "        text-align: right;\n",
       "    }\n",
       "</style>\n",
       "<table border=\"1\" class=\"dataframe\">\n",
       "  <thead>\n",
       "    <tr style=\"text-align: right;\">\n",
       "      <th></th>\n",
       "      <th>region</th>\n",
       "      <th>model</th>\n",
       "      <th>var_name</th>\n",
       "      <th>metric</th>\n",
       "      <th>seas</th>\n",
       "      <th>variable</th>\n",
       "    </tr>\n",
       "  </thead>\n",
       "  <tbody>\n",
       "    <tr>\n",
       "      <th>120</th>\n",
       "      <td>North East</td>\n",
       "      <td>PRECIS</td>\n",
       "      <td>precip</td>\n",
       "      <td>BIAS</td>\n",
       "      <td>Annual</td>\n",
       "      <td>-1.074243</td>\n",
       "    </tr>\n",
       "    <tr>\n",
       "      <th>180</th>\n",
       "      <td>North East</td>\n",
       "      <td>HADGEM2-ES</td>\n",
       "      <td>precip</td>\n",
       "      <td>BIAS</td>\n",
       "      <td>Annual</td>\n",
       "      <td>-0.028635</td>\n",
       "    </tr>\n",
       "    <tr>\n",
       "      <th>240</th>\n",
       "      <td>North West</td>\n",
       "      <td>PRECIS</td>\n",
       "      <td>precip</td>\n",
       "      <td>BIAS</td>\n",
       "      <td>Annual</td>\n",
       "      <td>-0.986716</td>\n",
       "    </tr>\n",
       "    <tr>\n",
       "      <th>300</th>\n",
       "      <td>North West</td>\n",
       "      <td>HADGEM2-ES</td>\n",
       "      <td>precip</td>\n",
       "      <td>BIAS</td>\n",
       "      <td>Annual</td>\n",
       "      <td>-0.451775</td>\n",
       "    </tr>\n",
       "    <tr>\n",
       "      <th>360</th>\n",
       "      <td>Central</td>\n",
       "      <td>PRECIS</td>\n",
       "      <td>precip</td>\n",
       "      <td>BIAS</td>\n",
       "      <td>Annual</td>\n",
       "      <td>-1.278889</td>\n",
       "    </tr>\n",
       "  </tbody>\n",
       "</table>\n",
       "</div>"
      ],
      "text/plain": [
       "         region       model var_name metric    seas  variable\n",
       "120  North East      PRECIS   precip   BIAS  Annual -1.074243\n",
       "180  North East  HADGEM2-ES   precip   BIAS  Annual -0.028635\n",
       "240  North West      PRECIS   precip   BIAS  Annual -0.986716\n",
       "300  North West  HADGEM2-ES   precip   BIAS  Annual -0.451775\n",
       "360     Central      PRECIS   precip   BIAS  Annual -1.278889"
      ]
     },
     "execution_count": 1236,
     "metadata": {},
     "output_type": "execute_result"
    }
   ],
   "source": [
    "selmetric_df('precip', 'BIAS', 'Annual').head()"
   ]
  },
  {
   "cell_type": "code",
   "execution_count": 1243,
   "metadata": {},
   "outputs": [
    {
     "data": {
      "text/plain": [
       "<matplotlib.axes._subplots.AxesSubplot at 0x7facda331ac8>"
      ]
     },
     "execution_count": 1243,
     "metadata": {},
     "output_type": "execute_result"
    },
    {
     "data": {
      "image/png": "[encoded data removed]",
      "text/plain": [
       "<Figure size 864x288 with 1 Axes>"
      ]
     },
     "metadata": {
      "needs_background": "light"
     },
     "output_type": "display_data"
    }
   ],
   "source": [
    "fig, ax = plt.subplots(figsize=(12, 4))\n",
    "sns.barplot(x='region', y='variable', hue='model', \n",
    "           data=selmetric_df('precip', 'RMSE', 'JJAS'))"
   ]
  },
  {
   "cell_type": "code",
   "execution_count": 1245,
   "metadata": {},
   "outputs": [],
   "source": [
    "pd_threshIndex = pd.Index([f'pd_{thresh}mm' for thresh in [1, 5, 10, 20, 30, 50, 100, 200]],\n",
    "                         name='pd_thresh')"
   ]
  },
  {
   "cell_type": "code",
   "execution_count": 1251,
   "metadata": {},
   "outputs": [],
   "source": [
    "var_name = 'precipitation_days_index_per_time_period'"
   ]
  },
  {
   "cell_type": "code",
   "execution_count": 1255,
   "metadata": {},
   "outputs": [
    {
     "name": "stderr",
     "output_type": "stream",
     "text": [
      "/home/abhi/miniconda3/lib/python3.6/site-packages/xarray/core/nanops.py:161: RuntimeWarning: Mean of empty slice\n",
      "  return np.nanmean(a, axis=axis, dtype=dtype)\n"
     ]
    },
    {
     "data": {
      "text/plain": [
       "<xarray.DataArray 'precipitation_days_index_per_time_period' (lat: 129, lon: 135)>\n",
       "array([[nan, nan, nan, ..., nan, nan, nan],\n",
       "       [nan, nan, nan, ..., nan, nan, nan],\n",
       "       [nan, nan, nan, ..., nan, nan, nan],\n",
       "       ...,\n",
       "       [nan, nan, nan, ..., nan, nan, nan],\n",
       "       [nan, nan, nan, ..., nan, nan, nan],\n",
       "       [nan, nan, nan, ..., nan, nan, nan]], dtype=float32)\n",
       "Coordinates:\n",
       "  * lon      (lon) float32 66.5 66.75 67.0 67.25 67.5 ... 99.25 99.5 99.75 100.0\n",
       "  * lat      (lat) float32 6.5 6.75 7.0 7.25 7.5 ... 37.5 37.75 38.0 38.25 38.5"
      ]
     },
     "execution_count": 1255,
     "metadata": {},
     "output_type": "execute_result"
    }
   ],
   "source": [
    "xr.open_dataset(getFile('PRECIS', 'precip', 'pd_10mm', 'JJAS'))[var_name].mean(dim='time')"
   ]
  },
  {
   "cell_type": "code",
   "execution_count": 1256,
   "metadata": {},
   "outputs": [
    {
     "name": "stderr",
     "output_type": "stream",
     "text": [
      "/home/abhi/miniconda3/lib/python3.6/site-packages/xarray/core/nanops.py:161: RuntimeWarning: Mean of empty slice\n",
      "  return np.nanmean(a, axis=axis, dtype=dtype)\n"
     ]
    }
   ],
   "source": [
    "pd_threshds = xr.concat([xr.concat([(xr\n",
    "                        .open_dataset(getFile(model, 'precip', \n",
    "                                              metric, 'JJAS'))[var_name]\n",
    "                        .mean(dim='time'))\n",
    "                       for metric in pd_threshIndex], dim=pd_threshIndex)\n",
    "                       for model in modelIndex],\n",
    "                      dim=modelIndex)"
   ]
  },
  {
   "cell_type": "code",
   "execution_count": 1262,
   "metadata": {},
   "outputs": [],
   "source": [
    "pd_threshdf = subsetbygdf_new(pd_threshds, shp, 'Region').to_dataframe().reset_index()"
   ]
  },
  {
   "cell_type": "code",
   "execution_count": null,
   "metadata": {},
   "outputs": [],
   "source": [
    "def sel_threshdf(region, )"
   ]
  },
  {
   "cell_type": "code",
   "execution_count": 1264,
   "metadata": {},
   "outputs": [
    {
     "data": {
      "text/html": [
       "<div>\n",
       "<style scoped>\n",
       "    .dataframe tbody tr th:only-of-type {\n",
       "        vertical-align: middle;\n",
       "    }\n",
       "\n",
       "    .dataframe tbody tr th {\n",
       "        vertical-align: top;\n",
       "    }\n",
       "\n",
       "    .dataframe thead th {\n",
       "        text-align: right;\n",
       "    }\n",
       "</style>\n",
       "<table border=\"1\" class=\"dataframe\">\n",
       "  <thead>\n",
       "    <tr style=\"text-align: right;\">\n",
       "      <th></th>\n",
       "      <th>region</th>\n",
       "      <th>model</th>\n",
       "      <th>pd_thresh</th>\n",
       "      <th>precipitation_days_index_per_time_period</th>\n",
       "    </tr>\n",
       "  </thead>\n",
       "  <tbody>\n",
       "    <tr>\n",
       "      <th>0</th>\n",
       "      <td>Northern</td>\n",
       "      <td>IMD</td>\n",
       "      <td>pd_1mm</td>\n",
       "      <td>31.571745</td>\n",
       "    </tr>\n",
       "    <tr>\n",
       "      <th>1</th>\n",
       "      <td>Northern</td>\n",
       "      <td>IMD</td>\n",
       "      <td>pd_5mm</td>\n",
       "      <td>15.283991</td>\n",
       "    </tr>\n",
       "    <tr>\n",
       "      <th>2</th>\n",
       "      <td>Northern</td>\n",
       "      <td>IMD</td>\n",
       "      <td>pd_10mm</td>\n",
       "      <td>8.416129</td>\n",
       "    </tr>\n",
       "    <tr>\n",
       "      <th>3</th>\n",
       "      <td>Northern</td>\n",
       "      <td>IMD</td>\n",
       "      <td>pd_20mm</td>\n",
       "      <td>3.486918</td>\n",
       "    </tr>\n",
       "    <tr>\n",
       "      <th>4</th>\n",
       "      <td>Northern</td>\n",
       "      <td>IMD</td>\n",
       "      <td>pd_30mm</td>\n",
       "      <td>1.856631</td>\n",
       "    </tr>\n",
       "  </tbody>\n",
       "</table>\n",
       "</div>"
      ],
      "text/plain": [
       "     region model pd_thresh  precipitation_days_index_per_time_period\n",
       "0  Northern   IMD    pd_1mm                                 31.571745\n",
       "1  Northern   IMD    pd_5mm                                 15.283991\n",
       "2  Northern   IMD   pd_10mm                                  8.416129\n",
       "3  Northern   IMD   pd_20mm                                  3.486918\n",
       "4  Northern   IMD   pd_30mm                                  1.856631"
      ]
     },
     "execution_count": 1264,
     "metadata": {},
     "output_type": "execute_result"
    }
   ],
   "source": [
    "pd_threshdf.head()"
   ]
  },
  {
   "cell_type": "code",
   "execution_count": 1317,
   "metadata": {},
   "outputs": [],
   "source": [
    "\n",
    "def thresh_plot(region, savefig=False):\n",
    "    fig, ax = plt.subplots(figsize=(12, 4))\n",
    "    df_plot = pd_threshdf.loc[(pd_threshdf.region == region) & (pd_threshdf.pd_thresh != \"pd_200mm\")]\n",
    "    sns.barplot(data=df_plot,\n",
    "                x='pd_thresh', y='precipitation_days_index_per_time_period',\n",
    "                hue='model', palette=def_cols, ax=ax)\n",
    "\n",
    "    s = pd.Series(df_plot.pd_thresh.unique()).str.replace('pd_', '> ')\n",
    "\n",
    "    ax.set_xticklabels(s, fontweight='bold')\n",
    "    ax.set_xlabel('')\n",
    "    ax.set_ylabel('% days', fontweight='bold')\n",
    "    ax.set_title(region, fontweight='bold', fontsize=16)\n",
    "\n",
    "    leg = ax.get_legend()\n",
    "    leg.set_title('')\n",
    "    \n",
    "    if savefig:\n",
    "        out_name = f\"../plots/compare/precip/pd_thresh/{region}.png\"\n",
    "        fig.savefig(out_name, dpi=400, bbox_inches='tight')\n",
    "        plt.close(fig)"
   ]
  },
  {
   "cell_type": "code",
   "execution_count": null,
   "metadata": {},
   "outputs": [],
   "source": [
    "sel_df"
   ]
  },
  {
   "cell_type": "code",
   "execution_count": 1633,
   "metadata": {},
   "outputs": [
    {
     "data": {
      "text/plain": [
       "'Inner Penninsular'"
      ]
     },
     "execution_count": 1633,
     "metadata": {},
     "output_type": "execute_result"
    }
   ],
   "source": [
    "region"
   ]
  },
  {
   "cell_type": "code",
   "execution_count": 1632,
   "metadata": {},
   "outputs": [
    {
     "data": {
      "text/html": [
       "<div>\n",
       "<style scoped>\n",
       "    .dataframe tbody tr th:only-of-type {\n",
       "        vertical-align: middle;\n",
       "    }\n",
       "\n",
       "    .dataframe tbody tr th {\n",
       "        vertical-align: top;\n",
       "    }\n",
       "\n",
       "    .dataframe thead th {\n",
       "        text-align: right;\n",
       "    }\n",
       "</style>\n",
       "<table border=\"1\" class=\"dataframe\">\n",
       "  <thead>\n",
       "    <tr style=\"text-align: right;\">\n",
       "      <th></th>\n",
       "      <th>region</th>\n",
       "      <th>model</th>\n",
       "      <th>pd_thresh</th>\n",
       "      <th>precipitation_days_index_per_time_period</th>\n",
       "    </tr>\n",
       "  </thead>\n",
       "  <tbody>\n",
       "  </tbody>\n",
       "</table>\n",
       "</div>"
      ],
      "text/plain": [
       "Empty DataFrame\n",
       "Columns: [region, model, pd_thresh, precipitation_days_index_per_time_period]\n",
       "Index: []"
      ]
     },
     "execution_count": 1632,
     "metadata": {},
     "output_type": "execute_result"
    }
   ],
   "source": [
    "df_plot.loc[df_plot.region == region]"
   ]
  },
  {
   "cell_type": "code",
   "execution_count": null,
   "metadata": {},
   "outputs": [],
   "source": [
    "ax.tra"
   ]
  },
  {
   "cell_type": "code",
   "execution_count": 1669,
   "metadata": {},
   "outputs": [
    {
     "data": {
      "image/png": "[encoded data removed]",
      "text/plain": [
       "<Figure size 864x1008 with 4 Axes>"
      ]
     },
     "metadata": {
      "needs_background": "light"
     },
     "output_type": "display_data"
    }
   ],
   "source": [
    "df_plot = pd_threshdf.loc[(pd_threshdf.pd_thresh != \"pd_200mm\")]\n",
    "regions = ['Core Monsoon', 'Inner Peninsular',\n",
    "                           'West Coast', 'East Coast']\n",
    "\n",
    "fig, axn = plt.subplots(4, 1, sharex=True, sharey=True, figsize=(12, 14))\n",
    "\n",
    "fig.subplots_adjust(hspace=0.05, wspace=0)\n",
    "s = pd.Series(df_plot.pd_thresh.unique()).str.replace('pd_', '> ')\n",
    "\n",
    "for (i, ax), region in zip(enumerate(axn), regions):\n",
    "    selthreshdf = df_plot.loc[df_plot.region == region]\n",
    "    sns.barplot(data=selthreshdf,\n",
    "               x='pd_thresh', y='precipitation_days_index_per_time_period',\n",
    "                hue='model', palette=def_cols, ax=ax) \n",
    "    \n",
    "    ax.set_xlabel('')\n",
    "    ax.set_ylabel('')\n",
    "    ax.text(0.5, 0.90, region, transform=ax.transAxes,\n",
    "           horizontalalignment='center',\n",
    "           verticalalignment='top', fontweight='bold', fontsize=16)\n",
    "    \n",
    "    ax.set_yticks(range(0, 50, 10))\n",
    "    if i == 3:\n",
    "        ax.set_xticklabels(s, fontweight='bold')\n",
    "        \n",
    "    elif i == 1:\n",
    "        pass\n",
    "    \n",
    "    handles, labels = ax.get_legend_handles_labels()\n",
    "    ax.legend().remove()\n",
    "    \n",
    "    \n",
    "fig.text(0.07, 0.5, '% days', rotation=90,\n",
    "        fontsize=16, fontweight='bold')\n",
    "outdir = '../plots/compare/precip/combined_threshplot'\n",
    "os.system(f'mkdir -p {outdir}')\n",
    "fig.savefig(f\"{outdir}/{'_'.join(regions)}.png\", \n",
    "            dpi=400, bbox_inches='tight')"
   ]
  },
  {
   "cell_type": "code",
   "execution_count": 1653,
   "metadata": {},
   "outputs": [
    {
     "data": {
      "text/plain": [
       "(-0.5, 6.5)"
      ]
     },
     "execution_count": 1653,
     "metadata": {},
     "output_type": "execute_result"
    }
   ],
   "source": [
    "ax.get_xlim()"
   ]
  },
  {
   "cell_type": "code",
   "execution_count": 1319,
   "metadata": {},
   "outputs": [],
   "source": [
    "for region in regionIndex_new:\n",
    "    thresh_plot(region, True)"
   ]
  },
  {
   "cell_type": "code",
   "execution_count": 1286,
   "metadata": {},
   "outputs": [],
   "source": [
    "t = ax.get_xticklabels()[0]"
   ]
  },
  {
   "cell_type": "code",
   "execution_count": 1619,
   "metadata": {},
   "outputs": [
    {
     "data": {
      "text/plain": [
       "['Northern',\n",
       " 'North East',\n",
       " 'North West',\n",
       " 'Central',\n",
       " 'Inner Peninsular',\n",
       " 'West Coast',\n",
       " 'East Coast',\n",
       " 'Core Monsoon',\n",
       " 'India']"
      ]
     },
     "execution_count": 1619,
     "metadata": {},
     "output_type": "execute_result"
    }
   ],
   "source": [
    "list(regionIndex_new)"
   ]
  },
  {
   "cell_type": "code",
   "execution_count": 1451,
   "metadata": {},
   "outputs": [
    {
     "data": {
      "text/plain": [
       "{'abs': <xarray.Dataset>\n",
       " Dimensions:    (bnds: 2, lat: 129, lon: 135, time: 682)\n",
       " Coordinates:\n",
       "   * time       (time) object 1971-06-03 12:00:00 ... 2000-09-29 12:00:00\n",
       "   * lon        (lon) float64 66.5 66.75 67.0 67.25 ... 99.25 99.5 99.75 100.0\n",
       "   * lat        (lat) float64 6.5 6.75 7.0 7.25 7.5 ... 37.75 38.0 38.25 38.5\n",
       "     height     float64 ...\n",
       " Dimensions without coordinates: bnds\n",
       " Data variables:\n",
       "     time_bnds  (time, bnds) float64 dask.array<shape=(682, 2), chunksize=(24, 2)>\n",
       "     tasmax     (time, lat, lon) float32 dask.array<shape=(682, 129, 135), chunksize=(24, 129, 135)>\n",
       " Attributes:\n",
       "     CDI:                    Climate Data Interface version 1.9.5 (http://mpim...\n",
       "     Conventions:            CF-1.4\n",
       "     history:                Wed Jan 23 16:44:01 2019: cdo -O timselmean,5 -se...\n",
       "     source:                 HadGEM2-ES (2009) atmosphere: HadGAM2 (N96L38); o...\n",
       "     institution:            Met Office Hadley Centre, Fitzroy Road, Exeter, D...\n",
       "     institute_id:           MOHC\n",
       "     experiment_id:          historical\n",
       "     model_id:               HadGEM2-ES\n",
       "     forcing:                GHG, SA, Oz, LU, Sl, Vl, BC, OC, (GHG = CO2, N2O,...\n",
       "     parent_experiment_id:   piControl\n",
       "     parent_experiment_rip:  r1i1p1\n",
       "     branch_time:            0.0\n",
       "     contact:                chris.d.jones@metoffice.gov.uk, michael.sanderson...\n",
       "     references:             Bellouin N. et al, (2007) Improved representation...\n",
       "     initialization_method:  1\n",
       "     physics_version:        1\n",
       "     tracking_id:            a6b492bf-4123-4565-a31d-147954726596\n",
       "     mo_runid:               ajhoh\n",
       "     product:                output\n",
       "     experiment:             historical\n",
       "     frequency:              day\n",
       "     creation_date:          2010-11-22T16:59:57Z\n",
       "     project_id:             CMIP5\n",
       "     table_id:               Table day (12 November 2010) 53fa6f63b86081d1c644...\n",
       "     title:                  HadGEM2-ES model output prepared for CMIP5 histor...\n",
       "     parent_experiment:      pre-industrial control\n",
       "     modeling_realm:         atmos\n",
       "     realization:            1\n",
       "     cmor_version:           2.5.0\n",
       "     CDO:                    Climate Data Operators version 1.9.5 (http://mpim...,\n",
       " 'anam': <xarray.Dataset>\n",
       " Dimensions:    (bnds: 2, lat: 129, lon: 135, time: 682)\n",
       " Coordinates:\n",
       "   * time       (time) object 1971-06-03 12:00:00 ... 2000-09-29 12:00:00\n",
       "   * lon        (lon) float64 66.5 66.75 67.0 67.25 ... 99.25 99.5 99.75 100.0\n",
       "   * lat        (lat) float64 6.5 6.75 7.0 7.25 7.5 ... 37.75 38.0 38.25 38.5\n",
       "     height     float64 ...\n",
       " Dimensions without coordinates: bnds\n",
       " Data variables:\n",
       "     time_bnds  (time, bnds) float64 dask.array<shape=(682, 2), chunksize=(24, 2)>\n",
       "     tasmax     (time, lat, lon) float32 dask.array<shape=(682, 129, 135), chunksize=(24, 129, 135)>\n",
       " Attributes:\n",
       "     CDI:                    Climate Data Interface version 1.9.5 (http://mpim...\n",
       "     Conventions:            CF-1.4\n",
       "     history:                Wed Jan 23 16:44:08 2019: cdo -O ydaysub /tmp/cdo...\n",
       "     source:                 HadGEM2-ES (2009) atmosphere: HadGAM2 (N96L38); o...\n",
       "     institution:            Met Office Hadley Centre, Fitzroy Road, Exeter, D...\n",
       "     institute_id:           MOHC\n",
       "     experiment_id:          historical\n",
       "     model_id:               HadGEM2-ES\n",
       "     forcing:                GHG, SA, Oz, LU, Sl, Vl, BC, OC, (GHG = CO2, N2O,...\n",
       "     parent_experiment_id:   piControl\n",
       "     parent_experiment_rip:  r1i1p1\n",
       "     branch_time:            0.0\n",
       "     contact:                chris.d.jones@metoffice.gov.uk, michael.sanderson...\n",
       "     references:             Bellouin N. et al, (2007) Improved representation...\n",
       "     initialization_method:  1\n",
       "     physics_version:        1\n",
       "     tracking_id:            a6b492bf-4123-4565-a31d-147954726596\n",
       "     mo_runid:               ajhoh\n",
       "     product:                output\n",
       "     experiment:             historical\n",
       "     frequency:              day\n",
       "     creation_date:          2010-11-22T16:59:57Z\n",
       "     project_id:             CMIP5\n",
       "     table_id:               Table day (12 November 2010) 53fa6f63b86081d1c644...\n",
       "     title:                  HadGEM2-ES model output prepared for CMIP5 histor...\n",
       "     parent_experiment:      pre-industrial control\n",
       "     modeling_realm:         atmos\n",
       "     realization:            1\n",
       "     cmor_version:           2.5.0\n",
       "     CDO:                    Climate Data Operators version 1.9.5 (http://mpim...}"
      ]
     },
     "execution_count": 1451,
     "metadata": {},
     "output_type": "execute_result"
    }
   ],
   "source": [
    "pentad_ds_tmax['HADGEM2-ES']"
   ]
  },
  {
   "cell_type": "code",
   "execution_count": 1470,
   "metadata": {},
   "outputs": [],
   "source": [
    "cmd = lambda model, var: f\"-yearmean -ymonsub {getFile(model, var, 'monmean')}\"+\\\n",
    "                         f\" {getFile(model, var, 'ymonmean')}\"\n"
   ]
  },
  {
   "cell_type": "code",
   "execution_count": 1471,
   "metadata": {},
   "outputs": [
    {
     "data": {
      "text/plain": [
       "'-yearmean -ymonsub ../data/IMD/precip/monmean/1971-2000_rm_ll25_monmean.nc ../data/IMD/precip/ymonmean/1971-2000_rm_ll25_ymonmean.nc'"
      ]
     },
     "execution_count": 1471,
     "metadata": {},
     "output_type": "execute_result"
    }
   ],
   "source": [
    "cmd('IMD', 'precip')"
   ]
  },
  {
   "cell_type": "code",
   "execution_count": 1484,
   "metadata": {},
   "outputs": [],
   "source": [
    "anam_corr = cdo.timcor(input=f\"{cmd('IMD', 'tmax')} {cmd('PRECIS', 'tmax')}\",\n",
    "                      returnCDF=True)"
   ]
  },
  {
   "cell_type": "code",
   "execution_count": 1485,
   "metadata": {},
   "outputs": [],
   "source": [
    "anam_ds = xr.open_dataset(anam_corr)"
   ]
  },
  {
   "cell_type": "code",
   "execution_count": 1488,
   "metadata": {},
   "outputs": [
    {
     "data": {
      "text/plain": [
       "<matplotlib.collections.QuadMesh at 0x7facb4efa278>"
      ]
     },
     "execution_count": 1488,
     "metadata": {},
     "output_type": "execute_result"
    },
    {
     "data": {
      "image/png": "[encoded data removed]",
      "text/plain": [
       "<Figure size 432x288 with 2 Axes>"
      ]
     },
     "metadata": {
      "needs_background": "light"
     },
     "output_type": "display_data"
    }
   ],
   "source": [
    "anam_ds.tmax.plot(levels=np.arange(-1, 1.1, 0.1))"
   ]
  },
  {
   "cell_type": "code",
   "execution_count": 1490,
   "metadata": {},
   "outputs": [
    {
     "data": {
      "text/html": [
       "<div>\n",
       "<style scoped>\n",
       "    .dataframe tbody tr th:only-of-type {\n",
       "        vertical-align: middle;\n",
       "    }\n",
       "\n",
       "    .dataframe tbody tr th {\n",
       "        vertical-align: top;\n",
       "    }\n",
       "\n",
       "    .dataframe thead th {\n",
       "        text-align: right;\n",
       "    }\n",
       "</style>\n",
       "<table border=\"1\" class=\"dataframe\">\n",
       "  <thead>\n",
       "    <tr style=\"text-align: right;\">\n",
       "      <th></th>\n",
       "      <th>tmax</th>\n",
       "    </tr>\n",
       "    <tr>\n",
       "      <th>region</th>\n",
       "      <th></th>\n",
       "    </tr>\n",
       "  </thead>\n",
       "  <tbody>\n",
       "    <tr>\n",
       "      <th>Northern</th>\n",
       "      <td>0.088170</td>\n",
       "    </tr>\n",
       "    <tr>\n",
       "      <th>North East</th>\n",
       "      <td>0.120295</td>\n",
       "    </tr>\n",
       "    <tr>\n",
       "      <th>North West</th>\n",
       "      <td>0.330698</td>\n",
       "    </tr>\n",
       "    <tr>\n",
       "      <th>Central</th>\n",
       "      <td>0.369461</td>\n",
       "    </tr>\n",
       "    <tr>\n",
       "      <th>Inner Peninsular</th>\n",
       "      <td>0.230473</td>\n",
       "    </tr>\n",
       "    <tr>\n",
       "      <th>West Coast</th>\n",
       "      <td>0.213900</td>\n",
       "    </tr>\n",
       "    <tr>\n",
       "      <th>East Coast</th>\n",
       "      <td>0.211464</td>\n",
       "    </tr>\n",
       "    <tr>\n",
       "      <th>Core Monsoon</th>\n",
       "      <td>0.336634</td>\n",
       "    </tr>\n",
       "    <tr>\n",
       "      <th>India</th>\n",
       "      <td>0.252190</td>\n",
       "    </tr>\n",
       "  </tbody>\n",
       "</table>\n",
       "</div>"
      ],
      "text/plain": [
       "                      tmax\n",
       "region                    \n",
       "Northern          0.088170\n",
       "North East        0.120295\n",
       "North West        0.330698\n",
       "Central           0.369461\n",
       "Inner Peninsular  0.230473\n",
       "West Coast        0.213900\n",
       "East Coast        0.211464\n",
       "Core Monsoon      0.336634\n",
       "India             0.252190"
      ]
     },
     "execution_count": 1490,
     "metadata": {},
     "output_type": "execute_result"
    }
   ],
   "source": [
    "subsetbygdf_new(anam_ds, shp, 'Region').tmax.mean('time').to_dataframe()"
   ]
  },
  {
   "cell_type": "code",
   "execution_count": null,
   "metadata": {},
   "outputs": [],
   "source": []
  }
 ],
 "metadata": {
  "kernelspec": {
   "display_name": "Python 3",
   "language": "python",
   "name": "python3"
  },
  "language_info": {
   "codemirror_mode": {
    "name": "ipython",
    "version": 3
   },
   "file_extension": ".py",
   "mimetype": "text/x-python",
   "name": "python",
   "nbconvert_exporter": "python",
   "pygments_lexer": "ipython3",
   "version": "3.6.7"
  },
  "toc": {
   "base_numbering": 1,
   "nav_menu": {},
   "number_sections": true,
   "sideBar": true,
   "skip_h1_title": false,
   "title_cell": "Table of Contents",
   "title_sidebar": "Contents",
   "toc_cell": false,
   "toc_position": {},
   "toc_section_display": true,
   "toc_window_display": false
  },
  "varInspector": {
   "cols": {
    "lenName": 16,
    "lenType": 16,
    "lenVar": 40
   },
   "kernels_config": {
    "python": {
     "delete_cmd_postfix": "",
     "delete_cmd_prefix": "del ",
     "library": "var_list.py",
     "varRefreshCmd": "print(var_dic_list())"
    },
    "r": {
     "delete_cmd_postfix": ") ",
     "delete_cmd_prefix": "rm(",
     "library": "var_list.r",
     "varRefreshCmd": "cat(var_dic_list()) "
    }
   },
   "types_to_exclude": [
    "module",
    "function",
    "builtin_function_or_method",
    "instance",
    "_Feature"
   ],
   "window_display": false
  }
 },
 "nbformat": 4,
 "nbformat_minor": 2
}
